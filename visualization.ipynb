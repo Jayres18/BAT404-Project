{
  "nbformat": 4,
  "nbformat_minor": 0,
  "metadata": {
    "colab": {
      "name": "visualization.ipynb",
      "provenance": [],
      "collapsed_sections": [],
      "include_colab_link": true
    },
    "kernelspec": {
      "name": "python3",
      "display_name": "Python 3"
    },
    "language_info": {
      "name": "python"
    }
  },
  "cells": [
    {
      "cell_type": "markdown",
      "metadata": {
        "id": "view-in-github",
        "colab_type": "text"
      },
      "source": [
        "<a href=\"https://colab.research.google.com/github/allymaranan/BAT404-Project/blob/main/visualization.ipynb\" target=\"_parent\"><img src=\"https://colab.research.google.com/assets/colab-badge.svg\" alt=\"Open In Colab\"/></a>"
      ]
    },
    {
      "cell_type": "markdown",
      "source": [
        "# Import numpy, pandas, and matplotlib.pyplot"
      ],
      "metadata": {
        "id": "YWdvR3pOGdJ2"
      }
    },
    {
      "cell_type": "code",
      "execution_count": null,
      "metadata": {
        "id": "t9et0O6tFT78"
      },
      "outputs": [],
      "source": [
        "import numpy as np"
      ]
    },
    {
      "cell_type": "code",
      "source": [
        "import pandas as pd"
      ],
      "metadata": {
        "id": "OJi25GJ0GQnW"
      },
      "execution_count": null,
      "outputs": []
    },
    {
      "cell_type": "code",
      "source": [
        "import matplotlib.pyplot as plt"
      ],
      "metadata": {
        "id": "BNOPDW6fGTWN"
      },
      "execution_count": null,
      "outputs": []
    },
    {
      "cell_type": "code",
      "source": [
        "import matplotlib.ticker as tick"
      ],
      "metadata": {
        "id": "7vkE3Vlobe2A"
      },
      "execution_count": null,
      "outputs": []
    },
    {
      "cell_type": "markdown",
      "source": [
        "# Read the final_dataset csv file"
      ],
      "metadata": {
        "id": "gOuPvhBaHuG6"
      }
    },
    {
      "cell_type": "code",
      "source": [
        "from google.colab import drive\n",
        "drive.mount('/content/drive')"
      ],
      "metadata": {
        "id": "ytTSn-Z7xLzk",
        "colab": {
          "base_uri": "https://localhost:8080/"
        },
        "outputId": "6d42ae2f-e2f8-4f31-c0b2-5ff554e46b0d"
      },
      "execution_count": null,
      "outputs": [
        {
          "output_type": "stream",
          "name": "stdout",
          "text": [
            "Mounted at /content/drive\n"
          ]
        }
      ]
    },
    {
      "cell_type": "code",
      "source": [
        "final_dts = pd.read_csv ('/content/drive/MyDrive/Colab Notebooks/final-project-dataset/final_dataset.csv')\n",
        "final_dts"
      ],
      "metadata": {
        "id": "yGetTEyDGlVs",
        "colab": {
          "base_uri": "https://localhost:8080/"
        },
        "outputId": "c454ac2a-7d62-4596-f178-d68e8536bc6c"
      },
      "execution_count": null,
      "outputs": [
        {
          "output_type": "execute_result",
          "data": {
            "text/plain": [
              "                        Q1   Q5   Q6         Q7   Q8  Q17  Q20a  Q20b  Q20c  \\\n",
              "0              Afghanistan  1.0  3.0  62.000000  3.0  5.0   5.0   1.0   5.0   \n",
              "1              Afghanistan  1.0  1.0  28.000000  1.0  4.0   4.0   3.0   3.0   \n",
              "2              Afghanistan  1.0  2.0  26.000000  2.0  2.0   4.0   2.0   4.0   \n",
              "3              Afghanistan  1.0  2.0  25.000000  2.0  4.0   4.0   3.0   3.0   \n",
              "4              Afghanistan  1.0  4.0  26.000000  1.0  4.0   4.0   3.0   3.0   \n",
              "...                    ...  ...  ...        ...  ...  ...   ...   ...   ...   \n",
              "1595  United Arab Emirates  1.0  3.0  21.000000  2.0  4.0   4.0   3.0   3.0   \n",
              "1596  United Arab Emirates  1.0  4.0  22.000000  2.0  4.0   4.0   3.0   3.0   \n",
              "1597  United Arab Emirates  1.0  3.0  20.000000  2.0  5.0   5.0   1.0   5.0   \n",
              "1598  United Arab Emirates  1.0  2.0  20.000000  1.0  4.0   4.0   3.0   3.0   \n",
              "1599  United Arab Emirates  1.0  4.0  21.264706  2.0  4.0   4.0   3.0   3.0   \n",
              "\n",
              "      Q20d  ...  Q25j  Q26a  Q26b  Q26c  Q26d  Q26e  Q26f  Q26g  Q26h  Q26i  \n",
              "0      1.0  ...   5.0   2.0   5.0   5.0   5.0   5.0   5.0   5.0   5.0   5.0  \n",
              "1      3.0  ...   3.0   1.0   1.0   2.0   1.0   1.0   1.0   1.0   1.0   2.0  \n",
              "2      2.0  ...   4.0   4.0   4.0   4.0   5.0   5.0   5.0   5.0   5.0   5.0  \n",
              "3      3.0  ...   3.0   2.0   2.0   4.0   4.0   2.0   2.0   4.0   2.0   3.0  \n",
              "4      3.0  ...   3.0   2.0   2.0   4.0   4.0   2.0   2.0   4.0   2.0   3.0  \n",
              "...    ...  ...   ...   ...   ...   ...   ...   ...   ...   ...   ...   ...  \n",
              "1595   3.0  ...   3.0   2.0   2.0   4.0   4.0   2.0   2.0   4.0   2.0   3.0  \n",
              "1596   3.0  ...   3.0   2.0   2.0   4.0   4.0   2.0   2.0   4.0   2.0   3.0  \n",
              "1597   3.0  ...   5.0   4.0   5.0   5.0   5.0   5.0   5.0   5.0   2.0   5.0  \n",
              "1598   3.0  ...   3.0   2.0   2.0   4.0   4.0   2.0   2.0   4.0   2.0   3.0  \n",
              "1599   3.0  ...   3.0   2.0   4.0   5.0   4.0   2.0   1.0   3.0   1.0   1.0  \n",
              "\n",
              "[1600 rows x 46 columns]"
            ],
            "text/html": [
              "\n",
              "  <div id=\"df-d3412a5d-6ab9-47f3-a894-e006b61c5c90\">\n",
              "    <div class=\"colab-df-container\">\n",
              "      <div>\n",
              "<style scoped>\n",
              "    .dataframe tbody tr th:only-of-type {\n",
              "        vertical-align: middle;\n",
              "    }\n",
              "\n",
              "    .dataframe tbody tr th {\n",
              "        vertical-align: top;\n",
              "    }\n",
              "\n",
              "    .dataframe thead th {\n",
              "        text-align: right;\n",
              "    }\n",
              "</style>\n",
              "<table border=\"1\" class=\"dataframe\">\n",
              "  <thead>\n",
              "    <tr style=\"text-align: right;\">\n",
              "      <th></th>\n",
              "      <th>Q1</th>\n",
              "      <th>Q5</th>\n",
              "      <th>Q6</th>\n",
              "      <th>Q7</th>\n",
              "      <th>Q8</th>\n",
              "      <th>Q17</th>\n",
              "      <th>Q20a</th>\n",
              "      <th>Q20b</th>\n",
              "      <th>Q20c</th>\n",
              "      <th>Q20d</th>\n",
              "      <th>...</th>\n",
              "      <th>Q25j</th>\n",
              "      <th>Q26a</th>\n",
              "      <th>Q26b</th>\n",
              "      <th>Q26c</th>\n",
              "      <th>Q26d</th>\n",
              "      <th>Q26e</th>\n",
              "      <th>Q26f</th>\n",
              "      <th>Q26g</th>\n",
              "      <th>Q26h</th>\n",
              "      <th>Q26i</th>\n",
              "    </tr>\n",
              "  </thead>\n",
              "  <tbody>\n",
              "    <tr>\n",
              "      <th>0</th>\n",
              "      <td>Afghanistan</td>\n",
              "      <td>1.0</td>\n",
              "      <td>3.0</td>\n",
              "      <td>62.000000</td>\n",
              "      <td>3.0</td>\n",
              "      <td>5.0</td>\n",
              "      <td>5.0</td>\n",
              "      <td>1.0</td>\n",
              "      <td>5.0</td>\n",
              "      <td>1.0</td>\n",
              "      <td>...</td>\n",
              "      <td>5.0</td>\n",
              "      <td>2.0</td>\n",
              "      <td>5.0</td>\n",
              "      <td>5.0</td>\n",
              "      <td>5.0</td>\n",
              "      <td>5.0</td>\n",
              "      <td>5.0</td>\n",
              "      <td>5.0</td>\n",
              "      <td>5.0</td>\n",
              "      <td>5.0</td>\n",
              "    </tr>\n",
              "    <tr>\n",
              "      <th>1</th>\n",
              "      <td>Afghanistan</td>\n",
              "      <td>1.0</td>\n",
              "      <td>1.0</td>\n",
              "      <td>28.000000</td>\n",
              "      <td>1.0</td>\n",
              "      <td>4.0</td>\n",
              "      <td>4.0</td>\n",
              "      <td>3.0</td>\n",
              "      <td>3.0</td>\n",
              "      <td>3.0</td>\n",
              "      <td>...</td>\n",
              "      <td>3.0</td>\n",
              "      <td>1.0</td>\n",
              "      <td>1.0</td>\n",
              "      <td>2.0</td>\n",
              "      <td>1.0</td>\n",
              "      <td>1.0</td>\n",
              "      <td>1.0</td>\n",
              "      <td>1.0</td>\n",
              "      <td>1.0</td>\n",
              "      <td>2.0</td>\n",
              "    </tr>\n",
              "    <tr>\n",
              "      <th>2</th>\n",
              "      <td>Afghanistan</td>\n",
              "      <td>1.0</td>\n",
              "      <td>2.0</td>\n",
              "      <td>26.000000</td>\n",
              "      <td>2.0</td>\n",
              "      <td>2.0</td>\n",
              "      <td>4.0</td>\n",
              "      <td>2.0</td>\n",
              "      <td>4.0</td>\n",
              "      <td>2.0</td>\n",
              "      <td>...</td>\n",
              "      <td>4.0</td>\n",
              "      <td>4.0</td>\n",
              "      <td>4.0</td>\n",
              "      <td>4.0</td>\n",
              "      <td>5.0</td>\n",
              "      <td>5.0</td>\n",
              "      <td>5.0</td>\n",
              "      <td>5.0</td>\n",
              "      <td>5.0</td>\n",
              "      <td>5.0</td>\n",
              "    </tr>\n",
              "    <tr>\n",
              "      <th>3</th>\n",
              "      <td>Afghanistan</td>\n",
              "      <td>1.0</td>\n",
              "      <td>2.0</td>\n",
              "      <td>25.000000</td>\n",
              "      <td>2.0</td>\n",
              "      <td>4.0</td>\n",
              "      <td>4.0</td>\n",
              "      <td>3.0</td>\n",
              "      <td>3.0</td>\n",
              "      <td>3.0</td>\n",
              "      <td>...</td>\n",
              "      <td>3.0</td>\n",
              "      <td>2.0</td>\n",
              "      <td>2.0</td>\n",
              "      <td>4.0</td>\n",
              "      <td>4.0</td>\n",
              "      <td>2.0</td>\n",
              "      <td>2.0</td>\n",
              "      <td>4.0</td>\n",
              "      <td>2.0</td>\n",
              "      <td>3.0</td>\n",
              "    </tr>\n",
              "    <tr>\n",
              "      <th>4</th>\n",
              "      <td>Afghanistan</td>\n",
              "      <td>1.0</td>\n",
              "      <td>4.0</td>\n",
              "      <td>26.000000</td>\n",
              "      <td>1.0</td>\n",
              "      <td>4.0</td>\n",
              "      <td>4.0</td>\n",
              "      <td>3.0</td>\n",
              "      <td>3.0</td>\n",
              "      <td>3.0</td>\n",
              "      <td>...</td>\n",
              "      <td>3.0</td>\n",
              "      <td>2.0</td>\n",
              "      <td>2.0</td>\n",
              "      <td>4.0</td>\n",
              "      <td>4.0</td>\n",
              "      <td>2.0</td>\n",
              "      <td>2.0</td>\n",
              "      <td>4.0</td>\n",
              "      <td>2.0</td>\n",
              "      <td>3.0</td>\n",
              "    </tr>\n",
              "    <tr>\n",
              "      <th>...</th>\n",
              "      <td>...</td>\n",
              "      <td>...</td>\n",
              "      <td>...</td>\n",
              "      <td>...</td>\n",
              "      <td>...</td>\n",
              "      <td>...</td>\n",
              "      <td>...</td>\n",
              "      <td>...</td>\n",
              "      <td>...</td>\n",
              "      <td>...</td>\n",
              "      <td>...</td>\n",
              "      <td>...</td>\n",
              "      <td>...</td>\n",
              "      <td>...</td>\n",
              "      <td>...</td>\n",
              "      <td>...</td>\n",
              "      <td>...</td>\n",
              "      <td>...</td>\n",
              "      <td>...</td>\n",
              "      <td>...</td>\n",
              "      <td>...</td>\n",
              "    </tr>\n",
              "    <tr>\n",
              "      <th>1595</th>\n",
              "      <td>United Arab Emirates</td>\n",
              "      <td>1.0</td>\n",
              "      <td>3.0</td>\n",
              "      <td>21.000000</td>\n",
              "      <td>2.0</td>\n",
              "      <td>4.0</td>\n",
              "      <td>4.0</td>\n",
              "      <td>3.0</td>\n",
              "      <td>3.0</td>\n",
              "      <td>3.0</td>\n",
              "      <td>...</td>\n",
              "      <td>3.0</td>\n",
              "      <td>2.0</td>\n",
              "      <td>2.0</td>\n",
              "      <td>4.0</td>\n",
              "      <td>4.0</td>\n",
              "      <td>2.0</td>\n",
              "      <td>2.0</td>\n",
              "      <td>4.0</td>\n",
              "      <td>2.0</td>\n",
              "      <td>3.0</td>\n",
              "    </tr>\n",
              "    <tr>\n",
              "      <th>1596</th>\n",
              "      <td>United Arab Emirates</td>\n",
              "      <td>1.0</td>\n",
              "      <td>4.0</td>\n",
              "      <td>22.000000</td>\n",
              "      <td>2.0</td>\n",
              "      <td>4.0</td>\n",
              "      <td>4.0</td>\n",
              "      <td>3.0</td>\n",
              "      <td>3.0</td>\n",
              "      <td>3.0</td>\n",
              "      <td>...</td>\n",
              "      <td>3.0</td>\n",
              "      <td>2.0</td>\n",
              "      <td>2.0</td>\n",
              "      <td>4.0</td>\n",
              "      <td>4.0</td>\n",
              "      <td>2.0</td>\n",
              "      <td>2.0</td>\n",
              "      <td>4.0</td>\n",
              "      <td>2.0</td>\n",
              "      <td>3.0</td>\n",
              "    </tr>\n",
              "    <tr>\n",
              "      <th>1597</th>\n",
              "      <td>United Arab Emirates</td>\n",
              "      <td>1.0</td>\n",
              "      <td>3.0</td>\n",
              "      <td>20.000000</td>\n",
              "      <td>2.0</td>\n",
              "      <td>5.0</td>\n",
              "      <td>5.0</td>\n",
              "      <td>1.0</td>\n",
              "      <td>5.0</td>\n",
              "      <td>3.0</td>\n",
              "      <td>...</td>\n",
              "      <td>5.0</td>\n",
              "      <td>4.0</td>\n",
              "      <td>5.0</td>\n",
              "      <td>5.0</td>\n",
              "      <td>5.0</td>\n",
              "      <td>5.0</td>\n",
              "      <td>5.0</td>\n",
              "      <td>5.0</td>\n",
              "      <td>2.0</td>\n",
              "      <td>5.0</td>\n",
              "    </tr>\n",
              "    <tr>\n",
              "      <th>1598</th>\n",
              "      <td>United Arab Emirates</td>\n",
              "      <td>1.0</td>\n",
              "      <td>2.0</td>\n",
              "      <td>20.000000</td>\n",
              "      <td>1.0</td>\n",
              "      <td>4.0</td>\n",
              "      <td>4.0</td>\n",
              "      <td>3.0</td>\n",
              "      <td>3.0</td>\n",
              "      <td>3.0</td>\n",
              "      <td>...</td>\n",
              "      <td>3.0</td>\n",
              "      <td>2.0</td>\n",
              "      <td>2.0</td>\n",
              "      <td>4.0</td>\n",
              "      <td>4.0</td>\n",
              "      <td>2.0</td>\n",
              "      <td>2.0</td>\n",
              "      <td>4.0</td>\n",
              "      <td>2.0</td>\n",
              "      <td>3.0</td>\n",
              "    </tr>\n",
              "    <tr>\n",
              "      <th>1599</th>\n",
              "      <td>United Arab Emirates</td>\n",
              "      <td>1.0</td>\n",
              "      <td>4.0</td>\n",
              "      <td>21.264706</td>\n",
              "      <td>2.0</td>\n",
              "      <td>4.0</td>\n",
              "      <td>4.0</td>\n",
              "      <td>3.0</td>\n",
              "      <td>3.0</td>\n",
              "      <td>3.0</td>\n",
              "      <td>...</td>\n",
              "      <td>3.0</td>\n",
              "      <td>2.0</td>\n",
              "      <td>4.0</td>\n",
              "      <td>5.0</td>\n",
              "      <td>4.0</td>\n",
              "      <td>2.0</td>\n",
              "      <td>1.0</td>\n",
              "      <td>3.0</td>\n",
              "      <td>1.0</td>\n",
              "      <td>1.0</td>\n",
              "    </tr>\n",
              "  </tbody>\n",
              "</table>\n",
              "<p>1600 rows × 46 columns</p>\n",
              "</div>\n",
              "      <button class=\"colab-df-convert\" onclick=\"convertToInteractive('df-d3412a5d-6ab9-47f3-a894-e006b61c5c90')\"\n",
              "              title=\"Convert this dataframe to an interactive table.\"\n",
              "              style=\"display:none;\">\n",
              "        \n",
              "  <svg xmlns=\"http://www.w3.org/2000/svg\" height=\"24px\"viewBox=\"0 0 24 24\"\n",
              "       width=\"24px\">\n",
              "    <path d=\"M0 0h24v24H0V0z\" fill=\"none\"/>\n",
              "    <path d=\"M18.56 5.44l.94 2.06.94-2.06 2.06-.94-2.06-.94-.94-2.06-.94 2.06-2.06.94zm-11 1L8.5 8.5l.94-2.06 2.06-.94-2.06-.94L8.5 2.5l-.94 2.06-2.06.94zm10 10l.94 2.06.94-2.06 2.06-.94-2.06-.94-.94-2.06-.94 2.06-2.06.94z\"/><path d=\"M17.41 7.96l-1.37-1.37c-.4-.4-.92-.59-1.43-.59-.52 0-1.04.2-1.43.59L10.3 9.45l-7.72 7.72c-.78.78-.78 2.05 0 2.83L4 21.41c.39.39.9.59 1.41.59.51 0 1.02-.2 1.41-.59l7.78-7.78 2.81-2.81c.8-.78.8-2.07 0-2.86zM5.41 20L4 18.59l7.72-7.72 1.47 1.35L5.41 20z\"/>\n",
              "  </svg>\n",
              "      </button>\n",
              "      \n",
              "  <style>\n",
              "    .colab-df-container {\n",
              "      display:flex;\n",
              "      flex-wrap:wrap;\n",
              "      gap: 12px;\n",
              "    }\n",
              "\n",
              "    .colab-df-convert {\n",
              "      background-color: #E8F0FE;\n",
              "      border: none;\n",
              "      border-radius: 50%;\n",
              "      cursor: pointer;\n",
              "      display: none;\n",
              "      fill: #1967D2;\n",
              "      height: 32px;\n",
              "      padding: 0 0 0 0;\n",
              "      width: 32px;\n",
              "    }\n",
              "\n",
              "    .colab-df-convert:hover {\n",
              "      background-color: #E2EBFA;\n",
              "      box-shadow: 0px 1px 2px rgba(60, 64, 67, 0.3), 0px 1px 3px 1px rgba(60, 64, 67, 0.15);\n",
              "      fill: #174EA6;\n",
              "    }\n",
              "\n",
              "    [theme=dark] .colab-df-convert {\n",
              "      background-color: #3B4455;\n",
              "      fill: #D2E3FC;\n",
              "    }\n",
              "\n",
              "    [theme=dark] .colab-df-convert:hover {\n",
              "      background-color: #434B5C;\n",
              "      box-shadow: 0px 1px 3px 1px rgba(0, 0, 0, 0.15);\n",
              "      filter: drop-shadow(0px 1px 2px rgba(0, 0, 0, 0.3));\n",
              "      fill: #FFFFFF;\n",
              "    }\n",
              "  </style>\n",
              "\n",
              "      <script>\n",
              "        const buttonEl =\n",
              "          document.querySelector('#df-d3412a5d-6ab9-47f3-a894-e006b61c5c90 button.colab-df-convert');\n",
              "        buttonEl.style.display =\n",
              "          google.colab.kernel.accessAllowed ? 'block' : 'none';\n",
              "\n",
              "        async function convertToInteractive(key) {\n",
              "          const element = document.querySelector('#df-d3412a5d-6ab9-47f3-a894-e006b61c5c90');\n",
              "          const dataTable =\n",
              "            await google.colab.kernel.invokeFunction('convertToInteractive',\n",
              "                                                     [key], {});\n",
              "          if (!dataTable) return;\n",
              "\n",
              "          const docLinkHtml = 'Like what you see? Visit the ' +\n",
              "            '<a target=\"_blank\" href=https://colab.research.google.com/notebooks/data_table.ipynb>data table notebook</a>'\n",
              "            + ' to learn more about interactive tables.';\n",
              "          element.innerHTML = '';\n",
              "          dataTable['output_type'] = 'display_data';\n",
              "          await google.colab.output.renderOutput(dataTable, element);\n",
              "          const docLink = document.createElement('div');\n",
              "          docLink.innerHTML = docLinkHtml;\n",
              "          element.appendChild(docLink);\n",
              "        }\n",
              "      </script>\n",
              "    </div>\n",
              "  </div>\n",
              "  "
            ]
          },
          "metadata": {},
          "execution_count": 5
        }
      ]
    },
    {
      "cell_type": "code",
      "source": [
        "final_dts.info()"
      ],
      "metadata": {
        "id": "_VZmhjTDIyV6",
        "colab": {
          "base_uri": "https://localhost:8080/"
        },
        "outputId": "a5fa650d-9b3e-4ad5-ff8a-e5f5353b2843"
      },
      "execution_count": null,
      "outputs": [
        {
          "output_type": "stream",
          "name": "stdout",
          "text": [
            "<class 'pandas.core.frame.DataFrame'>\n",
            "RangeIndex: 1600 entries, 0 to 1599\n",
            "Data columns (total 46 columns):\n",
            " #   Column  Non-Null Count  Dtype  \n",
            "---  ------  --------------  -----  \n",
            " 0   Q1      1600 non-null   object \n",
            " 1   Q5      1600 non-null   float64\n",
            " 2   Q6      1600 non-null   float64\n",
            " 3   Q7      1600 non-null   float64\n",
            " 4   Q8      1600 non-null   float64\n",
            " 5   Q17     1600 non-null   float64\n",
            " 6   Q20a    1600 non-null   float64\n",
            " 7   Q20b    1600 non-null   float64\n",
            " 8   Q20c    1600 non-null   float64\n",
            " 9   Q20d    1600 non-null   float64\n",
            " 10  Q20e    1600 non-null   float64\n",
            " 11  Q20f    1600 non-null   float64\n",
            " 12  Q21c    1600 non-null   float64\n",
            " 13  Q21i    1600 non-null   float64\n",
            " 14  Q22a    1600 non-null   float64\n",
            " 15  Q22b    1600 non-null   float64\n",
            " 16  Q23a    1600 non-null   float64\n",
            " 17  Q23b    1600 non-null   float64\n",
            " 18  Q23c    1600 non-null   float64\n",
            " 19  Q23d    1600 non-null   float64\n",
            " 20  Q23e    1600 non-null   float64\n",
            " 21  Q23f    1600 non-null   float64\n",
            " 22  Q23g    1600 non-null   float64\n",
            " 23  Q23h    1600 non-null   float64\n",
            " 24  Q23i    1600 non-null   float64\n",
            " 25  Q23j    1600 non-null   float64\n",
            " 26  Q24b    1600 non-null   float64\n",
            " 27  Q25a    1600 non-null   float64\n",
            " 28  Q25b    1600 non-null   float64\n",
            " 29  Q25c    1600 non-null   float64\n",
            " 30  Q25d    1600 non-null   float64\n",
            " 31  Q25e    1600 non-null   float64\n",
            " 32  Q25f    1600 non-null   float64\n",
            " 33  Q25g    1600 non-null   float64\n",
            " 34  Q25h    1600 non-null   float64\n",
            " 35  Q25i    1600 non-null   float64\n",
            " 36  Q25j    1600 non-null   float64\n",
            " 37  Q26a    1600 non-null   float64\n",
            " 38  Q26b    1600 non-null   float64\n",
            " 39  Q26c    1600 non-null   float64\n",
            " 40  Q26d    1600 non-null   float64\n",
            " 41  Q26e    1600 non-null   float64\n",
            " 42  Q26f    1600 non-null   float64\n",
            " 43  Q26g    1600 non-null   float64\n",
            " 44  Q26h    1600 non-null   float64\n",
            " 45  Q26i    1600 non-null   float64\n",
            "dtypes: float64(45), object(1)\n",
            "memory usage: 575.1+ KB\n"
          ]
        }
      ]
    },
    {
      "cell_type": "markdown",
      "source": [
        "# **Visualizations**\n"
      ],
      "metadata": {
        "id": "2BcRa4M8H-KL"
      }
    },
    {
      "cell_type": "markdown",
      "source": [
        "# Q6 and Q25(a, b, c, d, e, f, g, h, i, and j)-  rate of emotions felt based on the field of study\n"
      ],
      "metadata": {
        "id": "_4eiyuWmPeYW"
      }
    },
    {
      "cell_type": "markdown",
      "source": [
        "Field Study: Arts"
      ],
      "metadata": {
        "id": "Keo4b0AKrJNl"
      }
    },
    {
      "cell_type": "markdown",
      "source": [
        "Emotion: Joyful"
      ],
      "metadata": {
        "id": "Aq5O_-ikQ_R7"
      }
    },
    {
      "cell_type": "code",
      "source": [
        "first = final_dts[[\"Q6\", \"Q25a\"]]\n",
        "dfa_art = pd.DataFrame(first)\n",
        "dfa_art.info()\n",
        "\n",
        "art_joyful = dfa_art.loc[(dfa_art['Q6'] == 1) & (dfa_art['Q25a'] == 1)]\n",
        "data_joyful_art = art_joyful.drop('Q6', axis = 1)\n",
        "Data_joyful = data_joyful_art.value_counts()\n",
        "art_data_joyful = Data_joyful.tolist()\n",
        "\n",
        "art1_joyful = dfa_art.loc[(dfa_art['Q6'] == 1) & (dfa_art['Q25a'] == 2)]\n",
        "data1_joyful_art = art1_joyful.drop('Q6', axis = 1)\n",
        "Data1_joyful = data1_joyful_art.value_counts()\n",
        "art_data1_joyful = Data1_joyful.tolist()\n",
        "\n",
        "art2_joyful = dfa_art.loc[(dfa_art['Q6'] == 1) & (dfa_art['Q25a'] == 3)]\n",
        "data2_joyful_art = art2_joyful.drop('Q6', axis = 1)\n",
        "Data2_joyful = data2_joyful_art.value_counts()\n",
        "art_data2_joyful = Data2_joyful.tolist()\n",
        "\n",
        "art3_joyful = dfa_art.loc[(dfa_art['Q6'] == 1) & (dfa_art['Q25a'] == 4)]\n",
        "data3_joyful_art = art3_joyful.drop('Q6', axis = 1)\n",
        "Data3_joyful = data3_joyful_art.value_counts()\n",
        "art_data3_joyful = Data3_joyful.tolist()\n",
        "\n",
        "art4_joyful = dfa_art.loc[(dfa_art['Q6'] == 1) & (dfa_art['Q25a'] == 5)]\n",
        "data4_joyful_art = art4_joyful.drop('Q6', axis = 1)\n",
        "Data4_joyful = data4_joyful_art.value_counts()\n",
        "art_data4_joyful = Data4_joyful.tolist()\n",
        "\n"
      ],
      "metadata": {
        "id": "JsexS73wfaZg",
        "colab": {
          "base_uri": "https://localhost:8080/"
        },
        "outputId": "1a8b1f52-7682-463c-f2c0-c3b201efac18"
      },
      "execution_count": 347,
      "outputs": [
        {
          "output_type": "stream",
          "name": "stdout",
          "text": [
            "<class 'pandas.core.frame.DataFrame'>\n",
            "RangeIndex: 1600 entries, 0 to 1599\n",
            "Data columns (total 2 columns):\n",
            " #   Column  Non-Null Count  Dtype  \n",
            "---  ------  --------------  -----  \n",
            " 0   Q6      1600 non-null   float64\n",
            " 1   Q25a    1600 non-null   float64\n",
            "dtypes: float64(2)\n",
            "memory usage: 25.1 KB\n"
          ]
        }
      ]
    },
    {
      "cell_type": "markdown",
      "source": [
        "Emotion: Hopeful"
      ],
      "metadata": {
        "id": "2bdLNmX2R05b"
      }
    },
    {
      "cell_type": "code",
      "source": [
        "second = final_dts[[\"Q6\", \"Q25b\"]]\n",
        "dfb_art = pd.DataFrame(second)\n",
        "dfb_art.info()\n",
        "\n",
        "art_hopeful = dfb_art.loc[(dfb_art['Q6'] == 1) & (dfb_art['Q25b'] == 1)]\n",
        "data_hopeful = art_hopeful.drop('Q6', axis = 1)\n",
        "Data_hopeful = data_hopeful.value_counts()\n",
        "art_data_hopeful = Data_hopeful.tolist()\n",
        "\n",
        "art1_hopeful = dfb_art.loc[(dfb_art['Q6'] == 1) & (dfb_art['Q25b'] == 2)]\n",
        "data1_hopeful = art1_hopeful.drop('Q6', axis = 1)\n",
        "Data1_hopeful = data1_hopeful.value_counts()\n",
        "art_data1_hopeful = Data1_hopeful.tolist()\n",
        "\n",
        "art2_hopeful = dfb_art.loc[(dfb_art['Q6'] == 1) & (dfb_art['Q25b'] == 3)]\n",
        "data2_hopeful = art2_hopeful.drop('Q6', axis = 1)\n",
        "Data2_hopeful = data2_hopeful.value_counts()\n",
        "art_data2_hopeful = Data2_hopeful.tolist()\n",
        "\n",
        "art3_hopeful = dfb_art.loc[(dfb_art['Q6'] == 1) & (dfb_art['Q25b'] == 4)]\n",
        "data3_hopeful = art3_hopeful.drop('Q6', axis = 1)\n",
        "Data3_hopeful = data3_hopeful.value_counts()\n",
        "art_data3_hopeful = Data3_hopeful.tolist()\n",
        "\n",
        "art4_hopeful = dfb_art.loc[(dfb_art['Q6'] == 1) & (dfb_art['Q25b'] == 5)]\n",
        "data4_hopeful = art4_hopeful.drop('Q6', axis = 1)\n",
        "Data4_hopeful = data4_hopeful.value_counts()\n",
        "art_data4_hopeful = Data4_hopeful.tolist()\n",
        "\n"
      ],
      "metadata": {
        "colab": {
          "base_uri": "https://localhost:8080/"
        },
        "id": "EVNlGYsagmpk",
        "outputId": "bbe0042d-494a-4616-8bf0-67fad0838c48"
      },
      "execution_count": 348,
      "outputs": [
        {
          "output_type": "stream",
          "name": "stdout",
          "text": [
            "<class 'pandas.core.frame.DataFrame'>\n",
            "RangeIndex: 1600 entries, 0 to 1599\n",
            "Data columns (total 2 columns):\n",
            " #   Column  Non-Null Count  Dtype  \n",
            "---  ------  --------------  -----  \n",
            " 0   Q6      1600 non-null   float64\n",
            " 1   Q25b    1600 non-null   float64\n",
            "dtypes: float64(2)\n",
            "memory usage: 25.1 KB\n"
          ]
        }
      ]
    },
    {
      "cell_type": "markdown",
      "source": [
        "Emotion: Proud"
      ],
      "metadata": {
        "id": "6pasoxozR7WK"
      }
    },
    {
      "cell_type": "code",
      "source": [
        "third = final_dts[[\"Q6\", \"Q25c\"]]\n",
        "dfc_art = pd.DataFrame(third)\n",
        "dfc_art.info()\n",
        "\n",
        "art_proud = dfc_art.loc[(dfc_art['Q6'] == 1) & (dfc_art['Q25c'] == 1)]\n",
        "data_proud = art_proud.drop('Q6', axis = 1)\n",
        "Data_proud = data_proud.value_counts()\n",
        "art_data_proud = Data_proud.tolist()\n",
        "\n",
        "art1_proud = dfc_art.loc[(dfc_art['Q6'] == 1) & (dfc_art['Q25c'] == 2)]\n",
        "data1_proud = art1_proud.drop('Q6', axis = 1)\n",
        "Data1_proud = data1_proud.value_counts()\n",
        "art_data1_proud = Data1_proud.tolist()\n",
        "\n",
        "art2_proud = dfc_art.loc[(dfc_art['Q6'] == 1) & (dfc_art['Q25c'] == 3)]\n",
        "data2_proud = art2_proud.drop('Q6', axis = 1)\n",
        "Data2_proud = data2_proud.value_counts()\n",
        "art_data2_proud = Data2_proud.tolist()\n",
        "\n",
        "art3_proud = dfc_art.loc[(dfc_art['Q6'] == 1) & (dfc_art['Q25c'] == 4)]\n",
        "data3_proud = art3_proud.drop('Q6', axis = 1)\n",
        "Data3_proud = data3_proud.value_counts()\n",
        "art_data3_proud = Data3_proud.tolist()\n",
        "\n",
        "art4_proud = dfc_art.loc[(dfc_art['Q6'] == 1) & (dfc_art['Q25c'] == 5)]\n",
        "data4_proud = art4_proud.drop('Q6', axis = 1)\n",
        "Data4_proud = data4_proud.value_counts()\n",
        "art_data4_proud = Data4_proud.tolist()\n",
        "\n"
      ],
      "metadata": {
        "colab": {
          "base_uri": "https://localhost:8080/"
        },
        "id": "L2JdF9qYOoIj",
        "outputId": "8dde4bec-3ccd-40f1-911e-1546a3a0ada1"
      },
      "execution_count": 349,
      "outputs": [
        {
          "output_type": "stream",
          "name": "stdout",
          "text": [
            "<class 'pandas.core.frame.DataFrame'>\n",
            "RangeIndex: 1600 entries, 0 to 1599\n",
            "Data columns (total 2 columns):\n",
            " #   Column  Non-Null Count  Dtype  \n",
            "---  ------  --------------  -----  \n",
            " 0   Q6      1600 non-null   float64\n",
            " 1   Q25c    1600 non-null   float64\n",
            "dtypes: float64(2)\n",
            "memory usage: 25.1 KB\n"
          ]
        }
      ]
    },
    {
      "cell_type": "markdown",
      "source": [
        "Emotion: Frustrated"
      ],
      "metadata": {
        "id": "X5TB-wwpR_dk"
      }
    },
    {
      "cell_type": "code",
      "source": [
        "fourth = final_dts[[\"Q6\", \"Q25d\"]]\n",
        "dfd_art = pd.DataFrame(fourth)\n",
        "dfd_art.info()\n",
        "\n",
        "art_frustrated = dfd_art.loc[(dfd_art['Q6'] == 1) & (dfd_art['Q25d'] == 1)]\n",
        "data_frustrated = art_frustrated.drop('Q6', axis = 1)\n",
        "Data_frustrated = data_frustrated.value_counts()\n",
        "art_data_frustrated = Data_frustrated.tolist()\n",
        "\n",
        "art1_frustrated = dfd_art.loc[(dfd_art['Q6'] == 1) & (dfd_art['Q25d'] == 2)]\n",
        "data1_frustrated = art1_frustrated.drop('Q6', axis = 1)\n",
        "Data1_frustrated = data1_frustrated.value_counts()\n",
        "art_data1_frustrated = Data1_frustrated.tolist()\n",
        "\n",
        "art2_frustrated = dfd_art.loc[(dfd_art['Q6'] == 1) & (dfd_art['Q25d'] == 3)]\n",
        "data2_frustrated = art2_frustrated.drop('Q6', axis = 1)\n",
        "Data2_frustrated = data2_frustrated.value_counts()\n",
        "art_data2_frustrated = Data2_frustrated.tolist()\n",
        "\n",
        "art3_frustrated = dfd_art.loc[(dfd_art['Q6'] == 1) & (dfd_art['Q25d'] == 4)]\n",
        "data3_frustrated = art3_frustrated.drop('Q6', axis = 1)\n",
        "Data3_frustrated = data3_frustrated.value_counts()\n",
        "art_data3_frustrated = Data3_frustrated.tolist()\n",
        "\n",
        "art4_frustrated = dfd_art.loc[(dfd_art['Q6'] == 1) & (dfd_art['Q25d'] == 5)]\n",
        "data4_frustrated = art4_frustrated.drop('Q6', axis = 1)\n",
        "Data4_frustrated = data4_frustrated.value_counts()\n",
        "art_data4_frustrated = Data4_frustrated.tolist()\n",
        "\n"
      ],
      "metadata": {
        "colab": {
          "base_uri": "https://localhost:8080/"
        },
        "id": "TOlLhg9CP9Qq",
        "outputId": "e36e8a06-b109-4a18-fed4-96c5bda2c3e0"
      },
      "execution_count": 350,
      "outputs": [
        {
          "output_type": "stream",
          "name": "stdout",
          "text": [
            "<class 'pandas.core.frame.DataFrame'>\n",
            "RangeIndex: 1600 entries, 0 to 1599\n",
            "Data columns (total 2 columns):\n",
            " #   Column  Non-Null Count  Dtype  \n",
            "---  ------  --------------  -----  \n",
            " 0   Q6      1600 non-null   float64\n",
            " 1   Q25d    1600 non-null   float64\n",
            "dtypes: float64(2)\n",
            "memory usage: 25.1 KB\n"
          ]
        }
      ]
    },
    {
      "cell_type": "markdown",
      "source": [
        "Emotion: Angry"
      ],
      "metadata": {
        "id": "OiFvEK93SIXS"
      }
    },
    {
      "cell_type": "code",
      "source": [
        "fifth = final_dts[[\"Q6\", \"Q25e\"]]\n",
        "dfe_art = pd.DataFrame(fifth)\n",
        "dfe_art.info()\n",
        "\n",
        "art_angry = dfe_art.loc[(dfe_art['Q6'] == 1) & (dfe_art['Q25e'] == 1)]\n",
        "data_angry = art_angry.drop('Q6', axis = 1)\n",
        "Data_angry = data_angry.value_counts()\n",
        "art_data_angry = Data_angry.tolist()\n",
        "\n",
        "art1_angry = dfe_art.loc[(dfe_art['Q6'] == 1) & (dfe_art['Q25e'] == 2)]\n",
        "data1_angry = art1_angry.drop('Q6', axis = 1)\n",
        "Data1_angry = data1_angry.value_counts()\n",
        "art_data1_angry = Data1_angry.tolist()\n",
        "\n",
        "art2_angry = dfe_art.loc[(dfe_art['Q6'] == 1) & (dfe_art['Q25e'] == 3)]\n",
        "data2_angry = art2_angry.drop('Q6', axis = 1)\n",
        "Data2_angry = data2_angry.value_counts()\n",
        "art_data2_angry = Data2_angry.tolist()\n",
        "\n",
        "art3_angry = dfe_art.loc[(dfe_art['Q6'] == 1) & (dfe_art['Q25e'] == 4)]\n",
        "data3_angry = art3_angry.drop('Q6', axis = 1)\n",
        "Data3_angry = data3_angry.value_counts()\n",
        "art_data3_angry = Data3_angry.tolist()\n",
        "\n",
        "art4_angry = dfe_art.loc[(dfe_art['Q6'] == 1) & (dfe_art['Q25e'] == 5)]\n",
        "data4_angry = art4_angry.drop('Q6', axis = 1)\n",
        "Data4_angry = data4_angry.value_counts()\n",
        "art_data4_angry = Data4_angry.tolist()\n",
        "\n"
      ],
      "metadata": {
        "colab": {
          "base_uri": "https://localhost:8080/"
        },
        "id": "h50a1D7KQxFC",
        "outputId": "a01b9eca-4d2a-455d-e216-3ad880b4121e"
      },
      "execution_count": 351,
      "outputs": [
        {
          "output_type": "stream",
          "name": "stdout",
          "text": [
            "<class 'pandas.core.frame.DataFrame'>\n",
            "RangeIndex: 1600 entries, 0 to 1599\n",
            "Data columns (total 2 columns):\n",
            " #   Column  Non-Null Count  Dtype  \n",
            "---  ------  --------------  -----  \n",
            " 0   Q6      1600 non-null   float64\n",
            " 1   Q25e    1600 non-null   float64\n",
            "dtypes: float64(2)\n",
            "memory usage: 25.1 KB\n"
          ]
        }
      ]
    },
    {
      "cell_type": "markdown",
      "source": [
        "Emotion: Anxious"
      ],
      "metadata": {
        "id": "tWqRoUNCSSei"
      }
    },
    {
      "cell_type": "code",
      "source": [
        "sixth = final_dts[[\"Q6\", \"Q25f\"]]\n",
        "dff_art = pd.DataFrame(sixth)\n",
        "dff_art.info()\n",
        "\n",
        "art_anxious = dff_art.loc[(dff_art['Q6'] == 1) & (dff_art['Q25f'] == 1)]\n",
        "data_anxious = art_anxious.drop('Q6', axis = 1)\n",
        "Data_anxious = data_anxious.value_counts()\n",
        "art_data_anxious = Data_anxious.tolist()\n",
        "\n",
        "art1_anxious = dff_art.loc[(dff_art['Q6'] == 1) & (dff_art['Q25f'] == 2)]\n",
        "data1_anxious = art1_anxious.drop('Q6', axis = 1)\n",
        "Data1_anxious = data1_anxious.value_counts()\n",
        "art_data1_anxious = Data1_anxious.tolist()\n",
        "\n",
        "art2_anxious = dff_art.loc[(dff_art['Q6'] == 1) & (dff_art['Q25f'] == 3)]\n",
        "data2_anxious = art2_anxious.drop('Q6', axis = 1)\n",
        "Data2_anxious = data2_anxious.value_counts()\n",
        "art_data2_anxious = Data2_anxious.tolist()\n",
        "\n",
        "art3_anxious = dff_art.loc[(dff_art['Q6'] == 1) & (dff_art['Q25f'] == 4)]\n",
        "data3_anxious = art3_anxious.drop('Q6', axis = 1)\n",
        "Data3_anxious = data3_anxious.value_counts()\n",
        "art_data3_anxious = Data3_anxious.tolist()\n",
        "\n",
        "art4_anxious = dff_art.loc[(dff_art['Q6'] == 1) & (dff_art['Q25f'] == 5)]\n",
        "data4_anxious = art4_anxious.drop('Q6', axis = 1)\n",
        "Data4_anxious = data4_anxious.value_counts()\n",
        "art_data4_anxious = Data4_anxious.tolist()\n",
        "\n"
      ],
      "metadata": {
        "id": "ECqHRXSgGfve",
        "colab": {
          "base_uri": "https://localhost:8080/"
        },
        "outputId": "c3a914a9-d48f-4d6f-9488-32749aa63897"
      },
      "execution_count": 352,
      "outputs": [
        {
          "output_type": "stream",
          "name": "stdout",
          "text": [
            "<class 'pandas.core.frame.DataFrame'>\n",
            "RangeIndex: 1600 entries, 0 to 1599\n",
            "Data columns (total 2 columns):\n",
            " #   Column  Non-Null Count  Dtype  \n",
            "---  ------  --------------  -----  \n",
            " 0   Q6      1600 non-null   float64\n",
            " 1   Q25f    1600 non-null   float64\n",
            "dtypes: float64(2)\n",
            "memory usage: 25.1 KB\n"
          ]
        }
      ]
    },
    {
      "cell_type": "markdown",
      "source": [
        "Emotion: Ashamed"
      ],
      "metadata": {
        "id": "N4nf7KZWSWA6"
      }
    },
    {
      "cell_type": "code",
      "source": [
        "seventh = final_dts[[\"Q6\", \"Q25g\"]]\n",
        "dfg_art = pd.DataFrame(seventh)\n",
        "dfg_art.info()\n",
        "\n",
        "art_ashamed = dfg_art.loc[(dfg_art['Q6'] == 1) & (dfg_art['Q25g'] == 1)]\n",
        "data_ashamed = art_ashamed.drop('Q6', axis = 1)\n",
        "Data_ashamed = data_ashamed.value_counts()\n",
        "art_data_ashamed = Data_ashamed.tolist()\n",
        "\n",
        "art1_ashamed = dfg_art.loc[(dfg_art['Q6'] == 1) & (dfg_art['Q25g'] == 2)]\n",
        "data1_ashamed = art1_ashamed.drop('Q6', axis = 1)\n",
        "Data1_ashamed = data1_ashamed.value_counts()\n",
        "art_data1_ashamed = Data1_ashamed.tolist()\n",
        "\n",
        "art2_ashamed = dfg_art.loc[(dfg_art['Q6'] == 1) & (dfg_art['Q25g'] == 3)]\n",
        "data2_ashamed = art2_ashamed.drop('Q6', axis = 1)\n",
        "Data2_ashamed = data2_ashamed.value_counts()\n",
        "art_data2_ashamed = Data2_ashamed.tolist()\n",
        "\n",
        "art3_ashamed = dfg_art.loc[(dfg_art['Q6'] == 1) & (dfg_art['Q25g'] == 4)]\n",
        "data3_ashamed = art3_ashamed.drop('Q6', axis = 1)\n",
        "Data3_ashamed = data3_ashamed.value_counts()\n",
        "art_data3_ashamed = Data3_ashamed.tolist()\n",
        "\n",
        "art4_ashamed = dfg_art.loc[(dfg_art['Q6'] == 1) & (dfg_art['Q25g'] == 5)]\n",
        "data4_ashamed = art4_ashamed.drop('Q6', axis = 1)\n",
        "Data4_ashamed = data4_ashamed.value_counts()\n",
        "art_data4_ashamed = Data4_ashamed.tolist()\n",
        "\n"
      ],
      "metadata": {
        "colab": {
          "base_uri": "https://localhost:8080/"
        },
        "id": "e3SMapcFIFHF",
        "outputId": "1463ee85-b31a-4947-8f61-192f8ef09a13"
      },
      "execution_count": 353,
      "outputs": [
        {
          "output_type": "stream",
          "name": "stdout",
          "text": [
            "<class 'pandas.core.frame.DataFrame'>\n",
            "RangeIndex: 1600 entries, 0 to 1599\n",
            "Data columns (total 2 columns):\n",
            " #   Column  Non-Null Count  Dtype  \n",
            "---  ------  --------------  -----  \n",
            " 0   Q6      1600 non-null   float64\n",
            " 1   Q25g    1600 non-null   float64\n",
            "dtypes: float64(2)\n",
            "memory usage: 25.1 KB\n"
          ]
        }
      ]
    },
    {
      "cell_type": "markdown",
      "source": [
        "Emotion: Relieved"
      ],
      "metadata": {
        "id": "GiZGUdy6SbkL"
      }
    },
    {
      "cell_type": "code",
      "source": [
        "eighth = final_dts[[\"Q6\", \"Q25h\"]]\n",
        "dfh_art = pd.DataFrame(eighth)\n",
        "dfh_art.info()\n",
        "\n",
        "art_relieved = dfh_art.loc[(dfh_art['Q6'] == 1) & (dfh_art['Q25h'] == 1)]\n",
        "data_relieved = art_relieved.drop('Q6', axis = 1)\n",
        "Data_relieved = data_relieved.value_counts()\n",
        "art_data_relieved = Data_relieved.tolist()\n",
        "\n",
        "art1_relieved = dfh_art.loc[(dfh_art['Q6'] == 1) & (dfh_art['Q25h'] == 2)]\n",
        "data1_relieved = art1_relieved.drop('Q6', axis = 1)\n",
        "Data1_relieved = data1_relieved.value_counts()\n",
        "art_data1_relieved = Data1_relieved.tolist()\n",
        "\n",
        "art2_relieved = dfh_art.loc[(dfh_art['Q6'] == 1) & (dfh_art['Q25h'] == 3)]\n",
        "data2_relieved = art2_relieved.drop('Q6', axis = 1)\n",
        "Data2_relieved = data2_relieved.value_counts()\n",
        "art_data2_relieved = Data2_relieved.tolist()\n",
        "\n",
        "art3_relieved = dfh_art.loc[(dfh_art['Q6'] == 1) & (dfh_art['Q25h'] == 4)]\n",
        "data3_relieved = art3_relieved.drop('Q6', axis = 1)\n",
        "Data3_relieved = data3_relieved.value_counts()\n",
        "art_data3_relieved = Data3_relieved.tolist()\n",
        "\n",
        "art4_relieved = dfh_art.loc[(dfh_art['Q6'] == 1) & (dfh_art['Q25h'] == 5)]\n",
        "data4_relieved = art4_relieved.drop('Q6', axis = 1)\n",
        "Data4_relieved = data4_relieved.value_counts()\n",
        "art_data4_relieved = Data4_relieved.tolist()\n",
        "\n"
      ],
      "metadata": {
        "colab": {
          "base_uri": "https://localhost:8080/"
        },
        "id": "ZtS5zIDMJBR-",
        "outputId": "07d343e6-d937-442c-bdb2-237980b7ae0a"
      },
      "execution_count": 354,
      "outputs": [
        {
          "output_type": "stream",
          "name": "stdout",
          "text": [
            "<class 'pandas.core.frame.DataFrame'>\n",
            "RangeIndex: 1600 entries, 0 to 1599\n",
            "Data columns (total 2 columns):\n",
            " #   Column  Non-Null Count  Dtype  \n",
            "---  ------  --------------  -----  \n",
            " 0   Q6      1600 non-null   float64\n",
            " 1   Q25h    1600 non-null   float64\n",
            "dtypes: float64(2)\n",
            "memory usage: 25.1 KB\n"
          ]
        }
      ]
    },
    {
      "cell_type": "markdown",
      "source": [
        "Emotion: Hopeless"
      ],
      "metadata": {
        "id": "2sfuq4FsSe2B"
      }
    },
    {
      "cell_type": "code",
      "source": [
        "ninth = final_dts[[\"Q6\", \"Q25i\"]]\n",
        "dfi_art = pd.DataFrame(ninth)\n",
        "dfi_art.info()\n",
        "\n",
        "art_hopeless = dfi_art.loc[(dfi_art['Q6'] == 1) & (dfi_art['Q25i'] == 1)]\n",
        "data_hopeless = art_hopeless.drop('Q6', axis = 1)\n",
        "Data_hopeless = data_hopeless.value_counts()\n",
        "art_data_hopeless = Data_hopeless.tolist()\n",
        "\n",
        "art1_hopeless = dfi_art.loc[(dfi_art['Q6'] == 1) & (dfi_art['Q25i'] == 2)]\n",
        "data1_hopeless = art1_hopeless.drop('Q6', axis = 1)\n",
        "Data1_hopeless = data1_hopeless.value_counts()\n",
        "art_data1_hopeless = Data1_hopeless.tolist()\n",
        "\n",
        "art2_hopeless = dfi_art.loc[(dfi_art['Q6'] == 1) & (dfi_art['Q25i'] == 3)]\n",
        "data2_hopeless = art2_hopeless.drop('Q6', axis = 1)\n",
        "Data2_hopeless = data2_hopeless.value_counts()\n",
        "art_data2_hopeless = Data2_hopeless.tolist()\n",
        "\n",
        "art3_hopeless = dfi_art.loc[(dfi_art['Q6'] == 1) & (dfi_art['Q25i'] == 4)]\n",
        "data3_hopeless = art3_hopeless.drop('Q6', axis = 1)\n",
        "Data3_hopeless = data3_hopeless.value_counts()\n",
        "art_data3_hopeless = Data3_hopeless.tolist()\n",
        "\n",
        "art4_hopeless = dfi_art.loc[(dfi_art['Q6'] == 1) & (dfi_art['Q25i'] == 5)]\n",
        "data4_hopeless = art4_hopeless.drop('Q6', axis = 1)\n",
        "Data4_hopeless = data4_hopeless.value_counts()\n",
        "art_data4_hopeless = Data4_hopeless.tolist()\n",
        "\n"
      ],
      "metadata": {
        "colab": {
          "base_uri": "https://localhost:8080/"
        },
        "id": "m6bNoYP0KWPP",
        "outputId": "59fe825d-b958-41fe-b347-ab361d39552a"
      },
      "execution_count": 355,
      "outputs": [
        {
          "output_type": "stream",
          "name": "stdout",
          "text": [
            "<class 'pandas.core.frame.DataFrame'>\n",
            "RangeIndex: 1600 entries, 0 to 1599\n",
            "Data columns (total 2 columns):\n",
            " #   Column  Non-Null Count  Dtype  \n",
            "---  ------  --------------  -----  \n",
            " 0   Q6      1600 non-null   float64\n",
            " 1   Q25i    1600 non-null   float64\n",
            "dtypes: float64(2)\n",
            "memory usage: 25.1 KB\n"
          ]
        }
      ]
    },
    {
      "cell_type": "markdown",
      "source": [
        "Emotion: Bored"
      ],
      "metadata": {
        "id": "nEWXjQbFSigZ"
      }
    },
    {
      "cell_type": "code",
      "source": [
        "tenth = final_dts[[\"Q6\", \"Q25j\"]]\n",
        "dfj_art = pd.DataFrame(tenth)\n",
        "dfj_art.info()\n",
        "\n",
        "art_bored = dfj_art.loc[(dfj_art['Q6'] == 1) & (dfj_art['Q25j'] == 1)]\n",
        "data_bored = art_bored.drop('Q6', axis = 1)\n",
        "Data_bored = data_bored.value_counts()\n",
        "art_data_bored = Data_bored.tolist()\n",
        "\n",
        "art1_bored = dfj_art.loc[(dfj_art['Q6'] == 1) & (dfj_art['Q25j'] == 2)]\n",
        "data1_bored = art1_bored.drop('Q6', axis = 1)\n",
        "Data1_bored = data1_bored.value_counts()\n",
        "art_data1_bored = Data1_bored.tolist()\n",
        "\n",
        "art2_bored = dfj_art.loc[(dfj_art['Q6'] == 1) & (dfj_art['Q25j'] == 3)]\n",
        "data2_bored = art2_bored.drop('Q6', axis = 1)\n",
        "Data2_bored = data2_bored.value_counts()\n",
        "art_data2_bored = Data2_bored.tolist()\n",
        "\n",
        "art3_bored = dfj_art.loc[(dfj_art['Q6'] == 1) & (dfj_art['Q25j'] == 4)]\n",
        "data3_bored = art3_bored.drop('Q6', axis = 1)\n",
        "Data3_bored = data3_bored.value_counts()\n",
        "art_data3_bored = Data3_bored.tolist()\n",
        "\n",
        "art4_bored = dfj_art.loc[(dfj_art['Q6'] == 1) & (dfj_art['Q25j'] == 5)]\n",
        "data4_bored = art4_bored.drop('Q6', axis = 1)\n",
        "Data4_bored = data4_bored.value_counts()\n",
        "art_data4_bored = Data4_bored.tolist()\n",
        "\n"
      ],
      "metadata": {
        "id": "FHbQZW3rLEhd",
        "colab": {
          "base_uri": "https://localhost:8080/"
        },
        "outputId": "ab772440-73bb-4345-9116-078ba780a9f3"
      },
      "execution_count": 356,
      "outputs": [
        {
          "output_type": "stream",
          "name": "stdout",
          "text": [
            "<class 'pandas.core.frame.DataFrame'>\n",
            "RangeIndex: 1600 entries, 0 to 1599\n",
            "Data columns (total 2 columns):\n",
            " #   Column  Non-Null Count  Dtype  \n",
            "---  ------  --------------  -----  \n",
            " 0   Q6      1600 non-null   float64\n",
            " 1   Q25j    1600 non-null   float64\n",
            "dtypes: float64(2)\n",
            "memory usage: 25.1 KB\n"
          ]
        }
      ]
    },
    {
      "cell_type": "markdown",
      "source": [
        "Field Study: Social"
      ],
      "metadata": {
        "id": "R4WzTY2GsSl3"
      }
    },
    {
      "cell_type": "markdown",
      "source": [
        "Emotion: Joyful"
      ],
      "metadata": {
        "id": "FFjb7ZqBTFxX"
      }
    },
    {
      "cell_type": "code",
      "source": [
        "first = final_dts[[\"Q6\", \"Q25a\"]]\n",
        "dfa_social = pd.DataFrame(first)\n",
        "dfa_social.info()\n",
        "\n",
        "\n",
        "social_joyful = dfa_social.loc[(dfa_social['Q6'] == 2) & (dfa_social['Q25a'] == 1)]\n",
        "data_joyful_social = social_joyful.drop('Q6', axis = 1)\n",
        "Data_joyful = data_joyful_social.value_counts()\n",
        "social_data_joyful = Data_joyful.tolist()\n",
        "\n",
        "social1_joyful = dfa_social.loc[(dfa_social['Q6'] == 2) & (dfa_social['Q25a'] == 2)]\n",
        "data1_joyful_social = social1_joyful.drop('Q6', axis = 1)\n",
        "Data1_joyful = data1_joyful_social.value_counts()\n",
        "social_data1_joyful = Data1_joyful.tolist()\n",
        "\n",
        "social2_joyful = dfa_social.loc[(dfa_social['Q6'] == 2) & (dfa_social['Q25a'] == 3)]\n",
        "data2_joyful_social = social2_joyful.drop('Q6', axis = 1)\n",
        "Data2_joyful = data2_joyful_social.value_counts()\n",
        "social_data2_joyful = Data2_joyful.tolist()\n",
        "\n",
        "social3_joyful = dfa_social.loc[(dfa_social['Q6'] == 2) & (dfa_social['Q25a'] == 4)]\n",
        "data3_joyful_social = social3_joyful.drop('Q6', axis = 1)\n",
        "Data3_joyful = data3_joyful_social.value_counts()\n",
        "social_data3_joyful = Data3_joyful.tolist()\n",
        "\n",
        "social4_joyful = dfa_social.loc[(dfa_social['Q6'] == 2) & (dfa_social['Q25a'] == 5)]\n",
        "data4_joyful_social = social4_joyful.drop('Q6', axis = 1)\n",
        "Data4_joyful = data4_joyful_social.value_counts()\n",
        "social_data4_joyful = Data4_joyful.tolist()\n",
        "\n"
      ],
      "metadata": {
        "colab": {
          "base_uri": "https://localhost:8080/"
        },
        "id": "1-bPLSXNshkp",
        "outputId": "8f21f8d3-ba27-4b74-8e72-318da3cfd1f1"
      },
      "execution_count": 357,
      "outputs": [
        {
          "output_type": "stream",
          "name": "stdout",
          "text": [
            "<class 'pandas.core.frame.DataFrame'>\n",
            "RangeIndex: 1600 entries, 0 to 1599\n",
            "Data columns (total 2 columns):\n",
            " #   Column  Non-Null Count  Dtype  \n",
            "---  ------  --------------  -----  \n",
            " 0   Q6      1600 non-null   float64\n",
            " 1   Q25a    1600 non-null   float64\n",
            "dtypes: float64(2)\n",
            "memory usage: 25.1 KB\n"
          ]
        }
      ]
    },
    {
      "cell_type": "markdown",
      "source": [
        "Emotion: Hopeful"
      ],
      "metadata": {
        "id": "pE84h_fqTPVw"
      }
    },
    {
      "cell_type": "code",
      "source": [
        "second = final_dts[[\"Q6\", \"Q25b\"]]\n",
        "dfb_social = pd.DataFrame(second)\n",
        "dfb_social.info()\n",
        "\n",
        "social_hopeful = dfb_social.loc[(dfb_social['Q6'] == 2) & (dfb_social['Q25b'] == 1)]\n",
        "data_hopeful = social_hopeful.drop('Q6', axis = 1)\n",
        "Data_hopeful = data_hopeful.value_counts()\n",
        "social_data_hopeful = Data_hopeful.tolist()\n",
        "\n",
        "social1_hopeful = dfb_social.loc[(dfb_social['Q6'] == 2) & (dfb_social['Q25b'] == 2)]\n",
        "data1_hopeful = social1_hopeful.drop('Q6', axis = 1)\n",
        "Data1_hopeful = data1_hopeful.value_counts()\n",
        "social_data1_hopeful = Data1_hopeful.tolist()\n",
        "\n",
        "social2_hopeful = dfb_social.loc[(dfb_social['Q6'] == 2) & (dfb_social['Q25b'] == 3)]\n",
        "data2_hopeful = social2_hopeful.drop('Q6', axis = 1)\n",
        "Data2_hopeful = data2_hopeful.value_counts()\n",
        "social_data2_hopeful = Data2_hopeful.tolist()\n",
        "\n",
        "social3_hopeful = dfb_social.loc[(dfb_social['Q6'] == 2) & (dfb_social['Q25b'] == 4)]\n",
        "data3_hopeful = social3_hopeful.drop('Q6', axis = 1)\n",
        "Data3_hopeful = data3_hopeful.value_counts()\n",
        "social_data3_hopeful = Data3_hopeful.tolist()\n",
        "\n",
        "social4_hopeful = dfb_social.loc[(dfb_social['Q6'] == 2) & (dfb_social['Q25b'] == 5)]\n",
        "data4_hopeful = social4_hopeful.drop('Q6', axis = 1)\n",
        "Data4_hopeful = data4_hopeful.value_counts()\n",
        "social_data4_hopeful = Data4_hopeful.tolist()\n",
        "\n"
      ],
      "metadata": {
        "colab": {
          "base_uri": "https://localhost:8080/"
        },
        "id": "lqfKyiM2snfH",
        "outputId": "d099c67f-835a-405d-eecf-41e1b599ba0c"
      },
      "execution_count": 358,
      "outputs": [
        {
          "output_type": "stream",
          "name": "stdout",
          "text": [
            "<class 'pandas.core.frame.DataFrame'>\n",
            "RangeIndex: 1600 entries, 0 to 1599\n",
            "Data columns (total 2 columns):\n",
            " #   Column  Non-Null Count  Dtype  \n",
            "---  ------  --------------  -----  \n",
            " 0   Q6      1600 non-null   float64\n",
            " 1   Q25b    1600 non-null   float64\n",
            "dtypes: float64(2)\n",
            "memory usage: 25.1 KB\n"
          ]
        }
      ]
    },
    {
      "cell_type": "markdown",
      "source": [
        "Emotion: Proud"
      ],
      "metadata": {
        "id": "WnF1W9hSTc-5"
      }
    },
    {
      "cell_type": "code",
      "source": [
        "third = final_dts[[\"Q6\", \"Q25c\"]]\n",
        "dfc_social = pd.DataFrame(third)\n",
        "dfc_social.info()\n",
        "\n",
        "social_proud = dfc_social.loc[(dfc_social['Q6'] == 2) & (dfc_social['Q25c'] == 1)]\n",
        "data_proud = social_proud.drop('Q6', axis = 1)\n",
        "Data_proud = data_proud.value_counts()\n",
        "social_data_proud = Data_proud.tolist()\n",
        "\n",
        "social1_proud = dfc_social.loc[(dfc_social['Q6'] == 2) & (dfc_social['Q25c'] == 2)]\n",
        "data1_proud = social1_proud.drop('Q6', axis = 1)\n",
        "Data1_proud = data1_proud.value_counts()\n",
        "social_data1_proud = Data1_proud.tolist()\n",
        "\n",
        "social2_proud = dfc_social.loc[(dfc_social['Q6'] == 2) & (dfc_social['Q25c'] == 3)]\n",
        "data2_proud = social2_proud.drop('Q6', axis = 1)\n",
        "Data2_proud = data2_proud.value_counts()\n",
        "social_data2_proud = Data2_proud.tolist()\n",
        "\n",
        "social3_proud = dfc_social.loc[(dfc_social['Q6'] == 2) & (dfc_social['Q25c'] == 4)]\n",
        "data3_proud = social3_proud.drop('Q6', axis = 1)\n",
        "Data3_proud = data3_proud.value_counts()\n",
        "social_data3_proud = Data3_proud.tolist()\n",
        "\n",
        "social4_proud = dfc_social.loc[(dfc_social['Q6'] == 2) & (dfc_social['Q25c'] == 5)]\n",
        "data4_proud = social4_proud.drop('Q6', axis = 1)\n",
        "Data4_proud = data4_proud.value_counts()\n",
        "social_data4_proud = Data4_proud.tolist()\n",
        "\n"
      ],
      "metadata": {
        "colab": {
          "base_uri": "https://localhost:8080/"
        },
        "id": "7M1W95LAsqp3",
        "outputId": "a798d323-b775-4cf6-c29a-d26867406abc"
      },
      "execution_count": 359,
      "outputs": [
        {
          "output_type": "stream",
          "name": "stdout",
          "text": [
            "<class 'pandas.core.frame.DataFrame'>\n",
            "RangeIndex: 1600 entries, 0 to 1599\n",
            "Data columns (total 2 columns):\n",
            " #   Column  Non-Null Count  Dtype  \n",
            "---  ------  --------------  -----  \n",
            " 0   Q6      1600 non-null   float64\n",
            " 1   Q25c    1600 non-null   float64\n",
            "dtypes: float64(2)\n",
            "memory usage: 25.1 KB\n"
          ]
        }
      ]
    },
    {
      "cell_type": "markdown",
      "source": [
        "Emotion: Frustrated"
      ],
      "metadata": {
        "id": "_lBm7PgbTgzQ"
      }
    },
    {
      "cell_type": "code",
      "source": [
        "fourth = final_dts[[\"Q6\", \"Q25d\"]]\n",
        "dfd_social = pd.DataFrame(fourth)\n",
        "dfd_social.info()\n",
        "\n",
        "social_frustrated = dfd_social.loc[(dfd_social['Q6'] == 2) & (dfd_social['Q25d'] == 1)]\n",
        "data_frustrated = social_frustrated.drop('Q6', axis = 1)\n",
        "Data_frustrated = data_frustrated.value_counts()\n",
        "social_data_frustrated = Data_frustrated.tolist()\n",
        "\n",
        "social1_frustrated = dfd_social.loc[(dfd_social['Q6'] == 2) & (dfd_social['Q25d'] == 2)]\n",
        "data1_frustrated = social1_frustrated.drop('Q6', axis = 1)\n",
        "Data1_frustrated = data1_frustrated.value_counts()\n",
        "social_data1_frustrated = Data1_frustrated.tolist()\n",
        "\n",
        "social2_frustrated = dfd_social.loc[(dfd_social['Q6'] == 2) & (dfd_social['Q25d'] == 3)]\n",
        "data2_frustrated = social2_frustrated.drop('Q6', axis = 1)\n",
        "Data2_frustrated = data2_frustrated.value_counts()\n",
        "social_data2_frustrated = Data2_frustrated.tolist()\n",
        "\n",
        "social3_frustrated = dfd_social.loc[(dfd_social['Q6'] == 2) & (dfd_social['Q25d'] == 4)]\n",
        "data3_frustrated = social3_frustrated.drop('Q6', axis = 1)\n",
        "Data3_frustrated = data3_frustrated.value_counts()\n",
        "social_data3_frustrated = Data3_frustrated.tolist()\n",
        "\n",
        "social4_frustrated = dfd_social.loc[(dfd_social['Q6'] == 2) & (dfd_social['Q25d'] == 5)]\n",
        "data4_frustrated = social4_frustrated.drop('Q6', axis = 1)\n",
        "Data4_frustrated = data4_frustrated.value_counts()\n",
        "social_data4_frustrated = Data4_frustrated.tolist()\n",
        "\n"
      ],
      "metadata": {
        "colab": {
          "base_uri": "https://localhost:8080/"
        },
        "id": "eInDHqvmsuGF",
        "outputId": "179b69a5-a792-40e5-9382-678cd7442fed"
      },
      "execution_count": 360,
      "outputs": [
        {
          "output_type": "stream",
          "name": "stdout",
          "text": [
            "<class 'pandas.core.frame.DataFrame'>\n",
            "RangeIndex: 1600 entries, 0 to 1599\n",
            "Data columns (total 2 columns):\n",
            " #   Column  Non-Null Count  Dtype  \n",
            "---  ------  --------------  -----  \n",
            " 0   Q6      1600 non-null   float64\n",
            " 1   Q25d    1600 non-null   float64\n",
            "dtypes: float64(2)\n",
            "memory usage: 25.1 KB\n"
          ]
        }
      ]
    },
    {
      "cell_type": "markdown",
      "source": [
        "Emotion: Angry"
      ],
      "metadata": {
        "id": "cRys8fv7Tlrw"
      }
    },
    {
      "cell_type": "code",
      "source": [
        "fifth = final_dts[[\"Q6\", \"Q25e\"]]\n",
        "dfe_social = pd.DataFrame(fifth)\n",
        "dfe_social.info()\n",
        "\n",
        "social_angry = dfe_social.loc[(dfe_social['Q6'] == 2) & (dfe_social['Q25e'] == 1)]\n",
        "data_angry = social_angry.drop('Q6', axis = 1)\n",
        "Data_angry = data_angry.value_counts()\n",
        "social_data_angry = Data_angry.tolist()\n",
        "\n",
        "social1_angry = dfe_social.loc[(dfe_social['Q6'] == 2) & (dfe_social['Q25e'] == 2)]\n",
        "data1_angry = social1_angry.drop('Q6', axis = 1)\n",
        "Data1_angry = data1_angry.value_counts()\n",
        "social_data1_angry = Data1_angry.tolist()\n",
        "\n",
        "social2_angry = dfe_social.loc[(dfe_social['Q6'] == 2) & (dfe_social['Q25e'] == 3)]\n",
        "data2_angry = social2_angry.drop('Q6', axis = 1)\n",
        "Data2_angry = data2_angry.value_counts()\n",
        "social_data2_angry = Data2_angry.tolist()\n",
        "\n",
        "social3_angry = dfe_social.loc[(dfe_social['Q6'] == 2) & (dfe_social['Q25e'] == 4)]\n",
        "data3_angry = social3_angry.drop('Q6', axis = 1)\n",
        "Data3_angry = data3_angry.value_counts()\n",
        "social_data3_angry = Data3_angry.tolist()\n",
        "\n",
        "social4_angry = dfe_social.loc[(dfe_social['Q6'] == 2) & (dfe_social['Q25e'] == 5)]\n",
        "data4_angry = social4_angry.drop('Q6', axis = 1)\n",
        "Data4_angry = data4_angry.value_counts()\n",
        "social_data4_angry = Data4_angry.tolist()\n",
        "\n"
      ],
      "metadata": {
        "colab": {
          "base_uri": "https://localhost:8080/"
        },
        "id": "IFUDsAIjsx1W",
        "outputId": "a0b0ea7c-8577-4ceb-823b-1601561fd04f"
      },
      "execution_count": 361,
      "outputs": [
        {
          "output_type": "stream",
          "name": "stdout",
          "text": [
            "<class 'pandas.core.frame.DataFrame'>\n",
            "RangeIndex: 1600 entries, 0 to 1599\n",
            "Data columns (total 2 columns):\n",
            " #   Column  Non-Null Count  Dtype  \n",
            "---  ------  --------------  -----  \n",
            " 0   Q6      1600 non-null   float64\n",
            " 1   Q25e    1600 non-null   float64\n",
            "dtypes: float64(2)\n",
            "memory usage: 25.1 KB\n"
          ]
        }
      ]
    },
    {
      "cell_type": "markdown",
      "source": [
        "Emotion: Anxious"
      ],
      "metadata": {
        "id": "KuEtz67VTpfo"
      }
    },
    {
      "cell_type": "code",
      "source": [
        "sixth = final_dts[[\"Q6\", \"Q25f\"]]\n",
        "dff_social = pd.DataFrame(sixth)\n",
        "dff_social.info()\n",
        "\n",
        "social_anxious = dff_social.loc[(dff_social['Q6'] == 2) & (dff_social['Q25f'] == 1)]\n",
        "data_anxious = social_anxious.drop('Q6', axis = 1)\n",
        "Data_anxious = data_anxious.value_counts()\n",
        "social_data_anxious = Data_anxious.tolist()\n",
        "\n",
        "social1_anxious = dff_social.loc[(dff_social['Q6'] == 2) & (dff_social['Q25f'] == 2)]\n",
        "data1_anxious = social1_anxious.drop('Q6', axis = 1)\n",
        "Data1_anxious = data1_anxious.value_counts()\n",
        "social_data1_anxious = Data1_anxious.tolist()\n",
        "\n",
        "social2_anxious = dff_social.loc[(dff_social['Q6'] == 2) & (dff_social['Q25f'] == 3)]\n",
        "data2_anxious = social2_anxious.drop('Q6', axis = 1)\n",
        "Data2_anxious = data2_anxious.value_counts()\n",
        "social_data2_anxious = Data2_anxious.tolist()\n",
        "\n",
        "social3_anxious = dff_social.loc[(dff_social['Q6'] == 2) & (dff_social['Q25f'] == 4)]\n",
        "data3_anxious = social3_anxious.drop('Q6', axis = 1)\n",
        "Data3_anxious = data3_anxious.value_counts()\n",
        "social_data3_anxious = Data3_anxious.tolist()\n",
        "\n",
        "social4_anxious = dff_social.loc[(dff_social['Q6'] == 2) & (dff_social['Q25f'] == 5)]\n",
        "data4_anxious = social4_anxious.drop('Q6', axis = 1)\n",
        "Data4_anxious = data4_anxious.value_counts()\n",
        "social_data4_anxious = Data4_anxious.tolist()\n",
        "\n"
      ],
      "metadata": {
        "colab": {
          "base_uri": "https://localhost:8080/"
        },
        "id": "QemGpfAds1RG",
        "outputId": "7391c13f-cceb-47cb-bebe-ddb4b08af9d4"
      },
      "execution_count": 362,
      "outputs": [
        {
          "output_type": "stream",
          "name": "stdout",
          "text": [
            "<class 'pandas.core.frame.DataFrame'>\n",
            "RangeIndex: 1600 entries, 0 to 1599\n",
            "Data columns (total 2 columns):\n",
            " #   Column  Non-Null Count  Dtype  \n",
            "---  ------  --------------  -----  \n",
            " 0   Q6      1600 non-null   float64\n",
            " 1   Q25f    1600 non-null   float64\n",
            "dtypes: float64(2)\n",
            "memory usage: 25.1 KB\n"
          ]
        }
      ]
    },
    {
      "cell_type": "markdown",
      "source": [
        "Emotion: Ashamed"
      ],
      "metadata": {
        "id": "9qjD6ZoxTs9A"
      }
    },
    {
      "cell_type": "code",
      "source": [
        "seventh = final_dts[[\"Q6\", \"Q25g\"]]\n",
        "dfg_social = pd.DataFrame(seventh)\n",
        "dfg_social.info()\n",
        "\n",
        "social_ashamed = dfg_social.loc[(dfg_social['Q6'] == 2) & (dfg_social['Q25g'] == 1)]\n",
        "data_ashamed = social_ashamed.drop('Q6', axis = 1)\n",
        "Data_ashamed = data_ashamed.value_counts()\n",
        "social_data_ashamed = Data_ashamed.tolist()\n",
        "\n",
        "social1_ashamed = dfg_social.loc[(dfg_social['Q6'] == 2) & (dfg_social['Q25g'] == 2)]\n",
        "data1_ashamed = social1_ashamed.drop('Q6', axis = 1)\n",
        "Data1_ashamed = data1_ashamed.value_counts()\n",
        "social_data1_ashamed = Data1_ashamed.tolist()\n",
        "\n",
        "social2_ashamed = dfg_social.loc[(dfg_social['Q6'] == 2) & (dfg_social['Q25g'] == 3)]\n",
        "data2_ashamed = social2_ashamed.drop('Q6', axis = 1)\n",
        "Data2_ashamed = data2_ashamed.value_counts()\n",
        "social_data2_ashamed = Data2_ashamed.tolist()\n",
        "\n",
        "social3_ashamed = dfg_social.loc[(dfg_social['Q6'] == 2) & (dfg_social['Q25g'] == 4)]\n",
        "data3_ashamed = social3_ashamed.drop('Q6', axis = 1)\n",
        "Data3_ashamed = data3_ashamed.value_counts()\n",
        "social_data3_ashamed = Data3_ashamed.tolist()\n",
        "\n",
        "social4_ashamed = dfg_social.loc[(dfg_social['Q6'] == 2) & (dfg_social['Q25g'] == 5)]\n",
        "data4_ashamed = social4_ashamed.drop('Q6', axis = 1)\n",
        "Data4_ashamed = data4_ashamed.value_counts()\n",
        "social_data4_ashamed = Data4_ashamed.tolist()\n",
        "\n"
      ],
      "metadata": {
        "colab": {
          "base_uri": "https://localhost:8080/"
        },
        "id": "hh3I5pfas4W_",
        "outputId": "c4aacd9b-82c9-4e2f-ba92-32709ff8cc95"
      },
      "execution_count": 363,
      "outputs": [
        {
          "output_type": "stream",
          "name": "stdout",
          "text": [
            "<class 'pandas.core.frame.DataFrame'>\n",
            "RangeIndex: 1600 entries, 0 to 1599\n",
            "Data columns (total 2 columns):\n",
            " #   Column  Non-Null Count  Dtype  \n",
            "---  ------  --------------  -----  \n",
            " 0   Q6      1600 non-null   float64\n",
            " 1   Q25g    1600 non-null   float64\n",
            "dtypes: float64(2)\n",
            "memory usage: 25.1 KB\n"
          ]
        }
      ]
    },
    {
      "cell_type": "markdown",
      "source": [
        "Emotion: Relieved"
      ],
      "metadata": {
        "id": "cyed7O4jTwso"
      }
    },
    {
      "cell_type": "code",
      "source": [
        "eighth = final_dts[[\"Q6\", \"Q25h\"]]\n",
        "dfh_social = pd.DataFrame(eighth)\n",
        "dfh_social.info()\n",
        "\n",
        "social_relieved = dfh_social.loc[(dfh_social['Q6'] == 2) & (dfh_social['Q25h'] == 1)]\n",
        "data_relieved = social_relieved.drop('Q6', axis = 1)\n",
        "Data_relieved = data_relieved.value_counts()\n",
        "social_data_relieved = Data_relieved.tolist()\n",
        "\n",
        "social1_relieved = dfh_social.loc[(dfh_social['Q6'] == 2) & (dfh_social['Q25h'] == 2)]\n",
        "data1_relieved = social1_relieved.drop('Q6', axis = 1)\n",
        "Data1_relieved = data1_relieved.value_counts()\n",
        "social_data1_relieved = Data1_relieved.tolist()\n",
        "\n",
        "social2_relieved = dfh_social.loc[(dfh_social['Q6'] == 2) & (dfh_social['Q25h'] == 3)]\n",
        "data2_relieved = social2_relieved.drop('Q6', axis = 1)\n",
        "Data2_relieved = data2_relieved.value_counts()\n",
        "social_data2_relieved = Data2_relieved.tolist()\n",
        "\n",
        "social3_relieved = dfh_social.loc[(dfh_social['Q6'] == 2) & (dfh_social['Q25h'] == 4)]\n",
        "data3_relieved = social3_relieved.drop('Q6', axis = 1)\n",
        "Data3_relieved = data3_relieved.value_counts()\n",
        "social_data3_relieved = Data3_relieved.tolist()\n",
        "\n",
        "social4_relieved = dfh_social.loc[(dfh_social['Q6'] == 2) & (dfh_social['Q25h'] == 5)]\n",
        "data4_relieved = social4_relieved.drop('Q6', axis = 1)\n",
        "Data4_relieved = data4_relieved.value_counts()\n",
        "social_data4_relieved = Data4_relieved.tolist()\n",
        "\n"
      ],
      "metadata": {
        "colab": {
          "base_uri": "https://localhost:8080/"
        },
        "id": "5U4zafk3s6T_",
        "outputId": "57987ae0-2a1c-489d-d9cd-5af7ba217ca2"
      },
      "execution_count": 364,
      "outputs": [
        {
          "output_type": "stream",
          "name": "stdout",
          "text": [
            "<class 'pandas.core.frame.DataFrame'>\n",
            "RangeIndex: 1600 entries, 0 to 1599\n",
            "Data columns (total 2 columns):\n",
            " #   Column  Non-Null Count  Dtype  \n",
            "---  ------  --------------  -----  \n",
            " 0   Q6      1600 non-null   float64\n",
            " 1   Q25h    1600 non-null   float64\n",
            "dtypes: float64(2)\n",
            "memory usage: 25.1 KB\n"
          ]
        }
      ]
    },
    {
      "cell_type": "markdown",
      "source": [
        "Emotion: Hopeless"
      ],
      "metadata": {
        "id": "j18jaMneT02g"
      }
    },
    {
      "cell_type": "code",
      "source": [
        "ninth = final_dts[[\"Q6\", \"Q25i\"]]\n",
        "dfi_social = pd.DataFrame(ninth)\n",
        "dfi_social.info()\n",
        "\n",
        "social_hopeless = dfi_social.loc[(dfi_social['Q6'] == 2) & (dfi_social['Q25i'] == 1)]\n",
        "data_hopeless = social_hopeless.drop('Q6', axis = 1)\n",
        "Data_hopeless = data_hopeless.value_counts()\n",
        "social_data_hopeless = Data_hopeless.tolist()\n",
        "\n",
        "social1_hopeless = dfi_social.loc[(dfi_social['Q6'] == 2) & (dfi_social['Q25i'] == 2)]\n",
        "data1_hopeless = social1_hopeless.drop('Q6', axis = 1)\n",
        "Data1_hopeless = data1_hopeless.value_counts()\n",
        "social_data1_hopeless = Data1_hopeless.tolist()\n",
        "\n",
        "social2_hopeless = dfi_social.loc[(dfi_social['Q6'] == 2) & (dfi_social['Q25i'] == 3)]\n",
        "data2_hopeless = social2_hopeless.drop('Q6', axis = 1)\n",
        "Data2_hopeless = data2_hopeless.value_counts()\n",
        "social_data2_hopeless = Data2_hopeless.tolist()\n",
        "\n",
        "social3_hopeless = dfi_social.loc[(dfi_social['Q6'] == 2) & (dfi_social['Q25i'] == 4)]\n",
        "data3_hopeless = social3_hopeless.drop('Q6', axis = 1)\n",
        "Data3_hopeless = data3_hopeless.value_counts()\n",
        "social_data3_hopeless = Data3_hopeless.tolist()\n",
        "\n",
        "social4_hopeless = dfi_social.loc[(dfi_social['Q6'] == 2) & (dfi_social['Q25i'] == 5)]\n",
        "data4_hopeless = social4_hopeless.drop('Q6', axis = 1)\n",
        "Data4_hopeless = data4_hopeless.value_counts()\n",
        "social_data4_hopeless = Data4_hopeless.tolist()\n"
      ],
      "metadata": {
        "colab": {
          "base_uri": "https://localhost:8080/"
        },
        "id": "icAWgEKYs8dG",
        "outputId": "0313c7ed-bf1a-47b3-d758-4ef0c62c16f3"
      },
      "execution_count": 365,
      "outputs": [
        {
          "output_type": "stream",
          "name": "stdout",
          "text": [
            "<class 'pandas.core.frame.DataFrame'>\n",
            "RangeIndex: 1600 entries, 0 to 1599\n",
            "Data columns (total 2 columns):\n",
            " #   Column  Non-Null Count  Dtype  \n",
            "---  ------  --------------  -----  \n",
            " 0   Q6      1600 non-null   float64\n",
            " 1   Q25i    1600 non-null   float64\n",
            "dtypes: float64(2)\n",
            "memory usage: 25.1 KB\n"
          ]
        }
      ]
    },
    {
      "cell_type": "markdown",
      "source": [
        "Emotion: Bored"
      ],
      "metadata": {
        "id": "ybRR3VzWT4Ww"
      }
    },
    {
      "cell_type": "code",
      "source": [
        "tenth = final_dts[[\"Q6\", \"Q25j\"]]\n",
        "dfj_social = pd.DataFrame(tenth)\n",
        "dfj_social.info()\n",
        "\n",
        "social_bored = dfj_social.loc[(dfj_social['Q6'] == 2) & (dfj_social['Q25j'] == 1)]\n",
        "data_bored = social_bored.drop('Q6', axis = 1)\n",
        "Data_bored = data_bored.value_counts()\n",
        "social_data_bored = Data_bored.tolist()\n",
        "\n",
        "social1_bored = dfj_social.loc[(dfj_social['Q6'] == 2) & (dfj_social['Q25j'] == 2)]\n",
        "data1_bored = social1_bored.drop('Q6', axis = 1)\n",
        "Data1_bored = data1_bored.value_counts()\n",
        "social_data1_bored = Data1_bored.tolist()\n",
        "\n",
        "social2_bored = dfj_social.loc[(dfj_social['Q6'] == 2) & (dfj_social['Q25j'] == 3)]\n",
        "data2_bored = social2_bored.drop('Q6', axis = 1)\n",
        "Data2_bored = data2_bored.value_counts()\n",
        "social_data2_bored = Data2_bored.tolist()\n",
        "\n",
        "social3_bored = dfj_social.loc[(dfj_social['Q6'] == 2) & (dfj_social['Q25j'] == 4)]\n",
        "data3_bored = social3_bored.drop('Q6', axis = 1)\n",
        "Data3_bored = data3_bored.value_counts()\n",
        "social_data3_bored = Data3_bored.tolist()\n",
        "\n",
        "social4_bored = dfj_social.loc[(dfj_social['Q6'] == 2) & (dfj_social['Q25j'] == 5)]\n",
        "data4_bored = social4_bored.drop('Q6', axis = 1)\n",
        "Data4_bored = data4_bored.value_counts()\n",
        "social_data4_bored = Data4_bored.tolist()\n",
        "\n"
      ],
      "metadata": {
        "colab": {
          "base_uri": "https://localhost:8080/"
        },
        "id": "57M-yBS9s-m2",
        "outputId": "5acd4324-cb3f-443a-b8ed-9c28634ba47c"
      },
      "execution_count": 366,
      "outputs": [
        {
          "output_type": "stream",
          "name": "stdout",
          "text": [
            "<class 'pandas.core.frame.DataFrame'>\n",
            "RangeIndex: 1600 entries, 0 to 1599\n",
            "Data columns (total 2 columns):\n",
            " #   Column  Non-Null Count  Dtype  \n",
            "---  ------  --------------  -----  \n",
            " 0   Q6      1600 non-null   float64\n",
            " 1   Q25j    1600 non-null   float64\n",
            "dtypes: float64(2)\n",
            "memory usage: 25.1 KB\n"
          ]
        }
      ]
    },
    {
      "cell_type": "markdown",
      "source": [
        "Field Study: Natural and Life Sciences"
      ],
      "metadata": {
        "id": "oj-DdJpL_ofB"
      }
    },
    {
      "cell_type": "markdown",
      "source": [
        "Emotion: Joyful"
      ],
      "metadata": {
        "id": "o9Cqbx8yUB3Y"
      }
    },
    {
      "cell_type": "code",
      "source": [
        "first = final_dts[[\"Q6\", \"Q25a\"]]\n",
        "dfa_natural = pd.DataFrame(first)\n",
        "dfa_natural.info()\n",
        "\n",
        "natural_joyful = dfa_natural.loc[(dfa_natural['Q6'] == 3) & (dfa_natural['Q25a'] == 1)]\n",
        "data_joyful_natural = natural_joyful.drop('Q6', axis = 1)\n",
        "Data_joyful = data_joyful_natural.value_counts()\n",
        "natural_data_joyful = Data_joyful.tolist()\n",
        "\n",
        "natural1_joyful = dfa_natural.loc[(dfa_natural['Q6'] == 3) & (dfa_natural['Q25a'] == 2)]\n",
        "data1_joyful_natural = natural1_joyful.drop('Q6', axis = 1)\n",
        "Data1_joyful = data1_joyful_natural.value_counts()\n",
        "natural_data1_joyful = Data1_joyful.tolist()\n",
        "\n",
        "natural2_joyful = dfa_natural.loc[(dfa_natural['Q6'] == 3) & (dfa_natural['Q25a'] == 3)]\n",
        "data2_joyful_natural = natural2_joyful.drop('Q6', axis = 1)\n",
        "Data2_joyful = data2_joyful_natural.value_counts()\n",
        "natural_data2_joyful = Data2_joyful.tolist()\n",
        "\n",
        "natural3_joyful = dfa_natural.loc[(dfa_natural['Q6'] == 3) & (dfa_natural['Q25a'] == 4)]\n",
        "data3_joyful_natural = natural3_joyful.drop('Q6', axis = 1)\n",
        "Data3_joyful = data3_joyful_natural.value_counts()\n",
        "natural_data3_joyful = Data3_joyful.tolist()\n",
        "\n",
        "natural4_joyful = dfa_natural.loc[(dfa_natural['Q6'] == 3) & (dfa_natural['Q25a'] == 5)]\n",
        "data4_joyful_natural = natural4_joyful.drop('Q6', axis = 1)\n",
        "Data4_joyful = data4_joyful_natural.value_counts()\n",
        "natural_data4_joyful = Data4_joyful.tolist()"
      ],
      "metadata": {
        "id": "63BEVlZ6_7oJ",
        "colab": {
          "base_uri": "https://localhost:8080/"
        },
        "outputId": "c0ff348b-ca37-4a93-988e-4926b9f686b8"
      },
      "execution_count": 367,
      "outputs": [
        {
          "output_type": "stream",
          "name": "stdout",
          "text": [
            "<class 'pandas.core.frame.DataFrame'>\n",
            "RangeIndex: 1600 entries, 0 to 1599\n",
            "Data columns (total 2 columns):\n",
            " #   Column  Non-Null Count  Dtype  \n",
            "---  ------  --------------  -----  \n",
            " 0   Q6      1600 non-null   float64\n",
            " 1   Q25a    1600 non-null   float64\n",
            "dtypes: float64(2)\n",
            "memory usage: 25.1 KB\n"
          ]
        }
      ]
    },
    {
      "cell_type": "markdown",
      "source": [
        "Emotion: Hopeful"
      ],
      "metadata": {
        "id": "ZW_gwnLLUIcP"
      }
    },
    {
      "cell_type": "code",
      "source": [
        "second = final_dts[[\"Q6\", \"Q25b\"]]\n",
        "dfb_natural = pd.DataFrame(second)\n",
        "dfb_natural.info()\n",
        "\n",
        "natural_hopeful = dfb_natural.loc[(dfb_natural['Q6'] == 3) & (dfb_natural['Q25b'] == 1)]\n",
        "data_hopeful = natural_hopeful.drop('Q6', axis = 1)\n",
        "Data_hopeful = data_hopeful.value_counts()\n",
        "natural_data_hopeful = Data_hopeful.tolist()\n",
        "\n",
        "natural1_hopeful = dfb_natural.loc[(dfb_natural['Q6'] == 3) & (dfb_natural['Q25b'] == 2)]\n",
        "data1_hopeful = natural1_hopeful.drop('Q6', axis = 1)\n",
        "Data1_hopeful = data1_hopeful.value_counts()\n",
        "natural_data1_hopeful = Data1_hopeful.tolist()\n",
        "\n",
        "natural2_hopeful = dfb_natural.loc[(dfb_natural['Q6'] == 3) & (dfb_natural['Q25b'] == 3)]\n",
        "data2_hopeful = natural2_hopeful.drop('Q6', axis = 1)\n",
        "Data2_hopeful = data2_hopeful.value_counts()\n",
        "natural_data2_hopeful = Data2_hopeful.tolist()\n",
        "\n",
        "natural3_hopeful = dfb_natural.loc[(dfb_natural['Q6'] == 3) & (dfb_natural['Q25b'] == 4)]\n",
        "data3_hopeful = natural3_hopeful.drop('Q6', axis = 1)\n",
        "Data3_hopeful = data3_hopeful.value_counts()\n",
        "natural_data3_hopeful = Data3_hopeful.tolist()\n",
        "\n",
        "natural4_hopeful = dfb_natural.loc[(dfb_natural['Q6'] == 3) & (dfb_natural['Q25b'] == 5)]\n",
        "data4_hopeful = natural4_hopeful.drop('Q6', axis = 1)\n",
        "Data4_hopeful = data4_hopeful.value_counts()\n",
        "natural_data4_hopeful = Data4_hopeful.tolist()\n",
        "\n"
      ],
      "metadata": {
        "id": "BV1yyWplAFtx",
        "colab": {
          "base_uri": "https://localhost:8080/"
        },
        "outputId": "d39d0cf4-e98e-4710-f01d-ce6a94e2f823"
      },
      "execution_count": 368,
      "outputs": [
        {
          "output_type": "stream",
          "name": "stdout",
          "text": [
            "<class 'pandas.core.frame.DataFrame'>\n",
            "RangeIndex: 1600 entries, 0 to 1599\n",
            "Data columns (total 2 columns):\n",
            " #   Column  Non-Null Count  Dtype  \n",
            "---  ------  --------------  -----  \n",
            " 0   Q6      1600 non-null   float64\n",
            " 1   Q25b    1600 non-null   float64\n",
            "dtypes: float64(2)\n",
            "memory usage: 25.1 KB\n"
          ]
        }
      ]
    },
    {
      "cell_type": "markdown",
      "source": [
        "Emotion: Proud"
      ],
      "metadata": {
        "id": "zgyNLON-ULe_"
      }
    },
    {
      "cell_type": "code",
      "source": [
        "third = final_dts[[\"Q6\", \"Q25c\"]]\n",
        "dfc_natural = pd.DataFrame(third)\n",
        "dfc_natural.info()\n",
        "\n",
        "natural_proud = dfc_natural.loc[(dfc_natural['Q6'] == 3) & (dfc_natural['Q25c'] == 1)]\n",
        "data_proud = natural_proud.drop('Q6', axis = 1)\n",
        "Data_proud = data_proud.value_counts()\n",
        "natural_data_proud = Data_proud.tolist()\n",
        "\n",
        "natural1_proud = dfc_natural.loc[(dfc_natural['Q6'] == 3) & (dfc_natural['Q25c'] == 2)]\n",
        "data1_proud = natural1_proud.drop('Q6', axis = 1)\n",
        "Data1_proud = data1_proud.value_counts()\n",
        "natural_data1_proud = Data1_proud.tolist()\n",
        "\n",
        "natural2_proud = dfc_natural.loc[(dfc_natural['Q6'] == 3) & (dfc_natural['Q25c'] == 3)]\n",
        "data2_proud = natural2_proud.drop('Q6', axis = 1)\n",
        "Data2_proud = data2_proud.value_counts()\n",
        "natural_data2_proud = Data2_proud.tolist()\n",
        "\n",
        "natural3_proud = dfc_natural.loc[(dfc_natural['Q6'] == 3) & (dfc_natural['Q25c'] == 4)]\n",
        "data3_proud = natural3_proud.drop('Q6', axis = 1)\n",
        "Data3_proud = data3_proud.value_counts()\n",
        "natural_data3_proud = Data3_proud.tolist()\n",
        "\n",
        "natural4_proud = dfc_natural.loc[(dfc_natural['Q6'] == 3) & (dfc_natural['Q25c'] == 5)]\n",
        "data4_proud = natural4_proud.drop('Q6', axis = 1)\n",
        "Data4_proud = data4_proud.value_counts()\n",
        "natural_data4_proud = Data4_proud.tolist()\n",
        "\n"
      ],
      "metadata": {
        "id": "TEF-EHSyAHmA",
        "colab": {
          "base_uri": "https://localhost:8080/"
        },
        "outputId": "e37463c0-7f36-4b82-c6a2-0c0cbccca8d9"
      },
      "execution_count": 369,
      "outputs": [
        {
          "output_type": "stream",
          "name": "stdout",
          "text": [
            "<class 'pandas.core.frame.DataFrame'>\n",
            "RangeIndex: 1600 entries, 0 to 1599\n",
            "Data columns (total 2 columns):\n",
            " #   Column  Non-Null Count  Dtype  \n",
            "---  ------  --------------  -----  \n",
            " 0   Q6      1600 non-null   float64\n",
            " 1   Q25c    1600 non-null   float64\n",
            "dtypes: float64(2)\n",
            "memory usage: 25.1 KB\n"
          ]
        }
      ]
    },
    {
      "cell_type": "markdown",
      "source": [
        "Emotion: Frustrated"
      ],
      "metadata": {
        "id": "jhuQSjttUQNY"
      }
    },
    {
      "cell_type": "code",
      "source": [
        "fourth = final_dts[[\"Q6\", \"Q25d\"]]\n",
        "dfd_natural = pd.DataFrame(fourth)\n",
        "dfd_natural.info()\n",
        "\n",
        "natural_frustrated = dfd_natural.loc[(dfd_natural['Q6'] == 3) & (dfd_natural['Q25d'] == 1)]\n",
        "data_frustrated = natural_frustrated.drop('Q6', axis = 1)\n",
        "Data_frustrated = data_frustrated.value_counts()\n",
        "natural_data_frustrated = Data_frustrated.tolist()\n",
        "\n",
        "natural1_frustrated = dfd_natural.loc[(dfd_natural['Q6'] == 3) & (dfd_natural['Q25d'] == 2)]\n",
        "data1_frustrated = natural1_frustrated.drop('Q6', axis = 1)\n",
        "Data1_frustrated = data1_frustrated.value_counts()\n",
        "natural_data1_frustrated = Data1_frustrated.tolist()\n",
        "\n",
        "natural2_frustrated = dfd_natural.loc[(dfd_natural['Q6'] == 3) & (dfd_natural['Q25d'] == 3)]\n",
        "data2_frustrated = natural2_frustrated.drop('Q6', axis = 1)\n",
        "Data2_frustrated = data2_frustrated.value_counts()\n",
        "natural_data2_frustrated = Data2_frustrated.tolist()\n",
        "\n",
        "natural3_frustrated = dfd_natural.loc[(dfd_natural['Q6'] == 3) & (dfd_natural['Q25d'] == 4)]\n",
        "data3_frustrated = natural3_frustrated.drop('Q6', axis = 1)\n",
        "Data3_frustrated = data3_frustrated.value_counts()\n",
        "natural_data3_frustrated = Data3_frustrated.tolist()\n",
        "\n",
        "natural4_frustrated = dfd_natural.loc[(dfd_natural['Q6'] == 3) & (dfd_natural['Q25d'] == 5)]\n",
        "data4_frustrated = natural4_frustrated.drop('Q6', axis = 1)\n",
        "Data4_frustrated = data4_frustrated.value_counts()\n",
        "natural_data4_frustrated = Data4_frustrated.tolist()\n",
        "\n"
      ],
      "metadata": {
        "id": "S7-KuRv8AK3B",
        "colab": {
          "base_uri": "https://localhost:8080/"
        },
        "outputId": "da2b9542-edd2-404e-843f-563b01c7b711"
      },
      "execution_count": 370,
      "outputs": [
        {
          "output_type": "stream",
          "name": "stdout",
          "text": [
            "<class 'pandas.core.frame.DataFrame'>\n",
            "RangeIndex: 1600 entries, 0 to 1599\n",
            "Data columns (total 2 columns):\n",
            " #   Column  Non-Null Count  Dtype  \n",
            "---  ------  --------------  -----  \n",
            " 0   Q6      1600 non-null   float64\n",
            " 1   Q25d    1600 non-null   float64\n",
            "dtypes: float64(2)\n",
            "memory usage: 25.1 KB\n"
          ]
        }
      ]
    },
    {
      "cell_type": "markdown",
      "source": [
        "Emotion: Angry"
      ],
      "metadata": {
        "id": "nbUPsHnEUTef"
      }
    },
    {
      "cell_type": "code",
      "source": [
        "fifth = final_dts[[\"Q6\", \"Q25e\"]]\n",
        "dfe_natural = pd.DataFrame(fifth)\n",
        "dfe_natural.info()\n",
        "\n",
        "natural_angry = dfe_natural.loc[(dfe_natural['Q6'] == 3) & (dfe_natural['Q25e'] == 1)]\n",
        "data_angry = natural_angry.drop('Q6', axis = 1)\n",
        "Data_angry = data_angry.value_counts()\n",
        "natural_data_angry = Data_angry.tolist()\n",
        "\n",
        "natural1_angry = dfe_natural.loc[(dfe_natural['Q6'] == 3) & (dfe_natural['Q25e'] == 2)]\n",
        "data1_angry = natural1_angry.drop('Q6', axis = 1)\n",
        "Data1_angry = data1_angry.value_counts()\n",
        "natural_data1_angry = Data1_angry.tolist()\n",
        "\n",
        "natural2_angry = dfe_natural.loc[(dfe_natural['Q6'] == 3) & (dfe_natural['Q25e'] == 3)]\n",
        "data2_angry = natural2_angry.drop('Q6', axis = 1)\n",
        "Data2_angry = data2_angry.value_counts()\n",
        "natural_data2_angry = Data2_angry.tolist()\n",
        "\n",
        "natural3_angry = dfe_natural.loc[(dfe_natural['Q6'] == 3) & (dfe_natural['Q25e'] == 4)]\n",
        "data3_angry = natural3_angry.drop('Q6', axis = 1)\n",
        "Data3_angry = data3_angry.value_counts()\n",
        "natural_data3_angry = Data3_angry.tolist()\n",
        "\n",
        "natural4_angry = dfe_natural.loc[(dfe_natural['Q6'] == 3) & (dfe_natural['Q25e'] == 5)]\n",
        "data4_angry = natural4_angry.drop('Q6', axis = 1)\n",
        "Data4_angry = data4_angry.value_counts()\n",
        "natural_data4_angry = Data4_angry.tolist()\n",
        "\n"
      ],
      "metadata": {
        "id": "y8-sHNLlAMt4",
        "colab": {
          "base_uri": "https://localhost:8080/"
        },
        "outputId": "0ebc47c8-7455-4ca6-fdc6-7947f53d6e7e"
      },
      "execution_count": 371,
      "outputs": [
        {
          "output_type": "stream",
          "name": "stdout",
          "text": [
            "<class 'pandas.core.frame.DataFrame'>\n",
            "RangeIndex: 1600 entries, 0 to 1599\n",
            "Data columns (total 2 columns):\n",
            " #   Column  Non-Null Count  Dtype  \n",
            "---  ------  --------------  -----  \n",
            " 0   Q6      1600 non-null   float64\n",
            " 1   Q25e    1600 non-null   float64\n",
            "dtypes: float64(2)\n",
            "memory usage: 25.1 KB\n"
          ]
        }
      ]
    },
    {
      "cell_type": "markdown",
      "source": [
        "Emotion: Anxious"
      ],
      "metadata": {
        "id": "UJUAiUM0UWbP"
      }
    },
    {
      "cell_type": "code",
      "source": [
        "sixth = final_dts[[\"Q6\", \"Q25f\"]]\n",
        "dff_natural = pd.DataFrame(sixth)\n",
        "dff_natural.info()\n",
        "\n",
        "natural_anxious = dff_natural.loc[(dff_natural['Q6'] == 3) & (dff_natural['Q25f'] == 1)]\n",
        "data_anxious = natural_anxious.drop('Q6', axis = 1)\n",
        "Data_anxious = data_anxious.value_counts()\n",
        "natural_data_anxious = Data_anxious.tolist()\n",
        "\n",
        "natural1_anxious = dff_natural.loc[(dff_natural['Q6'] == 3) & (dff_natural['Q25f'] == 2)]\n",
        "data1_anxious = natural1_anxious.drop('Q6', axis = 1)\n",
        "Data1_anxious = data1_anxious.value_counts()\n",
        "natural_data1_anxious = Data1_anxious.tolist()\n",
        "\n",
        "natural2_anxious = dff_natural.loc[(dff_natural['Q6'] == 3) & (dff_natural['Q25f'] == 3)]\n",
        "data2_anxious = natural2_anxious.drop('Q6', axis = 1)\n",
        "Data2_anxious = data2_anxious.value_counts()\n",
        "natural_data2_anxious = Data2_anxious.tolist()\n",
        "\n",
        "natural3_anxious = dff_natural.loc[(dff_natural['Q6'] == 3) & (dff_natural['Q25f'] == 4)]\n",
        "data3_anxious = natural3_anxious.drop('Q6', axis = 1)\n",
        "Data3_anxious = data3_anxious.value_counts()\n",
        "natural_data3_anxious = Data3_anxious.tolist()\n",
        "\n",
        "natural4_anxious = dff_natural.loc[(dff_natural['Q6'] == 3) & (dff_natural['Q25f'] == 5)]\n",
        "data4_anxious = natural4_anxious.drop('Q6', axis = 1)\n",
        "Data4_anxious = data4_anxious.value_counts()\n",
        "natural_data4_anxious = Data4_anxious.tolist()\n",
        "\n"
      ],
      "metadata": {
        "id": "KqRGASe6AOT4",
        "colab": {
          "base_uri": "https://localhost:8080/"
        },
        "outputId": "2c5ce3a0-e6be-4a21-c515-5634fed6c513"
      },
      "execution_count": 372,
      "outputs": [
        {
          "output_type": "stream",
          "name": "stdout",
          "text": [
            "<class 'pandas.core.frame.DataFrame'>\n",
            "RangeIndex: 1600 entries, 0 to 1599\n",
            "Data columns (total 2 columns):\n",
            " #   Column  Non-Null Count  Dtype  \n",
            "---  ------  --------------  -----  \n",
            " 0   Q6      1600 non-null   float64\n",
            " 1   Q25f    1600 non-null   float64\n",
            "dtypes: float64(2)\n",
            "memory usage: 25.1 KB\n"
          ]
        }
      ]
    },
    {
      "cell_type": "markdown",
      "source": [
        "Emotion: Ashamed"
      ],
      "metadata": {
        "id": "035q5oF2UZW4"
      }
    },
    {
      "cell_type": "code",
      "source": [
        "seventh = final_dts[[\"Q6\", \"Q25g\"]]\n",
        "dfg_natural = pd.DataFrame(seventh)\n",
        "dfg_natural.info()\n",
        "\n",
        "natural_ashamed = dfg_natural.loc[(dfg_natural['Q6'] == 3) & (dfg_natural['Q25g'] == 1)]\n",
        "data_ashamed = natural_ashamed.drop('Q6', axis = 1)\n",
        "Data_ashamed = data_ashamed.value_counts()\n",
        "natural_data_ashamed = Data_ashamed.tolist()\n",
        "\n",
        "natural1_ashamed = dfg_natural.loc[(dfg_natural['Q6'] == 3) & (dfg_natural['Q25g'] == 2)]\n",
        "data1_ashamed = natural1_ashamed.drop('Q6', axis = 1)\n",
        "Data1_ashamed = data1_ashamed.value_counts()\n",
        "natural_data1_ashamed = Data1_ashamed.tolist()\n",
        "\n",
        "natural2_ashamed = dfg_natural.loc[(dfg_natural['Q6'] == 3) & (dfg_natural['Q25g'] == 3)]\n",
        "data2_ashamed = natural2_ashamed.drop('Q6', axis = 1)\n",
        "Data2_ashamed = data2_ashamed.value_counts()\n",
        "natural_data2_ashamed = Data2_ashamed.tolist()\n",
        "\n",
        "natural3_ashamed = dfg_natural.loc[(dfg_natural['Q6'] == 3) & (dfg_natural['Q25g'] == 4)]\n",
        "data3_ashamed = natural3_ashamed.drop('Q6', axis = 1)\n",
        "Data3_ashamed = data3_ashamed.value_counts()\n",
        "natural_data3_ashamed = Data3_ashamed.tolist()\n",
        "\n",
        "natural4_ashamed = dfg_natural.loc[(dfg_natural['Q6'] == 3) & (dfg_natural['Q25g'] == 5)]\n",
        "data4_ashamed = natural4_ashamed.drop('Q6', axis = 1)\n",
        "Data4_ashamed = data4_ashamed.value_counts()\n",
        "natural_data4_ashamed = Data4_ashamed.tolist()\n",
        "\n"
      ],
      "metadata": {
        "id": "E0jLMLtZAPx4",
        "colab": {
          "base_uri": "https://localhost:8080/"
        },
        "outputId": "c9202a3c-be6c-47d5-9404-c9c527859dbf"
      },
      "execution_count": 373,
      "outputs": [
        {
          "output_type": "stream",
          "name": "stdout",
          "text": [
            "<class 'pandas.core.frame.DataFrame'>\n",
            "RangeIndex: 1600 entries, 0 to 1599\n",
            "Data columns (total 2 columns):\n",
            " #   Column  Non-Null Count  Dtype  \n",
            "---  ------  --------------  -----  \n",
            " 0   Q6      1600 non-null   float64\n",
            " 1   Q25g    1600 non-null   float64\n",
            "dtypes: float64(2)\n",
            "memory usage: 25.1 KB\n"
          ]
        }
      ]
    },
    {
      "cell_type": "markdown",
      "source": [
        "Emotion: Relieved"
      ],
      "metadata": {
        "id": "F2AxC5vtUcJP"
      }
    },
    {
      "cell_type": "code",
      "source": [
        "eighth = final_dts[[\"Q6\", \"Q25h\"]]\n",
        "dfh_natural = pd.DataFrame(eighth)\n",
        "dfh_natural.info()\n",
        "\n",
        "natural_relieved = dfh_natural.loc[(dfh_natural['Q6'] == 3) & (dfh_natural['Q25h'] == 1)]\n",
        "data_relieved = natural_relieved.drop('Q6', axis = 1)\n",
        "Data_relieved = data_relieved.value_counts()\n",
        "natural_data_relieved = Data_relieved.tolist()\n",
        "\n",
        "natural1_relieved = dfh_natural.loc[(dfh_natural['Q6'] == 3) & (dfh_natural['Q25h'] == 2)]\n",
        "data1_relieved = natural1_relieved.drop('Q6', axis = 1)\n",
        "Data1_relieved = data1_relieved.value_counts()\n",
        "natural_data1_relieved = Data1_relieved.tolist()\n",
        "\n",
        "natural2_relieved = dfh_natural.loc[(dfh_natural['Q6'] == 3) & (dfh_natural['Q25h'] == 3)]\n",
        "data2_relieved = natural2_relieved.drop('Q6', axis = 1)\n",
        "Data2_relieved = data2_relieved.value_counts()\n",
        "natural_data2_relieved = Data2_relieved.tolist()\n",
        "\n",
        "natural3_relieved = dfh_natural.loc[(dfh_natural['Q6'] == 3) & (dfh_natural['Q25h'] == 4)]\n",
        "data3_relieved = natural3_relieved.drop('Q6', axis = 1)\n",
        "Data3_relieved = data3_relieved.value_counts()\n",
        "natural_data3_relieved = Data3_relieved.tolist()\n",
        "\n",
        "natural4_relieved = dfh_natural.loc[(dfh_natural['Q6'] == 3) & (dfh_natural['Q25h'] == 5)]\n",
        "data4_relieved = natural4_relieved.drop('Q6', axis = 1)\n",
        "Data4_relieved = data4_relieved.value_counts()\n",
        "natural_data4_relieved = Data4_relieved.tolist()\n",
        "\n"
      ],
      "metadata": {
        "id": "i8C_zmjFARiY",
        "colab": {
          "base_uri": "https://localhost:8080/"
        },
        "outputId": "378c3caa-27d3-4390-a497-4424e71012f8"
      },
      "execution_count": 374,
      "outputs": [
        {
          "output_type": "stream",
          "name": "stdout",
          "text": [
            "<class 'pandas.core.frame.DataFrame'>\n",
            "RangeIndex: 1600 entries, 0 to 1599\n",
            "Data columns (total 2 columns):\n",
            " #   Column  Non-Null Count  Dtype  \n",
            "---  ------  --------------  -----  \n",
            " 0   Q6      1600 non-null   float64\n",
            " 1   Q25h    1600 non-null   float64\n",
            "dtypes: float64(2)\n",
            "memory usage: 25.1 KB\n"
          ]
        }
      ]
    },
    {
      "cell_type": "markdown",
      "source": [
        "Emotion: Hopeless"
      ],
      "metadata": {
        "id": "l8T05g3YUic9"
      }
    },
    {
      "cell_type": "code",
      "source": [
        "ninth = final_dts[[\"Q6\", \"Q25i\"]]\n",
        "dfi_natural = pd.DataFrame(ninth)\n",
        "dfi_natural.info()\n",
        "\n",
        "natural_hopeless = dfi_natural.loc[(dfi_natural['Q6'] == 3) & (dfi_natural['Q25i'] == 1)]\n",
        "data_hopeless = natural_hopeless.drop('Q6', axis = 1)\n",
        "Data_hopeless = data_hopeless.value_counts()\n",
        "natural_data_hopeless = Data_hopeless.tolist()\n",
        "\n",
        "natural1_hopeless = dfi_natural.loc[(dfi_natural['Q6'] == 3) & (dfi_natural['Q25i'] == 2)]\n",
        "data1_hopeless = natural1_hopeless.drop('Q6', axis = 1)\n",
        "Data1_hopeless = data1_hopeless.value_counts()\n",
        "natural_data1_hopeless = Data1_hopeless.tolist()\n",
        "\n",
        "natural2_hopeless = dfi_natural.loc[(dfi_natural['Q6'] == 3) & (dfi_natural['Q25i'] == 3)]\n",
        "data2_hopeless = natural2_hopeless.drop('Q6', axis = 1)\n",
        "Data2_hopeless = data2_hopeless.value_counts()\n",
        "natural_data2_hopeless = Data2_hopeless.tolist()\n",
        "\n",
        "natural3_hopeless = dfi_natural.loc[(dfi_natural['Q6'] == 3) & (dfi_natural['Q25i'] == 4)]\n",
        "data3_hopeless = natural3_hopeless.drop('Q6', axis = 1)\n",
        "Data3_hopeless = data3_hopeless.value_counts()\n",
        "natural_data3_hopeless = Data3_hopeless.tolist()\n",
        "\n",
        "natural4_hopeless = dfi_natural.loc[(dfi_natural['Q6'] == 3) & (dfi_natural['Q25i'] == 5)]\n",
        "data4_hopeless = natural4_hopeless.drop('Q6', axis = 1)\n",
        "Data4_hopeless = data4_hopeless.value_counts()\n",
        "natural_data4_hopeless = Data4_hopeless.tolist()\n",
        "\n"
      ],
      "metadata": {
        "id": "Fi3vPKK6ATW6",
        "colab": {
          "base_uri": "https://localhost:8080/"
        },
        "outputId": "368f3ca1-8207-4bff-eb88-82959aeb4619"
      },
      "execution_count": 375,
      "outputs": [
        {
          "output_type": "stream",
          "name": "stdout",
          "text": [
            "<class 'pandas.core.frame.DataFrame'>\n",
            "RangeIndex: 1600 entries, 0 to 1599\n",
            "Data columns (total 2 columns):\n",
            " #   Column  Non-Null Count  Dtype  \n",
            "---  ------  --------------  -----  \n",
            " 0   Q6      1600 non-null   float64\n",
            " 1   Q25i    1600 non-null   float64\n",
            "dtypes: float64(2)\n",
            "memory usage: 25.1 KB\n"
          ]
        }
      ]
    },
    {
      "cell_type": "markdown",
      "source": [
        "Emotion: Bored"
      ],
      "metadata": {
        "id": "4Wj2uHnTUlx3"
      }
    },
    {
      "cell_type": "code",
      "source": [
        "tenth = final_dts[[\"Q6\", \"Q25j\"]]\n",
        "dfj_natural = pd.DataFrame(tenth)\n",
        "dfj_natural.info()\n",
        "\n",
        "natural_bored = dfj_natural.loc[(dfj_natural['Q6'] == 3) & (dfj_natural['Q25j'] == 1)]\n",
        "data_bored = natural_bored.drop('Q6', axis = 1)\n",
        "Data_bored = data_bored.value_counts()\n",
        "natural_data_bored = Data_bored.tolist()\n",
        "\n",
        "natural1_bored = dfj_natural.loc[(dfj_natural['Q6'] == 3) & (dfj_natural['Q25j'] == 2)]\n",
        "data1_bored = natural1_bored.drop('Q6', axis = 1)\n",
        "Data1_bored = data1_bored.value_counts()\n",
        "natural_data1_bored = Data1_bored.tolist()\n",
        "\n",
        "natural2_bored = dfj_natural.loc[(dfj_natural['Q6'] == 3) & (dfj_natural['Q25j'] == 3)]\n",
        "data2_bored = natural2_bored.drop('Q6', axis = 1)\n",
        "Data2_bored = data2_bored.value_counts()\n",
        "natural_data2_bored = Data2_bored.tolist()\n",
        "\n",
        "natural3_bored = dfj_natural.loc[(dfj_natural['Q6'] == 3) & (dfj_natural['Q25j'] == 4)]\n",
        "data3_bored = natural3_bored.drop('Q6', axis = 1)\n",
        "Data3_bored = data3_bored.value_counts()\n",
        "natural_data3_bored = Data3_bored.tolist()\n",
        "\n",
        "natural4_bored = dfj_natural.loc[(dfj_natural['Q6'] == 3) & (dfj_natural['Q25j'] == 5)]\n",
        "data4_bored = natural4_bored.drop('Q6', axis = 1)\n",
        "Data4_bored = data4_bored.value_counts()\n",
        "natural_data4_bored = Data4_bored.tolist()\n",
        "\n"
      ],
      "metadata": {
        "id": "kpObVKfBAVe5",
        "colab": {
          "base_uri": "https://localhost:8080/"
        },
        "outputId": "ae44df4e-f6c4-4856-a4f8-650cfacb841d"
      },
      "execution_count": 376,
      "outputs": [
        {
          "output_type": "stream",
          "name": "stdout",
          "text": [
            "<class 'pandas.core.frame.DataFrame'>\n",
            "RangeIndex: 1600 entries, 0 to 1599\n",
            "Data columns (total 2 columns):\n",
            " #   Column  Non-Null Count  Dtype  \n",
            "---  ------  --------------  -----  \n",
            " 0   Q6      1600 non-null   float64\n",
            " 1   Q25j    1600 non-null   float64\n",
            "dtypes: float64(2)\n",
            "memory usage: 25.1 KB\n"
          ]
        }
      ]
    },
    {
      "cell_type": "markdown",
      "source": [
        "Field Study: Technical"
      ],
      "metadata": {
        "id": "_aDk7FS1E5XB"
      }
    },
    {
      "cell_type": "markdown",
      "source": [
        "Emotion: Joyful"
      ],
      "metadata": {
        "id": "k-nAqJK_UpJW"
      }
    },
    {
      "cell_type": "code",
      "source": [
        "first = final_dts[[\"Q6\", \"Q25a\"]]\n",
        "dfa_technical = pd.DataFrame(first)\n",
        "dfa_technical.info()\n",
        "\n",
        "technical_joyful = dfa_technical.loc[(dfa_technical['Q6'] == 4) & (dfa_technical['Q25a'] == 1)]\n",
        "data_joyful_technical = technical_joyful.drop('Q6', axis = 1)\n",
        "Data_joyful = data_joyful_technical.value_counts()\n",
        "technical_data_joyful = Data_joyful.tolist()\n",
        "\n",
        "technical1_joyful = dfa_technical.loc[(dfa_technical['Q6'] == 4) & (dfa_technical['Q25a'] == 2)]\n",
        "data1_joyful_technical = technical1_joyful.drop('Q6', axis = 1)\n",
        "Data1_joyful = data1_joyful_technical.value_counts()\n",
        "technical_data1_joyful = Data1_joyful.tolist()\n",
        "\n",
        "technical2_joyful = dfa_technical.loc[(dfa_technical['Q6'] == 4) & (dfa_technical['Q25a'] == 3)]\n",
        "data2_joyful_technical = technical2_joyful.drop('Q6', axis = 1)\n",
        "Data2_joyful = data2_joyful_technical.value_counts()\n",
        "technical_data2_joyful = Data2_joyful.tolist()\n",
        "\n",
        "technical3_joyful = dfa_technical.loc[(dfa_technical['Q6'] == 4) & (dfa_technical['Q25a'] == 4)]\n",
        "data3_joyful_technical = technical3_joyful.drop('Q6', axis = 1)\n",
        "Data3_joyful = data3_joyful_technical.value_counts()\n",
        "technical_data3_joyful = Data3_joyful.tolist()\n",
        "\n",
        "technical4_joyful = dfa_technical.loc[(dfa_technical['Q6'] == 4) & (dfa_technical['Q25a'] == 5)]\n",
        "data4_joyful_technical = technical4_joyful.drop('Q6', axis = 1)\n",
        "Data4_joyful = data4_joyful_technical.value_counts()\n",
        "technical_data4_joyful = Data4_joyful.tolist()\n",
        "\n"
      ],
      "metadata": {
        "id": "fXx5SBMCE_i6",
        "colab": {
          "base_uri": "https://localhost:8080/"
        },
        "outputId": "3e0fa1ea-3ebb-4436-c765-a1f00ecd80c8"
      },
      "execution_count": 377,
      "outputs": [
        {
          "output_type": "stream",
          "name": "stdout",
          "text": [
            "<class 'pandas.core.frame.DataFrame'>\n",
            "RangeIndex: 1600 entries, 0 to 1599\n",
            "Data columns (total 2 columns):\n",
            " #   Column  Non-Null Count  Dtype  \n",
            "---  ------  --------------  -----  \n",
            " 0   Q6      1600 non-null   float64\n",
            " 1   Q25a    1600 non-null   float64\n",
            "dtypes: float64(2)\n",
            "memory usage: 25.1 KB\n"
          ]
        }
      ]
    },
    {
      "cell_type": "markdown",
      "source": [
        "Emotion: Hopeful"
      ],
      "metadata": {
        "id": "_Y875xYQUwT-"
      }
    },
    {
      "cell_type": "code",
      "source": [
        "second = final_dts[[\"Q6\", \"Q25b\"]]\n",
        "dfb_technical = pd.DataFrame(second)\n",
        "dfb_technical.info()\n",
        "\n",
        "technical_hopeful = dfb_technical.loc[(dfb_technical['Q6'] == 4) & (dfb_technical['Q25b'] == 1)]\n",
        "data_hopeful = technical_hopeful.drop('Q6', axis = 1)\n",
        "Data_hopeful = data_hopeful.value_counts()\n",
        "technical_data_hopeful = Data_hopeful.tolist()\n",
        "\n",
        "technical1_hopeful = dfb_technical.loc[(dfb_technical['Q6'] == 4) & (dfb_technical['Q25b'] == 2)]\n",
        "data1_hopeful = technical1_hopeful.drop('Q6', axis = 1)\n",
        "Data1_hopeful = data1_hopeful.value_counts()\n",
        "technical_data1_hopeful = Data1_hopeful.tolist()\n",
        "\n",
        "technical2_hopeful = dfb_technical.loc[(dfb_technical['Q6'] == 4) & (dfb_technical['Q25b'] == 3)]\n",
        "data2_hopeful = technical2_hopeful.drop('Q6', axis = 1)\n",
        "Data2_hopeful = data2_hopeful.value_counts()\n",
        "technical_data2_hopeful = Data2_hopeful.tolist()\n",
        "\n",
        "technical3_hopeful = dfb_technical.loc[(dfb_technical['Q6'] == 4) & (dfb_technical['Q25b'] == 4)]\n",
        "data3_hopeful = technical3_hopeful.drop('Q6', axis = 1)\n",
        "Data3_hopeful = data3_hopeful.value_counts()\n",
        "technical_data3_hopeful = Data3_hopeful.tolist()\n",
        "\n",
        "technical4_hopeful = dfb_technical.loc[(dfb_technical['Q6'] == 4) & (dfb_technical['Q25b'] == 5)]\n",
        "data4_hopeful = technical4_hopeful.drop('Q6', axis = 1)\n",
        "Data4_hopeful = data4_hopeful.value_counts()\n",
        "technical_data4_hopeful = Data4_hopeful.tolist()\n",
        "\n"
      ],
      "metadata": {
        "colab": {
          "base_uri": "https://localhost:8080/"
        },
        "id": "b9ZLpMAmFGUC",
        "outputId": "611ecb45-ad44-4e81-86eb-457b1bf30d75"
      },
      "execution_count": 378,
      "outputs": [
        {
          "output_type": "stream",
          "name": "stdout",
          "text": [
            "<class 'pandas.core.frame.DataFrame'>\n",
            "RangeIndex: 1600 entries, 0 to 1599\n",
            "Data columns (total 2 columns):\n",
            " #   Column  Non-Null Count  Dtype  \n",
            "---  ------  --------------  -----  \n",
            " 0   Q6      1600 non-null   float64\n",
            " 1   Q25b    1600 non-null   float64\n",
            "dtypes: float64(2)\n",
            "memory usage: 25.1 KB\n"
          ]
        }
      ]
    },
    {
      "cell_type": "markdown",
      "source": [
        "Emotion: Proud"
      ],
      "metadata": {
        "id": "uD6YTUaiVCsW"
      }
    },
    {
      "cell_type": "code",
      "source": [
        "third = final_dts[[\"Q6\", \"Q25c\"]]\n",
        "dfc_technical = pd.DataFrame(third)\n",
        "dfc_technical.info()\n",
        "\n",
        "technical_proud = dfc_technical.loc[(dfc_technical['Q6'] == 4) & (dfc_technical['Q25c'] == 1)]\n",
        "data_proud = technical_proud.drop('Q6', axis = 1)\n",
        "Data_proud = data_proud.value_counts()\n",
        "technical_data_proud = Data_proud.tolist()\n",
        "\n",
        "technical1_proud = dfc_technical.loc[(dfc_technical['Q6'] == 4) & (dfc_technical['Q25c'] == 2)]\n",
        "data1_proud = technical1_proud.drop('Q6', axis = 1)\n",
        "Data1_proud = data1_proud.value_counts()\n",
        "technical_data1_proud = Data1_proud.tolist()\n",
        "\n",
        "technical2_proud = dfc_technical.loc[(dfc_technical['Q6'] == 4) & (dfc_technical['Q25c'] == 3)]\n",
        "data2_proud = technical2_proud.drop('Q6', axis = 1)\n",
        "Data2_proud = data2_proud.value_counts()\n",
        "technical_data2_proud = Data2_proud.tolist()\n",
        "\n",
        "technical3_proud = dfc_technical.loc[(dfc_technical['Q6'] == 4) & (dfc_technical['Q25c'] == 4)]\n",
        "data3_proud = technical3_proud.drop('Q6', axis = 1)\n",
        "Data3_proud = data3_proud.value_counts()\n",
        "technical_data3_proud = Data3_proud.tolist()\n",
        "\n",
        "technical4_proud = dfc_technical.loc[(dfc_technical['Q6'] == 4) & (dfc_technical['Q25c'] == 5)]\n",
        "data4_proud = technical4_proud.drop('Q6', axis = 1)\n",
        "Data4_proud = data4_proud.value_counts()\n",
        "technical_data4_proud = Data4_proud.tolist()\n",
        "\n"
      ],
      "metadata": {
        "colab": {
          "base_uri": "https://localhost:8080/"
        },
        "id": "oIKOtFeBFKV5",
        "outputId": "5844d91f-7ecb-471e-e5e3-29a8b02b3335"
      },
      "execution_count": 379,
      "outputs": [
        {
          "output_type": "stream",
          "name": "stdout",
          "text": [
            "<class 'pandas.core.frame.DataFrame'>\n",
            "RangeIndex: 1600 entries, 0 to 1599\n",
            "Data columns (total 2 columns):\n",
            " #   Column  Non-Null Count  Dtype  \n",
            "---  ------  --------------  -----  \n",
            " 0   Q6      1600 non-null   float64\n",
            " 1   Q25c    1600 non-null   float64\n",
            "dtypes: float64(2)\n",
            "memory usage: 25.1 KB\n"
          ]
        }
      ]
    },
    {
      "cell_type": "markdown",
      "source": [
        "Emotion: Frustrated"
      ],
      "metadata": {
        "id": "xA7G386hVF9p"
      }
    },
    {
      "cell_type": "code",
      "source": [
        "fourth = final_dts[[\"Q6\", \"Q25d\"]]\n",
        "dfd_technical = pd.DataFrame(fourth)\n",
        "dfd_technical.info()\n",
        "\n",
        "technical_frustrated = dfd_technical.loc[(dfd_technical['Q6'] == 4) & (dfd_technical['Q25d'] == 1)]\n",
        "data_frustrated = technical_frustrated.drop('Q6', axis = 1)\n",
        "Data_frustrated = data_frustrated.value_counts()\n",
        "technical_data_frustrated = Data_frustrated.tolist()\n",
        "\n",
        "technical1_frustrated = dfd_technical.loc[(dfd_technical['Q6'] == 4) & (dfd_technical['Q25d'] == 2)]\n",
        "data1_frustrated = technical1_frustrated.drop('Q6', axis = 1)\n",
        "Data1_frustrated = data1_frustrated.value_counts()\n",
        "technical_data1_frustrated = Data1_frustrated.tolist()\n",
        "\n",
        "technical2_frustrated = dfd_technical.loc[(dfd_technical['Q6'] == 4) & (dfd_technical['Q25d'] == 3)]\n",
        "data2_frustrated = technical2_frustrated.drop('Q6', axis = 1)\n",
        "Data2_frustrated = data2_frustrated.value_counts()\n",
        "technical_data2_frustrated = Data2_frustrated.tolist()\n",
        "\n",
        "technical3_frustrated = dfd_technical.loc[(dfd_technical['Q6'] == 4) & (dfd_technical['Q25d'] == 4)]\n",
        "data3_frustrated = technical3_frustrated.drop('Q6', axis = 1)\n",
        "Data3_frustrated = data3_frustrated.value_counts()\n",
        "technical_data3_frustrated = Data3_frustrated.tolist()\n",
        "\n",
        "technical4_frustrated = dfd_technical.loc[(dfd_technical['Q6'] == 4) & (dfd_technical['Q25d'] == 5)]\n",
        "data4_frustrated = technical4_frustrated.drop('Q6', axis = 1)\n",
        "Data4_frustrated = data4_frustrated.value_counts()\n",
        "technical_data4_frustrated = Data4_frustrated.tolist()\n",
        "\n"
      ],
      "metadata": {
        "colab": {
          "base_uri": "https://localhost:8080/"
        },
        "id": "k1OdMH2uFM7h",
        "outputId": "a1427127-fd85-49bf-eb5a-ac9296f9e677"
      },
      "execution_count": 380,
      "outputs": [
        {
          "output_type": "stream",
          "name": "stdout",
          "text": [
            "<class 'pandas.core.frame.DataFrame'>\n",
            "RangeIndex: 1600 entries, 0 to 1599\n",
            "Data columns (total 2 columns):\n",
            " #   Column  Non-Null Count  Dtype  \n",
            "---  ------  --------------  -----  \n",
            " 0   Q6      1600 non-null   float64\n",
            " 1   Q25d    1600 non-null   float64\n",
            "dtypes: float64(2)\n",
            "memory usage: 25.1 KB\n"
          ]
        }
      ]
    },
    {
      "cell_type": "markdown",
      "source": [
        "Emotion: Angry"
      ],
      "metadata": {
        "id": "6_TokDTQVJXm"
      }
    },
    {
      "cell_type": "code",
      "source": [
        "fifth = final_dts[[\"Q6\", \"Q25e\"]]\n",
        "dfe_technical = pd.DataFrame(fifth)\n",
        "dfe_technical.info()\n",
        "\n",
        "technical_angry = dfe_technical.loc[(dfe_technical['Q6'] == 4) & (dfe_technical['Q25e'] == 1)]\n",
        "data_angry = technical_angry.drop('Q6', axis = 1)\n",
        "Data_angry = data_angry.value_counts()\n",
        "technical_data_angry = Data_angry.tolist()\n",
        "\n",
        "technical1_angry = dfe_technical.loc[(dfe_technical['Q6'] == 4) & (dfe_technical['Q25e'] == 2)]\n",
        "data1_angry = technical1_angry.drop('Q6', axis = 1)\n",
        "Data1_angry = data1_angry.value_counts()\n",
        "technical_data1_angry = Data1_angry.tolist()\n",
        "\n",
        "technical2_angry = dfe_technical.loc[(dfe_technical['Q6'] == 4) & (dfe_technical['Q25e'] == 3)]\n",
        "data2_angry = technical2_angry.drop('Q6', axis = 1)\n",
        "Data2_angry = data2_angry.value_counts()\n",
        "technical_data2_angry = Data2_angry.tolist()\n",
        "\n",
        "technical3_angry = dfe_technical.loc[(dfe_technical['Q6'] == 4) & (dfe_technical['Q25e'] == 4)]\n",
        "data3_angry = technical3_angry.drop('Q6', axis = 1)\n",
        "Data3_angry = data3_angry.value_counts()\n",
        "technical_data3_angry = Data3_angry.tolist()\n",
        "\n",
        "technical4_angry = dfe_technical.loc[(dfe_technical['Q6'] == 4) & (dfe_technical['Q25e'] == 5)]\n",
        "data4_angry = technical4_angry.drop('Q6', axis = 1)\n",
        "Data4_angry = data4_angry.value_counts()\n",
        "technical_data4_angry = Data4_angry.tolist()\n"
      ],
      "metadata": {
        "colab": {
          "base_uri": "https://localhost:8080/"
        },
        "id": "fmLflFF3FPOo",
        "outputId": "a81d9e13-2db4-4683-abb5-1ee4ad7c1f75"
      },
      "execution_count": 381,
      "outputs": [
        {
          "output_type": "stream",
          "name": "stdout",
          "text": [
            "<class 'pandas.core.frame.DataFrame'>\n",
            "RangeIndex: 1600 entries, 0 to 1599\n",
            "Data columns (total 2 columns):\n",
            " #   Column  Non-Null Count  Dtype  \n",
            "---  ------  --------------  -----  \n",
            " 0   Q6      1600 non-null   float64\n",
            " 1   Q25e    1600 non-null   float64\n",
            "dtypes: float64(2)\n",
            "memory usage: 25.1 KB\n"
          ]
        }
      ]
    },
    {
      "cell_type": "markdown",
      "source": [
        "Emotion: Anxious"
      ],
      "metadata": {
        "id": "f3YZA14IVNbG"
      }
    },
    {
      "cell_type": "code",
      "source": [
        "sixth = final_dts[[\"Q6\", \"Q25f\"]]\n",
        "dff_technical = pd.DataFrame(sixth)\n",
        "dff_technical.info()\n",
        "\n",
        "technical_anxious = dff_technical.loc[(dff_technical['Q6'] == 4) & (dff_technical['Q25f'] == 1)]\n",
        "data_anxious = technical_anxious.drop('Q6', axis = 1)\n",
        "Data_anxious = data_anxious.value_counts()\n",
        "technical_data_anxious = Data_anxious.tolist()\n",
        "\n",
        "technical1_anxious = dff_technical.loc[(dff_technical['Q6'] == 4) & (dff_technical['Q25f'] == 2)]\n",
        "data1_anxious = technical1_anxious.drop('Q6', axis = 1)\n",
        "Data1_anxious = data1_anxious.value_counts()\n",
        "technical_data1_anxious = Data1_anxious.tolist()\n",
        "\n",
        "technical2_anxious = dff_technical.loc[(dff_technical['Q6'] == 4) & (dff_technical['Q25f'] == 3)]\n",
        "data2_anxious = technical2_anxious.drop('Q6', axis = 1)\n",
        "Data2_anxious = data2_anxious.value_counts()\n",
        "technical_data2_anxious = Data2_anxious.tolist()\n",
        "\n",
        "technical3_anxious = dff_technical.loc[(dff_technical['Q6'] == 4) & (dff_technical['Q25f'] == 4)]\n",
        "data3_anxious = technical3_anxious.drop('Q6', axis = 1)\n",
        "Data3_anxious = data3_anxious.value_counts()\n",
        "technical_data3_anxious = Data3_anxious.tolist()\n",
        "\n",
        "technical4_anxious = dff_technical.loc[(dff_technical['Q6'] == 4) & (dff_technical['Q25f'] == 5)]\n",
        "data4_anxious = technical4_anxious.drop('Q6', axis = 1)\n",
        "Data4_anxious = data4_anxious.value_counts()\n",
        "technical_data4_anxious = Data4_anxious.tolist()\n",
        "\n"
      ],
      "metadata": {
        "colab": {
          "base_uri": "https://localhost:8080/"
        },
        "id": "cu_sn6w2FRNg",
        "outputId": "8ed535f9-8b53-4de6-9de8-a393b2b84bf9"
      },
      "execution_count": 382,
      "outputs": [
        {
          "output_type": "stream",
          "name": "stdout",
          "text": [
            "<class 'pandas.core.frame.DataFrame'>\n",
            "RangeIndex: 1600 entries, 0 to 1599\n",
            "Data columns (total 2 columns):\n",
            " #   Column  Non-Null Count  Dtype  \n",
            "---  ------  --------------  -----  \n",
            " 0   Q6      1600 non-null   float64\n",
            " 1   Q25f    1600 non-null   float64\n",
            "dtypes: float64(2)\n",
            "memory usage: 25.1 KB\n"
          ]
        }
      ]
    },
    {
      "cell_type": "markdown",
      "source": [
        "Emotion: Ashamed"
      ],
      "metadata": {
        "id": "uzMB6wbcVQ12"
      }
    },
    {
      "cell_type": "code",
      "source": [
        "seventh = final_dts[[\"Q6\", \"Q25g\"]]\n",
        "dfg_technical = pd.DataFrame(seventh)\n",
        "dfg_technical.info()\n",
        "\n",
        "technical_ashamed = dfg_technical.loc[(dfg_technical['Q6'] == 4) & (dfg_technical['Q25g'] == 1)]\n",
        "data_ashamed = technical_ashamed.drop('Q6', axis = 1)\n",
        "Data_ashamed = data_ashamed.value_counts()\n",
        "technical_data_ashamed = Data_ashamed.tolist()\n",
        "\n",
        "technical1_ashamed = dfg_technical.loc[(dfg_technical['Q6'] == 4) & (dfg_technical['Q25g'] == 2)]\n",
        "data1_ashamed = technical1_ashamed.drop('Q6', axis = 1)\n",
        "Data1_ashamed = data1_ashamed.value_counts()\n",
        "technical_data1_ashamed = Data1_ashamed.tolist()\n",
        "\n",
        "technical2_ashamed = dfg_technical.loc[(dfg_technical['Q6'] == 4) & (dfg_technical['Q25g'] == 3)]\n",
        "data2_ashamed = technical2_ashamed.drop('Q6', axis = 1)\n",
        "Data2_ashamed = data2_ashamed.value_counts()\n",
        "technical_data2_ashamed = Data2_ashamed.tolist()\n",
        "\n",
        "technical3_ashamed = dfg_technical.loc[(dfg_technical['Q6'] == 4) & (dfg_technical['Q25g'] == 4)]\n",
        "data3_ashamed = technical3_ashamed.drop('Q6', axis = 1)\n",
        "Data3_ashamed = data3_ashamed.value_counts()\n",
        "technical_data3_ashamed = Data3_ashamed.tolist()\n",
        "\n",
        "technical4_ashamed = dfg_technical.loc[(dfg_technical['Q6'] == 4) & (dfg_technical['Q25g'] == 5)]\n",
        "data4_ashamed = technical4_ashamed.drop('Q6', axis = 1)\n",
        "Data4_ashamed = data4_ashamed.value_counts()\n",
        "technical_data4_ashamed = Data4_ashamed.tolist()\n",
        "\n"
      ],
      "metadata": {
        "colab": {
          "base_uri": "https://localhost:8080/"
        },
        "id": "zTQn1a9-FTf4",
        "outputId": "a9eb496f-3126-4899-b240-bddd7700d8c1"
      },
      "execution_count": 383,
      "outputs": [
        {
          "output_type": "stream",
          "name": "stdout",
          "text": [
            "<class 'pandas.core.frame.DataFrame'>\n",
            "RangeIndex: 1600 entries, 0 to 1599\n",
            "Data columns (total 2 columns):\n",
            " #   Column  Non-Null Count  Dtype  \n",
            "---  ------  --------------  -----  \n",
            " 0   Q6      1600 non-null   float64\n",
            " 1   Q25g    1600 non-null   float64\n",
            "dtypes: float64(2)\n",
            "memory usage: 25.1 KB\n"
          ]
        }
      ]
    },
    {
      "cell_type": "markdown",
      "source": [
        "Emotion: Relieved"
      ],
      "metadata": {
        "id": "oMXYbo6pVT2-"
      }
    },
    {
      "cell_type": "code",
      "source": [
        "eighth = final_dts[[\"Q6\", \"Q25h\"]]\n",
        "dfh_technical = pd.DataFrame(eighth)\n",
        "dfh_technical.info()\n",
        "\n",
        "technical_relieved = dfh_technical.loc[(dfh_technical['Q6'] == 4) & (dfh_technical['Q25h'] == 1)]\n",
        "data_relieved = technical_relieved.drop('Q6', axis = 1)\n",
        "Data_relieved = data_relieved.value_counts()\n",
        "technical_data_relieved = Data_relieved.tolist()\n",
        "\n",
        "technical1_relieved = dfh_technical.loc[(dfh_technical['Q6'] == 4) & (dfh_technical['Q25h'] == 2)]\n",
        "data1_relieved = technical1_relieved.drop('Q6', axis = 1)\n",
        "Data1_relieved = data1_relieved.value_counts()\n",
        "technical_data1_relieved = Data1_relieved.tolist()\n",
        "\n",
        "technical2_relieved = dfh_technical.loc[(dfh_technical['Q6'] == 4) & (dfh_technical['Q25h'] == 3)]\n",
        "data2_relieved = technical2_relieved.drop('Q6', axis = 1)\n",
        "Data2_relieved = data2_relieved.value_counts()\n",
        "technical_data2_relieved = Data2_relieved.tolist()\n",
        "\n",
        "technical3_relieved = dfh_technical.loc[(dfh_technical['Q6'] == 4) & (dfh_technical['Q25h'] == 4)]\n",
        "data3_relieved = technical3_relieved.drop('Q6', axis = 1)\n",
        "Data3_relieved = data3_relieved.value_counts()\n",
        "technical_data3_relieved = Data3_relieved.tolist()\n",
        "\n",
        "technical4_relieved = dfh_technical.loc[(dfh_technical['Q6'] == 4) & (dfh_technical['Q25h'] == 5)]\n",
        "data4_relieved = technical4_relieved.drop('Q6', axis = 1)\n",
        "Data4_relieved = data4_relieved.value_counts()\n",
        "technical_data4_relieved = Data4_relieved.tolist()\n",
        "\n"
      ],
      "metadata": {
        "colab": {
          "base_uri": "https://localhost:8080/"
        },
        "id": "KmlpwDN2FVJ5",
        "outputId": "0ba8de92-0399-4d1e-8074-d7a6df029e51"
      },
      "execution_count": 384,
      "outputs": [
        {
          "output_type": "stream",
          "name": "stdout",
          "text": [
            "<class 'pandas.core.frame.DataFrame'>\n",
            "RangeIndex: 1600 entries, 0 to 1599\n",
            "Data columns (total 2 columns):\n",
            " #   Column  Non-Null Count  Dtype  \n",
            "---  ------  --------------  -----  \n",
            " 0   Q6      1600 non-null   float64\n",
            " 1   Q25h    1600 non-null   float64\n",
            "dtypes: float64(2)\n",
            "memory usage: 25.1 KB\n"
          ]
        }
      ]
    },
    {
      "cell_type": "markdown",
      "source": [
        "Emotion: Hopless"
      ],
      "metadata": {
        "id": "61mwOgqzVWv1"
      }
    },
    {
      "cell_type": "code",
      "source": [
        "ninth = final_dts[[\"Q6\", \"Q25i\"]]\n",
        "dfi_technical = pd.DataFrame(ninth)\n",
        "dfi_technical.info()\n",
        "\n",
        "technical_hopeless = dfi_technical.loc[(dfi_technical['Q6'] == 4) & (dfi_technical['Q25i'] == 1)]\n",
        "data_hopeless = technical_hopeless.drop('Q6', axis = 1)\n",
        "Data_hopeless = data_hopeless.value_counts()\n",
        "technical_data_hopeless = Data_hopeless.tolist()\n",
        "\n",
        "technical1_hopeless = dfi_technical.loc[(dfi_technical['Q6'] == 4) & (dfi_technical['Q25i'] == 2)]\n",
        "data1_hopeless = technical1_hopeless.drop('Q6', axis = 1)\n",
        "Data1_hopeless = data1_hopeless.value_counts()\n",
        "technical_data1_hopeless = Data1_hopeless.tolist()\n",
        "\n",
        "technical2_hopeless = dfi_technical.loc[(dfi_technical['Q6'] == 4) & (dfi_technical['Q25i'] == 3)]\n",
        "data2_hopeless = technical2_hopeless.drop('Q6', axis = 1)\n",
        "Data2_hopeless = data2_hopeless.value_counts()\n",
        "technical_data2_hopeless = Data2_hopeless.tolist()\n",
        "\n",
        "technical3_hopeless = dfi_technical.loc[(dfi_technical['Q6'] == 4) & (dfi_technical['Q25i'] == 4)]\n",
        "data3_hopeless = technical3_hopeless.drop('Q6', axis = 1)\n",
        "Data3_hopeless = data3_hopeless.value_counts()\n",
        "technical_data3_hopeless = Data3_hopeless.tolist()\n",
        "\n",
        "technical4_hopeless = dfi_technical.loc[(dfi_technical['Q6'] == 4) & (dfi_technical['Q25i'] == 5)]\n",
        "data4_hopeless = technical4_hopeless.drop('Q6', axis = 1)\n",
        "Data4_hopeless = data4_hopeless.value_counts()\n",
        "technical_data4_hopeless = Data4_hopeless.tolist()\n",
        "\n"
      ],
      "metadata": {
        "colab": {
          "base_uri": "https://localhost:8080/"
        },
        "id": "CmkGk5S7FW8R",
        "outputId": "be8ca222-3a57-4d6c-b524-ae99d8248608"
      },
      "execution_count": 385,
      "outputs": [
        {
          "output_type": "stream",
          "name": "stdout",
          "text": [
            "<class 'pandas.core.frame.DataFrame'>\n",
            "RangeIndex: 1600 entries, 0 to 1599\n",
            "Data columns (total 2 columns):\n",
            " #   Column  Non-Null Count  Dtype  \n",
            "---  ------  --------------  -----  \n",
            " 0   Q6      1600 non-null   float64\n",
            " 1   Q25i    1600 non-null   float64\n",
            "dtypes: float64(2)\n",
            "memory usage: 25.1 KB\n"
          ]
        }
      ]
    },
    {
      "cell_type": "markdown",
      "source": [
        "Emotion: Bored"
      ],
      "metadata": {
        "id": "ZhnewCQDVZ9u"
      }
    },
    {
      "cell_type": "code",
      "source": [
        "tenth = final_dts[[\"Q6\", \"Q25j\"]]\n",
        "dfj_technical = pd.DataFrame(tenth)\n",
        "dfj_technical.info()\n",
        "\n",
        "technical_bored = dfj_technical.loc[(dfj_technical['Q6'] == 4) & (dfj_technical['Q25j'] == 1)]\n",
        "data_bored = technical_bored.drop('Q6', axis = 1)\n",
        "Data_bored = data_bored.value_counts()\n",
        "technical_data_bored = Data_bored.tolist()\n",
        "\n",
        "technical1_bored = dfj_technical.loc[(dfj_technical['Q6'] == 4) & (dfj_technical['Q25j'] == 2)]\n",
        "data1_bored = technical1_bored.drop('Q6', axis = 1)\n",
        "Data1_bored = data1_bored.value_counts()\n",
        "technical_data1_bored = Data1_bored.tolist()\n",
        "\n",
        "technical2_bored = dfj_technical.loc[(dfj_technical['Q6'] == 4) & (dfj_technical['Q25j'] == 3)]\n",
        "data2_bored = technical2_bored.drop('Q6', axis = 1)\n",
        "Data2_bored = data2_bored.value_counts()\n",
        "technical_data2_bored = Data2_bored.tolist()\n",
        "\n",
        "technical3_bored = dfj_technical.loc[(dfj_technical['Q6'] == 4) & (dfj_technical['Q25j'] == 4)]\n",
        "data3_bored = technical3_bored.drop('Q6', axis = 1)\n",
        "Data3_bored = data3_bored.value_counts()\n",
        "technical_data3_bored = Data3_bored.tolist()\n",
        "\n",
        "technical4_bored = dfj_technical.loc[(dfj_technical['Q6'] == 4) & (dfj_technical['Q25j'] == 5)]\n",
        "data4_bored = technical4_bored.drop('Q6', axis = 1)\n",
        "Data4_bored = data4_bored.value_counts()\n",
        "technical_data4_bored = Data4_bored.tolist()\n",
        "\n"
      ],
      "metadata": {
        "colab": {
          "base_uri": "https://localhost:8080/"
        },
        "id": "ctuE5FE5FbpJ",
        "outputId": "40899333-d487-456b-8f63-d435fd4fdf6d"
      },
      "execution_count": 386,
      "outputs": [
        {
          "output_type": "stream",
          "name": "stdout",
          "text": [
            "<class 'pandas.core.frame.DataFrame'>\n",
            "RangeIndex: 1600 entries, 0 to 1599\n",
            "Data columns (total 2 columns):\n",
            " #   Column  Non-Null Count  Dtype  \n",
            "---  ------  --------------  -----  \n",
            " 0   Q6      1600 non-null   float64\n",
            " 1   Q25j    1600 non-null   float64\n",
            "dtypes: float64(2)\n",
            "memory usage: 25.1 KB\n"
          ]
        }
      ]
    },
    {
      "cell_type": "markdown",
      "source": [
        "Emotions Rate Felt by Arts and Humanities Students"
      ],
      "metadata": {
        "id": "CTqZ7YqSVhc9"
      }
    },
    {
      "cell_type": "code",
      "source": [
        "fig, ax = plt.subplots(figsize=(19, 9))\n",
        "labels = [\"Never\", \"Rarely\", \"Sometimes\", \"Often\", \"Always\"]\n",
        "category_labels = [\"Joyful\", \"Hopeful\", \"Proud\", \"Frustrated\", \"Angry\", \"Anxious\", \"Ashamed\", \"Relieved\", \"Hopeless\", \"Bored\"]\n",
        "\n",
        "art_field_never = art_data_joyful + art_data_hopeful + art_data_proud + art_data_frustrated + art_data_angry + art_data_anxious + art_data_ashamed + art_data_relieved + art_data_hopeless + art_data_bored\n",
        "art_field_rarely = art_data1_joyful + art_data1_hopeful + art_data1_proud + art_data1_frustrated + art_data1_angry + art_data1_anxious + art_data1_ashamed + art_data1_relieved + art_data1_hopeless + art_data1_bored\n",
        "art_field_sometimes = art_data2_joyful + art_data2_hopeful + art_data2_proud + art_data2_frustrated + art_data2_angry + art_data2_anxious + art_data2_ashamed + art_data2_relieved + art_data2_hopeless + art_data2_bored\n",
        "art_field_often = art_data3_joyful + art_data3_hopeful + art_data3_proud + art_data3_frustrated + art_data3_angry + art_data3_anxious + art_data3_ashamed + art_data3_relieved + art_data3_hopeless + art_data3_bored\n",
        "art_field_always = art_data4_joyful + art_data4_hopeful + art_data4_proud + art_data4_frustrated + art_data4_angry + art_data4_anxious + art_data4_ashamed + art_data4_relieved + art_data4_hopeless + art_data4_bored\n",
        "\n",
        "art_bottom1 = art_field_never\n",
        "art_bottom2 = [a+b for a,b in zip(art_field_never, art_field_rarely)]\n",
        "art_bottom3 = [a+b+c for a,b,c in zip(art_field_never, art_field_rarely, art_field_sometimes)]\n",
        "art_bottom4 = [a+b+c+d for a,b,c,d in zip(art_field_never, art_field_rarely, art_field_sometimes, art_field_often)]\n",
        "\n",
        "p1 = ax.barh(category_labels, art_field_never, color = '#F28B50')\n",
        "p2 = ax.barh(category_labels, art_field_rarely, left = art_bottom1, color = '#F2C0A2')\n",
        "p3 = ax.barh(category_labels, art_field_sometimes, left = art_bottom2, color = '#ABABAB')\n",
        "p4 = ax.barh(category_labels, art_field_often, left = art_bottom3, color = '#A2D4F2')\n",
        "p5 = ax.barh(category_labels, art_field_always, left = art_bottom4, color = '#3D9DD9')\n",
        "\n",
        "ax.spines['right'].set_visible(False)\n",
        "ax.spines['top'].set_visible(False)\n",
        "ax.spines['left'].set_visible(True)\n",
        "ax.spines['bottom'].set_visible(False)\n",
        "\n",
        "ax.yaxis.grid(False)\n",
        "ax.xaxis.grid(True, which='major', color='#BFBFBF')\n",
        "ax.set_axisbelow(True)\n",
        "\n",
        "plt.ylabel(\"Emotions\", fontsize=12)\n",
        "plt.xlabel(\"Responses\", fontsize=12)\n",
        "plt.title(\"Emotions Rate felt by Arts and Humanities Students\", fontsize = 20, fontweight='bold')\n",
        "ax.legend(labels, bbox_to_anchor=(0.5,-0.14), loc='lower center', ncol=5, fontsize = 13)\n",
        "plt.show()"
      ],
      "metadata": {
        "colab": {
          "base_uri": "https://localhost:8080/",
          "height": 548
        },
        "id": "aM_QtS2zLmpV",
        "outputId": "c6f072cd-2830-475a-dde8-0898060c6563"
      },
      "execution_count": 387,
      "outputs": [
        {
          "output_type": "display_data",
          "data": {
            "text/plain": [
              "<Figure size 1368x648 with 1 Axes>"
            ],
            "image/png": "[encoded data removed]"
          },
          "metadata": {
            "needs_background": "light"
          }
        }
      ]
    },
    {
      "cell_type": "markdown",
      "source": [
        "Emotions Rate Felt by Social Science Students"
      ],
      "metadata": {
        "id": "yvUFFhKCXqqz"
      }
    },
    {
      "cell_type": "code",
      "source": [
        "fig, ax = plt.subplots(figsize=(19, 9))\n",
        "labels = [\"Never\", \"Rarely\", \"Sometimes\", \"Often\", \"Always\"]\n",
        "category_labels = [\"Joyful\", \"Hopeful\", \"Proud\", \"Frustrated\", \"Angry\", \"Anxious\", \"Ashamed\", \"Relieved\", \"Hopeless\", \"Bored\"]\n",
        "\n",
        "social_field_never = social_data_joyful + social_data_hopeful + social_data_proud + social_data_frustrated + social_data_angry + social_data_anxious + social_data_ashamed + social_data_relieved + social_data_hopeless + social_data_bored\n",
        "social_field_rarely = social_data1_joyful + social_data1_hopeful + social_data1_proud + social_data1_frustrated + social_data1_angry + social_data1_anxious + social_data1_ashamed + social_data1_relieved + social_data1_hopeless + social_data1_bored\n",
        "social_field_sometimes = social_data2_joyful + social_data2_hopeful + social_data2_proud + social_data2_frustrated + social_data2_angry + social_data2_anxious + social_data2_ashamed + social_data2_relieved + social_data2_hopeless + social_data2_bored\n",
        "social_field_often = social_data3_joyful + social_data3_hopeful + social_data3_proud + social_data3_frustrated + social_data3_angry + social_data3_anxious + social_data3_ashamed + social_data3_relieved + social_data3_hopeless + social_data3_bored\n",
        "social_field_always = social_data4_joyful + social_data4_hopeful + social_data4_proud + social_data4_frustrated + social_data4_angry + social_data4_anxious + social_data4_ashamed + social_data4_relieved + social_data4_hopeless + social_data4_bored\n",
        "\n",
        "social_bottom1 = social_field_never\n",
        "social_bottom2 = [a+b for a,b in zip(social_field_never, social_field_rarely)]\n",
        "social_bottom3 = [a+b+c for a,b,c in zip(social_field_never, social_field_rarely, social_field_sometimes)]\n",
        "social_bottom4 = [a+b+c+d for a,b,c,d in zip(social_field_never, social_field_rarely, social_field_sometimes, social_field_often)]\n",
        "\n",
        "p1 = ax.barh(category_labels, social_field_never, color = '#F28B50')\n",
        "p2 = ax.barh(category_labels, social_field_rarely, left = social_bottom1, color = '#F2C0A2')\n",
        "p3 = ax.barh(category_labels, social_field_sometimes, left = social_bottom2, color = '#ABABAB')\n",
        "p4 = ax.barh(category_labels, social_field_often, left = social_bottom3, color = '#A2D4F2')\n",
        "p5 = ax.barh(category_labels, social_field_always, left = social_bottom4, color = '#3D9DD9')\n",
        "\n",
        "ax.spines['right'].set_visible(False)\n",
        "ax.spines['top'].set_visible(False)\n",
        "ax.spines['left'].set_visible(True)\n",
        "ax.spines['bottom'].set_visible(False)\n",
        "\n",
        "ax.yaxis.grid(False)\n",
        "ax.xaxis.grid(True, which='major', color='#BFBFBF')\n",
        "ax.set_axisbelow(True)\n",
        "\n",
        "plt.ylabel(\"Emotions\", fontsize=12)\n",
        "plt.xlabel(\"Responses\", fontsize=12)\n",
        "plt.title(\"Emotions Rate felt by Social Science Students\", fontsize = 20, fontweight='bold')\n",
        "ax.legend(labels, bbox_to_anchor=(0.5,-0.14), loc='lower center', ncol=5, fontsize = 13)\n",
        "plt.show()"
      ],
      "metadata": {
        "colab": {
          "base_uri": "https://localhost:8080/",
          "height": 548
        },
        "id": "CFVKlAG1tBGn",
        "outputId": "a6f38ce8-06ee-4869-9b5d-98637c355892"
      },
      "execution_count": 388,
      "outputs": [
        {
          "output_type": "display_data",
          "data": {
            "text/plain": [
              "<Figure size 1368x648 with 1 Axes>"
            ],
            "image/png": "[encoded data removed]"
          },
          "metadata": {
            "needs_background": "light"
          }
        }
      ]
    },
    {
      "cell_type": "markdown",
      "source": [
        "Emotions Rate Felt by Natural and Life Science Students"
      ],
      "metadata": {
        "id": "YjFJ28mMdTIE"
      }
    },
    {
      "cell_type": "code",
      "source": [
        "fig, ax = plt.subplots(figsize=(19, 9))\n",
        "labels = [\"Never\", \"Rarely\", \"Sometimes\", \"Often\", \"Always\"]\n",
        "category_labels = [\"Joyful\", \"Hopeful\", \"Proud\", \"Frustrated\", \"Angry\", \"Anxious\", \"Ashamed\", \"Relieved\", \"Hopeless\", \"Bored\"]\n",
        "\n",
        "natural_field_never = natural_data_joyful + natural_data_hopeful + natural_data_proud + natural_data_frustrated + natural_data_angry + natural_data_anxious + natural_data_ashamed + natural_data_relieved + natural_data_hopeless + natural_data_bored\n",
        "natural_field_rarely = natural_data1_joyful + natural_data1_hopeful + natural_data1_proud + natural_data1_frustrated + natural_data1_angry + natural_data1_anxious + natural_data1_ashamed + natural_data1_relieved + natural_data1_hopeless + natural_data1_bored\n",
        "natural_field_sometimes = natural_data2_joyful + natural_data2_hopeful + natural_data2_proud + natural_data2_frustrated + natural_data2_angry + natural_data2_anxious + natural_data2_ashamed + natural_data2_relieved + natural_data2_hopeless + natural_data2_bored\n",
        "natural_field_often = natural_data3_joyful + natural_data3_hopeful + natural_data3_proud + natural_data3_frustrated + natural_data3_angry + natural_data3_anxious + natural_data3_ashamed + natural_data3_relieved + natural_data3_hopeless + natural_data3_bored\n",
        "natural_field_always = natural_data4_joyful + natural_data4_hopeful + natural_data4_proud + natural_data4_frustrated + natural_data4_angry + natural_data4_anxious + natural_data4_ashamed + natural_data4_relieved + natural_data4_hopeless + natural_data4_bored\n",
        "\n",
        "natural_bottom1 = natural_field_never\n",
        "natural_bottom2 = [a+b for a,b in zip(natural_field_never, natural_field_rarely)]\n",
        "natural_bottom3 = [a+b+c for a,b,c in zip(natural_field_never, natural_field_rarely, natural_field_sometimes)]\n",
        "natural_bottom4 = [a+b+c+d for a,b,c,d in zip(natural_field_never, natural_field_rarely, natural_field_sometimes, natural_field_often)]\n",
        "\n",
        "p1 = ax.barh(category_labels, natural_field_never, color = '#F28B50')\n",
        "p2 = ax.barh(category_labels, natural_field_rarely, left = natural_bottom1, color = '#F2C0A2')\n",
        "p3 = ax.barh(category_labels, natural_field_sometimes, left = natural_bottom2, color = '#ABABAB')\n",
        "p4 = ax.barh(category_labels, natural_field_often, left = natural_bottom3, color = '#A2D4F2')\n",
        "p5 = ax.barh(category_labels, natural_field_always, left = natural_bottom4, color = '#3D9DD9')\n",
        "\n",
        "ax.spines['right'].set_visible(False)\n",
        "ax.spines['top'].set_visible(False)\n",
        "ax.spines['left'].set_visible(True)\n",
        "ax.spines['bottom'].set_visible(False)\n",
        "\n",
        "ax.yaxis.grid(False)\n",
        "ax.xaxis.grid(True, which='major', color='#BFBFBF')\n",
        "ax.set_axisbelow(True)\n",
        "\n",
        "plt.ylabel(\"Emotions\", fontsize=12)\n",
        "plt.xlabel(\"Responses\", fontsize=12)\n",
        "plt.title(\"Emotions Rate felt by Natural and Life Science Students\", fontsize = 20, fontweight='bold')\n",
        "ax.legend(labels, bbox_to_anchor=(0.5,-0.14), loc='lower center', ncol=5, fontsize = 13)\n",
        "plt.show()"
      ],
      "metadata": {
        "colab": {
          "base_uri": "https://localhost:8080/",
          "height": 548
        },
        "id": "2XhfABJ5AXhn",
        "outputId": "6a49c81b-8313-4f7f-a6ab-2d24f4d4400c"
      },
      "execution_count": 389,
      "outputs": [
        {
          "output_type": "display_data",
          "data": {
            "text/plain": [
              "<Figure size 1368x648 with 1 Axes>"
            ],
            "image/png": "[encoded data removed]"
          },
          "metadata": {
            "needs_background": "light"
          }
        }
      ]
    },
    {
      "cell_type": "markdown",
      "source": [
        "Emotions Rate Felt by Technical Students"
      ],
      "metadata": {
        "id": "-ZKA13j-duKC"
      }
    },
    {
      "cell_type": "code",
      "source": [
        "fig, ax = plt.subplots(figsize=(19, 9))\n",
        "labels = [\"Never\", \"Rarely\", \"Sometimes\", \"Often\", \"Always\"]\n",
        "category_labels = [\"Joyful\", \"Hopeful\", \"Proud\", \"Frustrated\", \"Angry\", \"Anxious\", \"Ashamed\", \"Relieved\", \"Hopeless\", \"Bored\"]\n",
        "\n",
        "technical_field_never = technical_data_joyful + technical_data_hopeful + technical_data_proud + technical_data_frustrated + technical_data_angry + technical_data_anxious + technical_data_ashamed + technical_data_relieved + technical_data_hopeless + technical_data_bored\n",
        "technical_field_rarely = technical_data1_joyful + technical_data1_hopeful + technical_data1_proud + technical_data1_frustrated + technical_data1_angry + technical_data1_anxious + technical_data1_ashamed + technical_data1_relieved + technical_data1_hopeless + technical_data1_bored\n",
        "technical_field_sometimes = technical_data2_joyful + technical_data2_hopeful + technical_data2_proud + technical_data2_frustrated + technical_data2_angry + technical_data2_anxious + technical_data2_ashamed + technical_data2_relieved + technical_data2_hopeless + technical_data2_bored\n",
        "technical_field_often = technical_data3_joyful + technical_data3_hopeful + technical_data3_proud + technical_data3_frustrated + technical_data3_angry + technical_data3_anxious + technical_data3_ashamed + technical_data3_relieved + technical_data3_hopeless + technical_data3_bored\n",
        "technical_field_always = technical_data4_joyful + technical_data4_hopeful + technical_data4_proud + technical_data4_frustrated + technical_data4_angry + technical_data4_anxious + technical_data4_ashamed + technical_data4_relieved + technical_data4_hopeless + technical_data4_bored\n",
        "\n",
        "technical_bottom1 = technical_field_never\n",
        "technical_bottom2 = [a+b for a,b in zip(technical_field_never, technical_field_rarely)]\n",
        "technical_bottom3 = [a+b+c for a,b,c in zip(technical_field_never, technical_field_rarely, technical_field_sometimes)]\n",
        "technical_bottom4 = [a+b+c+d for a,b,c,d in zip(technical_field_never, technical_field_rarely, technical_field_sometimes, technical_field_often)]\n",
        "\n",
        "p1 = ax.barh(category_labels, technical_field_never, color = '#F28B50')\n",
        "p2 = ax.barh(category_labels, technical_field_rarely, left = technical_bottom1, color = '#F2C0A2')\n",
        "p3 = ax.barh(category_labels, technical_field_sometimes, left = technical_bottom2, color = '#ABABAB')\n",
        "p4 = ax.barh(category_labels, technical_field_often, left = technical_bottom3, color = '#A2D4F2')\n",
        "p5 = ax.barh(category_labels, technical_field_always, left = technical_bottom4, color = '#3D9DD9')\n",
        "\n",
        "ax.spines['right'].set_visible(False)\n",
        "ax.spines['top'].set_visible(False)\n",
        "ax.spines['left'].set_visible(True)\n",
        "ax.spines['bottom'].set_visible(False)\n",
        "\n",
        "ax.yaxis.grid(False)\n",
        "ax.xaxis.grid(True, which='major', color='#BFBFBF')\n",
        "ax.set_axisbelow(True)\n",
        "\n",
        "plt.ylabel(\"Emotions\", fontsize=12)\n",
        "plt.xlabel(\"Responses\", fontsize=12)\n",
        "plt.title(\"Emotions Rate felt by Technical Students\", fontsize = 20, fontweight='bold')\n",
        "ax.legend(labels, bbox_to_anchor=(0.5,-0.14), loc='lower center', ncol=5, fontsize = 13)\n",
        "plt.show()"
      ],
      "metadata": {
        "colab": {
          "base_uri": "https://localhost:8080/",
          "height": 548
        },
        "id": "fiZeArg7Fc4B",
        "outputId": "bd902cad-f5a3-455a-fd14-c2b1f87bea5c"
      },
      "execution_count": 390,
      "outputs": [
        {
          "output_type": "display_data",
          "data": {
            "text/plain": [
              "<Figure size 1368x648 with 1 Axes>"
            ],
            "image/png": "[encoded data removed]"
          },
          "metadata": {
            "needs_background": "light"
          }
        }
      ]
    },
    {
      "cell_type": "markdown",
      "source": [
        "#Q7 and Q25(a, b, c, d, e, f, g, h, i, and j)- rate of emotions felt based on the age bracket\n",
        " \n",
        "\n"
      ],
      "metadata": {
        "id": "lHeRMsey4SLg"
      }
    },
    {
      "cell_type": "markdown",
      "source": [
        "Age grouping:  \n",
        "18 - 19 years old  \n",
        "20 - 21 years old  \n",
        "22 - 24 years old  \n",
        "25 years old and older"
      ],
      "metadata": {
        "id": "yh0Rc-4wcoSm"
      }
    },
    {
      "cell_type": "markdown",
      "source": [
        "Converting age into int dtype"
      ],
      "metadata": {
        "id": "v1LsG_MArotF"
      }
    },
    {
      "cell_type": "code",
      "source": [
        "final_dts['Q7'].unique()\n"
      ],
      "metadata": {
        "colab": {
          "base_uri": "https://localhost:8080/"
        },
        "id": "V-yxiv_P4-oJ",
        "outputId": "5685c6b0-bd65-460b-f72f-21a247879c48"
      },
      "execution_count": null,
      "outputs": [
        {
          "output_type": "execute_result",
          "data": {
            "text/plain": [
              "array([62, 28, 26, 25, 21, 45, 22, 31, 19, 23, 24, 44, 27, 20, 29, 18, 30,\n",
              "       56, 39, 34, 32, 33, 37, 43, 35, 40, 42])"
            ]
          },
          "metadata": {},
          "execution_count": 282
        }
      ]
    },
    {
      "cell_type": "code",
      "source": [
        "final_dts['Q7'].dtype"
      ],
      "metadata": {
        "colab": {
          "base_uri": "https://localhost:8080/"
        },
        "id": "GWFgOwPR5FNp",
        "outputId": "6e636ee9-a756-4c98-fba1-3692c7cbf183"
      },
      "execution_count": null,
      "outputs": [
        {
          "output_type": "execute_result",
          "data": {
            "text/plain": [
              "dtype('int64')"
            ]
          },
          "metadata": {},
          "execution_count": 283
        }
      ]
    },
    {
      "cell_type": "code",
      "source": [
        "final_dts['Q7'] = final_dts['Q7'].astype('int64')\n",
        "final_dts['Q7'].dtype"
      ],
      "metadata": {
        "colab": {
          "base_uri": "https://localhost:8080/"
        },
        "id": "ydxdZmU95GtR",
        "outputId": "ddf21533-d3ee-4dbe-cedf-a5a1243b83e5"
      },
      "execution_count": null,
      "outputs": [
        {
          "output_type": "execute_result",
          "data": {
            "text/plain": [
              "dtype('int64')"
            ]
          },
          "metadata": {},
          "execution_count": 284
        }
      ]
    },
    {
      "cell_type": "code",
      "source": [
        "final_dts['Q7'].unique()"
      ],
      "metadata": {
        "colab": {
          "base_uri": "https://localhost:8080/"
        },
        "id": "ggsTqJkXsOwg",
        "outputId": "3c4b7849-3fdb-4505-fb2d-723c38f9be72"
      },
      "execution_count": null,
      "outputs": [
        {
          "output_type": "execute_result",
          "data": {
            "text/plain": [
              "array([62, 28, 26, 25, 21, 45, 22, 31, 19, 23, 24, 44, 27, 20, 29, 18, 30,\n",
              "       56, 39, 34, 32, 33, 37, 43, 35, 40, 42])"
            ]
          },
          "metadata": {},
          "execution_count": 285
        }
      ]
    },
    {
      "cell_type": "markdown",
      "source": [
        "Dataframe of Q7 and Q25\n"
      ],
      "metadata": {
        "id": "MQlMmw6e_xWa"
      }
    },
    {
      "cell_type": "code",
      "source": [
        "q7_q25_df = final_dts[['Q7', 'Q25a', 'Q25b', 'Q25c', 'Q25d', 'Q25e', 'Q25f', 'Q25g', 'Q25h', 'Q25i', 'Q25j']].sort_values(by='Q7')\n",
        "q7_q25_df.set_index(['Q7'], inplace=True)\n",
        "q7_q25_df"
      ],
      "metadata": {
        "colab": {
          "base_uri": "https://localhost:8080/",
          "height": 455
        },
        "id": "LLoknOGqB2B8",
        "outputId": "a467e344-e338-4395-d03b-3db68d514ac9"
      },
      "execution_count": null,
      "outputs": [
        {
          "output_type": "execute_result",
          "data": {
            "text/plain": [
              "    Q25a  Q25b  Q25c  Q25d  Q25e  Q25f  Q25g  Q25h  Q25i  Q25j\n",
              "Q7                                                            \n",
              "18   3.0   3.0   3.0   3.0   3.0   3.0   1.0   3.0   3.0   3.0\n",
              "18   3.0   3.0   3.0   3.0   3.0   3.0   1.0   3.0   3.0   3.0\n",
              "18   3.0   3.0   3.0   3.0   3.0   3.0   1.0   3.0   3.0   3.0\n",
              "18   5.0   4.0   3.0   2.0   1.0   2.0   1.0   2.0   2.0   2.0\n",
              "18   3.0   3.0   3.0   3.0   3.0   3.0   1.0   3.0   3.0   3.0\n",
              "..   ...   ...   ...   ...   ...   ...   ...   ...   ...   ...\n",
              "44   3.0   3.0   3.0   3.0   3.0   3.0   1.0   3.0   3.0   3.0\n",
              "45   2.0   5.0   3.0   2.0   2.0   2.0   3.0   2.0   1.0   3.0\n",
              "45   4.0   4.0   4.0   3.0   1.0   2.0   2.0   4.0   1.0   2.0\n",
              "56   3.0   3.0   3.0   3.0   3.0   3.0   1.0   3.0   3.0   3.0\n",
              "62   1.0   1.0   1.0   4.0   4.0   5.0   3.0   1.0   5.0   5.0\n",
              "\n",
              "[1600 rows x 10 columns]"
            ],
            "text/html": [
              "\n",
              "  <div id=\"df-1e631f47-31f2-449e-b4ab-ebd718628d3d\">\n",
              "    <div class=\"colab-df-container\">\n",
              "      <div>\n",
              "<style scoped>\n",
              "    .dataframe tbody tr th:only-of-type {\n",
              "        vertical-align: middle;\n",
              "    }\n",
              "\n",
              "    .dataframe tbody tr th {\n",
              "        vertical-align: top;\n",
              "    }\n",
              "\n",
              "    .dataframe thead th {\n",
              "        text-align: right;\n",
              "    }\n",
              "</style>\n",
              "<table border=\"1\" class=\"dataframe\">\n",
              "  <thead>\n",
              "    <tr style=\"text-align: right;\">\n",
              "      <th></th>\n",
              "      <th>Q25a</th>\n",
              "      <th>Q25b</th>\n",
              "      <th>Q25c</th>\n",
              "      <th>Q25d</th>\n",
              "      <th>Q25e</th>\n",
              "      <th>Q25f</th>\n",
              "      <th>Q25g</th>\n",
              "      <th>Q25h</th>\n",
              "      <th>Q25i</th>\n",
              "      <th>Q25j</th>\n",
              "    </tr>\n",
              "    <tr>\n",
              "      <th>Q7</th>\n",
              "      <th></th>\n",
              "      <th></th>\n",
              "      <th></th>\n",
              "      <th></th>\n",
              "      <th></th>\n",
              "      <th></th>\n",
              "      <th></th>\n",
              "      <th></th>\n",
              "      <th></th>\n",
              "      <th></th>\n",
              "    </tr>\n",
              "  </thead>\n",
              "  <tbody>\n",
              "    <tr>\n",
              "      <th>18</th>\n",
              "      <td>3.0</td>\n",
              "      <td>3.0</td>\n",
              "      <td>3.0</td>\n",
              "      <td>3.0</td>\n",
              "      <td>3.0</td>\n",
              "      <td>3.0</td>\n",
              "      <td>1.0</td>\n",
              "      <td>3.0</td>\n",
              "      <td>3.0</td>\n",
              "      <td>3.0</td>\n",
              "    </tr>\n",
              "    <tr>\n",
              "      <th>18</th>\n",
              "      <td>3.0</td>\n",
              "      <td>3.0</td>\n",
              "      <td>3.0</td>\n",
              "      <td>3.0</td>\n",
              "      <td>3.0</td>\n",
              "      <td>3.0</td>\n",
              "      <td>1.0</td>\n",
              "      <td>3.0</td>\n",
              "      <td>3.0</td>\n",
              "      <td>3.0</td>\n",
              "    </tr>\n",
              "    <tr>\n",
              "      <th>18</th>\n",
              "      <td>3.0</td>\n",
              "      <td>3.0</td>\n",
              "      <td>3.0</td>\n",
              "      <td>3.0</td>\n",
              "      <td>3.0</td>\n",
              "      <td>3.0</td>\n",
              "      <td>1.0</td>\n",
              "      <td>3.0</td>\n",
              "      <td>3.0</td>\n",
              "      <td>3.0</td>\n",
              "    </tr>\n",
              "    <tr>\n",
              "      <th>18</th>\n",
              "      <td>5.0</td>\n",
              "      <td>4.0</td>\n",
              "      <td>3.0</td>\n",
              "      <td>2.0</td>\n",
              "      <td>1.0</td>\n",
              "      <td>2.0</td>\n",
              "      <td>1.0</td>\n",
              "      <td>2.0</td>\n",
              "      <td>2.0</td>\n",
              "      <td>2.0</td>\n",
              "    </tr>\n",
              "    <tr>\n",
              "      <th>18</th>\n",
              "      <td>3.0</td>\n",
              "      <td>3.0</td>\n",
              "      <td>3.0</td>\n",
              "      <td>3.0</td>\n",
              "      <td>3.0</td>\n",
              "      <td>3.0</td>\n",
              "      <td>1.0</td>\n",
              "      <td>3.0</td>\n",
              "      <td>3.0</td>\n",
              "      <td>3.0</td>\n",
              "    </tr>\n",
              "    <tr>\n",
              "      <th>...</th>\n",
              "      <td>...</td>\n",
              "      <td>...</td>\n",
              "      <td>...</td>\n",
              "      <td>...</td>\n",
              "      <td>...</td>\n",
              "      <td>...</td>\n",
              "      <td>...</td>\n",
              "      <td>...</td>\n",
              "      <td>...</td>\n",
              "      <td>...</td>\n",
              "    </tr>\n",
              "    <tr>\n",
              "      <th>44</th>\n",
              "      <td>3.0</td>\n",
              "      <td>3.0</td>\n",
              "      <td>3.0</td>\n",
              "      <td>3.0</td>\n",
              "      <td>3.0</td>\n",
              "      <td>3.0</td>\n",
              "      <td>1.0</td>\n",
              "      <td>3.0</td>\n",
              "      <td>3.0</td>\n",
              "      <td>3.0</td>\n",
              "    </tr>\n",
              "    <tr>\n",
              "      <th>45</th>\n",
              "      <td>2.0</td>\n",
              "      <td>5.0</td>\n",
              "      <td>3.0</td>\n",
              "      <td>2.0</td>\n",
              "      <td>2.0</td>\n",
              "      <td>2.0</td>\n",
              "      <td>3.0</td>\n",
              "      <td>2.0</td>\n",
              "      <td>1.0</td>\n",
              "      <td>3.0</td>\n",
              "    </tr>\n",
              "    <tr>\n",
              "      <th>45</th>\n",
              "      <td>4.0</td>\n",
              "      <td>4.0</td>\n",
              "      <td>4.0</td>\n",
              "      <td>3.0</td>\n",
              "      <td>1.0</td>\n",
              "      <td>2.0</td>\n",
              "      <td>2.0</td>\n",
              "      <td>4.0</td>\n",
              "      <td>1.0</td>\n",
              "      <td>2.0</td>\n",
              "    </tr>\n",
              "    <tr>\n",
              "      <th>56</th>\n",
              "      <td>3.0</td>\n",
              "      <td>3.0</td>\n",
              "      <td>3.0</td>\n",
              "      <td>3.0</td>\n",
              "      <td>3.0</td>\n",
              "      <td>3.0</td>\n",
              "      <td>1.0</td>\n",
              "      <td>3.0</td>\n",
              "      <td>3.0</td>\n",
              "      <td>3.0</td>\n",
              "    </tr>\n",
              "    <tr>\n",
              "      <th>62</th>\n",
              "      <td>1.0</td>\n",
              "      <td>1.0</td>\n",
              "      <td>1.0</td>\n",
              "      <td>4.0</td>\n",
              "      <td>4.0</td>\n",
              "      <td>5.0</td>\n",
              "      <td>3.0</td>\n",
              "      <td>1.0</td>\n",
              "      <td>5.0</td>\n",
              "      <td>5.0</td>\n",
              "    </tr>\n",
              "  </tbody>\n",
              "</table>\n",
              "<p>1600 rows × 10 columns</p>\n",
              "</div>\n",
              "      <button class=\"colab-df-convert\" onclick=\"convertToInteractive('df-1e631f47-31f2-449e-b4ab-ebd718628d3d')\"\n",
              "              title=\"Convert this dataframe to an interactive table.\"\n",
              "              style=\"display:none;\">\n",
              "        \n",
              "  <svg xmlns=\"http://www.w3.org/2000/svg\" height=\"24px\"viewBox=\"0 0 24 24\"\n",
              "       width=\"24px\">\n",
              "    <path d=\"M0 0h24v24H0V0z\" fill=\"none\"/>\n",
              "    <path d=\"M18.56 5.44l.94 2.06.94-2.06 2.06-.94-2.06-.94-.94-2.06-.94 2.06-2.06.94zm-11 1L8.5 8.5l.94-2.06 2.06-.94-2.06-.94L8.5 2.5l-.94 2.06-2.06.94zm10 10l.94 2.06.94-2.06 2.06-.94-2.06-.94-.94-2.06-.94 2.06-2.06.94z\"/><path d=\"M17.41 7.96l-1.37-1.37c-.4-.4-.92-.59-1.43-.59-.52 0-1.04.2-1.43.59L10.3 9.45l-7.72 7.72c-.78.78-.78 2.05 0 2.83L4 21.41c.39.39.9.59 1.41.59.51 0 1.02-.2 1.41-.59l7.78-7.78 2.81-2.81c.8-.78.8-2.07 0-2.86zM5.41 20L4 18.59l7.72-7.72 1.47 1.35L5.41 20z\"/>\n",
              "  </svg>\n",
              "      </button>\n",
              "      \n",
              "  <style>\n",
              "    .colab-df-container {\n",
              "      display:flex;\n",
              "      flex-wrap:wrap;\n",
              "      gap: 12px;\n",
              "    }\n",
              "\n",
              "    .colab-df-convert {\n",
              "      background-color: #E8F0FE;\n",
              "      border: none;\n",
              "      border-radius: 50%;\n",
              "      cursor: pointer;\n",
              "      display: none;\n",
              "      fill: #1967D2;\n",
              "      height: 32px;\n",
              "      padding: 0 0 0 0;\n",
              "      width: 32px;\n",
              "    }\n",
              "\n",
              "    .colab-df-convert:hover {\n",
              "      background-color: #E2EBFA;\n",
              "      box-shadow: 0px 1px 2px rgba(60, 64, 67, 0.3), 0px 1px 3px 1px rgba(60, 64, 67, 0.15);\n",
              "      fill: #174EA6;\n",
              "    }\n",
              "\n",
              "    [theme=dark] .colab-df-convert {\n",
              "      background-color: #3B4455;\n",
              "      fill: #D2E3FC;\n",
              "    }\n",
              "\n",
              "    [theme=dark] .colab-df-convert:hover {\n",
              "      background-color: #434B5C;\n",
              "      box-shadow: 0px 1px 3px 1px rgba(0, 0, 0, 0.15);\n",
              "      filter: drop-shadow(0px 1px 2px rgba(0, 0, 0, 0.3));\n",
              "      fill: #FFFFFF;\n",
              "    }\n",
              "  </style>\n",
              "\n",
              "      <script>\n",
              "        const buttonEl =\n",
              "          document.querySelector('#df-1e631f47-31f2-449e-b4ab-ebd718628d3d button.colab-df-convert');\n",
              "        buttonEl.style.display =\n",
              "          google.colab.kernel.accessAllowed ? 'block' : 'none';\n",
              "\n",
              "        async function convertToInteractive(key) {\n",
              "          const element = document.querySelector('#df-1e631f47-31f2-449e-b4ab-ebd718628d3d');\n",
              "          const dataTable =\n",
              "            await google.colab.kernel.invokeFunction('convertToInteractive',\n",
              "                                                     [key], {});\n",
              "          if (!dataTable) return;\n",
              "\n",
              "          const docLinkHtml = 'Like what you see? Visit the ' +\n",
              "            '<a target=\"_blank\" href=https://colab.research.google.com/notebooks/data_table.ipynb>data table notebook</a>'\n",
              "            + ' to learn more about interactive tables.';\n",
              "          element.innerHTML = '';\n",
              "          dataTable['output_type'] = 'display_data';\n",
              "          await google.colab.output.renderOutput(dataTable, element);\n",
              "          const docLink = document.createElement('div');\n",
              "          docLink.innerHTML = docLinkHtml;\n",
              "          element.appendChild(docLink);\n",
              "        }\n",
              "      </script>\n",
              "    </div>\n",
              "  </div>\n",
              "  "
            ]
          },
          "metadata": {},
          "execution_count": 286
        }
      ]
    },
    {
      "cell_type": "code",
      "source": [
        "#breaking down dataframe based on age groups\n",
        "age_18_to_19_df = q7_q25_df.loc[18:19]\n",
        "age_20_to_21_df = q7_q25_df.loc[20:21]\n",
        "age_22_to_24_df = q7_q25_df.loc[22:24]\n",
        "age_25_older_df = q7_q25_df.loc[25:]"
      ],
      "metadata": {
        "id": "9jEwXhF3ZNdc"
      },
      "execution_count": null,
      "outputs": []
    },
    {
      "cell_type": "code",
      "source": [
        "age_25_older_df"
      ],
      "metadata": {
        "colab": {
          "base_uri": "https://localhost:8080/",
          "height": 455
        },
        "id": "kmLxhD4BIBgc",
        "outputId": "4c48f534-8b56-4bc3-98a6-a0a95e7b9b2d"
      },
      "execution_count": null,
      "outputs": [
        {
          "output_type": "execute_result",
          "data": {
            "text/plain": [
              "    Q25a  Q25b  Q25c  Q25d  Q25e  Q25f  Q25g  Q25h  Q25i  Q25j\n",
              "Q7                                                            \n",
              "25   3.0   5.0   4.0   5.0   4.0   3.0   2.0   3.0   3.0   5.0\n",
              "25   3.0   3.0   3.0   3.0   3.0   3.0   1.0   3.0   3.0   3.0\n",
              "25   3.0   3.0   3.0   3.0   3.0   3.0   1.0   3.0   3.0   3.0\n",
              "25   2.0   2.0   2.0   4.0   3.0   4.0   1.0   2.0   4.0   4.0\n",
              "25   3.0   3.0   3.0   3.0   3.0   3.0   1.0   3.0   3.0   3.0\n",
              "..   ...   ...   ...   ...   ...   ...   ...   ...   ...   ...\n",
              "44   3.0   3.0   3.0   3.0   3.0   3.0   1.0   3.0   3.0   3.0\n",
              "45   2.0   5.0   3.0   2.0   2.0   2.0   3.0   2.0   1.0   3.0\n",
              "45   4.0   4.0   4.0   3.0   1.0   2.0   2.0   4.0   1.0   2.0\n",
              "56   3.0   3.0   3.0   3.0   3.0   3.0   1.0   3.0   3.0   3.0\n",
              "62   1.0   1.0   1.0   4.0   4.0   5.0   3.0   1.0   5.0   5.0\n",
              "\n",
              "[110 rows x 10 columns]"
            ],
            "text/html": [
              "\n",
              "  <div id=\"df-c2f24a67-8422-4765-88d8-b150b77bf37c\">\n",
              "    <div class=\"colab-df-container\">\n",
              "      <div>\n",
              "<style scoped>\n",
              "    .dataframe tbody tr th:only-of-type {\n",
              "        vertical-align: middle;\n",
              "    }\n",
              "\n",
              "    .dataframe tbody tr th {\n",
              "        vertical-align: top;\n",
              "    }\n",
              "\n",
              "    .dataframe thead th {\n",
              "        text-align: right;\n",
              "    }\n",
              "</style>\n",
              "<table border=\"1\" class=\"dataframe\">\n",
              "  <thead>\n",
              "    <tr style=\"text-align: right;\">\n",
              "      <th></th>\n",
              "      <th>Q25a</th>\n",
              "      <th>Q25b</th>\n",
              "      <th>Q25c</th>\n",
              "      <th>Q25d</th>\n",
              "      <th>Q25e</th>\n",
              "      <th>Q25f</th>\n",
              "      <th>Q25g</th>\n",
              "      <th>Q25h</th>\n",
              "      <th>Q25i</th>\n",
              "      <th>Q25j</th>\n",
              "    </tr>\n",
              "    <tr>\n",
              "      <th>Q7</th>\n",
              "      <th></th>\n",
              "      <th></th>\n",
              "      <th></th>\n",
              "      <th></th>\n",
              "      <th></th>\n",
              "      <th></th>\n",
              "      <th></th>\n",
              "      <th></th>\n",
              "      <th></th>\n",
              "      <th></th>\n",
              "    </tr>\n",
              "  </thead>\n",
              "  <tbody>\n",
              "    <tr>\n",
              "      <th>25</th>\n",
              "      <td>3.0</td>\n",
              "      <td>5.0</td>\n",
              "      <td>4.0</td>\n",
              "      <td>5.0</td>\n",
              "      <td>4.0</td>\n",
              "      <td>3.0</td>\n",
              "      <td>2.0</td>\n",
              "      <td>3.0</td>\n",
              "      <td>3.0</td>\n",
              "      <td>5.0</td>\n",
              "    </tr>\n",
              "    <tr>\n",
              "      <th>25</th>\n",
              "      <td>3.0</td>\n",
              "      <td>3.0</td>\n",
              "      <td>3.0</td>\n",
              "      <td>3.0</td>\n",
              "      <td>3.0</td>\n",
              "      <td>3.0</td>\n",
              "      <td>1.0</td>\n",
              "      <td>3.0</td>\n",
              "      <td>3.0</td>\n",
              "      <td>3.0</td>\n",
              "    </tr>\n",
              "    <tr>\n",
              "      <th>25</th>\n",
              "      <td>3.0</td>\n",
              "      <td>3.0</td>\n",
              "      <td>3.0</td>\n",
              "      <td>3.0</td>\n",
              "      <td>3.0</td>\n",
              "      <td>3.0</td>\n",
              "      <td>1.0</td>\n",
              "      <td>3.0</td>\n",
              "      <td>3.0</td>\n",
              "      <td>3.0</td>\n",
              "    </tr>\n",
              "    <tr>\n",
              "      <th>25</th>\n",
              "      <td>2.0</td>\n",
              "      <td>2.0</td>\n",
              "      <td>2.0</td>\n",
              "      <td>4.0</td>\n",
              "      <td>3.0</td>\n",
              "      <td>4.0</td>\n",
              "      <td>1.0</td>\n",
              "      <td>2.0</td>\n",
              "      <td>4.0</td>\n",
              "      <td>4.0</td>\n",
              "    </tr>\n",
              "    <tr>\n",
              "      <th>25</th>\n",
              "      <td>3.0</td>\n",
              "      <td>3.0</td>\n",
              "      <td>3.0</td>\n",
              "      <td>3.0</td>\n",
              "      <td>3.0</td>\n",
              "      <td>3.0</td>\n",
              "      <td>1.0</td>\n",
              "      <td>3.0</td>\n",
              "      <td>3.0</td>\n",
              "      <td>3.0</td>\n",
              "    </tr>\n",
              "    <tr>\n",
              "      <th>...</th>\n",
              "      <td>...</td>\n",
              "      <td>...</td>\n",
              "      <td>...</td>\n",
              "      <td>...</td>\n",
              "      <td>...</td>\n",
              "      <td>...</td>\n",
              "      <td>...</td>\n",
              "      <td>...</td>\n",
              "      <td>...</td>\n",
              "      <td>...</td>\n",
              "    </tr>\n",
              "    <tr>\n",
              "      <th>44</th>\n",
              "      <td>3.0</td>\n",
              "      <td>3.0</td>\n",
              "      <td>3.0</td>\n",
              "      <td>3.0</td>\n",
              "      <td>3.0</td>\n",
              "      <td>3.0</td>\n",
              "      <td>1.0</td>\n",
              "      <td>3.0</td>\n",
              "      <td>3.0</td>\n",
              "      <td>3.0</td>\n",
              "    </tr>\n",
              "    <tr>\n",
              "      <th>45</th>\n",
              "      <td>2.0</td>\n",
              "      <td>5.0</td>\n",
              "      <td>3.0</td>\n",
              "      <td>2.0</td>\n",
              "      <td>2.0</td>\n",
              "      <td>2.0</td>\n",
              "      <td>3.0</td>\n",
              "      <td>2.0</td>\n",
              "      <td>1.0</td>\n",
              "      <td>3.0</td>\n",
              "    </tr>\n",
              "    <tr>\n",
              "      <th>45</th>\n",
              "      <td>4.0</td>\n",
              "      <td>4.0</td>\n",
              "      <td>4.0</td>\n",
              "      <td>3.0</td>\n",
              "      <td>1.0</td>\n",
              "      <td>2.0</td>\n",
              "      <td>2.0</td>\n",
              "      <td>4.0</td>\n",
              "      <td>1.0</td>\n",
              "      <td>2.0</td>\n",
              "    </tr>\n",
              "    <tr>\n",
              "      <th>56</th>\n",
              "      <td>3.0</td>\n",
              "      <td>3.0</td>\n",
              "      <td>3.0</td>\n",
              "      <td>3.0</td>\n",
              "      <td>3.0</td>\n",
              "      <td>3.0</td>\n",
              "      <td>1.0</td>\n",
              "      <td>3.0</td>\n",
              "      <td>3.0</td>\n",
              "      <td>3.0</td>\n",
              "    </tr>\n",
              "    <tr>\n",
              "      <th>62</th>\n",
              "      <td>1.0</td>\n",
              "      <td>1.0</td>\n",
              "      <td>1.0</td>\n",
              "      <td>4.0</td>\n",
              "      <td>4.0</td>\n",
              "      <td>5.0</td>\n",
              "      <td>3.0</td>\n",
              "      <td>1.0</td>\n",
              "      <td>5.0</td>\n",
              "      <td>5.0</td>\n",
              "    </tr>\n",
              "  </tbody>\n",
              "</table>\n",
              "<p>110 rows × 10 columns</p>\n",
              "</div>\n",
              "      <button class=\"colab-df-convert\" onclick=\"convertToInteractive('df-c2f24a67-8422-4765-88d8-b150b77bf37c')\"\n",
              "              title=\"Convert this dataframe to an interactive table.\"\n",
              "              style=\"display:none;\">\n",
              "        \n",
              "  <svg xmlns=\"http://www.w3.org/2000/svg\" height=\"24px\"viewBox=\"0 0 24 24\"\n",
              "       width=\"24px\">\n",
              "    <path d=\"M0 0h24v24H0V0z\" fill=\"none\"/>\n",
              "    <path d=\"M18.56 5.44l.94 2.06.94-2.06 2.06-.94-2.06-.94-.94-2.06-.94 2.06-2.06.94zm-11 1L8.5 8.5l.94-2.06 2.06-.94-2.06-.94L8.5 2.5l-.94 2.06-2.06.94zm10 10l.94 2.06.94-2.06 2.06-.94-2.06-.94-.94-2.06-.94 2.06-2.06.94z\"/><path d=\"M17.41 7.96l-1.37-1.37c-.4-.4-.92-.59-1.43-.59-.52 0-1.04.2-1.43.59L10.3 9.45l-7.72 7.72c-.78.78-.78 2.05 0 2.83L4 21.41c.39.39.9.59 1.41.59.51 0 1.02-.2 1.41-.59l7.78-7.78 2.81-2.81c.8-.78.8-2.07 0-2.86zM5.41 20L4 18.59l7.72-7.72 1.47 1.35L5.41 20z\"/>\n",
              "  </svg>\n",
              "      </button>\n",
              "      \n",
              "  <style>\n",
              "    .colab-df-container {\n",
              "      display:flex;\n",
              "      flex-wrap:wrap;\n",
              "      gap: 12px;\n",
              "    }\n",
              "\n",
              "    .colab-df-convert {\n",
              "      background-color: #E8F0FE;\n",
              "      border: none;\n",
              "      border-radius: 50%;\n",
              "      cursor: pointer;\n",
              "      display: none;\n",
              "      fill: #1967D2;\n",
              "      height: 32px;\n",
              "      padding: 0 0 0 0;\n",
              "      width: 32px;\n",
              "    }\n",
              "\n",
              "    .colab-df-convert:hover {\n",
              "      background-color: #E2EBFA;\n",
              "      box-shadow: 0px 1px 2px rgba(60, 64, 67, 0.3), 0px 1px 3px 1px rgba(60, 64, 67, 0.15);\n",
              "      fill: #174EA6;\n",
              "    }\n",
              "\n",
              "    [theme=dark] .colab-df-convert {\n",
              "      background-color: #3B4455;\n",
              "      fill: #D2E3FC;\n",
              "    }\n",
              "\n",
              "    [theme=dark] .colab-df-convert:hover {\n",
              "      background-color: #434B5C;\n",
              "      box-shadow: 0px 1px 3px 1px rgba(0, 0, 0, 0.15);\n",
              "      filter: drop-shadow(0px 1px 2px rgba(0, 0, 0, 0.3));\n",
              "      fill: #FFFFFF;\n",
              "    }\n",
              "  </style>\n",
              "\n",
              "      <script>\n",
              "        const buttonEl =\n",
              "          document.querySelector('#df-c2f24a67-8422-4765-88d8-b150b77bf37c button.colab-df-convert');\n",
              "        buttonEl.style.display =\n",
              "          google.colab.kernel.accessAllowed ? 'block' : 'none';\n",
              "\n",
              "        async function convertToInteractive(key) {\n",
              "          const element = document.querySelector('#df-c2f24a67-8422-4765-88d8-b150b77bf37c');\n",
              "          const dataTable =\n",
              "            await google.colab.kernel.invokeFunction('convertToInteractive',\n",
              "                                                     [key], {});\n",
              "          if (!dataTable) return;\n",
              "\n",
              "          const docLinkHtml = 'Like what you see? Visit the ' +\n",
              "            '<a target=\"_blank\" href=https://colab.research.google.com/notebooks/data_table.ipynb>data table notebook</a>'\n",
              "            + ' to learn more about interactive tables.';\n",
              "          element.innerHTML = '';\n",
              "          dataTable['output_type'] = 'display_data';\n",
              "          await google.colab.output.renderOutput(dataTable, element);\n",
              "          const docLink = document.createElement('div');\n",
              "          docLink.innerHTML = docLinkHtml;\n",
              "          element.appendChild(docLink);\n",
              "        }\n",
              "      </script>\n",
              "    </div>\n",
              "  </div>\n",
              "  "
            ]
          },
          "metadata": {},
          "execution_count": 288
        }
      ]
    },
    {
      "cell_type": "markdown",
      "source": [
        "Emotion rate based within 18 to 19 age\n"
      ],
      "metadata": {
        "id": "zMiTsgFs044W"
      }
    },
    {
      "cell_type": "markdown",
      "source": [
        "Preparing variables to be used in plotting\n"
      ],
      "metadata": {
        "id": "EybKDTaud408"
      }
    },
    {
      "cell_type": "markdown",
      "source": [
        "Computing the composition of each Q25 emotion based on 18 and 19 (for testing)"
      ],
      "metadata": {
        "id": "TVbnGPAod6aM"
      }
    },
    {
      "cell_type": "code",
      "source": [
        "q25 = ['Q25a', 'Q25b', 'Q25c', 'Q25d', 'Q25e', 'Q25f', 'Q25g', 'Q25h', 'Q25i', 'Q25j']\n",
        "scale_schema = {\n",
        "    '1.0': 'Never',\n",
        "    '2.0': 'Rarely',\n",
        "    '3.0': 'Sometimes',\n",
        "    '4.0': 'Often',\n",
        "    '5.0': 'Always'\n",
        "}\n",
        "q25_reponses_dict = {\n",
        "    'Never': [],\n",
        "    'Rarely': [],\n",
        "    'Sometimes': [],\n",
        "    'Often': [],\n",
        "    'Always': [],\n",
        "}"
      ],
      "metadata": {
        "id": "wxlAn-GFVX-F"
      },
      "execution_count": null,
      "outputs": []
    },
    {
      "cell_type": "code",
      "source": [
        "index = age_22_to_24_df[q25[0]].value_counts(normalize=True).index\n",
        "values = age_22_to_24_df[q25[0]].value_counts(normalize=True).values\n",
        "portions = [round(x*100,2) for x in values] #multiply by 100 each values"
      ],
      "metadata": {
        "id": "rOc5d5VHjuHM"
      },
      "execution_count": null,
      "outputs": []
    },
    {
      "cell_type": "code",
      "source": [
        "portions"
      ],
      "metadata": {
        "colab": {
          "base_uri": "https://localhost:8080/"
        },
        "id": "i_35vik3j2no",
        "outputId": "b099f126-bf26-444d-e188-50e52ccccc12"
      },
      "execution_count": null,
      "outputs": [
        {
          "output_type": "execute_result",
          "data": {
            "text/plain": [
              "[60.0, 12.38, 11.9, 10.95, 4.76]"
            ]
          },
          "metadata": {},
          "execution_count": 291
        }
      ]
    },
    {
      "cell_type": "code",
      "source": [
        "for q in q25:\n",
        "  index = age_22_to_24_df[q].value_counts(normalize=True).index.astype(str)\n",
        "  values = age_22_to_24_df[q].value_counts(normalize=True).values\n",
        "  portions = [round(x*100, 2) for x in values] #multiply by 100 each values\n",
        "  for key, val in zip(index, portions):\n",
        "    q25_reponses_dict[scale_schema[key]].append(val)"
      ],
      "metadata": {
        "id": "pPzBRjNMVZDk"
      },
      "execution_count": null,
      "outputs": []
    },
    {
      "cell_type": "code",
      "source": [
        "index[0]"
      ],
      "metadata": {
        "colab": {
          "base_uri": "https://localhost:8080/",
          "height": 36
        },
        "id": "EX74eMi1LHeC",
        "outputId": "38b716bb-19a1-4f27-c56c-cbc9751969cb"
      },
      "execution_count": null,
      "outputs": [
        {
          "output_type": "execute_result",
          "data": {
            "text/plain": [
              "'3.0'"
            ],
            "application/vnd.google.colaboratory.intrinsic+json": {
              "type": "string"
            }
          },
          "metadata": {},
          "execution_count": 293
        }
      ]
    },
    {
      "cell_type": "code",
      "source": [
        "summary_df = pd.DataFrame(q25_reponses_dict, index=q25)\n",
        "summary_df"
      ],
      "metadata": {
        "colab": {
          "base_uri": "https://localhost:8080/",
          "height": 363
        },
        "id": "ra9zgOvtjOCz",
        "outputId": "b072e172-aaf5-41b8-caac-56553d5f5f83"
      },
      "execution_count": null,
      "outputs": [
        {
          "output_type": "execute_result",
          "data": {
            "text/plain": [
              "      Never  Rarely  Sometimes  Often  Always\n",
              "Q25a  11.90   10.95      60.00  12.38    4.76\n",
              "Q25b   6.19    6.43      57.86  15.48   14.05\n",
              "Q25c  12.62    9.29      57.14  11.90    9.05\n",
              "Q25d   6.90   11.90      62.14  12.14    6.90\n",
              "Q25e   9.29   14.29      60.00  11.19    5.24\n",
              "Q25f   8.10   10.71      61.90  12.62    6.67\n",
              "Q25g  66.43   13.81      13.57   5.00    1.19\n",
              "Q25h   9.05   11.67      65.71  10.71    2.86\n",
              "Q25i  17.86   11.90      57.62   8.33    4.29\n",
              "Q25j   6.43    7.38      57.14  16.43   12.62"
            ],
            "text/html": [
              "\n",
              "  <div id=\"df-2d3c6efc-489d-4dcb-a355-772e33fae8ff\">\n",
              "    <div class=\"colab-df-container\">\n",
              "      <div>\n",
              "<style scoped>\n",
              "    .dataframe tbody tr th:only-of-type {\n",
              "        vertical-align: middle;\n",
              "    }\n",
              "\n",
              "    .dataframe tbody tr th {\n",
              "        vertical-align: top;\n",
              "    }\n",
              "\n",
              "    .dataframe thead th {\n",
              "        text-align: right;\n",
              "    }\n",
              "</style>\n",
              "<table border=\"1\" class=\"dataframe\">\n",
              "  <thead>\n",
              "    <tr style=\"text-align: right;\">\n",
              "      <th></th>\n",
              "      <th>Never</th>\n",
              "      <th>Rarely</th>\n",
              "      <th>Sometimes</th>\n",
              "      <th>Often</th>\n",
              "      <th>Always</th>\n",
              "    </tr>\n",
              "  </thead>\n",
              "  <tbody>\n",
              "    <tr>\n",
              "      <th>Q25a</th>\n",
              "      <td>11.90</td>\n",
              "      <td>10.95</td>\n",
              "      <td>60.00</td>\n",
              "      <td>12.38</td>\n",
              "      <td>4.76</td>\n",
              "    </tr>\n",
              "    <tr>\n",
              "      <th>Q25b</th>\n",
              "      <td>6.19</td>\n",
              "      <td>6.43</td>\n",
              "      <td>57.86</td>\n",
              "      <td>15.48</td>\n",
              "      <td>14.05</td>\n",
              "    </tr>\n",
              "    <tr>\n",
              "      <th>Q25c</th>\n",
              "      <td>12.62</td>\n",
              "      <td>9.29</td>\n",
              "      <td>57.14</td>\n",
              "      <td>11.90</td>\n",
              "      <td>9.05</td>\n",
              "    </tr>\n",
              "    <tr>\n",
              "      <th>Q25d</th>\n",
              "      <td>6.90</td>\n",
              "      <td>11.90</td>\n",
              "      <td>62.14</td>\n",
              "      <td>12.14</td>\n",
              "      <td>6.90</td>\n",
              "    </tr>\n",
              "    <tr>\n",
              "      <th>Q25e</th>\n",
              "      <td>9.29</td>\n",
              "      <td>14.29</td>\n",
              "      <td>60.00</td>\n",
              "      <td>11.19</td>\n",
              "      <td>5.24</td>\n",
              "    </tr>\n",
              "    <tr>\n",
              "      <th>Q25f</th>\n",
              "      <td>8.10</td>\n",
              "      <td>10.71</td>\n",
              "      <td>61.90</td>\n",
              "      <td>12.62</td>\n",
              "      <td>6.67</td>\n",
              "    </tr>\n",
              "    <tr>\n",
              "      <th>Q25g</th>\n",
              "      <td>66.43</td>\n",
              "      <td>13.81</td>\n",
              "      <td>13.57</td>\n",
              "      <td>5.00</td>\n",
              "      <td>1.19</td>\n",
              "    </tr>\n",
              "    <tr>\n",
              "      <th>Q25h</th>\n",
              "      <td>9.05</td>\n",
              "      <td>11.67</td>\n",
              "      <td>65.71</td>\n",
              "      <td>10.71</td>\n",
              "      <td>2.86</td>\n",
              "    </tr>\n",
              "    <tr>\n",
              "      <th>Q25i</th>\n",
              "      <td>17.86</td>\n",
              "      <td>11.90</td>\n",
              "      <td>57.62</td>\n",
              "      <td>8.33</td>\n",
              "      <td>4.29</td>\n",
              "    </tr>\n",
              "    <tr>\n",
              "      <th>Q25j</th>\n",
              "      <td>6.43</td>\n",
              "      <td>7.38</td>\n",
              "      <td>57.14</td>\n",
              "      <td>16.43</td>\n",
              "      <td>12.62</td>\n",
              "    </tr>\n",
              "  </tbody>\n",
              "</table>\n",
              "</div>\n",
              "      <button class=\"colab-df-convert\" onclick=\"convertToInteractive('df-2d3c6efc-489d-4dcb-a355-772e33fae8ff')\"\n",
              "              title=\"Convert this dataframe to an interactive table.\"\n",
              "              style=\"display:none;\">\n",
              "        \n",
              "  <svg xmlns=\"http://www.w3.org/2000/svg\" height=\"24px\"viewBox=\"0 0 24 24\"\n",
              "       width=\"24px\">\n",
              "    <path d=\"M0 0h24v24H0V0z\" fill=\"none\"/>\n",
              "    <path d=\"M18.56 5.44l.94 2.06.94-2.06 2.06-.94-2.06-.94-.94-2.06-.94 2.06-2.06.94zm-11 1L8.5 8.5l.94-2.06 2.06-.94-2.06-.94L8.5 2.5l-.94 2.06-2.06.94zm10 10l.94 2.06.94-2.06 2.06-.94-2.06-.94-.94-2.06-.94 2.06-2.06.94z\"/><path d=\"M17.41 7.96l-1.37-1.37c-.4-.4-.92-.59-1.43-.59-.52 0-1.04.2-1.43.59L10.3 9.45l-7.72 7.72c-.78.78-.78 2.05 0 2.83L4 21.41c.39.39.9.59 1.41.59.51 0 1.02-.2 1.41-.59l7.78-7.78 2.81-2.81c.8-.78.8-2.07 0-2.86zM5.41 20L4 18.59l7.72-7.72 1.47 1.35L5.41 20z\"/>\n",
              "  </svg>\n",
              "      </button>\n",
              "      \n",
              "  <style>\n",
              "    .colab-df-container {\n",
              "      display:flex;\n",
              "      flex-wrap:wrap;\n",
              "      gap: 12px;\n",
              "    }\n",
              "\n",
              "    .colab-df-convert {\n",
              "      background-color: #E8F0FE;\n",
              "      border: none;\n",
              "      border-radius: 50%;\n",
              "      cursor: pointer;\n",
              "      display: none;\n",
              "      fill: #1967D2;\n",
              "      height: 32px;\n",
              "      padding: 0 0 0 0;\n",
              "      width: 32px;\n",
              "    }\n",
              "\n",
              "    .colab-df-convert:hover {\n",
              "      background-color: #E2EBFA;\n",
              "      box-shadow: 0px 1px 2px rgba(60, 64, 67, 0.3), 0px 1px 3px 1px rgba(60, 64, 67, 0.15);\n",
              "      fill: #174EA6;\n",
              "    }\n",
              "\n",
              "    [theme=dark] .colab-df-convert {\n",
              "      background-color: #3B4455;\n",
              "      fill: #D2E3FC;\n",
              "    }\n",
              "\n",
              "    [theme=dark] .colab-df-convert:hover {\n",
              "      background-color: #434B5C;\n",
              "      box-shadow: 0px 1px 3px 1px rgba(0, 0, 0, 0.15);\n",
              "      filter: drop-shadow(0px 1px 2px rgba(0, 0, 0, 0.3));\n",
              "      fill: #FFFFFF;\n",
              "    }\n",
              "  </style>\n",
              "\n",
              "      <script>\n",
              "        const buttonEl =\n",
              "          document.querySelector('#df-2d3c6efc-489d-4dcb-a355-772e33fae8ff button.colab-df-convert');\n",
              "        buttonEl.style.display =\n",
              "          google.colab.kernel.accessAllowed ? 'block' : 'none';\n",
              "\n",
              "        async function convertToInteractive(key) {\n",
              "          const element = document.querySelector('#df-2d3c6efc-489d-4dcb-a355-772e33fae8ff');\n",
              "          const dataTable =\n",
              "            await google.colab.kernel.invokeFunction('convertToInteractive',\n",
              "                                                     [key], {});\n",
              "          if (!dataTable) return;\n",
              "\n",
              "          const docLinkHtml = 'Like what you see? Visit the ' +\n",
              "            '<a target=\"_blank\" href=https://colab.research.google.com/notebooks/data_table.ipynb>data table notebook</a>'\n",
              "            + ' to learn more about interactive tables.';\n",
              "          element.innerHTML = '';\n",
              "          dataTable['output_type'] = 'display_data';\n",
              "          await google.colab.output.renderOutput(dataTable, element);\n",
              "          const docLink = document.createElement('div');\n",
              "          docLink.innerHTML = docLinkHtml;\n",
              "          element.appendChild(docLink);\n",
              "        }\n",
              "      </script>\n",
              "    </div>\n",
              "  </div>\n",
              "  "
            ]
          },
          "metadata": {},
          "execution_count": 294
        }
      ]
    },
    {
      "cell_type": "markdown",
      "source": [
        "Likert scale and labels"
      ],
      "metadata": {
        "id": "7VBviZ14_07b"
      }
    },
    {
      "cell_type": "code",
      "source": [
        "q25_scale_dict = {\n",
        "              '1.0': \"Never\", \n",
        "              '2.0': \"Rarely\", \n",
        "              '3.0': \"Sometimes\", \n",
        "              '4.0': \"Often\", \n",
        "              '5.0':\"Always\"\n",
        "            }\n",
        "q23_scale_dict = {\n",
        "              '1.0': \"Not at all\", \n",
        "              '2.0': \"Two or three times a month\", \n",
        "              '3.0': \"Once a week\", \n",
        "              '4.0': \"Several times a week\", \n",
        "              '5.0': \"Once a day\", \n",
        "              '6.0': \"Several times a day\"\n",
        "            }\n",
        "\n",
        "q25_scale_list = [\"Never\", \"Rarely\", \"Sometimes\", \"Often\", \"Always\"]\n",
        "q23_scale_list = [\"Not at all\", \"Two or three times a month\", \"Once a week\", \"Several times a week\", \"Once a day\", \"Several times a day\"]\n",
        "\n",
        "q25_labels = ['Joyful', 'Hopeful', 'Proud', 'Frustrated', 'Angry', 'Anxious', 'Ashamed', 'Relieved', 'Hopeless', 'Bored']\n",
        "q23_labels = ['Close family member', 'More distant family member', 'Close friend', 'Someone I live with (e.g. roommate)', 'Neighbours', 'Colleague from my course', 'Lecturer', 'Administrative staff', 'Voluntary organizations', 'Social networks']"
      ],
      "metadata": {
        "id": "YnNvwajuBBrf"
      },
      "execution_count": null,
      "outputs": []
    },
    {
      "cell_type": "markdown",
      "source": [
        "Functions"
      ],
      "metadata": {
        "id": "qhAfkB0f63Bt"
      }
    },
    {
      "cell_type": "code",
      "source": [
        "#for aggregating the q25\n",
        "#returns new dataframe of aggregated q25 responses \n",
        "def aggregate_q25(df, **likert_scale):\n",
        "  q25_responses_dict = {}\n",
        "  df_columns = list(df.columns)\n",
        "  #print(df_columns)\n",
        "  #populates the dict with likert scale properties\n",
        "  for scale in likert_scale.values():\n",
        "    q25_responses_dict[scale] = []\n",
        "    #print(q25_responses_dict)\n",
        "\n",
        "  #accumulates each percentage of likert scale per question/emotion\n",
        "  for col in df_columns:\n",
        "    #print(col)\n",
        "    index = df[col].value_counts(normalize=True).index.astype('str') #contains index from the result of value_counts\n",
        "    values = df[col].value_counts(normalize=True).values #contains value from the result of value_counts\n",
        "    portions = [round(x*100, 2) for x in values] #multiply by 100 each values\n",
        "    #print(df[col].value_counts(normalize=True))\n",
        "    #print(index)\n",
        "    #print(portions)\n",
        "\n",
        "    #populates each scale\n",
        "    for key, val in zip(index, portions): \n",
        "      q25_responses_dict[likert_scale[key]].append(val)\n",
        "\n",
        "  #print(q25_responses_dict)\n",
        "  \n",
        "  return pd.DataFrame(q25_responses_dict, index=df_columns)\n"
      ],
      "metadata": {
        "id": "R4ZhMTz765c1"
      },
      "execution_count": 317,
      "outputs": []
    },
    {
      "cell_type": "code",
      "source": [
        "def diverging_stacked_plotter(ax, df, likert_scale, labels, **dict_params):\n",
        "  #color_palettes\n",
        "  #blue to green\n",
        "  q25_color_palettes = ['#1261a0', '#58cced', '#e0e0e0', '#5ced73',  '#00c04b'] \n",
        "  q23_color_palletes = ['#03a9f4', '#4fc3f7', '#9addfb', '#c9f1c9', '#a0e7a0', '#77dd77']\n",
        "  color_in_use = q25_color_palettes if 'Never' in likert_scale else q23_color_palletes\n",
        "\n",
        "\n",
        "  #cumulative sum of df\n",
        "  cumsum_df = df.cumsum(axis=1)\n",
        "  offsets = np.add(cumsum_df['Rarely'], df['Sometimes']/2) if 'Never' in likert_scale else cumsum_df[\"Once a week\"]\n",
        "  ylabel = 'Emotions' if 'Never' in likert_scale else 'People to communicate with through online'\n",
        "\n",
        "  #formula of left value of each bar \n",
        "  #left = cumsum_of_portion - portion - offset\n",
        "\n",
        "  for index, scale in enumerate(likert_scale):\n",
        "    portion = df[scale]\n",
        "    starts = cumsum_df[scale] - portion - offsets\n",
        "    stacks = ax.barh(labels, portion, left=starts, label=scale, color=color_in_use[index])\n",
        "    \n",
        "  #zero reference line\n",
        "  ax.axvline(0, linestyle='--', color='black', alpha=.25)\n",
        "\n",
        "  #only in recent versions\n",
        "  #ax.bar_label(p1, label_type='center')\n",
        "  #ax.bar_label(p2, label_type='center')\n",
        "  #ax.bar_label(p3, label_type='center')\n",
        "  #ax.bar_label(p4, label_type='center')\n",
        "  #ax.bar_label(p5, label_type='center')\n",
        "\n",
        "  ax.spines['right'].set_visible(False)\n",
        "  ax.spines['top'].set_visible(False)\n",
        "  ax.spines['left'].set_visible(False)\n",
        "  ax.spines['bottom'].set_visible(True)\n",
        "\n",
        "  ax.yaxis.grid(False)\n",
        "  ax.xaxis.grid(True, which='major', color='grey', linestyle='dotted')\n",
        "  ax.set_axisbelow(True)\n",
        "\n",
        "  #x-axis\n",
        "  ax.set_xlim(-100, 100)\n",
        "  ax.set_xticks(np.arange(-100, 101, 10))\n",
        "  ax.xaxis.set_major_formatter(tick.FuncFormatter(lambda x, pos: str(abs(int(x)))))\n",
        "\n",
        "  \n",
        "  ax.set_ylabel('Emotions', fontsize=13)\n",
        "  ax.set_xlabel('Rate', fontsize=13)\n",
        "\n",
        "  ax.set_ylabel(ylabel)\n",
        "\n",
        "  ax.set_title(dict_params['title'], loc='center', fontsize=18, fontweight='bold')\n",
        "  ax.legend(bbox_to_anchor=(0.5,-0.25), loc='lower center', ncol=6, fontsize=12)"
      ],
      "metadata": {
        "id": "YKvaC7Glrp7k"
      },
      "execution_count": 345,
      "outputs": []
    },
    {
      "cell_type": "code",
      "source": [
        "#for stacked column plotting (only works in q25)\n",
        "def stacked_bar_plotter(ax, df, **dict_params):\n",
        "  b_sometimes = list(np.add(df['Never'], df['Rarely']))\n",
        "  b_often = list(np.add(b_sometimes, df['Sometimes']))\n",
        "  b_always = list(np.add(b_often, df['Often']))\n",
        "\n",
        "  p1 = ax.barh(labels, df['Never'], dict_params['width'], label=\"Never\")\n",
        "  p2 = ax.barh(labels, df['Rarely'], dict_params['width'], left=df['Never'], label=\"Rarely\")\n",
        "  p3 = ax.barh(labels, df['Sometimes'], dict_params['width'], left=b_sometimes, label=\"Sometimes\")\n",
        "  p4 = ax.barh(labels, df['Often'], dict_params['width'], left=b_often, label=\"Often\")\n",
        "  p5 = ax.barh(labels, df['Always'], dict_params['width'], left=b_always, label=\"Always\")\n",
        "\n",
        "  #only in recent versions\n",
        "  #ax.bar_label(p1, label_type='center')\n",
        "  #ax.bar_label(p2, label_type='center')\n",
        "  #ax.bar_label(p3, label_type='center')\n",
        "  #ax.bar_label(p4, label_type='center')\n",
        "  #ax.bar_label(p5, label_type='center')\n",
        "\n",
        "  ax.spines['right'].set_visible(False)\n",
        "  ax.spines['top'].set_visible(False)\n",
        "\n",
        "  ax.set_xlabel('Rate')\n",
        "  ax.set_ylabel('Emotions')\n",
        "  ax.set_title(dict_params['title'])\n",
        "  ax.legend()"
      ],
      "metadata": {
        "id": "4E9I7hR09fpO"
      },
      "execution_count": 319,
      "outputs": []
    },
    {
      "cell_type": "markdown",
      "source": [
        "18 to 19 Years Old Emotion Rate\n"
      ],
      "metadata": {
        "id": "q3UrFmmss9an"
      }
    },
    {
      "cell_type": "code",
      "source": [
        "summary_18_19_df = aggregate_q25(age_18_to_19_df, **q25_scale_dict)\n",
        "summary_18_19_df"
      ],
      "metadata": {
        "id": "ZcflQ1A0tlf0"
      },
      "execution_count": null,
      "outputs": []
    },
    {
      "cell_type": "code",
      "source": [
        "params_dict = {\n",
        "    'title': 'Rate of Emotions felt by 18 and 19 Years Old College Students',\n",
        "}\n",
        "\n",
        "fig, ax = plt.subplots()\n",
        "fig.set_size_inches(16, 5, forward=True)\n",
        "diverging_stacked_plotter(ax, summary_18_19_df, q25_scale_list, q25_labels, **params_dict)"
      ],
      "metadata": {
        "id": "k0mysUzwuECt",
        "colab": {
          "base_uri": "https://localhost:8080/",
          "height": 385
        },
        "outputId": "696c55be-2102-4bdf-f2b6-6ffbc4354560"
      },
      "execution_count": 338,
      "outputs": [
        {
          "output_type": "display_data",
          "data": {
            "text/plain": [
              "<Figure size 1152x360 with 1 Axes>"
            ],
            "image/png": "[encoded data removed]"
          },
          "metadata": {
            "needs_background": "light"
          }
        }
      ]
    },
    {
      "cell_type": "markdown",
      "source": [
        "20-21 Years Old Emotion Rate"
      ],
      "metadata": {
        "id": "BIz12CZWtFpW"
      }
    },
    {
      "cell_type": "code",
      "source": [
        "summary_20_21_df = aggregate_q25(age_20_to_21_df, **q25_scale_dict)\n",
        "summary_20_21_df"
      ],
      "metadata": {
        "id": "RiCROGH7u6bG",
        "colab": {
          "base_uri": "https://localhost:8080/",
          "height": 363
        },
        "outputId": "45e803d4-bb8d-4913-aa94-4699bc666377"
      },
      "execution_count": null,
      "outputs": [
        {
          "output_type": "execute_result",
          "data": {
            "text/plain": [
              "      Never  Rarely  Sometimes  Often  Always\n",
              "Q25a  11.04   12.69      61.19  10.60    4.48\n",
              "Q25b   4.18   10.15      60.00  13.58   12.09\n",
              "Q25c  10.75   11.34      60.45   8.06    9.40\n",
              "Q25d   6.42   10.45      63.58  13.43    6.12\n",
              "Q25e   7.01   11.94      65.07  10.90    5.07\n",
              "Q25f   7.01    9.40      61.79  13.43    8.36\n",
              "Q25g  66.12   13.88      13.73   4.18    2.09\n",
              "Q25h   8.36   13.58      65.97   7.61    4.48\n",
              "Q25i  15.07   12.39      60.30   8.51    3.73\n",
              "Q25j   4.63    5.97      58.51  16.42   14.48"
            ],
            "text/html": [
              "\n",
              "  <div id=\"df-9e9fc82a-d2de-414a-b27f-46d6e8f094be\">\n",
              "    <div class=\"colab-df-container\">\n",
              "      <div>\n",
              "<style scoped>\n",
              "    .dataframe tbody tr th:only-of-type {\n",
              "        vertical-align: middle;\n",
              "    }\n",
              "\n",
              "    .dataframe tbody tr th {\n",
              "        vertical-align: top;\n",
              "    }\n",
              "\n",
              "    .dataframe thead th {\n",
              "        text-align: right;\n",
              "    }\n",
              "</style>\n",
              "<table border=\"1\" class=\"dataframe\">\n",
              "  <thead>\n",
              "    <tr style=\"text-align: right;\">\n",
              "      <th></th>\n",
              "      <th>Never</th>\n",
              "      <th>Rarely</th>\n",
              "      <th>Sometimes</th>\n",
              "      <th>Often</th>\n",
              "      <th>Always</th>\n",
              "    </tr>\n",
              "  </thead>\n",
              "  <tbody>\n",
              "    <tr>\n",
              "      <th>Q25a</th>\n",
              "      <td>11.04</td>\n",
              "      <td>12.69</td>\n",
              "      <td>61.19</td>\n",
              "      <td>10.60</td>\n",
              "      <td>4.48</td>\n",
              "    </tr>\n",
              "    <tr>\n",
              "      <th>Q25b</th>\n",
              "      <td>4.18</td>\n",
              "      <td>10.15</td>\n",
              "      <td>60.00</td>\n",
              "      <td>13.58</td>\n",
              "      <td>12.09</td>\n",
              "    </tr>\n",
              "    <tr>\n",
              "      <th>Q25c</th>\n",
              "      <td>10.75</td>\n",
              "      <td>11.34</td>\n",
              "      <td>60.45</td>\n",
              "      <td>8.06</td>\n",
              "      <td>9.40</td>\n",
              "    </tr>\n",
              "    <tr>\n",
              "      <th>Q25d</th>\n",
              "      <td>6.42</td>\n",
              "      <td>10.45</td>\n",
              "      <td>63.58</td>\n",
              "      <td>13.43</td>\n",
              "      <td>6.12</td>\n",
              "    </tr>\n",
              "    <tr>\n",
              "      <th>Q25e</th>\n",
              "      <td>7.01</td>\n",
              "      <td>11.94</td>\n",
              "      <td>65.07</td>\n",
              "      <td>10.90</td>\n",
              "      <td>5.07</td>\n",
              "    </tr>\n",
              "    <tr>\n",
              "      <th>Q25f</th>\n",
              "      <td>7.01</td>\n",
              "      <td>9.40</td>\n",
              "      <td>61.79</td>\n",
              "      <td>13.43</td>\n",
              "      <td>8.36</td>\n",
              "    </tr>\n",
              "    <tr>\n",
              "      <th>Q25g</th>\n",
              "      <td>66.12</td>\n",
              "      <td>13.88</td>\n",
              "      <td>13.73</td>\n",
              "      <td>4.18</td>\n",
              "      <td>2.09</td>\n",
              "    </tr>\n",
              "    <tr>\n",
              "      <th>Q25h</th>\n",
              "      <td>8.36</td>\n",
              "      <td>13.58</td>\n",
              "      <td>65.97</td>\n",
              "      <td>7.61</td>\n",
              "      <td>4.48</td>\n",
              "    </tr>\n",
              "    <tr>\n",
              "      <th>Q25i</th>\n",
              "      <td>15.07</td>\n",
              "      <td>12.39</td>\n",
              "      <td>60.30</td>\n",
              "      <td>8.51</td>\n",
              "      <td>3.73</td>\n",
              "    </tr>\n",
              "    <tr>\n",
              "      <th>Q25j</th>\n",
              "      <td>4.63</td>\n",
              "      <td>5.97</td>\n",
              "      <td>58.51</td>\n",
              "      <td>16.42</td>\n",
              "      <td>14.48</td>\n",
              "    </tr>\n",
              "  </tbody>\n",
              "</table>\n",
              "</div>\n",
              "      <button class=\"colab-df-convert\" onclick=\"convertToInteractive('df-9e9fc82a-d2de-414a-b27f-46d6e8f094be')\"\n",
              "              title=\"Convert this dataframe to an interactive table.\"\n",
              "              style=\"display:none;\">\n",
              "        \n",
              "  <svg xmlns=\"http://www.w3.org/2000/svg\" height=\"24px\"viewBox=\"0 0 24 24\"\n",
              "       width=\"24px\">\n",
              "    <path d=\"M0 0h24v24H0V0z\" fill=\"none\"/>\n",
              "    <path d=\"M18.56 5.44l.94 2.06.94-2.06 2.06-.94-2.06-.94-.94-2.06-.94 2.06-2.06.94zm-11 1L8.5 8.5l.94-2.06 2.06-.94-2.06-.94L8.5 2.5l-.94 2.06-2.06.94zm10 10l.94 2.06.94-2.06 2.06-.94-2.06-.94-.94-2.06-.94 2.06-2.06.94z\"/><path d=\"M17.41 7.96l-1.37-1.37c-.4-.4-.92-.59-1.43-.59-.52 0-1.04.2-1.43.59L10.3 9.45l-7.72 7.72c-.78.78-.78 2.05 0 2.83L4 21.41c.39.39.9.59 1.41.59.51 0 1.02-.2 1.41-.59l7.78-7.78 2.81-2.81c.8-.78.8-2.07 0-2.86zM5.41 20L4 18.59l7.72-7.72 1.47 1.35L5.41 20z\"/>\n",
              "  </svg>\n",
              "      </button>\n",
              "      \n",
              "  <style>\n",
              "    .colab-df-container {\n",
              "      display:flex;\n",
              "      flex-wrap:wrap;\n",
              "      gap: 12px;\n",
              "    }\n",
              "\n",
              "    .colab-df-convert {\n",
              "      background-color: #E8F0FE;\n",
              "      border: none;\n",
              "      border-radius: 50%;\n",
              "      cursor: pointer;\n",
              "      display: none;\n",
              "      fill: #1967D2;\n",
              "      height: 32px;\n",
              "      padding: 0 0 0 0;\n",
              "      width: 32px;\n",
              "    }\n",
              "\n",
              "    .colab-df-convert:hover {\n",
              "      background-color: #E2EBFA;\n",
              "      box-shadow: 0px 1px 2px rgba(60, 64, 67, 0.3), 0px 1px 3px 1px rgba(60, 64, 67, 0.15);\n",
              "      fill: #174EA6;\n",
              "    }\n",
              "\n",
              "    [theme=dark] .colab-df-convert {\n",
              "      background-color: #3B4455;\n",
              "      fill: #D2E3FC;\n",
              "    }\n",
              "\n",
              "    [theme=dark] .colab-df-convert:hover {\n",
              "      background-color: #434B5C;\n",
              "      box-shadow: 0px 1px 3px 1px rgba(0, 0, 0, 0.15);\n",
              "      filter: drop-shadow(0px 1px 2px rgba(0, 0, 0, 0.3));\n",
              "      fill: #FFFFFF;\n",
              "    }\n",
              "  </style>\n",
              "\n",
              "      <script>\n",
              "        const buttonEl =\n",
              "          document.querySelector('#df-9e9fc82a-d2de-414a-b27f-46d6e8f094be button.colab-df-convert');\n",
              "        buttonEl.style.display =\n",
              "          google.colab.kernel.accessAllowed ? 'block' : 'none';\n",
              "\n",
              "        async function convertToInteractive(key) {\n",
              "          const element = document.querySelector('#df-9e9fc82a-d2de-414a-b27f-46d6e8f094be');\n",
              "          const dataTable =\n",
              "            await google.colab.kernel.invokeFunction('convertToInteractive',\n",
              "                                                     [key], {});\n",
              "          if (!dataTable) return;\n",
              "\n",
              "          const docLinkHtml = 'Like what you see? Visit the ' +\n",
              "            '<a target=\"_blank\" href=https://colab.research.google.com/notebooks/data_table.ipynb>data table notebook</a>'\n",
              "            + ' to learn more about interactive tables.';\n",
              "          element.innerHTML = '';\n",
              "          dataTable['output_type'] = 'display_data';\n",
              "          await google.colab.output.renderOutput(dataTable, element);\n",
              "          const docLink = document.createElement('div');\n",
              "          docLink.innerHTML = docLinkHtml;\n",
              "          element.appendChild(docLink);\n",
              "        }\n",
              "      </script>\n",
              "    </div>\n",
              "  </div>\n",
              "  "
            ]
          },
          "metadata": {},
          "execution_count": 114
        }
      ]
    },
    {
      "cell_type": "code",
      "source": [
        "params_dict = {\n",
        "    'title': 'Rate of Emotions felt by 20 and 21 Years Old College Students',\n",
        "}\n",
        "\n",
        "fig, ax = plt.subplots()\n",
        "fig.set_size_inches(16, 5, forward=True)\n",
        "diverging_stacked_plotter(ax, summary_20_21_df, q25_scale_list, q25_labels, **params_dict)"
      ],
      "metadata": {
        "id": "-4qkUhY-vEll",
        "colab": {
          "base_uri": "https://localhost:8080/",
          "height": 385
        },
        "outputId": "67a7723f-f158-4174-a87c-5602d1d80b2e"
      },
      "execution_count": null,
      "outputs": [
        {
          "output_type": "display_data",
          "data": {
            "text/plain": [
              "<Figure size 1152x360 with 1 Axes>"
            ],
            "image/png": "[encoded data removed]"
          },
          "metadata": {
            "needs_background": "light"
          }
        }
      ]
    },
    {
      "cell_type": "markdown",
      "source": [
        "22-24 Years Old Emotion Rate"
      ],
      "metadata": {
        "id": "zofQcknhtRfU"
      }
    },
    {
      "cell_type": "code",
      "source": [
        "summary_22_24_df = aggregate_q25(age_22_to_24_df, **q25_scale_dict)\n",
        "summary_22_24_df"
      ],
      "metadata": {
        "id": "WKQc1jT5vbzQ"
      },
      "execution_count": null,
      "outputs": []
    },
    {
      "cell_type": "code",
      "source": [
        "params_dict = {\n",
        "    'title': 'Rate of Emotions felt by 22 to 24 Years Old College Students',\n",
        "}\n",
        "\n",
        "fig, ax = plt.subplots()\n",
        "fig.set_size_inches(16, 5, forward=True)\n",
        "diverging_stacked_plotter(ax, summary_22_24_df, q25_scale_list, q25_labels, **params_dict)"
      ],
      "metadata": {
        "id": "c_O7GPppvqeb",
        "colab": {
          "base_uri": "https://localhost:8080/",
          "height": 385
        },
        "outputId": "a87b9cad-96c7-4c6c-d8ff-44d9f4ac0c72"
      },
      "execution_count": null,
      "outputs": [
        {
          "output_type": "display_data",
          "data": {
            "text/plain": [
              "<Figure size 1152x360 with 1 Axes>"
            ],
            "image/png": "[encoded data removed]"
          },
          "metadata": {
            "needs_background": "light"
          }
        }
      ]
    },
    {
      "cell_type": "markdown",
      "source": [
        "25 Years Old and Older Emotion Rate"
      ],
      "metadata": {
        "id": "aMvyKY_ptf2s"
      }
    },
    {
      "cell_type": "code",
      "source": [
        "summary_25_older_df = aggregate_q25(age_25_older_df, **q25_scale_dict)\n",
        "summary_25_older_df"
      ],
      "metadata": {
        "id": "oZnPm3t4v5GW"
      },
      "execution_count": null,
      "outputs": []
    },
    {
      "cell_type": "code",
      "source": [
        "params_dict = {\n",
        "    'title': 'Rate of Emotions felt by 25 Years Old and Older College Students',\n",
        "}\n",
        "\n",
        "fig, ax = plt.subplots()\n",
        "fig.set_size_inches(16, 5, forward=True)\n",
        "diverging_stacked_plotter(ax, summary_25_older_df, q25_scale_list, q25_labels, **params_dict)"
      ],
      "metadata": {
        "id": "_RuRy9gbweUO",
        "colab": {
          "base_uri": "https://localhost:8080/",
          "height": 385
        },
        "outputId": "057693e6-1c90-45ed-a4cd-e3f4ab162037"
      },
      "execution_count": null,
      "outputs": [
        {
          "output_type": "display_data",
          "data": {
            "text/plain": [
              "<Figure size 1152x360 with 1 Axes>"
            ],
            "image/png": "[encoded data removed]"
          },
          "metadata": {
            "needs_background": "light"
          }
        }
      ]
    },
    {
      "cell_type": "markdown",
      "source": [
        "# Q17- workload rate of students during online setup compared to on-site classes"
      ],
      "metadata": {
        "id": "d0hdzoiUGr2i"
      }
    },
    {
      "cell_type": "code",
      "source": [
        "Q17_workload = final_dts\n",
        "\n",
        "Q17_workload_rate = Q17_workload ['Q17']\n",
        "Q17_data = pd.DataFrame(Q17_workload_rate)\n",
        "Q17_result = Q17_data.value_counts(sort=False)\n",
        "print(Q17_result)"
      ],
      "metadata": {
        "colab": {
          "base_uri": "https://localhost:8080/"
        },
        "id": "lxlF0dcfGymS",
        "outputId": "a5a41c04-215f-41ac-c516-1a760c53982f"
      },
      "execution_count": null,
      "outputs": [
        {
          "output_type": "stream",
          "name": "stdout",
          "text": [
            "Q17\n",
            "1.0      91\n",
            "2.0     156\n",
            "3.0     197\n",
            "4.0    1017\n",
            "5.0     139\n",
            "dtype: int64\n"
          ]
        }
      ]
    },
    {
      "cell_type": "code",
      "source": [
        "# setting the workload rate at x axis\n",
        "workload_rate=['Significantly smaller', 'Smaller', 'The same', 'Larger', 'Significantly larger']\n",
        "\n",
        "# giving the values against each value at y axis\n",
        "workload_result=[91,156,197,1017,139]\n",
        "\n",
        "fig, ax = plt.subplots(figsize=(13,7))\n",
        "plt.bar(workload_rate, workload_result, color=['#77C2FE', '#249CFF', '#1578CF', '#0A579E', '#003870'], width=0.9)\n",
        "\n",
        "plt.ylim(0, 1200)\n",
        "plt.yticks(np.arange(0, 1201, 200))\n",
        "\n",
        "ax.spines['right'].set_visible(False)\n",
        "ax.spines['top'].set_visible(False)\n",
        "ax.spines['left'].set_visible(False)\n",
        "ax.spines['bottom'].set_visible(True)\n",
        "\n",
        "ax.yaxis.grid(True, which='major', color='grey', linestyle='dotted')\n",
        "ax.xaxis.grid(False)\n",
        "ax.set_axisbelow(True)\n",
        "\n",
        "# setting labels\n",
        "plt.xlabel(\"Rate\", fontsize=12)\n",
        "plt.ylabel(\"Responses\", fontsize=12)  \n",
        "plt.title(\"Students' Workload Rate in Online Learning Setup\", loc='center', fontsize=18, fontweight='bold')\n",
        "plt.show()"
      ],
      "metadata": {
        "colab": {
          "base_uri": "https://localhost:8080/",
          "height": 465
        },
        "id": "iJDzBS6JG3P6",
        "outputId": "8bab10c4-2461-4eee-ef88-131bab227553"
      },
      "execution_count": null,
      "outputs": [
        {
          "output_type": "display_data",
          "data": {
            "text/plain": [
              "<Figure size 936x504 with 1 Axes>"
            ],
            "image/png": "[encoded data removed]"
          },
          "metadata": {
            "needs_background": "light"
          }
        }
      ]
    },
    {
      "cell_type": "markdown",
      "source": [
        "# Q20(a, b, c, d, e, and f)- performance rate of students"
      ],
      "metadata": {
        "id": "AOQfX5zeHBgS"
      }
    },
    {
      "cell_type": "code",
      "source": [
        "#identifying rate values of the perfomance of the students\n",
        "Q20_performance = final_dts\n",
        "\n",
        "Q20a = Q20_performance ['Q20a']\n",
        "Q20a_data = pd.DataFrame(Q20a)\n",
        "Q20a_result = Q20a_data.value_counts(sort=False)\n",
        "print(Q20a_result)\n",
        "\n",
        "Q20b = Q20_performance ['Q20b']\n",
        "Q20b_data = pd.DataFrame(Q20b)\n",
        "Q20b_result = Q20b_data.value_counts(sort=False)\n",
        "print(Q20b_result)\n",
        "\n",
        "Q20c = Q20_performance ['Q20c']\n",
        "Q20c_data = pd.DataFrame(Q20c)\n",
        "Q20c_result = Q20c_data.value_counts(sort=False)\n",
        "print(Q20c_result)\n",
        "\n",
        "Q20d = Q20_performance ['Q20d']\n",
        "Q20d_data = pd.DataFrame(Q20d)\n",
        "Q20d_result = Q20d_data.value_counts(sort=False)\n",
        "print(Q20d_result)\n",
        "\n",
        "Q20e = Q20_performance ['Q20e']\n",
        "Q20e_data = pd.DataFrame(Q20e)\n",
        "Q20e_result = Q20e_data.value_counts(sort=False)\n",
        "print(Q20e_result)\n",
        "\n",
        "Q20f = Q20_performance ['Q20f']\n",
        "Q20f_data = pd.DataFrame(Q20f)\n",
        "Q20f_result = Q20f_data.value_counts(sort=False)\n",
        "print(Q20f_result)"
      ],
      "metadata": {
        "colab": {
          "base_uri": "https://localhost:8080/"
        },
        "id": "VgFV9rhjHEN6",
        "outputId": "1658a6e7-166b-4a69-9fda-42e70f6fef04"
      },
      "execution_count": null,
      "outputs": [
        {
          "output_type": "stream",
          "name": "stdout",
          "text": [
            "Q20a\n",
            "1.0       55\n",
            "2.0       65\n",
            "3.0      135\n",
            "4.0     1135\n",
            "5.0      210\n",
            "dtype: int64\n",
            "Q20b\n",
            "1.0      111\n",
            "2.0      212\n",
            "3.0     1134\n",
            "4.0      114\n",
            "5.0       29\n",
            "dtype: int64\n",
            "Q20c\n",
            "1.0       46\n",
            "2.0      128\n",
            "3.0     1131\n",
            "4.0      194\n",
            "5.0      101\n",
            "dtype: int64\n",
            "Q20d\n",
            "1.0       59\n",
            "2.0      102\n",
            "3.0     1155\n",
            "4.0      216\n",
            "5.0       68\n",
            "dtype: int64\n",
            "Q20e\n",
            "1.0       57\n",
            "2.0      162\n",
            "3.0     1183\n",
            "4.0      166\n",
            "5.0       32\n",
            "dtype: int64\n",
            "Q20f\n",
            "1.0       54\n",
            "2.0      129\n",
            "3.0     1201\n",
            "4.0      180\n",
            "5.0       36\n",
            "dtype: int64\n"
          ]
        }
      ]
    },
    {
      "cell_type": "code",
      "source": [
        "performance_rate = ['Strongly Disagree', 'Disagree', 'Natural', 'Agree', 'Strongly Agree']\n",
        "perf_statement_results = {\n",
        "    'It is more difficult for me to focus during online teaching in comparison to on-site teaching.': [55,65,135,1135,210],\n",
        "    'My performance as a student has improved since on-site classes were canceled.': [111,212,1134,114,29],\n",
        "    'My performance as a student has worsened since on-site classes were canceled.': [46,128,1131,194,101],\n",
        "    'I have adapted well to the new teaching and learning experience.': [59,102,1155,216,68],\n",
        "    'I can master the skills taught in class this year even if on-site classes were canceled.': [57,162,1183,166,32],\n",
        "    'I can figure out how to do the most difficult classwork since on-site classes were canceled.': [54,129,1201,180,36],\n",
        "}\n",
        "\n",
        "def questionnaire_prs(perf_statement_results, performance_rate):\n",
        "    labels = list(perf_statement_results.keys())\n",
        "    data = np.array(list(perf_statement_results.values()))\n",
        "    data_cum = data.cumsum(axis=1)\n",
        "    middle_index = data.shape[1]//2\n",
        "    offsets = data[:, range(middle_index)].sum(axis=1) + data[:, middle_index]/2\n",
        "\n",
        "    # Color Mapping\n",
        "    category_colors = plt.get_cmap('coolwarm_r')(np.linspace(0.19, 0.9, data.shape[1]))\n",
        "    \n",
        "    fig, ax = plt.subplots(figsize=(11.5,5))\n",
        "    \n",
        "    # Plot Bars\n",
        "    for i, (colname, color) in enumerate(zip(performance_rate, category_colors)):\n",
        "        widths = data[:, i]\n",
        "        starts = data_cum[:, i] - widths - offsets\n",
        "        rects = ax.barh(labels, widths, left=starts, height=0.8,\n",
        "                        label=colname, color=color)\n",
        "    \n",
        "    # Add Zero Reference Line\n",
        "    ax.axvline(0, linestyle='--', color='black', alpha=0.5)\n",
        "    \n",
        "    # X Axis\n",
        "    ax.set_xlim(-1500, 1500)\n",
        "    ax.set_xticks(np.arange(-1500, 1501, 300))\n",
        "    \n",
        "    # Y Axis\n",
        "    ax.invert_yaxis()\n",
        "    \n",
        "    # Remove spines\n",
        "    ax.spines['right'].set_visible(False)\n",
        "    ax.spines['top'].set_visible(False)\n",
        "    ax.spines['left'].set_visible(False)\n",
        "    ax.spines['bottom'].set_visible(True)\n",
        "\n",
        "    ax.yaxis.grid(False)\n",
        "    ax.xaxis.grid(True, which='major', color='grey', linestyle='dotted')\n",
        "    ax.set_axisbelow(True)\n",
        "    \n",
        "    # Legend\n",
        "    ax.legend(ncol=len(performance_rate), bbox_to_anchor=(0.5,-0.28), loc='lower center', fontsize=12)\n",
        "    \n",
        "    #Title and xy-labels\n",
        "    ax.set_title('Performance Rate of Students', loc='center', fontsize=18, fontweight='bold')\n",
        "    ax.set_ylabel('Statements', fontsize=14)\n",
        "    ax.set_xlabel('Responses', fontsize=14)\n",
        "\n",
        "    # Set Background Color\n",
        "    fig.set_facecolor('#FFFFFF')\n",
        "\n",
        "    return fig, ax\n",
        "\n",
        "fig, ax = questionnaire_prs(perf_statement_results, performance_rate)\n",
        "plt.show()"
      ],
      "metadata": {
        "colab": {
          "base_uri": "https://localhost:8080/",
          "height": 357
        },
        "id": "e1onnv7aHJM_",
        "outputId": "5b1e52a2-5d24-45be-f300-098421b48df5"
      },
      "execution_count": null,
      "outputs": [
        {
          "output_type": "display_data",
          "data": {
            "text/plain": [
              "<Figure size 828x360 with 1 Axes>"
            ],
            "image/png": "[encoded data removed]"
          },
          "metadata": {}
        }
      ]
    },
    {
      "cell_type": "markdown",
      "source": [
        "# Q21(c and i)- access rate on computer and good internet connection\n"
      ],
      "metadata": {
        "id": "DphqW7AwXXzT"
      }
    },
    {
      "cell_type": "code",
      "source": [
        "Q21c_df = final_dts[\"Q21c\"]\n",
        "df_Q21c = pd.DataFrame(Q21c_df)\n",
        "df_Q21c.info()\n",
        "\n",
        "Q21c_data1 = df_Q21c.loc[lambda df_Q21c: df_Q21c['Q21c'] == 1]\n",
        "Q21c_count1 = Q21c_data1.value_counts()\n",
        "Q21c_never = Q21c_count1.tolist()\n",
        "\n",
        "Q21c_data2 = df_Q21c.loc[lambda df_Q21c: df_Q21c['Q21c'] == 2]\n",
        "Q21c_count2 = Q21c_data2.value_counts()\n",
        "Q21c_rarely = Q21c_count2.tolist()\n",
        "\n",
        "Q21c_data3 = df_Q21c.loc[lambda df_Q21c: df_Q21c['Q21c'] == 3]\n",
        "Q21c_count3 = Q21c_data3.value_counts()\n",
        "Q21c_sometimes = Q21c_count3.tolist()\n",
        "\n",
        "Q21c_data4 = df_Q21c.loc[lambda df_Q21c: df_Q21c['Q21c'] == 4]\n",
        "Q21c_count4 = Q21c_data4.value_counts()\n",
        "Q21c_often = Q21c_count4.tolist()\n",
        "\n",
        "Q21c_data5 = df_Q21c.loc[lambda df_Q21c: df_Q21c['Q21c'] == 5]\n",
        "Q21c_count5 = Q21c_data5.value_counts()\n",
        "Q21c_always = Q21c_count5.tolist()\n",
        "\n",
        "Q21c_final = Q21c_never + Q21c_rarely + Q21c_sometimes + Q21c_often + Q21c_always\n",
        "print(Q21c_final)\n",
        "\n",
        "fig, ax = plt.subplots(figsize=(13,7))\n",
        "plt.ylim(0, 1400)\n",
        "plt.yticks(np.arange(0, 1401, 200))\n",
        "\n",
        "labels = [\"Never\", \"Rarely\", \"Sometimes\", \"Often\", \"Always\"]\n",
        "\n",
        "ax.spines['right'].set_visible(False)\n",
        "ax.spines['top'].set_visible(False)\n",
        "ax.spines['left'].set_visible(False)\n",
        "ax.spines['bottom'].set_visible(True)\n",
        "\n",
        "ax.yaxis.grid(True, which='major', color='grey', linestyle='dotted')\n",
        "ax.xaxis.grid(False)\n",
        "ax.set_axisbelow(True)\n",
        "\n",
        "Q21c = ax.bar(labels, Q21c_final, color = ['#FFB380', '#FFA466', '#FF954D', '#FF8533', '#FF7619'], width=0.9)\n",
        "\n",
        "plt.xlabel(\"Rate\", fontsize=12)\n",
        "plt.ylabel(\"Responses\", fontsize=12)  \n",
        "plt.title(\"Students' Access Rate on Computer\", fontsize=18, fontweight='bold')\n",
        "plt.show()"
      ],
      "metadata": {
        "colab": {
          "base_uri": "https://localhost:8080/",
          "height": 629
        },
        "id": "k9NtSI5lXgrU",
        "outputId": "26293179-91e2-489a-be20-9bbd66b06b61"
      },
      "execution_count": null,
      "outputs": [
        {
          "output_type": "stream",
          "name": "stdout",
          "text": [
            "<class 'pandas.core.frame.DataFrame'>\n",
            "RangeIndex: 1600 entries, 0 to 1599\n",
            "Data columns (total 1 columns):\n",
            " #   Column  Non-Null Count  Dtype  \n",
            "---  ------  --------------  -----  \n",
            " 0   Q21c    1600 non-null   float64\n",
            "dtypes: float64(1)\n",
            "memory usage: 12.6 KB\n",
            "[113, 40, 71, 99, 1277]\n"
          ]
        },
        {
          "output_type": "display_data",
          "data": {
            "text/plain": [
              "<Figure size 936x504 with 1 Axes>"
            ],
            "image/png": "[encoded data removed]"
          },
          "metadata": {
            "needs_background": "light"
          }
        }
      ]
    },
    {
      "cell_type": "code",
      "source": [
        "Q21i_df = final_dts[\"Q21i\"]\n",
        "df_Q21i = pd.DataFrame(Q21i_df)\n",
        "df_Q21i.info()\n",
        "\n",
        "Q21i_data1 = df_Q21i.loc[lambda df_Q21i: df_Q21i['Q21i'] == 1]\n",
        "Q21i_count1 = Q21i_data1.value_counts()\n",
        "Q21i_never = Q21i_count1.tolist()\n",
        "\n",
        "Q21i_data2 = df_Q21i.loc[lambda df_Q21i: df_Q21i['Q21i'] == 2]\n",
        "Q21i_count2 = Q21i_data2.value_counts()\n",
        "Q21i_rarely = Q21i_count2.tolist()\n",
        "\n",
        "Q21i_data3 = df_Q21i.loc[lambda df_Q21i: df_Q21i['Q21i'] == 3]\n",
        "Q21i_count3 = Q21i_data3.value_counts()\n",
        "Q21i_sometimes = Q21i_count3.tolist()\n",
        "\n",
        "Q21i_data4 = df_Q21i.loc[lambda df_Q21i: df_Q21i['Q21i'] == 4]\n",
        "Q21i_count4 = Q21i_data4.value_counts()\n",
        "Q21i_often = Q21i_count4.tolist()\n",
        "\n",
        "Q21i_data5 = df_Q21i.loc[lambda df_Q21i: df_Q21i['Q21i'] == 5]\n",
        "Q21i_count5 = Q21i_data5.value_counts()\n",
        "Q21i_always = Q21i_count5.tolist()\n",
        "\n",
        "Q21i_final = Q21i_never + Q21i_rarely + Q21i_sometimes + Q21i_often + Q21i_always\n",
        "print(Q21i_final)\n",
        "\n",
        "fig, ax = plt.subplots(figsize=(13,7))\n",
        "plt.ylim(0, 1200)\n",
        "plt.yticks(np.arange(0, 1201, 200))\n",
        "\n",
        "labels = [\"Never\", \"Rarely\", \"Sometimes\", \"Often\", \"Always\"]\n",
        "\n",
        "ax.spines['right'].set_visible(False)\n",
        "ax.spines['top'].set_visible(False)\n",
        "ax.spines['left'].set_visible(False)\n",
        "ax.spines['bottom'].set_visible(True)\n",
        "\n",
        "ax.yaxis.grid(True, which='major', color='grey', linestyle='dotted')\n",
        "ax.xaxis.grid(False)\n",
        "ax.set_axisbelow(True)\n",
        "\n",
        "Q21i = ax.bar(labels, Q21i_final, color = ['#FF998B', '#FF7E72', '#E36359', '#C44841', '#A62C2B'], width=0.9)\n",
        "\n",
        "plt.xlabel(\"Rate\", fontsize=12)\n",
        "plt.ylabel(\"Responses\", fontsize=12)  \n",
        "plt.title(\"Students' Access Rate on Good Internet Connection\", fontsize=18, fontweight='bold')\n",
        "plt.show()"
      ],
      "metadata": {
        "colab": {
          "base_uri": "https://localhost:8080/",
          "height": 629
        },
        "id": "loacMw2zhbBM",
        "outputId": "a5191d37-b492-47cb-e390-dfaa83064af7"
      },
      "execution_count": null,
      "outputs": [
        {
          "output_type": "stream",
          "name": "stdout",
          "text": [
            "<class 'pandas.core.frame.DataFrame'>\n",
            "RangeIndex: 1600 entries, 0 to 1599\n",
            "Data columns (total 1 columns):\n",
            " #   Column  Non-Null Count  Dtype  \n",
            "---  ------  --------------  -----  \n",
            " 0   Q21i    1600 non-null   float64\n",
            "dtypes: float64(1)\n",
            "memory usage: 12.6 KB\n",
            "[68, 113, 1077, 184, 158]\n"
          ]
        },
        {
          "output_type": "display_data",
          "data": {
            "text/plain": [
              "<Figure size 936x504 with 1 Axes>"
            ],
            "image/png": "[encoded data removed]"
          },
          "metadata": {
            "needs_background": "light"
          }
        }
      ]
    },
    {
      "cell_type": "markdown",
      "source": [
        "# Q22(a and b)- rate about browsing online information and sharing digital content"
      ],
      "metadata": {
        "id": "R7U1ErcCHqBB"
      }
    },
    {
      "cell_type": "code",
      "source": [
        "Q22_online_performance = final_dts\n",
        "\n",
        "Q22a = Q22_online_performance ['Q22a']\n",
        "Q22a_data = pd.DataFrame(Q22a)\n",
        "Q22a_result = Q22a_data.value_counts(sort=False)\n",
        "print(Q22a_result)\n",
        "\n",
        "Q22b = Q22_online_performance ['Q22b']\n",
        "Q22b_data = pd.DataFrame(Q22b)\n",
        "Q22b_result = Q22b_data.value_counts(sort=False)\n",
        "print(Q22b_result)"
      ],
      "metadata": {
        "colab": {
          "base_uri": "https://localhost:8080/"
        },
        "id": "Nq8WH3SnHtva",
        "outputId": "19f16f8d-4284-4ef5-8ec0-d99378c5525b"
      },
      "execution_count": null,
      "outputs": [
        {
          "output_type": "stream",
          "name": "stdout",
          "text": [
            "Q22a\n",
            "1.0       31\n",
            "2.0       53\n",
            "3.0      173\n",
            "4.0     1179\n",
            "5.0      164\n",
            "dtype: int64\n",
            "Q22b\n",
            "1.0       27\n",
            "2.0       56\n",
            "3.0      203\n",
            "4.0     1170\n",
            "5.0      144\n",
            "dtype: int64\n"
          ]
        }
      ]
    },
    {
      "cell_type": "code",
      "source": [
        "browse_share_performance_rate = ['Strongly Disagree', 'Disagree', 'Natural', 'Agree', 'Strongly Agree']\n",
        "br_sh_statement_results = {\n",
        "    'Browsing online information.': [31,53,173,1179,164],\n",
        "    'Sharing digital content.': [27,56,203,1170,144],\n",
        "}\n",
        "\n",
        "def questionnaire_br_sh(br_sh_statement_results, browse_share_performance_rate):\n",
        "    labels = list(br_sh_statement_results.keys())\n",
        "    data = np.array(list(br_sh_statement_results.values()))\n",
        "    data_cum = data.cumsum(axis=1)\n",
        "    middle_index = data.shape[1]//2\n",
        "    offsets = data[:, range(middle_index)].sum(axis=1) + data[:, middle_index]/2\n",
        "\n",
        "    # Color Mapping\n",
        "    category_colors = plt.get_cmap('coolwarm_r')(np.linspace(0.19, 0.9, data.shape[1]))\n",
        "    \n",
        "    fig, ax = plt.subplots(figsize=(13,1.5))\n",
        "    \n",
        "    # Plot Bars\n",
        "    for i, (colname, color) in enumerate(zip(browse_share_performance_rate, category_colors)):\n",
        "        widths = data[:, i]\n",
        "        starts = data_cum[:, i] - widths - offsets\n",
        "        rects = ax.barh(labels, widths, left=starts, height=0.7,\n",
        "                        label=colname, color=color)\n",
        "    \n",
        "    # Add Zero Reference Line\n",
        "    ax.axvline(0, linestyle='--', color='black', alpha=0.5)\n",
        "    \n",
        "    # X Axis\n",
        "    ax.set_xlim(-1500, 1500)\n",
        "    ax.set_xticks(np.arange(-1500, 1501, 300))\n",
        "    \n",
        "    # Y Axis\n",
        "    ax.invert_yaxis()\n",
        "    \n",
        "    # Remove spines\n",
        "    ax.spines['right'].set_visible(False)\n",
        "    ax.spines['top'].set_visible(False)\n",
        "    ax.spines['left'].set_visible(False)\n",
        "    ax.spines['bottom'].set_visible(True)\n",
        "\n",
        "    ax.yaxis.grid(False)\n",
        "    ax.xaxis.grid(True, which='major', color='grey', linestyle='dotted')\n",
        "    ax.set_axisbelow(True)\n",
        "    \n",
        "    # Legend\n",
        "    ax.legend(ncol=len(browse_share_performance_rate), bbox_to_anchor=(0.5,-0.9), loc='lower center', fontsize=11)\n",
        "    \n",
        "    #Title and xy-labels\n",
        "    ax.set_title('Performance Rate of Students', loc='center', fontsize=18, fontweight='bold')\n",
        "    ax.set_ylabel('Statements', fontsize=11)\n",
        "    ax.set_xlabel('Responses', fontsize=11)\n",
        "\n",
        "    # Set Background Color\n",
        "    fig.set_facecolor('#FFFFFF')\n",
        "\n",
        "    return fig, ax\n",
        "\n",
        "fig, ax = questionnaire_br_sh(br_sh_statement_results, browse_share_performance_rate)\n",
        "plt.show()"
      ],
      "metadata": {
        "colab": {
          "base_uri": "https://localhost:8080/",
          "height": 200
        },
        "id": "UZ3ZQhhFHw4L",
        "outputId": "9944087e-ccbd-4007-b209-ed0fdcd45117"
      },
      "execution_count": null,
      "outputs": [
        {
          "output_type": "display_data",
          "data": {
            "text/plain": [
              "<Figure size 936x108 with 1 Axes>"
            ],
            "image/png": "[encoded data removed]"
          },
          "metadata": {}
        }
      ]
    },
    {
      "cell_type": "markdown",
      "source": [
        "#Q23- communication with other people rate (social life)\n"
      ],
      "metadata": {
        "id": "wJ7JgNOqNeNi"
      }
    },
    {
      "cell_type": "markdown",
      "source": [
        "Dataframe of Q23"
      ],
      "metadata": {
        "id": "Mua-1IiPadS_"
      }
    },
    {
      "cell_type": "code",
      "source": [
        "q23_df = final_dts[['Q23a', 'Q23b', 'Q23c', 'Q23d', 'Q23e', 'Q23f', 'Q23g', 'Q23h', 'Q23i', 'Q23j']]\n",
        "q23_df"
      ],
      "metadata": {
        "id": "J_EfrNHradS_",
        "colab": {
          "base_uri": "https://localhost:8080/",
          "height": 423
        },
        "outputId": "66c96b0c-5e2b-4766-a7e8-0f381970e1d3"
      },
      "execution_count": null,
      "outputs": [
        {
          "output_type": "execute_result",
          "data": {
            "text/plain": [
              "      Q23a  Q23b  Q23c  Q23d  Q23e  Q23f  Q23g  Q23h  Q23i  Q23j\n",
              "0      5.0   1.0   6.0   6.0   2.0   2.0   2.0   1.0   1.0   5.0\n",
              "1      1.0   1.0   1.0   1.0   1.0   2.0   2.0   3.0   4.0   1.0\n",
              "2      3.0   1.0   2.0   1.0   1.0   1.0   1.0   1.0   1.0   4.0\n",
              "3      6.0   1.0   4.0   6.0   1.0   1.0   1.0   1.0   1.0   6.0\n",
              "4      6.0   1.0   4.0   6.0   1.0   1.0   1.0   1.0   1.0   6.0\n",
              "...    ...   ...   ...   ...   ...   ...   ...   ...   ...   ...\n",
              "1595   6.0   1.0   4.0   6.0   1.0   1.0   1.0   1.0   1.0   6.0\n",
              "1596   6.0   1.0   4.0   6.0   1.0   1.0   1.0   1.0   1.0   6.0\n",
              "1597   1.0   1.0   2.0   6.0   1.0   4.0   2.0   1.0   1.0   1.0\n",
              "1598   6.0   1.0   4.0   6.0   1.0   1.0   1.0   1.0   1.0   6.0\n",
              "1599   4.0   2.0   4.0   3.0   1.0   2.0   3.0   3.0   1.0   2.0\n",
              "\n",
              "[1600 rows x 10 columns]"
            ],
            "text/html": [
              "\n",
              "  <div id=\"df-383dd36f-8b99-43c4-91d5-c19e6e9a79ab\">\n",
              "    <div class=\"colab-df-container\">\n",
              "      <div>\n",
              "<style scoped>\n",
              "    .dataframe tbody tr th:only-of-type {\n",
              "        vertical-align: middle;\n",
              "    }\n",
              "\n",
              "    .dataframe tbody tr th {\n",
              "        vertical-align: top;\n",
              "    }\n",
              "\n",
              "    .dataframe thead th {\n",
              "        text-align: right;\n",
              "    }\n",
              "</style>\n",
              "<table border=\"1\" class=\"dataframe\">\n",
              "  <thead>\n",
              "    <tr style=\"text-align: right;\">\n",
              "      <th></th>\n",
              "      <th>Q23a</th>\n",
              "      <th>Q23b</th>\n",
              "      <th>Q23c</th>\n",
              "      <th>Q23d</th>\n",
              "      <th>Q23e</th>\n",
              "      <th>Q23f</th>\n",
              "      <th>Q23g</th>\n",
              "      <th>Q23h</th>\n",
              "      <th>Q23i</th>\n",
              "      <th>Q23j</th>\n",
              "    </tr>\n",
              "  </thead>\n",
              "  <tbody>\n",
              "    <tr>\n",
              "      <th>0</th>\n",
              "      <td>5.0</td>\n",
              "      <td>1.0</td>\n",
              "      <td>6.0</td>\n",
              "      <td>6.0</td>\n",
              "      <td>2.0</td>\n",
              "      <td>2.0</td>\n",
              "      <td>2.0</td>\n",
              "      <td>1.0</td>\n",
              "      <td>1.0</td>\n",
              "      <td>5.0</td>\n",
              "    </tr>\n",
              "    <tr>\n",
              "      <th>1</th>\n",
              "      <td>1.0</td>\n",
              "      <td>1.0</td>\n",
              "      <td>1.0</td>\n",
              "      <td>1.0</td>\n",
              "      <td>1.0</td>\n",
              "      <td>2.0</td>\n",
              "      <td>2.0</td>\n",
              "      <td>3.0</td>\n",
              "      <td>4.0</td>\n",
              "      <td>1.0</td>\n",
              "    </tr>\n",
              "    <tr>\n",
              "      <th>2</th>\n",
              "      <td>3.0</td>\n",
              "      <td>1.0</td>\n",
              "      <td>2.0</td>\n",
              "      <td>1.0</td>\n",
              "      <td>1.0</td>\n",
              "      <td>1.0</td>\n",
              "      <td>1.0</td>\n",
              "      <td>1.0</td>\n",
              "      <td>1.0</td>\n",
              "      <td>4.0</td>\n",
              "    </tr>\n",
              "    <tr>\n",
              "      <th>3</th>\n",
              "      <td>6.0</td>\n",
              "      <td>1.0</td>\n",
              "      <td>4.0</td>\n",
              "      <td>6.0</td>\n",
              "      <td>1.0</td>\n",
              "      <td>1.0</td>\n",
              "      <td>1.0</td>\n",
              "      <td>1.0</td>\n",
              "      <td>1.0</td>\n",
              "      <td>6.0</td>\n",
              "    </tr>\n",
              "    <tr>\n",
              "      <th>4</th>\n",
              "      <td>6.0</td>\n",
              "      <td>1.0</td>\n",
              "      <td>4.0</td>\n",
              "      <td>6.0</td>\n",
              "      <td>1.0</td>\n",
              "      <td>1.0</td>\n",
              "      <td>1.0</td>\n",
              "      <td>1.0</td>\n",
              "      <td>1.0</td>\n",
              "      <td>6.0</td>\n",
              "    </tr>\n",
              "    <tr>\n",
              "      <th>...</th>\n",
              "      <td>...</td>\n",
              "      <td>...</td>\n",
              "      <td>...</td>\n",
              "      <td>...</td>\n",
              "      <td>...</td>\n",
              "      <td>...</td>\n",
              "      <td>...</td>\n",
              "      <td>...</td>\n",
              "      <td>...</td>\n",
              "      <td>...</td>\n",
              "    </tr>\n",
              "    <tr>\n",
              "      <th>1595</th>\n",
              "      <td>6.0</td>\n",
              "      <td>1.0</td>\n",
              "      <td>4.0</td>\n",
              "      <td>6.0</td>\n",
              "      <td>1.0</td>\n",
              "      <td>1.0</td>\n",
              "      <td>1.0</td>\n",
              "      <td>1.0</td>\n",
              "      <td>1.0</td>\n",
              "      <td>6.0</td>\n",
              "    </tr>\n",
              "    <tr>\n",
              "      <th>1596</th>\n",
              "      <td>6.0</td>\n",
              "      <td>1.0</td>\n",
              "      <td>4.0</td>\n",
              "      <td>6.0</td>\n",
              "      <td>1.0</td>\n",
              "      <td>1.0</td>\n",
              "      <td>1.0</td>\n",
              "      <td>1.0</td>\n",
              "      <td>1.0</td>\n",
              "      <td>6.0</td>\n",
              "    </tr>\n",
              "    <tr>\n",
              "      <th>1597</th>\n",
              "      <td>1.0</td>\n",
              "      <td>1.0</td>\n",
              "      <td>2.0</td>\n",
              "      <td>6.0</td>\n",
              "      <td>1.0</td>\n",
              "      <td>4.0</td>\n",
              "      <td>2.0</td>\n",
              "      <td>1.0</td>\n",
              "      <td>1.0</td>\n",
              "      <td>1.0</td>\n",
              "    </tr>\n",
              "    <tr>\n",
              "      <th>1598</th>\n",
              "      <td>6.0</td>\n",
              "      <td>1.0</td>\n",
              "      <td>4.0</td>\n",
              "      <td>6.0</td>\n",
              "      <td>1.0</td>\n",
              "      <td>1.0</td>\n",
              "      <td>1.0</td>\n",
              "      <td>1.0</td>\n",
              "      <td>1.0</td>\n",
              "      <td>6.0</td>\n",
              "    </tr>\n",
              "    <tr>\n",
              "      <th>1599</th>\n",
              "      <td>4.0</td>\n",
              "      <td>2.0</td>\n",
              "      <td>4.0</td>\n",
              "      <td>3.0</td>\n",
              "      <td>1.0</td>\n",
              "      <td>2.0</td>\n",
              "      <td>3.0</td>\n",
              "      <td>3.0</td>\n",
              "      <td>1.0</td>\n",
              "      <td>2.0</td>\n",
              "    </tr>\n",
              "  </tbody>\n",
              "</table>\n",
              "<p>1600 rows × 10 columns</p>\n",
              "</div>\n",
              "      <button class=\"colab-df-convert\" onclick=\"convertToInteractive('df-383dd36f-8b99-43c4-91d5-c19e6e9a79ab')\"\n",
              "              title=\"Convert this dataframe to an interactive table.\"\n",
              "              style=\"display:none;\">\n",
              "        \n",
              "  <svg xmlns=\"http://www.w3.org/2000/svg\" height=\"24px\"viewBox=\"0 0 24 24\"\n",
              "       width=\"24px\">\n",
              "    <path d=\"M0 0h24v24H0V0z\" fill=\"none\"/>\n",
              "    <path d=\"M18.56 5.44l.94 2.06.94-2.06 2.06-.94-2.06-.94-.94-2.06-.94 2.06-2.06.94zm-11 1L8.5 8.5l.94-2.06 2.06-.94-2.06-.94L8.5 2.5l-.94 2.06-2.06.94zm10 10l.94 2.06.94-2.06 2.06-.94-2.06-.94-.94-2.06-.94 2.06-2.06.94z\"/><path d=\"M17.41 7.96l-1.37-1.37c-.4-.4-.92-.59-1.43-.59-.52 0-1.04.2-1.43.59L10.3 9.45l-7.72 7.72c-.78.78-.78 2.05 0 2.83L4 21.41c.39.39.9.59 1.41.59.51 0 1.02-.2 1.41-.59l7.78-7.78 2.81-2.81c.8-.78.8-2.07 0-2.86zM5.41 20L4 18.59l7.72-7.72 1.47 1.35L5.41 20z\"/>\n",
              "  </svg>\n",
              "      </button>\n",
              "      \n",
              "  <style>\n",
              "    .colab-df-container {\n",
              "      display:flex;\n",
              "      flex-wrap:wrap;\n",
              "      gap: 12px;\n",
              "    }\n",
              "\n",
              "    .colab-df-convert {\n",
              "      background-color: #E8F0FE;\n",
              "      border: none;\n",
              "      border-radius: 50%;\n",
              "      cursor: pointer;\n",
              "      display: none;\n",
              "      fill: #1967D2;\n",
              "      height: 32px;\n",
              "      padding: 0 0 0 0;\n",
              "      width: 32px;\n",
              "    }\n",
              "\n",
              "    .colab-df-convert:hover {\n",
              "      background-color: #E2EBFA;\n",
              "      box-shadow: 0px 1px 2px rgba(60, 64, 67, 0.3), 0px 1px 3px 1px rgba(60, 64, 67, 0.15);\n",
              "      fill: #174EA6;\n",
              "    }\n",
              "\n",
              "    [theme=dark] .colab-df-convert {\n",
              "      background-color: #3B4455;\n",
              "      fill: #D2E3FC;\n",
              "    }\n",
              "\n",
              "    [theme=dark] .colab-df-convert:hover {\n",
              "      background-color: #434B5C;\n",
              "      box-shadow: 0px 1px 3px 1px rgba(0, 0, 0, 0.15);\n",
              "      filter: drop-shadow(0px 1px 2px rgba(0, 0, 0, 0.3));\n",
              "      fill: #FFFFFF;\n",
              "    }\n",
              "  </style>\n",
              "\n",
              "      <script>\n",
              "        const buttonEl =\n",
              "          document.querySelector('#df-383dd36f-8b99-43c4-91d5-c19e6e9a79ab button.colab-df-convert');\n",
              "        buttonEl.style.display =\n",
              "          google.colab.kernel.accessAllowed ? 'block' : 'none';\n",
              "\n",
              "        async function convertToInteractive(key) {\n",
              "          const element = document.querySelector('#df-383dd36f-8b99-43c4-91d5-c19e6e9a79ab');\n",
              "          const dataTable =\n",
              "            await google.colab.kernel.invokeFunction('convertToInteractive',\n",
              "                                                     [key], {});\n",
              "          if (!dataTable) return;\n",
              "\n",
              "          const docLinkHtml = 'Like what you see? Visit the ' +\n",
              "            '<a target=\"_blank\" href=https://colab.research.google.com/notebooks/data_table.ipynb>data table notebook</a>'\n",
              "            + ' to learn more about interactive tables.';\n",
              "          element.innerHTML = '';\n",
              "          dataTable['output_type'] = 'display_data';\n",
              "          await google.colab.output.renderOutput(dataTable, element);\n",
              "          const docLink = document.createElement('div');\n",
              "          docLink.innerHTML = docLinkHtml;\n",
              "          element.appendChild(docLink);\n",
              "        }\n",
              "      </script>\n",
              "    </div>\n",
              "  </div>\n",
              "  "
            ]
          },
          "metadata": {},
          "execution_count": 313
        }
      ]
    },
    {
      "cell_type": "code",
      "source": [
        "q23_summary_df = aggregate_q25(q23_df, **q23_scale_dict)\n",
        "q23_summary_df"
      ],
      "metadata": {
        "id": "qBzyrE_tadTA",
        "colab": {
          "base_uri": "https://localhost:8080/",
          "height": 363
        },
        "outputId": "a1c421bc-2c05-437a-ed30-b419c3ccef5d"
      },
      "execution_count": null,
      "outputs": [
        {
          "output_type": "execute_result",
          "data": {
            "text/plain": [
              "      Not at all  Two or three times a month  Once a week  \\\n",
              "Q23a        7.56                        5.19         5.69   \n",
              "Q23b       57.56                       13.44         9.38   \n",
              "Q23c        9.38                        7.12         7.56   \n",
              "Q23d       19.81                        4.38         4.62   \n",
              "Q23e       66.62                        8.12         8.25   \n",
              "Q23f       56.44                       10.44         7.62   \n",
              "Q23g       62.50                       10.69         8.00   \n",
              "Q23h       82.94                        7.94         3.75   \n",
              "Q23i       84.75                        7.25         2.56   \n",
              "Q23j       16.56                        5.88         4.38   \n",
              "\n",
              "      Several times a week  Once a day  Several times a day  \n",
              "Q23a                 10.81        7.94                62.81  \n",
              "Q23b                 10.25        4.06                 5.31  \n",
              "Q23c                 52.56        8.62                14.75  \n",
              "Q23d                  6.25        6.56                58.38  \n",
              "Q23e                  8.25        4.75                 4.00  \n",
              "Q23f                 12.94        4.81                 7.75  \n",
              "Q23g                 11.75        3.81                 3.25  \n",
              "Q23h                  3.38        0.69                 1.31  \n",
              "Q23i                  2.75        1.19                 1.50  \n",
              "Q23j                  6.44        6.25                60.50  "
            ],
            "text/html": [
              "\n",
              "  <div id=\"df-de4765c9-c62e-4813-b990-bc77ca043d23\">\n",
              "    <div class=\"colab-df-container\">\n",
              "      <div>\n",
              "<style scoped>\n",
              "    .dataframe tbody tr th:only-of-type {\n",
              "        vertical-align: middle;\n",
              "    }\n",
              "\n",
              "    .dataframe tbody tr th {\n",
              "        vertical-align: top;\n",
              "    }\n",
              "\n",
              "    .dataframe thead th {\n",
              "        text-align: right;\n",
              "    }\n",
              "</style>\n",
              "<table border=\"1\" class=\"dataframe\">\n",
              "  <thead>\n",
              "    <tr style=\"text-align: right;\">\n",
              "      <th></th>\n",
              "      <th>Not at all</th>\n",
              "      <th>Two or three times a month</th>\n",
              "      <th>Once a week</th>\n",
              "      <th>Several times a week</th>\n",
              "      <th>Once a day</th>\n",
              "      <th>Several times a day</th>\n",
              "    </tr>\n",
              "  </thead>\n",
              "  <tbody>\n",
              "    <tr>\n",
              "      <th>Q23a</th>\n",
              "      <td>7.56</td>\n",
              "      <td>5.19</td>\n",
              "      <td>5.69</td>\n",
              "      <td>10.81</td>\n",
              "      <td>7.94</td>\n",
              "      <td>62.81</td>\n",
              "    </tr>\n",
              "    <tr>\n",
              "      <th>Q23b</th>\n",
              "      <td>57.56</td>\n",
              "      <td>13.44</td>\n",
              "      <td>9.38</td>\n",
              "      <td>10.25</td>\n",
              "      <td>4.06</td>\n",
              "      <td>5.31</td>\n",
              "    </tr>\n",
              "    <tr>\n",
              "      <th>Q23c</th>\n",
              "      <td>9.38</td>\n",
              "      <td>7.12</td>\n",
              "      <td>7.56</td>\n",
              "      <td>52.56</td>\n",
              "      <td>8.62</td>\n",
              "      <td>14.75</td>\n",
              "    </tr>\n",
              "    <tr>\n",
              "      <th>Q23d</th>\n",
              "      <td>19.81</td>\n",
              "      <td>4.38</td>\n",
              "      <td>4.62</td>\n",
              "      <td>6.25</td>\n",
              "      <td>6.56</td>\n",
              "      <td>58.38</td>\n",
              "    </tr>\n",
              "    <tr>\n",
              "      <th>Q23e</th>\n",
              "      <td>66.62</td>\n",
              "      <td>8.12</td>\n",
              "      <td>8.25</td>\n",
              "      <td>8.25</td>\n",
              "      <td>4.75</td>\n",
              "      <td>4.00</td>\n",
              "    </tr>\n",
              "    <tr>\n",
              "      <th>Q23f</th>\n",
              "      <td>56.44</td>\n",
              "      <td>10.44</td>\n",
              "      <td>7.62</td>\n",
              "      <td>12.94</td>\n",
              "      <td>4.81</td>\n",
              "      <td>7.75</td>\n",
              "    </tr>\n",
              "    <tr>\n",
              "      <th>Q23g</th>\n",
              "      <td>62.50</td>\n",
              "      <td>10.69</td>\n",
              "      <td>8.00</td>\n",
              "      <td>11.75</td>\n",
              "      <td>3.81</td>\n",
              "      <td>3.25</td>\n",
              "    </tr>\n",
              "    <tr>\n",
              "      <th>Q23h</th>\n",
              "      <td>82.94</td>\n",
              "      <td>7.94</td>\n",
              "      <td>3.75</td>\n",
              "      <td>3.38</td>\n",
              "      <td>0.69</td>\n",
              "      <td>1.31</td>\n",
              "    </tr>\n",
              "    <tr>\n",
              "      <th>Q23i</th>\n",
              "      <td>84.75</td>\n",
              "      <td>7.25</td>\n",
              "      <td>2.56</td>\n",
              "      <td>2.75</td>\n",
              "      <td>1.19</td>\n",
              "      <td>1.50</td>\n",
              "    </tr>\n",
              "    <tr>\n",
              "      <th>Q23j</th>\n",
              "      <td>16.56</td>\n",
              "      <td>5.88</td>\n",
              "      <td>4.38</td>\n",
              "      <td>6.44</td>\n",
              "      <td>6.25</td>\n",
              "      <td>60.50</td>\n",
              "    </tr>\n",
              "  </tbody>\n",
              "</table>\n",
              "</div>\n",
              "      <button class=\"colab-df-convert\" onclick=\"convertToInteractive('df-de4765c9-c62e-4813-b990-bc77ca043d23')\"\n",
              "              title=\"Convert this dataframe to an interactive table.\"\n",
              "              style=\"display:none;\">\n",
              "        \n",
              "  <svg xmlns=\"http://www.w3.org/2000/svg\" height=\"24px\"viewBox=\"0 0 24 24\"\n",
              "       width=\"24px\">\n",
              "    <path d=\"M0 0h24v24H0V0z\" fill=\"none\"/>\n",
              "    <path d=\"M18.56 5.44l.94 2.06.94-2.06 2.06-.94-2.06-.94-.94-2.06-.94 2.06-2.06.94zm-11 1L8.5 8.5l.94-2.06 2.06-.94-2.06-.94L8.5 2.5l-.94 2.06-2.06.94zm10 10l.94 2.06.94-2.06 2.06-.94-2.06-.94-.94-2.06-.94 2.06-2.06.94z\"/><path d=\"M17.41 7.96l-1.37-1.37c-.4-.4-.92-.59-1.43-.59-.52 0-1.04.2-1.43.59L10.3 9.45l-7.72 7.72c-.78.78-.78 2.05 0 2.83L4 21.41c.39.39.9.59 1.41.59.51 0 1.02-.2 1.41-.59l7.78-7.78 2.81-2.81c.8-.78.8-2.07 0-2.86zM5.41 20L4 18.59l7.72-7.72 1.47 1.35L5.41 20z\"/>\n",
              "  </svg>\n",
              "      </button>\n",
              "      \n",
              "  <style>\n",
              "    .colab-df-container {\n",
              "      display:flex;\n",
              "      flex-wrap:wrap;\n",
              "      gap: 12px;\n",
              "    }\n",
              "\n",
              "    .colab-df-convert {\n",
              "      background-color: #E8F0FE;\n",
              "      border: none;\n",
              "      border-radius: 50%;\n",
              "      cursor: pointer;\n",
              "      display: none;\n",
              "      fill: #1967D2;\n",
              "      height: 32px;\n",
              "      padding: 0 0 0 0;\n",
              "      width: 32px;\n",
              "    }\n",
              "\n",
              "    .colab-df-convert:hover {\n",
              "      background-color: #E2EBFA;\n",
              "      box-shadow: 0px 1px 2px rgba(60, 64, 67, 0.3), 0px 1px 3px 1px rgba(60, 64, 67, 0.15);\n",
              "      fill: #174EA6;\n",
              "    }\n",
              "\n",
              "    [theme=dark] .colab-df-convert {\n",
              "      background-color: #3B4455;\n",
              "      fill: #D2E3FC;\n",
              "    }\n",
              "\n",
              "    [theme=dark] .colab-df-convert:hover {\n",
              "      background-color: #434B5C;\n",
              "      box-shadow: 0px 1px 3px 1px rgba(0, 0, 0, 0.15);\n",
              "      filter: drop-shadow(0px 1px 2px rgba(0, 0, 0, 0.3));\n",
              "      fill: #FFFFFF;\n",
              "    }\n",
              "  </style>\n",
              "\n",
              "      <script>\n",
              "        const buttonEl =\n",
              "          document.querySelector('#df-de4765c9-c62e-4813-b990-bc77ca043d23 button.colab-df-convert');\n",
              "        buttonEl.style.display =\n",
              "          google.colab.kernel.accessAllowed ? 'block' : 'none';\n",
              "\n",
              "        async function convertToInteractive(key) {\n",
              "          const element = document.querySelector('#df-de4765c9-c62e-4813-b990-bc77ca043d23');\n",
              "          const dataTable =\n",
              "            await google.colab.kernel.invokeFunction('convertToInteractive',\n",
              "                                                     [key], {});\n",
              "          if (!dataTable) return;\n",
              "\n",
              "          const docLinkHtml = 'Like what you see? Visit the ' +\n",
              "            '<a target=\"_blank\" href=https://colab.research.google.com/notebooks/data_table.ipynb>data table notebook</a>'\n",
              "            + ' to learn more about interactive tables.';\n",
              "          element.innerHTML = '';\n",
              "          dataTable['output_type'] = 'display_data';\n",
              "          await google.colab.output.renderOutput(dataTable, element);\n",
              "          const docLink = document.createElement('div');\n",
              "          docLink.innerHTML = docLinkHtml;\n",
              "          element.appendChild(docLink);\n",
              "        }\n",
              "      </script>\n",
              "    </div>\n",
              "  </div>\n",
              "  "
            ]
          },
          "metadata": {},
          "execution_count": 312
        }
      ]
    },
    {
      "cell_type": "code",
      "source": [
        "params_dict = {\n",
        "    'title': 'Rate of Communication with Other People',\n",
        "}"
      ],
      "metadata": {
        "id": "MkEvQCOzadTB"
      },
      "execution_count": 331,
      "outputs": []
    },
    {
      "cell_type": "code",
      "source": [
        "fig, ax = plt.subplots()\n",
        "fig.set_size_inches(16, 6, forward=True)\n",
        "diverging_stacked_plotter(ax, q23_summary_df, q23_scale_list, q23_labels, **params_dict)"
      ],
      "metadata": {
        "id": "uHWT9X_GadTB",
        "colab": {
          "base_uri": "https://localhost:8080/",
          "height": 415
        },
        "outputId": "1cb841f5-33cc-4e67-97f3-93a8f15f3606"
      },
      "execution_count": 346,
      "outputs": [
        {
          "output_type": "display_data",
          "data": {
            "text/plain": [
              "<Figure size 1152x432 with 1 Axes>"
            ],
            "image/png": "[encoded data removed]"
          },
          "metadata": {
            "needs_background": "light"
          }
        }
      ]
    },
    {
      "cell_type": "code",
      "source": [
        ""
      ],
      "metadata": {
        "id": "Nus6xStAadTC"
      },
      "execution_count": null,
      "outputs": []
    },
    {
      "cell_type": "markdown",
      "source": [
        "# Q24b- the person that will be there for you if you felt down or depressed and wanted to talk about it"
      ],
      "metadata": {
        "id": "YmENWDniH-bh"
      }
    },
    {
      "cell_type": "code",
      "source": [
        "Q24b_persons = final_dts\n",
        "\n",
        "Q24b = Q24b_persons ['Q24b']\n",
        "Q24b_data = pd.DataFrame(Q24b)\n",
        "Q24b_result = Q24b_data.value_counts(sort=True)\n",
        "print(Q24b_result)"
      ],
      "metadata": {
        "colab": {
          "base_uri": "https://localhost:8080/"
        },
        "id": "udVUKCTnJK0-",
        "outputId": "f9c89b2a-5db0-4df8-f933-f520215c2e2f"
      },
      "execution_count": null,
      "outputs": [
        {
          "output_type": "stream",
          "name": "stdout",
          "text": [
            "Q24b\n",
            "1.0     1034\n",
            "3.0      388\n",
            "12.0      81\n",
            "4.0       23\n",
            "2.0       21\n",
            "10.0      19\n",
            "6.0       13\n",
            "5.0        8\n",
            "7.0        7\n",
            "8.0        3\n",
            "9.0        3\n",
            "dtype: int64\n"
          ]
        }
      ]
    },
    {
      "cell_type": "code",
      "source": [
        "#responses that have low values (<23) are all grouped to 'Others'. it is consists of voluntary organizations, administrative staff, \n",
        "#lecturer, neighbors, colleague from my course, social networks, and more distant family member.\n",
        "\n",
        "person = ['Others','Someone I live with','No one','Close friend','Close family member']\n",
        "\n",
        "bar_width=0.9\n",
        "# getting values against each value of y\n",
        "result = [74,23,81,388,1034]\n",
        "\n",
        "fig, ax = plt.subplots(figsize=(13,7))\n",
        "plt.barh(person, result, color='#00A88F', height=bar_width)\n",
        "\n",
        "plt.xlim(0, 1100)\n",
        "plt.xticks(np.arange(0, 1101, 100))\n",
        "\n",
        "ax.spines['right'].set_visible(False)\n",
        "ax.spines['top'].set_visible(False)\n",
        "ax.spines['left'].set_visible(True)\n",
        "ax.spines['bottom'].set_visible(False)\n",
        "\n",
        "ax.yaxis.grid(False)\n",
        "ax.xaxis.grid(True, which='major', color='grey', linestyle='dotted')\n",
        "ax.set_axisbelow(True)\n",
        "\n",
        "# setting labels\n",
        "plt.ylabel(\"Persons\", fontsize=12)\n",
        "plt.xlabel(\"Responses\", fontsize=12)\n",
        "plt.title(\"Rate of Person there for you if you felt Down or Depressed\", loc='center', fontsize=18, fontweight='bold')\n",
        "plt.show()"
      ],
      "metadata": {
        "colab": {
          "base_uri": "https://localhost:8080/",
          "height": 465
        },
        "id": "p-O6jlEeJNXC",
        "outputId": "9eef9d94-6e8a-4121-d6bd-97a33db1b5d0"
      },
      "execution_count": null,
      "outputs": [
        {
          "output_type": "display_data",
          "data": {
            "text/plain": [
              "<Figure size 936x504 with 1 Axes>"
            ],
            "image/png": "[encoded data removed]"
          },
          "metadata": {
            "needs_background": "light"
          }
        }
      ]
    },
    {
      "cell_type": "markdown",
      "source": [
        "# Q25(a, b, c, d, e, f, g, h, i, and j)- rate of emotions felt"
      ],
      "metadata": {
        "id": "2lpZtDZtJSri"
      }
    },
    {
      "cell_type": "code",
      "source": [
        "Q25_emotions = final_dts\n",
        "\n",
        "Q25a_joyful = Q25_emotions ['Q25a']\n",
        "Q25a_data = pd.DataFrame(Q25a_joyful)\n",
        "Q25a_result = Q25a_data.value_counts(sort=False)\n",
        "print(Q25a_result)\n",
        "\n",
        "Q25b_hopeful = Q25_emotions ['Q25b']\n",
        "Q25b_data = pd.DataFrame(Q25b_hopeful)\n",
        "Q25b_result = Q25b_data.value_counts(sort=False)\n",
        "print(Q25b_result)\n",
        "\n",
        "Q25c_proud = Q25_emotions ['Q25c']\n",
        "Q25c_data = pd.DataFrame(Q25c_proud)\n",
        "Q25c_result = Q25c_data.value_counts(sort=False)\n",
        "print(Q25c_result)\n",
        "\n",
        "Q25d_frustrated = Q25_emotions ['Q25d']\n",
        "Q25d_data = pd.DataFrame(Q25d_frustrated)\n",
        "Q25d_result = Q25d_data.value_counts(sort=False)\n",
        "print(Q25d_result)\n",
        "\n",
        "Q25e_angry = Q25_emotions ['Q25e']\n",
        "Q25e_data = pd.DataFrame(Q25e_angry)\n",
        "Q25e_result = Q25e_data.value_counts(sort=False)\n",
        "print(Q25e_result)\n",
        "\n",
        "Q25f_anxious = Q25_emotions ['Q25f']\n",
        "Q25f_data = pd.DataFrame(Q25f_anxious)\n",
        "Q25f_result = Q25f_data.value_counts(sort=False)\n",
        "print(Q25f_result)\n",
        "\n",
        "Q25g_ashamed = Q25_emotions ['Q25g']\n",
        "Q25g_data = pd.DataFrame(Q25g_ashamed)\n",
        "Q25g_result = Q25g_data.value_counts(sort=False)\n",
        "print(Q25g_result)\n",
        "\n",
        "Q25h_relieved = Q25_emotions ['Q25h']\n",
        "Q25h_data = pd.DataFrame(Q25h_relieved)\n",
        "Q25h_result = Q25h_data.value_counts(sort=False)\n",
        "print(Q25h_result)\n",
        "\n",
        "Q25i_hopeless = Q25_emotions ['Q25i']\n",
        "Q25i_data = pd.DataFrame(Q25i_hopeless)\n",
        "Q25i_result = Q25i_data.value_counts(sort=False)\n",
        "print(Q25i_result)\n",
        "\n",
        "Q25j_bored = Q25_emotions ['Q25j']\n",
        "Q25j_data = pd.DataFrame(Q25j_bored)\n",
        "Q25j_result = Q25j_data.value_counts(sort=False)\n",
        "print(Q25j_result)"
      ],
      "metadata": {
        "colab": {
          "base_uri": "https://localhost:8080/"
        },
        "id": "22OkI_j2JVdX",
        "outputId": "be610aa1-8749-4b50-a240-4c277659f79c"
      },
      "execution_count": null,
      "outputs": [
        {
          "output_type": "stream",
          "name": "stdout",
          "text": [
            "Q25a\n",
            "1.0     168\n",
            "2.0     193\n",
            "3.0     986\n",
            "4.0     181\n",
            "5.0      72\n",
            "dtype: int64\n",
            "Q25b\n",
            "1.0      79\n",
            "2.0     152\n",
            "3.0     951\n",
            "4.0     222\n",
            "5.0     196\n",
            "dtype: int64\n",
            "Q25c\n",
            "1.0     182\n",
            "2.0     185\n",
            "3.0     937\n",
            "4.0     156\n",
            "5.0     140\n",
            "dtype: int64\n",
            "Q25d\n",
            "1.0     113\n",
            "2.0     187\n",
            "3.0     995\n",
            "4.0     207\n",
            "5.0      98\n",
            "dtype: int64\n",
            "Q25e\n",
            "1.0     130\n",
            "2.0     224\n",
            "3.0     986\n",
            "4.0     184\n",
            "5.0      76\n",
            "dtype: int64\n",
            "Q25f\n",
            "1.0     122\n",
            "2.0     174\n",
            "3.0     972\n",
            "4.0     208\n",
            "5.0     124\n",
            "dtype: int64\n",
            "Q25g\n",
            "1.0     1034\n",
            "2.0      238\n",
            "3.0      225\n",
            "4.0       76\n",
            "5.0       27\n",
            "dtype: int64\n",
            "Q25h\n",
            "1.0      142\n",
            "2.0      211\n",
            "3.0     1052\n",
            "4.0      138\n",
            "5.0       57\n",
            "dtype: int64\n",
            "Q25i\n",
            "1.0     257\n",
            "2.0     210\n",
            "3.0     940\n",
            "4.0     134\n",
            "5.0      59\n",
            "dtype: int64\n",
            "Q25j\n",
            "1.0      81\n",
            "2.0     113\n",
            "3.0     931\n",
            "4.0     250\n",
            "5.0     225\n",
            "dtype: int64\n"
          ]
        }
      ]
    },
    {
      "cell_type": "code",
      "source": [
        "emotion_rate = ['Never', 'Rarely', 'Sometimes', 'Often', 'Always']\n",
        "emotion_results = {\n",
        "    'Joyful': [168,193,986,181,72],\n",
        "    'Hopeful': [79,152,951,222,196],\n",
        "    'Proud': [182,185,937,156,140],\n",
        "    'Frustrated': [113,187,995,207,98],\n",
        "    'Angry': [130,224,986,184,76],\n",
        "    'Anxious': [122,174,972,208,124],\n",
        "    'Ashamed': [1034,238,225,76,27],\n",
        "    'Relieved': [142,211,1052,138,57],\n",
        "    'Hopeless': [257,210,940,134,59],\n",
        "    'Bored': [81,113,931,250,225],\n",
        "}\n",
        "\n",
        "def questionnaire_emotion(emotion_results, emotion_rate):\n",
        "    labels = list(emotion_results.keys())\n",
        "    data = np.array(list(emotion_results.values()))\n",
        "    data_cum = data.cumsum(axis=1)\n",
        "    middle_index = data.shape[1]//2\n",
        "    offsets = data[:, range(middle_index)].sum(axis=1) + data[:, middle_index]/2\n",
        "\n",
        "    # Color Mapping\n",
        "    category_colors = plt.get_cmap('coolwarm_r')(np.linspace(0.19, 0.9, data.shape[1]))\n",
        "    \n",
        "    fig, ax = plt.subplots(figsize=(18,5))\n",
        "    \n",
        "    # Plot Bars\n",
        "    for i, (colname, color) in enumerate(zip(emotion_rate, category_colors)):\n",
        "        widths = data[:, i]\n",
        "        starts = data_cum[:, i] - widths - offsets\n",
        "        rects = ax.barh(labels, widths, left=starts, height=0.8,\n",
        "                        label=colname, color=color)\n",
        "    \n",
        "    # Add Zero Reference Line\n",
        "    ax.axvline(0, linestyle='--', color='black', alpha=0.5)\n",
        "    \n",
        "    # X Axis\n",
        "    ax.set_xlim(-1500, 1500)\n",
        "    ax.set_xticks(np.arange(-1500, 1501, 300))\n",
        "    \n",
        "    # Y Axis\n",
        "    ax.invert_yaxis()\n",
        "    \n",
        "    # Remove spines\n",
        "    ax.spines['right'].set_visible(False)\n",
        "    ax.spines['top'].set_visible(False)\n",
        "    ax.spines['left'].set_visible(False)\n",
        "    ax.spines['bottom'].set_visible(True)\n",
        "\n",
        "    ax.yaxis.grid(False)\n",
        "    ax.xaxis.grid(True, which='major', color='grey', linestyle='dotted')\n",
        "    ax.set_axisbelow(True)\n",
        "\n",
        "    # Legend\n",
        "    ax.legend(ncol=len(emotion_rate), bbox_to_anchor=(0.5,-0.29), loc='lower center', fontsize=12)\n",
        "    \n",
        "    #Title and xy-labels\n",
        "    ax.set_title('Emotion Rate felt by College Students', loc='center', fontsize=18, fontweight='bold')\n",
        "    ax.set_ylabel('Emotions', fontsize=13)\n",
        "    ax.set_xlabel('Responses', fontsize=13)\n",
        "\n",
        "    # Set Background Color\n",
        "    fig.set_facecolor('#FFFFFF')\n",
        "\n",
        "    return fig, ax\n",
        "\n",
        "fig, ax = questionnaire_emotion(emotion_results, emotion_rate)\n",
        "plt.show()"
      ],
      "metadata": {
        "colab": {
          "base_uri": "https://localhost:8080/",
          "height": 374
        },
        "id": "-OyKiCnYJZDX",
        "outputId": "c854cc42-f15a-4900-f32d-9ef0c0cabf9a"
      },
      "execution_count": null,
      "outputs": [
        {
          "output_type": "display_data",
          "data": {
            "text/plain": [
              "<Figure size 1296x360 with 1 Axes>"
            ],
            "image/png": "[encoded data removed]"
          },
          "metadata": {}
        }
      ]
    },
    {
      "cell_type": "markdown",
      "source": [
        "# Q26b- personal mental health rate"
      ],
      "metadata": {
        "id": "OoLE8Q9AJqzC"
      }
    },
    {
      "cell_type": "code",
      "source": [
        "Q26_personal_mental_health = final_dts\n",
        "\n",
        "Q26b_mental_health_rate = Q26_personal_mental_health ['Q26b']\n",
        "Q26b_data = pd.DataFrame(Q26b_mental_health_rate)\n",
        "Q26b_result = Q26b_data.value_counts(sort=False)\n",
        "print(Q26b_result)"
      ],
      "metadata": {
        "colab": {
          "base_uri": "https://localhost:8080/"
        },
        "id": "1DDakBLNJri_",
        "outputId": "45ccc14c-dc95-4a18-e4f3-e575c16debf2"
      },
      "execution_count": null,
      "outputs": [
        {
          "output_type": "stream",
          "name": "stdout",
          "text": [
            "Q26b\n",
            "1.0     201\n",
            "2.0     914\n",
            "3.0     198\n",
            "4.0     176\n",
            "5.0     111\n",
            "dtype: int64\n"
          ]
        }
      ]
    },
    {
      "cell_type": "code",
      "source": [
        "# setting concern rate values at x axis\n",
        "mental_health_rate=['A little of the time', 'Some of the time', 'A good part of the time', 'Most of the time', 'All of the time']\n",
        "\n",
        "# giving the values against each value at y axis\n",
        "mental_health_result=[201,914,198,176,111]\n",
        "\n",
        "fig, ax = plt.subplots(figsize=(13,7))\n",
        "plt.bar(mental_health_rate, mental_health_result, color=['#62BEB6', '#0B9A8D', '#077368', '#034D44', '#002B24'], width=0.9)\n",
        "\n",
        "plt.ylim(0, 1000)\n",
        "plt.yticks(np.arange(0, 1001, 200))\n",
        "\n",
        "ax.spines['right'].set_visible(False)\n",
        "ax.spines['top'].set_visible(False)\n",
        "ax.spines['left'].set_visible(False)\n",
        "ax.spines['bottom'].set_visible(True)\n",
        "\n",
        "ax.yaxis.grid(True, which='major', color='grey', linestyle='dotted')\n",
        "ax.xaxis.grid(False)\n",
        "ax.set_axisbelow(True)\n",
        " \n",
        "# setting labels\n",
        "plt.xlabel(\"Rate\", fontsize=12)\n",
        "plt.ylabel(\"Responses\", fontsize=12)  \n",
        "plt.title(\"Personal Mental Health Concern Rate\", loc='center', fontsize=18, fontweight='bold')\n",
        "plt.show()"
      ],
      "metadata": {
        "colab": {
          "base_uri": "https://localhost:8080/",
          "height": 465
        },
        "id": "zOqbgh-JJuDP",
        "outputId": "310dce66-15ba-4886-a2e5-8cacfcd8c7ab"
      },
      "execution_count": null,
      "outputs": [
        {
          "output_type": "display_data",
          "data": {
            "text/plain": [
              "<Figure size 936x504 with 1 Axes>"
            ],
            "image/png": "[encoded data removed]"
          },
          "metadata": {
            "needs_background": "light"
          }
        }
      ]
    },
    {
      "cell_type": "markdown",
      "source": [
        "# Q26(a, c, d, e, f, g, h, and i)- rate of other contributors to mental health namely physical health, studying issues, future education, personal finances, family relationship, professional career in future, pandemic crisis in future, and leisure activities"
      ],
      "metadata": {
        "id": "NhRK-8jsJ0xu"
      }
    },
    {
      "cell_type": "code",
      "source": [
        "Q26_contributors = final_dts\n",
        "\n",
        "Q26a_physical_health = Q26_contributors ['Q26a']\n",
        "Q26a_data = pd.DataFrame(Q26a_physical_health)\n",
        "Q26a_result = Q26a_data.value_counts(sort=False)\n",
        "print(Q26a_result)\n",
        "\n",
        "Q26c_studying_issues = Q26_contributors ['Q26c']\n",
        "Q26c_data = pd.DataFrame(Q26c_studying_issues)\n",
        "Q26c_result = Q26c_data.value_counts(sort=False)\n",
        "print(Q26c_result)\n",
        "\n",
        "Q26d_future_education = Q26_contributors ['Q26d']\n",
        "Q26d_data = pd.DataFrame(Q26d_future_education)\n",
        "Q26d_result = Q26d_data.value_counts(sort=False)\n",
        "print(Q26d_result)\n",
        "\n",
        "Q26e_personal_finances = Q26_contributors ['Q26e']\n",
        "Q26e_data = pd.DataFrame(Q26e_personal_finances)\n",
        "Q26e_result = Q26e_data.value_counts(sort=False)\n",
        "print(Q26e_result)\n",
        "\n",
        "Q26f_family_relationship = Q26_contributors ['Q26f']\n",
        "Q26f_data = pd.DataFrame(Q26f_family_relationship)\n",
        "Q26f_result = Q26f_data.value_counts(sort=False)\n",
        "print(Q26f_result)\n",
        "\n",
        "Q26g_future_professional_career = Q26_contributors ['Q26g']\n",
        "Q26g_data = pd.DataFrame(Q26g_future_professional_career)\n",
        "Q26g_result = Q26g_data.value_counts(sort=False)\n",
        "print(Q26g_result)\n",
        "\n",
        "Q26h_future_pandemic_crisis = Q26_contributors ['Q26h']\n",
        "Q26h_data = pd.DataFrame(Q26h_future_pandemic_crisis)\n",
        "Q26h_result = Q26h_data.value_counts(sort=False)\n",
        "print(Q26h_result)\n",
        "\n",
        "Q26i_leisure_activities = Q26_contributors ['Q26i']\n",
        "Q26i_data = pd.DataFrame(Q26i_leisure_activities)\n",
        "Q26i_result = Q26i_data.value_counts(sort=False)\n",
        "print(Q26i_result)"
      ],
      "metadata": {
        "colab": {
          "base_uri": "https://localhost:8080/"
        },
        "id": "AjMTQvNUJ3jf",
        "outputId": "cfdf5b4a-d84f-4988-9ec2-1b66ab66a4a0"
      },
      "execution_count": null,
      "outputs": [
        {
          "output_type": "stream",
          "name": "stdout",
          "text": [
            "Q26a\n",
            "1.0     204\n",
            "2.0     947\n",
            "3.0     212\n",
            "4.0     158\n",
            "5.0      79\n",
            "dtype: int64\n",
            "Q26c\n",
            "1.0      93\n",
            "2.0     218\n",
            "3.0     209\n",
            "4.0     934\n",
            "5.0     146\n",
            "dtype: int64\n",
            "Q26d\n",
            "1.0      92\n",
            "2.0     182\n",
            "3.0     219\n",
            "4.0     928\n",
            "5.0     179\n",
            "dtype: int64\n",
            "Q26e\n",
            "1.0     195\n",
            "2.0     891\n",
            "3.0     182\n",
            "4.0     185\n",
            "5.0     147\n",
            "dtype: int64\n",
            "Q26f\n",
            "1.0     180\n",
            "2.0     867\n",
            "3.0     199\n",
            "4.0     183\n",
            "5.0     171\n",
            "dtype: int64\n",
            "Q26g\n",
            "1.0     100\n",
            "2.0     180\n",
            "3.0     217\n",
            "4.0     915\n",
            "5.0     188\n",
            "dtype: int64\n",
            "Q26h\n",
            "1.0     183\n",
            "2.0     930\n",
            "3.0     179\n",
            "4.0     195\n",
            "5.0     113\n",
            "dtype: int64\n",
            "Q26i\n",
            "1.0     171\n",
            "2.0     237\n",
            "3.0     908\n",
            "4.0     186\n",
            "5.0      98\n",
            "dtype: int64\n"
          ]
        }
      ]
    },
    {
      "cell_type": "code",
      "source": [
        "contributors_rate = ['A little of the time', 'Some of the time', 'A good part of the time', 'Most of the time', 'All of the time']\n",
        "contrib_statement_results = {\n",
        "    'Personal physical health': [204,947,212,158,79],\n",
        "    'Studying issues': [93,218,209,934,146],\n",
        "    'Future education': [92,182,219,928,179],\n",
        "    'Personal finances': [195,867,182,185,147],\n",
        "    'Family relationships': [180,867,199,183,171],\n",
        "    'Professional career in the future': [100,180,217,915,188],\n",
        "    'COVID-19 or similar pandemic crisis in the future': [183,930,179,195,113],\n",
        "    'Leisure activities': [171,237,908,186,98],\n",
        "}\n",
        "\n",
        "def contributors_mh(contrib_statement_results, contributors_rate):\n",
        "    labels = list(contrib_statement_results.keys())\n",
        "    data = np.array(list(contrib_statement_results.values()))\n",
        "    data_cum = data.cumsum(axis=1)\n",
        "    middle_index = data.shape[1]//2\n",
        "    offsets = data[:, range(middle_index)].sum(axis=1) + data[:, middle_index]/2\n",
        "\n",
        "    # Color Mapping\n",
        "    category_colors = plt.get_cmap('coolwarm_r')(np.linspace(0.19, 0.9, data.shape[1]))\n",
        "    \n",
        "    fig, ax = plt.subplots(figsize=(15,5.5))\n",
        "    \n",
        "    # Plot Bars\n",
        "    for i, (colname, color) in enumerate(zip(contributors_rate, category_colors)):\n",
        "        widths = data[:, i]\n",
        "        starts = data_cum[:, i] - widths - offsets\n",
        "        rects = ax.barh(labels, widths, left=starts, height=0.8,\n",
        "                        label=colname, color=color)\n",
        "    \n",
        "    # Add Zero Reference Line\n",
        "    ax.axvline(0, linestyle='--', color='black', alpha=0.5)\n",
        "    \n",
        "    # X Axis\n",
        "    ax.set_xlim(-1500, 1500)\n",
        "    ax.set_xticks(np.arange(-1500, 1501, 300))\n",
        "    \n",
        "    # Y Axis\n",
        "    ax.invert_yaxis()\n",
        "    \n",
        "    # Remove spines\n",
        "    ax.spines['right'].set_visible(False)\n",
        "    ax.spines['top'].set_visible(False)\n",
        "    ax.spines['left'].set_visible(False)\n",
        "    ax.spines['bottom'].set_visible(True)\n",
        "\n",
        "    ax.yaxis.grid(False)\n",
        "    ax.xaxis.grid(True, which='major', color='grey', linestyle='dotted')\n",
        "    ax.set_axisbelow(True)\n",
        "    \n",
        "    # Legend\n",
        "    ax.legend(ncol=len(contributors_rate), bbox_to_anchor=(0.5,-0.28), loc='lower center', fontsize=12)\n",
        "    \n",
        "    #Title and xy-labels\n",
        "    ax.set_title('Rate of Concern on the Various Contributors to Mental Health', loc='center', fontsize=18, fontweight='bold')\n",
        "    ax.set_ylabel('Statements', fontsize=13)\n",
        "    ax.set_xlabel('Responses', fontsize=13)\n",
        "\n",
        "    # Set Background Color\n",
        "    fig.set_facecolor('#FFFFFF')\n",
        "\n",
        "    return fig, ax\n",
        "\n",
        "fig, ax = contributors_mh(contrib_statement_results, contributors_rate)\n",
        "plt.show()"
      ],
      "metadata": {
        "colab": {
          "base_uri": "https://localhost:8080/",
          "height": 394
        },
        "id": "pcVHfXPLJ62G",
        "outputId": "ee89f44f-4aef-47f2-859f-ec6f46192747"
      },
      "execution_count": null,
      "outputs": [
        {
          "output_type": "display_data",
          "data": {
            "text/plain": [
              "<Figure size 1080x396 with 1 Axes>"
            ],
            "image/png": "[encoded data removed]"
          },
          "metadata": {}
        }
      ]
    }
  ]
}