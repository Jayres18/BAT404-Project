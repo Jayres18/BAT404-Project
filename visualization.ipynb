{
  "nbformat": 4,
  "nbformat_minor": 0,
  "metadata": {
    "colab": {
      "name": "visualization.ipynb",
      "provenance": [],
      "collapsed_sections": [],
      "include_colab_link": true
    },
    "kernelspec": {
      "name": "python3",
      "display_name": "Python 3"
    },
    "language_info": {
      "name": "python"
    }
  },
  "cells": [
    {
      "cell_type": "markdown",
      "metadata": {
        "id": "view-in-github",
        "colab_type": "text"
      },
      "source": [
        "<a href=\"https://colab.research.google.com/github/allymaranan/BAT404-Project/blob/main/visualization.ipynb\" target=\"_parent\"><img src=\"https://colab.research.google.com/assets/colab-badge.svg\" alt=\"Open In Colab\"/></a>"
      ]
    },
    {
      "cell_type": "markdown",
      "source": [
        "# Import numpy, pandas, and matplotlib.pyplot"
      ],
      "metadata": {
        "id": "YWdvR3pOGdJ2"
      }
    },
    {
      "cell_type": "code",
      "execution_count": 1,
      "metadata": {
        "id": "t9et0O6tFT78"
      },
      "outputs": [],
      "source": [
        "import numpy as np"
      ]
    },
    {
      "cell_type": "code",
      "source": [
        "import pandas as pd"
      ],
      "metadata": {
        "id": "OJi25GJ0GQnW"
      },
      "execution_count": 2,
      "outputs": []
    },
    {
      "cell_type": "code",
      "source": [
        "import matplotlib.pyplot as plt"
      ],
      "metadata": {
        "id": "BNOPDW6fGTWN"
      },
      "execution_count": 3,
      "outputs": []
    },
    {
      "cell_type": "markdown",
      "source": [
        "# Read the final_dataset csv file"
      ],
      "metadata": {
        "id": "gOuPvhBaHuG6"
      }
    },
    {
      "cell_type": "code",
      "source": [
        "from google.colab import drive\n",
        "drive.mount('/content/drive')"
      ],
      "metadata": {
        "id": "ytTSn-Z7xLzk",
        "colab": {
          "base_uri": "https://localhost:8080/"
        },
        "outputId": "70669111-9dcb-4bed-e1c9-3e9711a3a888"
      },
      "execution_count": 5,
      "outputs": [
        {
          "output_type": "stream",
          "name": "stdout",
          "text": [
            "Mounted at /content/drive\n"
          ]
        }
      ]
    },
    {
      "cell_type": "code",
      "source": [
        "final_dts = pd.read_csv ('/content/drive/MyDrive/Colab Notebooks/final-project-dataset/final_dataset.csv')\n",
        "final_dts"
      ],
      "metadata": {
        "id": "yGetTEyDGlVs",
        "colab": {
          "base_uri": "https://localhost:8080/",
          "height": 424
        },
        "outputId": "bb4d8237-2059-4071-9922-34300f496513"
      },
      "execution_count": 7,
      "outputs": [
        {
          "output_type": "execute_result",
          "data": {
            "text/plain": [
              "                        Q1   Q5   Q6         Q7   Q8  Q17  Q20a  Q20b  Q20c  \\\n",
              "0              Afghanistan  1.0  3.0  62.000000  3.0  5.0   5.0   1.0   5.0   \n",
              "1              Afghanistan  1.0  1.0  28.000000  1.0  4.0   4.0   3.0   3.0   \n",
              "2              Afghanistan  1.0  2.0  26.000000  2.0  2.0   4.0   2.0   4.0   \n",
              "3              Afghanistan  1.0  2.0  25.000000  2.0  4.0   4.0   3.0   3.0   \n",
              "4              Afghanistan  1.0  4.0  26.000000  1.0  4.0   4.0   3.0   3.0   \n",
              "...                    ...  ...  ...        ...  ...  ...   ...   ...   ...   \n",
              "1595  United Arab Emirates  1.0  3.0  21.000000  2.0  4.0   4.0   3.0   3.0   \n",
              "1596  United Arab Emirates  1.0  4.0  22.000000  2.0  4.0   4.0   3.0   3.0   \n",
              "1597  United Arab Emirates  1.0  3.0  20.000000  2.0  5.0   5.0   1.0   5.0   \n",
              "1598  United Arab Emirates  1.0  2.0  20.000000  1.0  4.0   4.0   3.0   3.0   \n",
              "1599  United Arab Emirates  1.0  4.0  21.264706  2.0  4.0   4.0   3.0   3.0   \n",
              "\n",
              "      Q20d  ...  Q25j  Q26a  Q26b  Q26c  Q26d  Q26e  Q26f  Q26g  Q26h  Q26i  \n",
              "0      1.0  ...   5.0   2.0   5.0   5.0   5.0   5.0   5.0   5.0   5.0   5.0  \n",
              "1      3.0  ...   3.0   1.0   1.0   2.0   1.0   1.0   1.0   1.0   1.0   2.0  \n",
              "2      2.0  ...   4.0   4.0   4.0   4.0   5.0   5.0   5.0   5.0   5.0   5.0  \n",
              "3      3.0  ...   3.0   2.0   2.0   4.0   4.0   2.0   2.0   4.0   2.0   3.0  \n",
              "4      3.0  ...   3.0   2.0   2.0   4.0   4.0   2.0   2.0   4.0   2.0   3.0  \n",
              "...    ...  ...   ...   ...   ...   ...   ...   ...   ...   ...   ...   ...  \n",
              "1595   3.0  ...   3.0   2.0   2.0   4.0   4.0   2.0   2.0   4.0   2.0   3.0  \n",
              "1596   3.0  ...   3.0   2.0   2.0   4.0   4.0   2.0   2.0   4.0   2.0   3.0  \n",
              "1597   3.0  ...   5.0   4.0   5.0   5.0   5.0   5.0   5.0   5.0   2.0   5.0  \n",
              "1598   3.0  ...   3.0   2.0   2.0   4.0   4.0   2.0   2.0   4.0   2.0   3.0  \n",
              "1599   3.0  ...   3.0   2.0   4.0   5.0   4.0   2.0   1.0   3.0   1.0   1.0  \n",
              "\n",
              "[1600 rows x 46 columns]"
            ],
            "text/html": [
              "\n",
              "  <div id=\"df-312fd1e8-c1b9-436a-bda0-29b0ca69f621\">\n",
              "    <div class=\"colab-df-container\">\n",
              "      <div>\n",
              "<style scoped>\n",
              "    .dataframe tbody tr th:only-of-type {\n",
              "        vertical-align: middle;\n",
              "    }\n",
              "\n",
              "    .dataframe tbody tr th {\n",
              "        vertical-align: top;\n",
              "    }\n",
              "\n",
              "    .dataframe thead th {\n",
              "        text-align: right;\n",
              "    }\n",
              "</style>\n",
              "<table border=\"1\" class=\"dataframe\">\n",
              "  <thead>\n",
              "    <tr style=\"text-align: right;\">\n",
              "      <th></th>\n",
              "      <th>Q1</th>\n",
              "      <th>Q5</th>\n",
              "      <th>Q6</th>\n",
              "      <th>Q7</th>\n",
              "      <th>Q8</th>\n",
              "      <th>Q17</th>\n",
              "      <th>Q20a</th>\n",
              "      <th>Q20b</th>\n",
              "      <th>Q20c</th>\n",
              "      <th>Q20d</th>\n",
              "      <th>...</th>\n",
              "      <th>Q25j</th>\n",
              "      <th>Q26a</th>\n",
              "      <th>Q26b</th>\n",
              "      <th>Q26c</th>\n",
              "      <th>Q26d</th>\n",
              "      <th>Q26e</th>\n",
              "      <th>Q26f</th>\n",
              "      <th>Q26g</th>\n",
              "      <th>Q26h</th>\n",
              "      <th>Q26i</th>\n",
              "    </tr>\n",
              "  </thead>\n",
              "  <tbody>\n",
              "    <tr>\n",
              "      <th>0</th>\n",
              "      <td>Afghanistan</td>\n",
              "      <td>1.0</td>\n",
              "      <td>3.0</td>\n",
              "      <td>62.000000</td>\n",
              "      <td>3.0</td>\n",
              "      <td>5.0</td>\n",
              "      <td>5.0</td>\n",
              "      <td>1.0</td>\n",
              "      <td>5.0</td>\n",
              "      <td>1.0</td>\n",
              "      <td>...</td>\n",
              "      <td>5.0</td>\n",
              "      <td>2.0</td>\n",
              "      <td>5.0</td>\n",
              "      <td>5.0</td>\n",
              "      <td>5.0</td>\n",
              "      <td>5.0</td>\n",
              "      <td>5.0</td>\n",
              "      <td>5.0</td>\n",
              "      <td>5.0</td>\n",
              "      <td>5.0</td>\n",
              "    </tr>\n",
              "    <tr>\n",
              "      <th>1</th>\n",
              "      <td>Afghanistan</td>\n",
              "      <td>1.0</td>\n",
              "      <td>1.0</td>\n",
              "      <td>28.000000</td>\n",
              "      <td>1.0</td>\n",
              "      <td>4.0</td>\n",
              "      <td>4.0</td>\n",
              "      <td>3.0</td>\n",
              "      <td>3.0</td>\n",
              "      <td>3.0</td>\n",
              "      <td>...</td>\n",
              "      <td>3.0</td>\n",
              "      <td>1.0</td>\n",
              "      <td>1.0</td>\n",
              "      <td>2.0</td>\n",
              "      <td>1.0</td>\n",
              "      <td>1.0</td>\n",
              "      <td>1.0</td>\n",
              "      <td>1.0</td>\n",
              "      <td>1.0</td>\n",
              "      <td>2.0</td>\n",
              "    </tr>\n",
              "    <tr>\n",
              "      <th>2</th>\n",
              "      <td>Afghanistan</td>\n",
              "      <td>1.0</td>\n",
              "      <td>2.0</td>\n",
              "      <td>26.000000</td>\n",
              "      <td>2.0</td>\n",
              "      <td>2.0</td>\n",
              "      <td>4.0</td>\n",
              "      <td>2.0</td>\n",
              "      <td>4.0</td>\n",
              "      <td>2.0</td>\n",
              "      <td>...</td>\n",
              "      <td>4.0</td>\n",
              "      <td>4.0</td>\n",
              "      <td>4.0</td>\n",
              "      <td>4.0</td>\n",
              "      <td>5.0</td>\n",
              "      <td>5.0</td>\n",
              "      <td>5.0</td>\n",
              "      <td>5.0</td>\n",
              "      <td>5.0</td>\n",
              "      <td>5.0</td>\n",
              "    </tr>\n",
              "    <tr>\n",
              "      <th>3</th>\n",
              "      <td>Afghanistan</td>\n",
              "      <td>1.0</td>\n",
              "      <td>2.0</td>\n",
              "      <td>25.000000</td>\n",
              "      <td>2.0</td>\n",
              "      <td>4.0</td>\n",
              "      <td>4.0</td>\n",
              "      <td>3.0</td>\n",
              "      <td>3.0</td>\n",
              "      <td>3.0</td>\n",
              "      <td>...</td>\n",
              "      <td>3.0</td>\n",
              "      <td>2.0</td>\n",
              "      <td>2.0</td>\n",
              "      <td>4.0</td>\n",
              "      <td>4.0</td>\n",
              "      <td>2.0</td>\n",
              "      <td>2.0</td>\n",
              "      <td>4.0</td>\n",
              "      <td>2.0</td>\n",
              "      <td>3.0</td>\n",
              "    </tr>\n",
              "    <tr>\n",
              "      <th>4</th>\n",
              "      <td>Afghanistan</td>\n",
              "      <td>1.0</td>\n",
              "      <td>4.0</td>\n",
              "      <td>26.000000</td>\n",
              "      <td>1.0</td>\n",
              "      <td>4.0</td>\n",
              "      <td>4.0</td>\n",
              "      <td>3.0</td>\n",
              "      <td>3.0</td>\n",
              "      <td>3.0</td>\n",
              "      <td>...</td>\n",
              "      <td>3.0</td>\n",
              "      <td>2.0</td>\n",
              "      <td>2.0</td>\n",
              "      <td>4.0</td>\n",
              "      <td>4.0</td>\n",
              "      <td>2.0</td>\n",
              "      <td>2.0</td>\n",
              "      <td>4.0</td>\n",
              "      <td>2.0</td>\n",
              "      <td>3.0</td>\n",
              "    </tr>\n",
              "    <tr>\n",
              "      <th>...</th>\n",
              "      <td>...</td>\n",
              "      <td>...</td>\n",
              "      <td>...</td>\n",
              "      <td>...</td>\n",
              "      <td>...</td>\n",
              "      <td>...</td>\n",
              "      <td>...</td>\n",
              "      <td>...</td>\n",
              "      <td>...</td>\n",
              "      <td>...</td>\n",
              "      <td>...</td>\n",
              "      <td>...</td>\n",
              "      <td>...</td>\n",
              "      <td>...</td>\n",
              "      <td>...</td>\n",
              "      <td>...</td>\n",
              "      <td>...</td>\n",
              "      <td>...</td>\n",
              "      <td>...</td>\n",
              "      <td>...</td>\n",
              "      <td>...</td>\n",
              "    </tr>\n",
              "    <tr>\n",
              "      <th>1595</th>\n",
              "      <td>United Arab Emirates</td>\n",
              "      <td>1.0</td>\n",
              "      <td>3.0</td>\n",
              "      <td>21.000000</td>\n",
              "      <td>2.0</td>\n",
              "      <td>4.0</td>\n",
              "      <td>4.0</td>\n",
              "      <td>3.0</td>\n",
              "      <td>3.0</td>\n",
              "      <td>3.0</td>\n",
              "      <td>...</td>\n",
              "      <td>3.0</td>\n",
              "      <td>2.0</td>\n",
              "      <td>2.0</td>\n",
              "      <td>4.0</td>\n",
              "      <td>4.0</td>\n",
              "      <td>2.0</td>\n",
              "      <td>2.0</td>\n",
              "      <td>4.0</td>\n",
              "      <td>2.0</td>\n",
              "      <td>3.0</td>\n",
              "    </tr>\n",
              "    <tr>\n",
              "      <th>1596</th>\n",
              "      <td>United Arab Emirates</td>\n",
              "      <td>1.0</td>\n",
              "      <td>4.0</td>\n",
              "      <td>22.000000</td>\n",
              "      <td>2.0</td>\n",
              "      <td>4.0</td>\n",
              "      <td>4.0</td>\n",
              "      <td>3.0</td>\n",
              "      <td>3.0</td>\n",
              "      <td>3.0</td>\n",
              "      <td>...</td>\n",
              "      <td>3.0</td>\n",
              "      <td>2.0</td>\n",
              "      <td>2.0</td>\n",
              "      <td>4.0</td>\n",
              "      <td>4.0</td>\n",
              "      <td>2.0</td>\n",
              "      <td>2.0</td>\n",
              "      <td>4.0</td>\n",
              "      <td>2.0</td>\n",
              "      <td>3.0</td>\n",
              "    </tr>\n",
              "    <tr>\n",
              "      <th>1597</th>\n",
              "      <td>United Arab Emirates</td>\n",
              "      <td>1.0</td>\n",
              "      <td>3.0</td>\n",
              "      <td>20.000000</td>\n",
              "      <td>2.0</td>\n",
              "      <td>5.0</td>\n",
              "      <td>5.0</td>\n",
              "      <td>1.0</td>\n",
              "      <td>5.0</td>\n",
              "      <td>3.0</td>\n",
              "      <td>...</td>\n",
              "      <td>5.0</td>\n",
              "      <td>4.0</td>\n",
              "      <td>5.0</td>\n",
              "      <td>5.0</td>\n",
              "      <td>5.0</td>\n",
              "      <td>5.0</td>\n",
              "      <td>5.0</td>\n",
              "      <td>5.0</td>\n",
              "      <td>2.0</td>\n",
              "      <td>5.0</td>\n",
              "    </tr>\n",
              "    <tr>\n",
              "      <th>1598</th>\n",
              "      <td>United Arab Emirates</td>\n",
              "      <td>1.0</td>\n",
              "      <td>2.0</td>\n",
              "      <td>20.000000</td>\n",
              "      <td>1.0</td>\n",
              "      <td>4.0</td>\n",
              "      <td>4.0</td>\n",
              "      <td>3.0</td>\n",
              "      <td>3.0</td>\n",
              "      <td>3.0</td>\n",
              "      <td>...</td>\n",
              "      <td>3.0</td>\n",
              "      <td>2.0</td>\n",
              "      <td>2.0</td>\n",
              "      <td>4.0</td>\n",
              "      <td>4.0</td>\n",
              "      <td>2.0</td>\n",
              "      <td>2.0</td>\n",
              "      <td>4.0</td>\n",
              "      <td>2.0</td>\n",
              "      <td>3.0</td>\n",
              "    </tr>\n",
              "    <tr>\n",
              "      <th>1599</th>\n",
              "      <td>United Arab Emirates</td>\n",
              "      <td>1.0</td>\n",
              "      <td>4.0</td>\n",
              "      <td>21.264706</td>\n",
              "      <td>2.0</td>\n",
              "      <td>4.0</td>\n",
              "      <td>4.0</td>\n",
              "      <td>3.0</td>\n",
              "      <td>3.0</td>\n",
              "      <td>3.0</td>\n",
              "      <td>...</td>\n",
              "      <td>3.0</td>\n",
              "      <td>2.0</td>\n",
              "      <td>4.0</td>\n",
              "      <td>5.0</td>\n",
              "      <td>4.0</td>\n",
              "      <td>2.0</td>\n",
              "      <td>1.0</td>\n",
              "      <td>3.0</td>\n",
              "      <td>1.0</td>\n",
              "      <td>1.0</td>\n",
              "    </tr>\n",
              "  </tbody>\n",
              "</table>\n",
              "<p>1600 rows × 46 columns</p>\n",
              "</div>\n",
              "      <button class=\"colab-df-convert\" onclick=\"convertToInteractive('df-312fd1e8-c1b9-436a-bda0-29b0ca69f621')\"\n",
              "              title=\"Convert this dataframe to an interactive table.\"\n",
              "              style=\"display:none;\">\n",
              "        \n",
              "  <svg xmlns=\"http://www.w3.org/2000/svg\" height=\"24px\"viewBox=\"0 0 24 24\"\n",
              "       width=\"24px\">\n",
              "    <path d=\"M0 0h24v24H0V0z\" fill=\"none\"/>\n",
              "    <path d=\"M18.56 5.44l.94 2.06.94-2.06 2.06-.94-2.06-.94-.94-2.06-.94 2.06-2.06.94zm-11 1L8.5 8.5l.94-2.06 2.06-.94-2.06-.94L8.5 2.5l-.94 2.06-2.06.94zm10 10l.94 2.06.94-2.06 2.06-.94-2.06-.94-.94-2.06-.94 2.06-2.06.94z\"/><path d=\"M17.41 7.96l-1.37-1.37c-.4-.4-.92-.59-1.43-.59-.52 0-1.04.2-1.43.59L10.3 9.45l-7.72 7.72c-.78.78-.78 2.05 0 2.83L4 21.41c.39.39.9.59 1.41.59.51 0 1.02-.2 1.41-.59l7.78-7.78 2.81-2.81c.8-.78.8-2.07 0-2.86zM5.41 20L4 18.59l7.72-7.72 1.47 1.35L5.41 20z\"/>\n",
              "  </svg>\n",
              "      </button>\n",
              "      \n",
              "  <style>\n",
              "    .colab-df-container {\n",
              "      display:flex;\n",
              "      flex-wrap:wrap;\n",
              "      gap: 12px;\n",
              "    }\n",
              "\n",
              "    .colab-df-convert {\n",
              "      background-color: #E8F0FE;\n",
              "      border: none;\n",
              "      border-radius: 50%;\n",
              "      cursor: pointer;\n",
              "      display: none;\n",
              "      fill: #1967D2;\n",
              "      height: 32px;\n",
              "      padding: 0 0 0 0;\n",
              "      width: 32px;\n",
              "    }\n",
              "\n",
              "    .colab-df-convert:hover {\n",
              "      background-color: #E2EBFA;\n",
              "      box-shadow: 0px 1px 2px rgba(60, 64, 67, 0.3), 0px 1px 3px 1px rgba(60, 64, 67, 0.15);\n",
              "      fill: #174EA6;\n",
              "    }\n",
              "\n",
              "    [theme=dark] .colab-df-convert {\n",
              "      background-color: #3B4455;\n",
              "      fill: #D2E3FC;\n",
              "    }\n",
              "\n",
              "    [theme=dark] .colab-df-convert:hover {\n",
              "      background-color: #434B5C;\n",
              "      box-shadow: 0px 1px 3px 1px rgba(0, 0, 0, 0.15);\n",
              "      filter: drop-shadow(0px 1px 2px rgba(0, 0, 0, 0.3));\n",
              "      fill: #FFFFFF;\n",
              "    }\n",
              "  </style>\n",
              "\n",
              "      <script>\n",
              "        const buttonEl =\n",
              "          document.querySelector('#df-312fd1e8-c1b9-436a-bda0-29b0ca69f621 button.colab-df-convert');\n",
              "        buttonEl.style.display =\n",
              "          google.colab.kernel.accessAllowed ? 'block' : 'none';\n",
              "\n",
              "        async function convertToInteractive(key) {\n",
              "          const element = document.querySelector('#df-312fd1e8-c1b9-436a-bda0-29b0ca69f621');\n",
              "          const dataTable =\n",
              "            await google.colab.kernel.invokeFunction('convertToInteractive',\n",
              "                                                     [key], {});\n",
              "          if (!dataTable) return;\n",
              "\n",
              "          const docLinkHtml = 'Like what you see? Visit the ' +\n",
              "            '<a target=\"_blank\" href=https://colab.research.google.com/notebooks/data_table.ipynb>data table notebook</a>'\n",
              "            + ' to learn more about interactive tables.';\n",
              "          element.innerHTML = '';\n",
              "          dataTable['output_type'] = 'display_data';\n",
              "          await google.colab.output.renderOutput(dataTable, element);\n",
              "          const docLink = document.createElement('div');\n",
              "          docLink.innerHTML = docLinkHtml;\n",
              "          element.appendChild(docLink);\n",
              "        }\n",
              "      </script>\n",
              "    </div>\n",
              "  </div>\n",
              "  "
            ]
          },
          "metadata": {},
          "execution_count": 7
        }
      ]
    },
    {
      "cell_type": "code",
      "source": [
        "final_dts.info()"
      ],
      "metadata": {
        "id": "_VZmhjTDIyV6",
        "colab": {
          "base_uri": "https://localhost:8080/"
        },
        "outputId": "a5fa650d-9b3e-4ad5-ff8a-e5f5353b2843"
      },
      "execution_count": 8,
      "outputs": [
        {
          "output_type": "stream",
          "name": "stdout",
          "text": [
            "<class 'pandas.core.frame.DataFrame'>\n",
            "RangeIndex: 1600 entries, 0 to 1599\n",
            "Data columns (total 46 columns):\n",
            " #   Column  Non-Null Count  Dtype  \n",
            "---  ------  --------------  -----  \n",
            " 0   Q1      1600 non-null   object \n",
            " 1   Q5      1600 non-null   float64\n",
            " 2   Q6      1600 non-null   float64\n",
            " 3   Q7      1600 non-null   float64\n",
            " 4   Q8      1600 non-null   float64\n",
            " 5   Q17     1600 non-null   float64\n",
            " 6   Q20a    1600 non-null   float64\n",
            " 7   Q20b    1600 non-null   float64\n",
            " 8   Q20c    1600 non-null   float64\n",
            " 9   Q20d    1600 non-null   float64\n",
            " 10  Q20e    1600 non-null   float64\n",
            " 11  Q20f    1600 non-null   float64\n",
            " 12  Q21c    1600 non-null   float64\n",
            " 13  Q21i    1600 non-null   float64\n",
            " 14  Q22a    1600 non-null   float64\n",
            " 15  Q22b    1600 non-null   float64\n",
            " 16  Q23a    1600 non-null   float64\n",
            " 17  Q23b    1600 non-null   float64\n",
            " 18  Q23c    1600 non-null   float64\n",
            " 19  Q23d    1600 non-null   float64\n",
            " 20  Q23e    1600 non-null   float64\n",
            " 21  Q23f    1600 non-null   float64\n",
            " 22  Q23g    1600 non-null   float64\n",
            " 23  Q23h    1600 non-null   float64\n",
            " 24  Q23i    1600 non-null   float64\n",
            " 25  Q23j    1600 non-null   float64\n",
            " 26  Q24b    1600 non-null   float64\n",
            " 27  Q25a    1600 non-null   float64\n",
            " 28  Q25b    1600 non-null   float64\n",
            " 29  Q25c    1600 non-null   float64\n",
            " 30  Q25d    1600 non-null   float64\n",
            " 31  Q25e    1600 non-null   float64\n",
            " 32  Q25f    1600 non-null   float64\n",
            " 33  Q25g    1600 non-null   float64\n",
            " 34  Q25h    1600 non-null   float64\n",
            " 35  Q25i    1600 non-null   float64\n",
            " 36  Q25j    1600 non-null   float64\n",
            " 37  Q26a    1600 non-null   float64\n",
            " 38  Q26b    1600 non-null   float64\n",
            " 39  Q26c    1600 non-null   float64\n",
            " 40  Q26d    1600 non-null   float64\n",
            " 41  Q26e    1600 non-null   float64\n",
            " 42  Q26f    1600 non-null   float64\n",
            " 43  Q26g    1600 non-null   float64\n",
            " 44  Q26h    1600 non-null   float64\n",
            " 45  Q26i    1600 non-null   float64\n",
            "dtypes: float64(45), object(1)\n",
            "memory usage: 575.1+ KB\n"
          ]
        }
      ]
    },
    {
      "cell_type": "markdown",
      "source": [
        "# **Visualizations**\n"
      ],
      "metadata": {
        "id": "2BcRa4M8H-KL"
      }
    },
    {
      "cell_type": "markdown",
      "source": [
        "# Q6 and Q25(a, b, c, d, e, f, g, h, i, and j)-  rate of emotions felt based on the field of study\n"
      ],
      "metadata": {
        "id": "_4eiyuWmPeYW"
      }
    },
    {
      "cell_type": "markdown",
      "source": [
        "Field Study: Arts"
      ],
      "metadata": {
        "id": "Keo4b0AKrJNl"
      }
    },
    {
      "cell_type": "markdown",
      "source": [
        "Emotion: Joyful"
      ],
      "metadata": {
        "id": "Aq5O_-ikQ_R7"
      }
    },
    {
      "cell_type": "code",
      "source": [
        "first = final_dts[[\"Q6\", \"Q25a\"]]\n",
        "dfa_art = pd.DataFrame(first)\n",
        "dfa_art.info()\n",
        "\n",
        "art_joyful = dfa_art.loc[(dfa_art['Q6'] == 1) & (dfa_art['Q25a'] == 1)]\n",
        "data_joyful_art = art_joyful.drop('Q6', axis = 1)\n",
        "Data_joyful = data_joyful_art.value_counts()\n",
        "art_data_joyful = Data_joyful.tolist()\n",
        "\n",
        "art1_joyful = dfa_art.loc[(dfa_art['Q6'] == 1) & (dfa_art['Q25a'] == 2)]\n",
        "data1_joyful_art = art1_joyful.drop('Q6', axis = 1)\n",
        "Data1_joyful = data1_joyful_art.value_counts()\n",
        "art_data1_joyful = Data1_joyful.tolist()\n",
        "\n",
        "art2_joyful = dfa_art.loc[(dfa_art['Q6'] == 1) & (dfa_art['Q25a'] == 3)]\n",
        "data2_joyful_art = art2_joyful.drop('Q6', axis = 1)\n",
        "Data2_joyful = data2_joyful_art.value_counts()\n",
        "art_data2_joyful = Data2_joyful.tolist()\n",
        "\n",
        "art3_joyful = dfa_art.loc[(dfa_art['Q6'] == 1) & (dfa_art['Q25a'] == 4)]\n",
        "data3_joyful_art = art3_joyful.drop('Q6', axis = 1)\n",
        "Data3_joyful = data3_joyful_art.value_counts()\n",
        "art_data3_joyful = Data3_joyful.tolist()\n",
        "\n",
        "art4_joyful = dfa_art.loc[(dfa_art['Q6'] == 1) & (dfa_art['Q25a'] == 5)]\n",
        "data4_joyful_art = art4_joyful.drop('Q6', axis = 1)\n",
        "Data4_joyful = data4_joyful_art.value_counts()\n",
        "art_data4_joyful = Data4_joyful.tolist()\n",
        "\n"
      ],
      "metadata": {
        "id": "JsexS73wfaZg",
        "colab": {
          "base_uri": "https://localhost:8080/"
        },
        "outputId": "635bf0c9-6647-49ab-b61c-d74bdc1547db"
      },
      "execution_count": 10,
      "outputs": [
        {
          "output_type": "stream",
          "name": "stdout",
          "text": [
            "<class 'pandas.core.frame.DataFrame'>\n",
            "RangeIndex: 1600 entries, 0 to 1599\n",
            "Data columns (total 2 columns):\n",
            " #   Column  Non-Null Count  Dtype  \n",
            "---  ------  --------------  -----  \n",
            " 0   Q6      1600 non-null   float64\n",
            " 1   Q25a    1600 non-null   float64\n",
            "dtypes: float64(2)\n",
            "memory usage: 25.1 KB\n"
          ]
        }
      ]
    },
    {
      "cell_type": "markdown",
      "source": [
        "Emotion: Hopeful"
      ],
      "metadata": {
        "id": "2bdLNmX2R05b"
      }
    },
    {
      "cell_type": "code",
      "source": [
        "second = final_dts[[\"Q6\", \"Q25b\"]]\n",
        "dfb_art = pd.DataFrame(second)\n",
        "dfb_art.info()\n",
        "\n",
        "art_hopeful = dfb_art.loc[(dfb_art['Q6'] == 1) & (dfb_art['Q25b'] == 1)]\n",
        "data_hopeful = art_hopeful.drop('Q6', axis = 1)\n",
        "Data_hopeful = data_hopeful.value_counts()\n",
        "art_data_hopeful = Data_hopeful.tolist()\n",
        "\n",
        "art1_hopeful = dfb_art.loc[(dfb_art['Q6'] == 1) & (dfb_art['Q25b'] == 2)]\n",
        "data1_hopeful = art1_hopeful.drop('Q6', axis = 1)\n",
        "Data1_hopeful = data1_hopeful.value_counts()\n",
        "art_data1_hopeful = Data1_hopeful.tolist()\n",
        "\n",
        "art2_hopeful = dfb_art.loc[(dfb_art['Q6'] == 1) & (dfb_art['Q25b'] == 3)]\n",
        "data2_hopeful = art2_hopeful.drop('Q6', axis = 1)\n",
        "Data2_hopeful = data2_hopeful.value_counts()\n",
        "art_data2_hopeful = Data2_hopeful.tolist()\n",
        "\n",
        "art3_hopeful = dfb_art.loc[(dfb_art['Q6'] == 1) & (dfb_art['Q25b'] == 4)]\n",
        "data3_hopeful = art3_hopeful.drop('Q6', axis = 1)\n",
        "Data3_hopeful = data3_hopeful.value_counts()\n",
        "art_data3_hopeful = Data3_hopeful.tolist()\n",
        "\n",
        "art4_hopeful = dfb_art.loc[(dfb_art['Q6'] == 1) & (dfb_art['Q25b'] == 5)]\n",
        "data4_hopeful = art4_hopeful.drop('Q6', axis = 1)\n",
        "Data4_hopeful = data4_hopeful.value_counts()\n",
        "art_data4_hopeful = Data4_hopeful.tolist()\n",
        "\n"
      ],
      "metadata": {
        "colab": {
          "base_uri": "https://localhost:8080/"
        },
        "id": "EVNlGYsagmpk",
        "outputId": "9029ad78-bd99-433d-f2ae-771e807b0a7d"
      },
      "execution_count": 11,
      "outputs": [
        {
          "output_type": "stream",
          "name": "stdout",
          "text": [
            "<class 'pandas.core.frame.DataFrame'>\n",
            "RangeIndex: 1600 entries, 0 to 1599\n",
            "Data columns (total 2 columns):\n",
            " #   Column  Non-Null Count  Dtype  \n",
            "---  ------  --------------  -----  \n",
            " 0   Q6      1600 non-null   float64\n",
            " 1   Q25b    1600 non-null   float64\n",
            "dtypes: float64(2)\n",
            "memory usage: 25.1 KB\n"
          ]
        }
      ]
    },
    {
      "cell_type": "markdown",
      "source": [
        "Emotion: Proud"
      ],
      "metadata": {
        "id": "6pasoxozR7WK"
      }
    },
    {
      "cell_type": "code",
      "source": [
        "third = final_dts[[\"Q6\", \"Q25c\"]]\n",
        "dfc_art = pd.DataFrame(third)\n",
        "dfc_art.info()\n",
        "\n",
        "art_proud = dfc_art.loc[(dfc_art['Q6'] == 1) & (dfc_art['Q25c'] == 1)]\n",
        "data_proud = art_proud.drop('Q6', axis = 1)\n",
        "Data_proud = data_proud.value_counts()\n",
        "art_data_proud = Data_proud.tolist()\n",
        "\n",
        "art1_proud = dfc_art.loc[(dfc_art['Q6'] == 1) & (dfc_art['Q25c'] == 2)]\n",
        "data1_proud = art1_proud.drop('Q6', axis = 1)\n",
        "Data1_proud = data1_proud.value_counts()\n",
        "art_data1_proud = Data1_proud.tolist()\n",
        "\n",
        "art2_proud = dfc_art.loc[(dfc_art['Q6'] == 1) & (dfc_art['Q25c'] == 3)]\n",
        "data2_proud = art2_proud.drop('Q6', axis = 1)\n",
        "Data2_proud = data2_proud.value_counts()\n",
        "art_data2_proud = Data2_proud.tolist()\n",
        "\n",
        "art3_proud = dfc_art.loc[(dfc_art['Q6'] == 1) & (dfc_art['Q25c'] == 4)]\n",
        "data3_proud = art3_proud.drop('Q6', axis = 1)\n",
        "Data3_proud = data3_proud.value_counts()\n",
        "art_data3_proud = Data3_proud.tolist()\n",
        "\n",
        "art4_proud = dfc_art.loc[(dfc_art['Q6'] == 1) & (dfc_art['Q25c'] == 5)]\n",
        "data4_proud = art4_proud.drop('Q6', axis = 1)\n",
        "Data4_proud = data4_proud.value_counts()\n",
        "art_data4_proud = Data4_proud.tolist()\n",
        "\n"
      ],
      "metadata": {
        "colab": {
          "base_uri": "https://localhost:8080/"
        },
        "id": "L2JdF9qYOoIj",
        "outputId": "36de0ccd-d3c5-43f2-bafb-1e02fc014a95"
      },
      "execution_count": 12,
      "outputs": [
        {
          "output_type": "stream",
          "name": "stdout",
          "text": [
            "<class 'pandas.core.frame.DataFrame'>\n",
            "RangeIndex: 1600 entries, 0 to 1599\n",
            "Data columns (total 2 columns):\n",
            " #   Column  Non-Null Count  Dtype  \n",
            "---  ------  --------------  -----  \n",
            " 0   Q6      1600 non-null   float64\n",
            " 1   Q25c    1600 non-null   float64\n",
            "dtypes: float64(2)\n",
            "memory usage: 25.1 KB\n"
          ]
        }
      ]
    },
    {
      "cell_type": "markdown",
      "source": [
        "Emotion: Frustrated"
      ],
      "metadata": {
        "id": "X5TB-wwpR_dk"
      }
    },
    {
      "cell_type": "code",
      "source": [
        "fourth = final_dts[[\"Q6\", \"Q25d\"]]\n",
        "dfd_art = pd.DataFrame(fourth)\n",
        "dfd_art.info()\n",
        "\n",
        "art_frustrated = dfd_art.loc[(dfd_art['Q6'] == 1) & (dfd_art['Q25d'] == 1)]\n",
        "data_frustrated = art_frustrated.drop('Q6', axis = 1)\n",
        "Data_frustrated = data_frustrated.value_counts()\n",
        "art_data_frustrated = Data_frustrated.tolist()\n",
        "\n",
        "art1_frustrated = dfd_art.loc[(dfd_art['Q6'] == 1) & (dfd_art['Q25d'] == 2)]\n",
        "data1_frustrated = art1_frustrated.drop('Q6', axis = 1)\n",
        "Data1_frustrated = data1_frustrated.value_counts()\n",
        "art_data1_frustrated = Data1_frustrated.tolist()\n",
        "\n",
        "art2_frustrated = dfd_art.loc[(dfd_art['Q6'] == 1) & (dfd_art['Q25d'] == 3)]\n",
        "data2_frustrated = art2_frustrated.drop('Q6', axis = 1)\n",
        "Data2_frustrated = data2_frustrated.value_counts()\n",
        "art_data2_frustrated = Data2_frustrated.tolist()\n",
        "\n",
        "art3_frustrated = dfd_art.loc[(dfd_art['Q6'] == 1) & (dfd_art['Q25d'] == 4)]\n",
        "data3_frustrated = art3_frustrated.drop('Q6', axis = 1)\n",
        "Data3_frustrated = data3_frustrated.value_counts()\n",
        "art_data3_frustrated = Data3_frustrated.tolist()\n",
        "\n",
        "art4_frustrated = dfd_art.loc[(dfd_art['Q6'] == 1) & (dfd_art['Q25d'] == 5)]\n",
        "data4_frustrated = art4_frustrated.drop('Q6', axis = 1)\n",
        "Data4_frustrated = data4_frustrated.value_counts()\n",
        "art_data4_frustrated = Data4_frustrated.tolist()\n",
        "\n"
      ],
      "metadata": {
        "colab": {
          "base_uri": "https://localhost:8080/"
        },
        "id": "TOlLhg9CP9Qq",
        "outputId": "d66f07e0-efea-4203-8b89-337f3e79f4c9"
      },
      "execution_count": 13,
      "outputs": [
        {
          "output_type": "stream",
          "name": "stdout",
          "text": [
            "<class 'pandas.core.frame.DataFrame'>\n",
            "RangeIndex: 1600 entries, 0 to 1599\n",
            "Data columns (total 2 columns):\n",
            " #   Column  Non-Null Count  Dtype  \n",
            "---  ------  --------------  -----  \n",
            " 0   Q6      1600 non-null   float64\n",
            " 1   Q25d    1600 non-null   float64\n",
            "dtypes: float64(2)\n",
            "memory usage: 25.1 KB\n"
          ]
        }
      ]
    },
    {
      "cell_type": "markdown",
      "source": [
        "Emotion: Angry"
      ],
      "metadata": {
        "id": "OiFvEK93SIXS"
      }
    },
    {
      "cell_type": "code",
      "source": [
        "fifth = final_dts[[\"Q6\", \"Q25e\"]]\n",
        "dfe_art = pd.DataFrame(fifth)\n",
        "dfe_art.info()\n",
        "\n",
        "art_angry = dfe_art.loc[(dfe_art['Q6'] == 1) & (dfe_art['Q25e'] == 1)]\n",
        "data_angry = art_angry.drop('Q6', axis = 1)\n",
        "Data_angry = data_angry.value_counts()\n",
        "art_data_angry = Data_angry.tolist()\n",
        "\n",
        "art1_angry = dfe_art.loc[(dfe_art['Q6'] == 1) & (dfe_art['Q25e'] == 2)]\n",
        "data1_angry = art1_angry.drop('Q6', axis = 1)\n",
        "Data1_angry = data1_angry.value_counts()\n",
        "art_data1_angry = Data1_angry.tolist()\n",
        "\n",
        "art2_angry = dfe_art.loc[(dfe_art['Q6'] == 1) & (dfe_art['Q25e'] == 3)]\n",
        "data2_angry = art2_angry.drop('Q6', axis = 1)\n",
        "Data2_angry = data2_angry.value_counts()\n",
        "art_data2_angry = Data2_angry.tolist()\n",
        "\n",
        "art3_angry = dfe_art.loc[(dfe_art['Q6'] == 1) & (dfe_art['Q25e'] == 4)]\n",
        "data3_angry = art3_angry.drop('Q6', axis = 1)\n",
        "Data3_angry = data3_angry.value_counts()\n",
        "art_data3_angry = Data3_angry.tolist()\n",
        "\n",
        "art4_angry = dfe_art.loc[(dfe_art['Q6'] == 1) & (dfe_art['Q25e'] == 5)]\n",
        "data4_angry = art4_angry.drop('Q6', axis = 1)\n",
        "Data4_angry = data4_angry.value_counts()\n",
        "art_data4_angry = Data4_angry.tolist()\n",
        "\n"
      ],
      "metadata": {
        "colab": {
          "base_uri": "https://localhost:8080/"
        },
        "id": "h50a1D7KQxFC",
        "outputId": "7bc618d1-3fa4-46a7-c2f1-b2f993f3c6e4"
      },
      "execution_count": 14,
      "outputs": [
        {
          "output_type": "stream",
          "name": "stdout",
          "text": [
            "<class 'pandas.core.frame.DataFrame'>\n",
            "RangeIndex: 1600 entries, 0 to 1599\n",
            "Data columns (total 2 columns):\n",
            " #   Column  Non-Null Count  Dtype  \n",
            "---  ------  --------------  -----  \n",
            " 0   Q6      1600 non-null   float64\n",
            " 1   Q25e    1600 non-null   float64\n",
            "dtypes: float64(2)\n",
            "memory usage: 25.1 KB\n"
          ]
        }
      ]
    },
    {
      "cell_type": "markdown",
      "source": [
        "Emotion: Anxious"
      ],
      "metadata": {
        "id": "tWqRoUNCSSei"
      }
    },
    {
      "cell_type": "code",
      "source": [
        "sixth = final_dts[[\"Q6\", \"Q25f\"]]\n",
        "dff_art = pd.DataFrame(sixth)\n",
        "dff_art.info()\n",
        "\n",
        "art_anxious = dff_art.loc[(dff_art['Q6'] == 1) & (dff_art['Q25f'] == 1)]\n",
        "data_anxious = art_anxious.drop('Q6', axis = 1)\n",
        "Data_anxious = data_anxious.value_counts()\n",
        "art_data_anxious = Data_anxious.tolist()\n",
        "\n",
        "art1_anxious = dff_art.loc[(dff_art['Q6'] == 1) & (dff_art['Q25f'] == 2)]\n",
        "data1_anxious = art1_anxious.drop('Q6', axis = 1)\n",
        "Data1_anxious = data1_anxious.value_counts()\n",
        "art_data1_anxious = Data1_anxious.tolist()\n",
        "\n",
        "art2_anxious = dff_art.loc[(dff_art['Q6'] == 1) & (dff_art['Q25f'] == 3)]\n",
        "data2_anxious = art2_anxious.drop('Q6', axis = 1)\n",
        "Data2_anxious = data2_anxious.value_counts()\n",
        "art_data2_anxious = Data2_anxious.tolist()\n",
        "\n",
        "art3_anxious = dff_art.loc[(dff_art['Q6'] == 1) & (dff_art['Q25f'] == 4)]\n",
        "data3_anxious = art3_anxious.drop('Q6', axis = 1)\n",
        "Data3_anxious = data3_anxious.value_counts()\n",
        "art_data3_anxious = Data3_anxious.tolist()\n",
        "\n",
        "art4_anxious = dff_art.loc[(dff_art['Q6'] == 1) & (dff_art['Q25f'] == 5)]\n",
        "data4_anxious = art4_anxious.drop('Q6', axis = 1)\n",
        "Data4_anxious = data4_anxious.value_counts()\n",
        "art_data4_anxious = Data4_anxious.tolist()\n",
        "\n"
      ],
      "metadata": {
        "id": "ECqHRXSgGfve",
        "colab": {
          "base_uri": "https://localhost:8080/"
        },
        "outputId": "aa0bde57-6f08-4757-8f42-03fed268c459"
      },
      "execution_count": 15,
      "outputs": [
        {
          "output_type": "stream",
          "name": "stdout",
          "text": [
            "<class 'pandas.core.frame.DataFrame'>\n",
            "RangeIndex: 1600 entries, 0 to 1599\n",
            "Data columns (total 2 columns):\n",
            " #   Column  Non-Null Count  Dtype  \n",
            "---  ------  --------------  -----  \n",
            " 0   Q6      1600 non-null   float64\n",
            " 1   Q25f    1600 non-null   float64\n",
            "dtypes: float64(2)\n",
            "memory usage: 25.1 KB\n"
          ]
        }
      ]
    },
    {
      "cell_type": "markdown",
      "source": [
        "Emotion: Ashamed"
      ],
      "metadata": {
        "id": "N4nf7KZWSWA6"
      }
    },
    {
      "cell_type": "code",
      "source": [
        "seventh = final_dts[[\"Q6\", \"Q25g\"]]\n",
        "dfg_art = pd.DataFrame(seventh)\n",
        "dfg_art.info()\n",
        "\n",
        "art_ashamed = dfg_art.loc[(dfg_art['Q6'] == 1) & (dfg_art['Q25g'] == 1)]\n",
        "data_ashamed = art_ashamed.drop('Q6', axis = 1)\n",
        "Data_ashamed = data_ashamed.value_counts()\n",
        "art_data_ashamed = Data_ashamed.tolist()\n",
        "\n",
        "art1_ashamed = dfg_art.loc[(dfg_art['Q6'] == 1) & (dfg_art['Q25g'] == 2)]\n",
        "data1_ashamed = art1_ashamed.drop('Q6', axis = 1)\n",
        "Data1_ashamed = data1_ashamed.value_counts()\n",
        "art_data1_ashamed = Data1_ashamed.tolist()\n",
        "\n",
        "art2_ashamed = dfg_art.loc[(dfg_art['Q6'] == 1) & (dfg_art['Q25g'] == 3)]\n",
        "data2_ashamed = art2_ashamed.drop('Q6', axis = 1)\n",
        "Data2_ashamed = data2_ashamed.value_counts()\n",
        "art_data2_ashamed = Data2_ashamed.tolist()\n",
        "\n",
        "art3_ashamed = dfg_art.loc[(dfg_art['Q6'] == 1) & (dfg_art['Q25g'] == 4)]\n",
        "data3_ashamed = art3_ashamed.drop('Q6', axis = 1)\n",
        "Data3_ashamed = data3_ashamed.value_counts()\n",
        "art_data3_ashamed = Data3_ashamed.tolist()\n",
        "\n",
        "art4_ashamed = dfg_art.loc[(dfg_art['Q6'] == 1) & (dfg_art['Q25g'] == 5)]\n",
        "data4_ashamed = art4_ashamed.drop('Q6', axis = 1)\n",
        "Data4_ashamed = data4_ashamed.value_counts()\n",
        "art_data4_ashamed = Data4_ashamed.tolist()\n",
        "\n"
      ],
      "metadata": {
        "colab": {
          "base_uri": "https://localhost:8080/"
        },
        "id": "e3SMapcFIFHF",
        "outputId": "d1eb9ce1-e4dd-4ccb-b86f-8b38e9697a29"
      },
      "execution_count": 16,
      "outputs": [
        {
          "output_type": "stream",
          "name": "stdout",
          "text": [
            "<class 'pandas.core.frame.DataFrame'>\n",
            "RangeIndex: 1600 entries, 0 to 1599\n",
            "Data columns (total 2 columns):\n",
            " #   Column  Non-Null Count  Dtype  \n",
            "---  ------  --------------  -----  \n",
            " 0   Q6      1600 non-null   float64\n",
            " 1   Q25g    1600 non-null   float64\n",
            "dtypes: float64(2)\n",
            "memory usage: 25.1 KB\n"
          ]
        }
      ]
    },
    {
      "cell_type": "markdown",
      "source": [
        "Emotion: Relieved"
      ],
      "metadata": {
        "id": "GiZGUdy6SbkL"
      }
    },
    {
      "cell_type": "code",
      "source": [
        "eighth = final_dts[[\"Q6\", \"Q25h\"]]\n",
        "dfh_art = pd.DataFrame(eighth)\n",
        "dfh_art.info()\n",
        "\n",
        "art_relieved = dfh_art.loc[(dfh_art['Q6'] == 1) & (dfh_art['Q25h'] == 1)]\n",
        "data_relieved = art_relieved.drop('Q6', axis = 1)\n",
        "Data_relieved = data_relieved.value_counts()\n",
        "art_data_relieved = Data_relieved.tolist()\n",
        "\n",
        "art1_relieved = dfh_art.loc[(dfh_art['Q6'] == 1) & (dfh_art['Q25h'] == 2)]\n",
        "data1_relieved = art1_relieved.drop('Q6', axis = 1)\n",
        "Data1_relieved = data1_relieved.value_counts()\n",
        "art_data1_relieved = Data1_relieved.tolist()\n",
        "\n",
        "art2_relieved = dfh_art.loc[(dfh_art['Q6'] == 1) & (dfh_art['Q25h'] == 3)]\n",
        "data2_relieved = art2_relieved.drop('Q6', axis = 1)\n",
        "Data2_relieved = data2_relieved.value_counts()\n",
        "art_data2_relieved = Data2_relieved.tolist()\n",
        "\n",
        "art3_relieved = dfh_art.loc[(dfh_art['Q6'] == 1) & (dfh_art['Q25h'] == 4)]\n",
        "data3_relieved = art3_relieved.drop('Q6', axis = 1)\n",
        "Data3_relieved = data3_relieved.value_counts()\n",
        "art_data3_relieved = Data3_relieved.tolist()\n",
        "\n",
        "art4_relieved = dfh_art.loc[(dfh_art['Q6'] == 1) & (dfh_art['Q25h'] == 5)]\n",
        "data4_relieved = art4_relieved.drop('Q6', axis = 1)\n",
        "Data4_relieved = data4_relieved.value_counts()\n",
        "art_data4_relieved = Data4_relieved.tolist()\n",
        "\n"
      ],
      "metadata": {
        "colab": {
          "base_uri": "https://localhost:8080/"
        },
        "id": "ZtS5zIDMJBR-",
        "outputId": "4bd643c3-0812-4710-f6c5-99b128ea0bdf"
      },
      "execution_count": 17,
      "outputs": [
        {
          "output_type": "stream",
          "name": "stdout",
          "text": [
            "<class 'pandas.core.frame.DataFrame'>\n",
            "RangeIndex: 1600 entries, 0 to 1599\n",
            "Data columns (total 2 columns):\n",
            " #   Column  Non-Null Count  Dtype  \n",
            "---  ------  --------------  -----  \n",
            " 0   Q6      1600 non-null   float64\n",
            " 1   Q25h    1600 non-null   float64\n",
            "dtypes: float64(2)\n",
            "memory usage: 25.1 KB\n"
          ]
        }
      ]
    },
    {
      "cell_type": "markdown",
      "source": [
        "Emotion: Hopeless"
      ],
      "metadata": {
        "id": "2sfuq4FsSe2B"
      }
    },
    {
      "cell_type": "code",
      "source": [
        "ninth = final_dts[[\"Q6\", \"Q25i\"]]\n",
        "dfi_art = pd.DataFrame(ninth)\n",
        "dfi_art.info()\n",
        "\n",
        "art_hopeless = dfi_art.loc[(dfi_art['Q6'] == 1) & (dfi_art['Q25i'] == 1)]\n",
        "data_hopeless = art_hopeless.drop('Q6', axis = 1)\n",
        "Data_hopeless = data_hopeless.value_counts()\n",
        "art_data_hopeless = Data_hopeless.tolist()\n",
        "\n",
        "art1_hopeless = dfi_art.loc[(dfi_art['Q6'] == 1) & (dfi_art['Q25i'] == 2)]\n",
        "data1_hopeless = art1_hopeless.drop('Q6', axis = 1)\n",
        "Data1_hopeless = data1_hopeless.value_counts()\n",
        "art_data1_hopeless = Data1_hopeless.tolist()\n",
        "\n",
        "art2_hopeless = dfi_art.loc[(dfi_art['Q6'] == 1) & (dfi_art['Q25i'] == 3)]\n",
        "data2_hopeless = art2_hopeless.drop('Q6', axis = 1)\n",
        "Data2_hopeless = data2_hopeless.value_counts()\n",
        "art_data2_hopeless = Data2_hopeless.tolist()\n",
        "\n",
        "art3_hopeless = dfi_art.loc[(dfi_art['Q6'] == 1) & (dfi_art['Q25i'] == 4)]\n",
        "data3_hopeless = art3_hopeless.drop('Q6', axis = 1)\n",
        "Data3_hopeless = data3_hopeless.value_counts()\n",
        "art_data3_hopeless = Data3_hopeless.tolist()\n",
        "\n",
        "art4_hopeless = dfi_art.loc[(dfi_art['Q6'] == 1) & (dfi_art['Q25i'] == 5)]\n",
        "data4_hopeless = art4_hopeless.drop('Q6', axis = 1)\n",
        "Data4_hopeless = data4_hopeless.value_counts()\n",
        "art_data4_hopeless = Data4_hopeless.tolist()\n",
        "\n"
      ],
      "metadata": {
        "colab": {
          "base_uri": "https://localhost:8080/"
        },
        "id": "m6bNoYP0KWPP",
        "outputId": "449e43ed-28d0-4a08-9bcb-2e5eb8749c94"
      },
      "execution_count": 18,
      "outputs": [
        {
          "output_type": "stream",
          "name": "stdout",
          "text": [
            "<class 'pandas.core.frame.DataFrame'>\n",
            "RangeIndex: 1600 entries, 0 to 1599\n",
            "Data columns (total 2 columns):\n",
            " #   Column  Non-Null Count  Dtype  \n",
            "---  ------  --------------  -----  \n",
            " 0   Q6      1600 non-null   float64\n",
            " 1   Q25i    1600 non-null   float64\n",
            "dtypes: float64(2)\n",
            "memory usage: 25.1 KB\n"
          ]
        }
      ]
    },
    {
      "cell_type": "markdown",
      "source": [
        "Emotion: Bored"
      ],
      "metadata": {
        "id": "nEWXjQbFSigZ"
      }
    },
    {
      "cell_type": "code",
      "source": [
        "tenth = final_dts[[\"Q6\", \"Q25j\"]]\n",
        "dfj_art = pd.DataFrame(tenth)\n",
        "dfj_art.info()\n",
        "\n",
        "art_bored = dfj_art.loc[(dfj_art['Q6'] == 1) & (dfj_art['Q25j'] == 1)]\n",
        "data_bored = art_bored.drop('Q6', axis = 1)\n",
        "Data_bored = data_bored.value_counts()\n",
        "art_data_bored = Data_bored.tolist()\n",
        "\n",
        "art1_bored = dfj_art.loc[(dfj_art['Q6'] == 1) & (dfj_art['Q25j'] == 2)]\n",
        "data1_bored = art1_bored.drop('Q6', axis = 1)\n",
        "Data1_bored = data1_bored.value_counts()\n",
        "art_data1_bored = Data1_bored.tolist()\n",
        "\n",
        "art2_bored = dfj_art.loc[(dfj_art['Q6'] == 1) & (dfj_art['Q25j'] == 3)]\n",
        "data2_bored = art2_bored.drop('Q6', axis = 1)\n",
        "Data2_bored = data2_bored.value_counts()\n",
        "art_data2_bored = Data2_bored.tolist()\n",
        "\n",
        "art3_bored = dfj_art.loc[(dfj_art['Q6'] == 1) & (dfj_art['Q25j'] == 4)]\n",
        "data3_bored = art3_bored.drop('Q6', axis = 1)\n",
        "Data3_bored = data3_bored.value_counts()\n",
        "art_data3_bored = Data3_bored.tolist()\n",
        "\n",
        "art4_bored = dfj_art.loc[(dfj_art['Q6'] == 1) & (dfj_art['Q25j'] == 5)]\n",
        "data4_bored = art4_bored.drop('Q6', axis = 1)\n",
        "Data4_bored = data4_bored.value_counts()\n",
        "art_data4_bored = Data4_bored.tolist()\n",
        "\n"
      ],
      "metadata": {
        "id": "FHbQZW3rLEhd",
        "colab": {
          "base_uri": "https://localhost:8080/"
        },
        "outputId": "b0c9fba8-18fd-4f07-a26c-3b1350db26ad"
      },
      "execution_count": 19,
      "outputs": [
        {
          "output_type": "stream",
          "name": "stdout",
          "text": [
            "<class 'pandas.core.frame.DataFrame'>\n",
            "RangeIndex: 1600 entries, 0 to 1599\n",
            "Data columns (total 2 columns):\n",
            " #   Column  Non-Null Count  Dtype  \n",
            "---  ------  --------------  -----  \n",
            " 0   Q6      1600 non-null   float64\n",
            " 1   Q25j    1600 non-null   float64\n",
            "dtypes: float64(2)\n",
            "memory usage: 25.1 KB\n"
          ]
        }
      ]
    },
    {
      "cell_type": "markdown",
      "source": [
        "**Field Study: Social**"
      ],
      "metadata": {
        "id": "R4WzTY2GsSl3"
      }
    },
    {
      "cell_type": "markdown",
      "source": [
        "Emotion: Joyful"
      ],
      "metadata": {
        "id": "FFjb7ZqBTFxX"
      }
    },
    {
      "cell_type": "code",
      "source": [
        "first = final_dts[[\"Q6\", \"Q25a\"]]\n",
        "dfa_social = pd.DataFrame(first)\n",
        "dfa_social.info()\n",
        "\n",
        "\n",
        "social_joyful = dfa_social.loc[(dfa_social['Q6'] == 2) & (dfa_social['Q25a'] == 1)]\n",
        "data_joyful_social = social_joyful.drop('Q6', axis = 1)\n",
        "Data_joyful = data_joyful_social.value_counts()\n",
        "social_data_joyful = Data_joyful.tolist()\n",
        "\n",
        "social1_joyful = dfa_social.loc[(dfa_social['Q6'] == 2) & (dfa_social['Q25a'] == 2)]\n",
        "data1_joyful_social = social1_joyful.drop('Q6', axis = 1)\n",
        "Data1_joyful = data1_joyful_social.value_counts()\n",
        "social_data1_joyful = Data1_joyful.tolist()\n",
        "\n",
        "social2_joyful = dfa_social.loc[(dfa_social['Q6'] == 2) & (dfa_social['Q25a'] == 3)]\n",
        "data2_joyful_social = social2_joyful.drop('Q6', axis = 1)\n",
        "Data2_joyful = data2_joyful_social.value_counts()\n",
        "social_data2_joyful = Data2_joyful.tolist()\n",
        "\n",
        "social3_joyful = dfa_social.loc[(dfa_social['Q6'] == 2) & (dfa_social['Q25a'] == 4)]\n",
        "data3_joyful_social = social3_joyful.drop('Q6', axis = 1)\n",
        "Data3_joyful = data3_joyful_social.value_counts()\n",
        "social_data3_joyful = Data3_joyful.tolist()\n",
        "\n",
        "social4_joyful = dfa_social.loc[(dfa_social['Q6'] == 2) & (dfa_social['Q25a'] == 5)]\n",
        "data4_joyful_social = social4_joyful.drop('Q6', axis = 1)\n",
        "Data4_joyful = data4_joyful_social.value_counts()\n",
        "social_data4_joyful = Data4_joyful.tolist()\n",
        "\n"
      ],
      "metadata": {
        "colab": {
          "base_uri": "https://localhost:8080/"
        },
        "id": "1-bPLSXNshkp",
        "outputId": "6fe7931e-b59b-4190-a88e-38db085de17e"
      },
      "execution_count": 26,
      "outputs": [
        {
          "output_type": "stream",
          "name": "stdout",
          "text": [
            "<class 'pandas.core.frame.DataFrame'>\n",
            "RangeIndex: 1600 entries, 0 to 1599\n",
            "Data columns (total 2 columns):\n",
            " #   Column  Non-Null Count  Dtype  \n",
            "---  ------  --------------  -----  \n",
            " 0   Q6      1600 non-null   float64\n",
            " 1   Q25a    1600 non-null   float64\n",
            "dtypes: float64(2)\n",
            "memory usage: 25.1 KB\n"
          ]
        }
      ]
    },
    {
      "cell_type": "markdown",
      "source": [
        "Emotion: Hopeful"
      ],
      "metadata": {
        "id": "pE84h_fqTPVw"
      }
    },
    {
      "cell_type": "code",
      "source": [
        "second = final_dts[[\"Q6\", \"Q25b\"]]\n",
        "dfb_social = pd.DataFrame(second)\n",
        "dfb_social.info()\n",
        "\n",
        "social_hopeful = dfb_social.loc[(dfb_social['Q6'] == 2) & (dfb_social['Q25b'] == 1)]\n",
        "data_hopeful = social_hopeful.drop('Q6', axis = 1)\n",
        "Data_hopeful = data_hopeful.value_counts()\n",
        "social_data_hopeful = Data_hopeful.tolist()\n",
        "\n",
        "social1_hopeful = dfb_social.loc[(dfb_social['Q6'] == 2) & (dfb_social['Q25b'] == 2)]\n",
        "data1_hopeful = social1_hopeful.drop('Q6', axis = 1)\n",
        "Data1_hopeful = data1_hopeful.value_counts()\n",
        "social_data1_hopeful = Data1_hopeful.tolist()\n",
        "\n",
        "social2_hopeful = dfb_social.loc[(dfb_social['Q6'] == 2) & (dfb_social['Q25b'] == 3)]\n",
        "data2_hopeful = social2_hopeful.drop('Q6', axis = 1)\n",
        "Data2_hopeful = data2_hopeful.value_counts()\n",
        "social_data2_hopeful = Data2_hopeful.tolist()\n",
        "\n",
        "social3_hopeful = dfb_social.loc[(dfb_social['Q6'] == 2) & (dfb_social['Q25b'] == 4)]\n",
        "data3_hopeful = social3_hopeful.drop('Q6', axis = 1)\n",
        "Data3_hopeful = data3_hopeful.value_counts()\n",
        "social_data3_hopeful = Data3_hopeful.tolist()\n",
        "\n",
        "social4_hopeful = dfb_social.loc[(dfb_social['Q6'] == 2) & (dfb_social['Q25b'] == 5)]\n",
        "data4_hopeful = social4_hopeful.drop('Q6', axis = 1)\n",
        "Data4_hopeful = data4_hopeful.value_counts()\n",
        "social_data4_hopeful = Data4_hopeful.tolist()\n",
        "\n"
      ],
      "metadata": {
        "colab": {
          "base_uri": "https://localhost:8080/"
        },
        "id": "lqfKyiM2snfH",
        "outputId": "0577a71c-73ac-4595-ef09-31a53184e68e"
      },
      "execution_count": 27,
      "outputs": [
        {
          "output_type": "stream",
          "name": "stdout",
          "text": [
            "<class 'pandas.core.frame.DataFrame'>\n",
            "RangeIndex: 1600 entries, 0 to 1599\n",
            "Data columns (total 2 columns):\n",
            " #   Column  Non-Null Count  Dtype  \n",
            "---  ------  --------------  -----  \n",
            " 0   Q6      1600 non-null   float64\n",
            " 1   Q25b    1600 non-null   float64\n",
            "dtypes: float64(2)\n",
            "memory usage: 25.1 KB\n"
          ]
        }
      ]
    },
    {
      "cell_type": "markdown",
      "source": [
        "Emotion: Proud"
      ],
      "metadata": {
        "id": "WnF1W9hSTc-5"
      }
    },
    {
      "cell_type": "code",
      "source": [
        "third = final_dts[[\"Q6\", \"Q25c\"]]\n",
        "dfc_social = pd.DataFrame(third)\n",
        "dfc_social.info()\n",
        "\n",
        "social_proud = dfc_social.loc[(dfc_social['Q6'] == 2) & (dfc_social['Q25c'] == 1)]\n",
        "data_proud = social_proud.drop('Q6', axis = 1)\n",
        "Data_proud = data_proud.value_counts()\n",
        "social_data_proud = Data_proud.tolist()\n",
        "\n",
        "social1_proud = dfc_social.loc[(dfc_social['Q6'] == 2) & (dfc_social['Q25c'] == 2)]\n",
        "data1_proud = social1_proud.drop('Q6', axis = 1)\n",
        "Data1_proud = data1_proud.value_counts()\n",
        "social_data1_proud = Data1_proud.tolist()\n",
        "\n",
        "social2_proud = dfc_social.loc[(dfc_social['Q6'] == 2) & (dfc_social['Q25c'] == 3)]\n",
        "data2_proud = social2_proud.drop('Q6', axis = 1)\n",
        "Data2_proud = data2_proud.value_counts()\n",
        "social_data2_proud = Data2_proud.tolist()\n",
        "\n",
        "social3_proud = dfc_social.loc[(dfc_social['Q6'] == 2) & (dfc_social['Q25c'] == 4)]\n",
        "data3_proud = social3_proud.drop('Q6', axis = 1)\n",
        "Data3_proud = data3_proud.value_counts()\n",
        "social_data3_proud = Data3_proud.tolist()\n",
        "\n",
        "social4_proud = dfc_social.loc[(dfc_social['Q6'] == 2) & (dfc_social['Q25c'] == 5)]\n",
        "data4_proud = social4_proud.drop('Q6', axis = 1)\n",
        "Data4_proud = data4_proud.value_counts()\n",
        "social_data4_proud = Data4_proud.tolist()\n",
        "\n"
      ],
      "metadata": {
        "colab": {
          "base_uri": "https://localhost:8080/"
        },
        "id": "7M1W95LAsqp3",
        "outputId": "b118ae87-9138-462b-fd0f-bba2d65d5e5a"
      },
      "execution_count": 28,
      "outputs": [
        {
          "output_type": "stream",
          "name": "stdout",
          "text": [
            "<class 'pandas.core.frame.DataFrame'>\n",
            "RangeIndex: 1600 entries, 0 to 1599\n",
            "Data columns (total 2 columns):\n",
            " #   Column  Non-Null Count  Dtype  \n",
            "---  ------  --------------  -----  \n",
            " 0   Q6      1600 non-null   float64\n",
            " 1   Q25c    1600 non-null   float64\n",
            "dtypes: float64(2)\n",
            "memory usage: 25.1 KB\n"
          ]
        }
      ]
    },
    {
      "cell_type": "markdown",
      "source": [
        "Emotion: Frustrated"
      ],
      "metadata": {
        "id": "_lBm7PgbTgzQ"
      }
    },
    {
      "cell_type": "code",
      "source": [
        "fourth = final_dts[[\"Q6\", \"Q25d\"]]\n",
        "dfd_social = pd.DataFrame(fourth)\n",
        "dfd_social.info()\n",
        "\n",
        "social_frustrated = dfd_social.loc[(dfd_social['Q6'] == 2) & (dfd_social['Q25d'] == 1)]\n",
        "data_frustrated = social_frustrated.drop('Q6', axis = 1)\n",
        "Data_frustrated = data_frustrated.value_counts()\n",
        "social_data_frustrated = Data_frustrated.tolist()\n",
        "\n",
        "social1_frustrated = dfd_social.loc[(dfd_social['Q6'] == 2) & (dfd_social['Q25d'] == 2)]\n",
        "data1_frustrated = social1_frustrated.drop('Q6', axis = 1)\n",
        "Data1_frustrated = data1_frustrated.value_counts()\n",
        "social_data1_frustrated = Data1_frustrated.tolist()\n",
        "\n",
        "social2_frustrated = dfd_social.loc[(dfd_social['Q6'] == 2) & (dfd_social['Q25d'] == 3)]\n",
        "data2_frustrated = social2_frustrated.drop('Q6', axis = 1)\n",
        "Data2_frustrated = data2_frustrated.value_counts()\n",
        "social_data2_frustrated = Data2_frustrated.tolist()\n",
        "\n",
        "social3_frustrated = dfd_social.loc[(dfd_social['Q6'] == 2) & (dfd_social['Q25d'] == 4)]\n",
        "data3_frustrated = social3_frustrated.drop('Q6', axis = 1)\n",
        "Data3_frustrated = data3_frustrated.value_counts()\n",
        "social_data3_frustrated = Data3_frustrated.tolist()\n",
        "\n",
        "social4_frustrated = dfd_social.loc[(dfd_social['Q6'] == 2) & (dfd_social['Q25d'] == 5)]\n",
        "data4_frustrated = social4_frustrated.drop('Q6', axis = 1)\n",
        "Data4_frustrated = data4_frustrated.value_counts()\n",
        "social_data4_frustrated = Data4_frustrated.tolist()\n",
        "\n"
      ],
      "metadata": {
        "colab": {
          "base_uri": "https://localhost:8080/"
        },
        "id": "eInDHqvmsuGF",
        "outputId": "2f47cdd3-b932-43a9-bbda-ec71ee0fff27"
      },
      "execution_count": 29,
      "outputs": [
        {
          "output_type": "stream",
          "name": "stdout",
          "text": [
            "<class 'pandas.core.frame.DataFrame'>\n",
            "RangeIndex: 1600 entries, 0 to 1599\n",
            "Data columns (total 2 columns):\n",
            " #   Column  Non-Null Count  Dtype  \n",
            "---  ------  --------------  -----  \n",
            " 0   Q6      1600 non-null   float64\n",
            " 1   Q25d    1600 non-null   float64\n",
            "dtypes: float64(2)\n",
            "memory usage: 25.1 KB\n"
          ]
        }
      ]
    },
    {
      "cell_type": "markdown",
      "source": [
        "Emotion: Angry"
      ],
      "metadata": {
        "id": "cRys8fv7Tlrw"
      }
    },
    {
      "cell_type": "code",
      "source": [
        "fifth = final_dts[[\"Q6\", \"Q25e\"]]\n",
        "dfe_social = pd.DataFrame(fifth)\n",
        "dfe_social.info()\n",
        "\n",
        "social_angry = dfe_social.loc[(dfe_social['Q6'] == 2) & (dfe_social['Q25e'] == 1)]\n",
        "data_angry = social_angry.drop('Q6', axis = 1)\n",
        "Data_angry = data_angry.value_counts()\n",
        "social_data_angry = Data_angry.tolist()\n",
        "\n",
        "social1_angry = dfe_social.loc[(dfe_social['Q6'] == 2) & (dfe_social['Q25e'] == 2)]\n",
        "data1_angry = social1_angry.drop('Q6', axis = 1)\n",
        "Data1_angry = data1_angry.value_counts()\n",
        "social_data1_angry = Data1_angry.tolist()\n",
        "\n",
        "social2_angry = dfe_social.loc[(dfe_social['Q6'] == 2) & (dfe_social['Q25e'] == 3)]\n",
        "data2_angry = social2_angry.drop('Q6', axis = 1)\n",
        "Data2_angry = data2_angry.value_counts()\n",
        "social_data2_angry = Data2_angry.tolist()\n",
        "\n",
        "social3_angry = dfe_social.loc[(dfe_social['Q6'] == 2) & (dfe_social['Q25e'] == 4)]\n",
        "data3_angry = social3_angry.drop('Q6', axis = 1)\n",
        "Data3_angry = data3_angry.value_counts()\n",
        "social_data3_angry = Data3_angry.tolist()\n",
        "\n",
        "social4_angry = dfe_social.loc[(dfe_social['Q6'] == 2) & (dfe_social['Q25e'] == 5)]\n",
        "data4_angry = social4_angry.drop('Q6', axis = 1)\n",
        "Data4_angry = data4_angry.value_counts()\n",
        "social_data4_angry = Data4_angry.tolist()\n",
        "\n"
      ],
      "metadata": {
        "colab": {
          "base_uri": "https://localhost:8080/"
        },
        "id": "IFUDsAIjsx1W",
        "outputId": "30ce83dc-e5c1-4d6b-f729-461b3e5f7219"
      },
      "execution_count": 30,
      "outputs": [
        {
          "output_type": "stream",
          "name": "stdout",
          "text": [
            "<class 'pandas.core.frame.DataFrame'>\n",
            "RangeIndex: 1600 entries, 0 to 1599\n",
            "Data columns (total 2 columns):\n",
            " #   Column  Non-Null Count  Dtype  \n",
            "---  ------  --------------  -----  \n",
            " 0   Q6      1600 non-null   float64\n",
            " 1   Q25e    1600 non-null   float64\n",
            "dtypes: float64(2)\n",
            "memory usage: 25.1 KB\n"
          ]
        }
      ]
    },
    {
      "cell_type": "markdown",
      "source": [
        "Emotion: Anxious"
      ],
      "metadata": {
        "id": "KuEtz67VTpfo"
      }
    },
    {
      "cell_type": "code",
      "source": [
        "sixth = final_dts[[\"Q6\", \"Q25f\"]]\n",
        "dff_social = pd.DataFrame(sixth)\n",
        "dff_social.info()\n",
        "\n",
        "social_anxious = dff_social.loc[(dff_social['Q6'] == 2) & (dff_social['Q25f'] == 1)]\n",
        "data_anxious = social_anxious.drop('Q6', axis = 1)\n",
        "Data_anxious = data_anxious.value_counts()\n",
        "social_data_anxious = Data_anxious.tolist()\n",
        "\n",
        "social1_anxious = dff_social.loc[(dff_social['Q6'] == 2) & (dff_social['Q25f'] == 2)]\n",
        "data1_anxious = social1_anxious.drop('Q6', axis = 1)\n",
        "Data1_anxious = data1_anxious.value_counts()\n",
        "social_data1_anxious = Data1_anxious.tolist()\n",
        "\n",
        "social2_anxious = dff_social.loc[(dff_social['Q6'] == 2) & (dff_social['Q25f'] == 3)]\n",
        "data2_anxious = social2_anxious.drop('Q6', axis = 1)\n",
        "Data2_anxious = data2_anxious.value_counts()\n",
        "social_data2_anxious = Data2_anxious.tolist()\n",
        "\n",
        "social3_anxious = dff_social.loc[(dff_social['Q6'] == 2) & (dff_social['Q25f'] == 4)]\n",
        "data3_anxious = social3_anxious.drop('Q6', axis = 1)\n",
        "Data3_anxious = data3_anxious.value_counts()\n",
        "social_data3_anxious = Data3_anxious.tolist()\n",
        "\n",
        "social4_anxious = dff_social.loc[(dff_social['Q6'] == 2) & (dff_social['Q25f'] == 5)]\n",
        "data4_anxious = social4_anxious.drop('Q6', axis = 1)\n",
        "Data4_anxious = data4_anxious.value_counts()\n",
        "social_data4_anxious = Data4_anxious.tolist()\n",
        "\n"
      ],
      "metadata": {
        "colab": {
          "base_uri": "https://localhost:8080/"
        },
        "id": "QemGpfAds1RG",
        "outputId": "b5b9a27a-d4c5-4627-c8cf-c6e17ce5a06e"
      },
      "execution_count": 31,
      "outputs": [
        {
          "output_type": "stream",
          "name": "stdout",
          "text": [
            "<class 'pandas.core.frame.DataFrame'>\n",
            "RangeIndex: 1600 entries, 0 to 1599\n",
            "Data columns (total 2 columns):\n",
            " #   Column  Non-Null Count  Dtype  \n",
            "---  ------  --------------  -----  \n",
            " 0   Q6      1600 non-null   float64\n",
            " 1   Q25f    1600 non-null   float64\n",
            "dtypes: float64(2)\n",
            "memory usage: 25.1 KB\n"
          ]
        }
      ]
    },
    {
      "cell_type": "markdown",
      "source": [
        "Emotion: Ashamed"
      ],
      "metadata": {
        "id": "9qjD6ZoxTs9A"
      }
    },
    {
      "cell_type": "code",
      "source": [
        "seventh = final_dts[[\"Q6\", \"Q25g\"]]\n",
        "dfg_social = pd.DataFrame(seventh)\n",
        "dfg_social.info()\n",
        "\n",
        "social_ashamed = dfg_social.loc[(dfg_social['Q6'] == 2) & (dfg_social['Q25g'] == 1)]\n",
        "data_ashamed = social_ashamed.drop('Q6', axis = 1)\n",
        "Data_ashamed = data_ashamed.value_counts()\n",
        "social_data_ashamed = Data_ashamed.tolist()\n",
        "\n",
        "social1_ashamed = dfg_social.loc[(dfg_social['Q6'] == 2) & (dfg_social['Q25g'] == 2)]\n",
        "data1_ashamed = social1_ashamed.drop('Q6', axis = 1)\n",
        "Data1_ashamed = data1_ashamed.value_counts()\n",
        "social_data1_ashamed = Data1_ashamed.tolist()\n",
        "\n",
        "social2_ashamed = dfg_social.loc[(dfg_social['Q6'] == 2) & (dfg_social['Q25g'] == 3)]\n",
        "data2_ashamed = social2_ashamed.drop('Q6', axis = 1)\n",
        "Data2_ashamed = data2_ashamed.value_counts()\n",
        "social_data2_ashamed = Data2_ashamed.tolist()\n",
        "\n",
        "social3_ashamed = dfg_social.loc[(dfg_social['Q6'] == 2) & (dfg_social['Q25g'] == 4)]\n",
        "data3_ashamed = social3_ashamed.drop('Q6', axis = 1)\n",
        "Data3_ashamed = data3_ashamed.value_counts()\n",
        "social_data3_ashamed = Data3_ashamed.tolist()\n",
        "\n",
        "social4_ashamed = dfg_social.loc[(dfg_social['Q6'] == 2) & (dfg_social['Q25g'] == 5)]\n",
        "data4_ashamed = social4_ashamed.drop('Q6', axis = 1)\n",
        "Data4_ashamed = data4_ashamed.value_counts()\n",
        "social_data4_ashamed = Data4_ashamed.tolist()\n",
        "\n"
      ],
      "metadata": {
        "colab": {
          "base_uri": "https://localhost:8080/"
        },
        "id": "hh3I5pfas4W_",
        "outputId": "07b08fc1-60f4-41cd-b01e-b7c1edff6f9d"
      },
      "execution_count": 32,
      "outputs": [
        {
          "output_type": "stream",
          "name": "stdout",
          "text": [
            "<class 'pandas.core.frame.DataFrame'>\n",
            "RangeIndex: 1600 entries, 0 to 1599\n",
            "Data columns (total 2 columns):\n",
            " #   Column  Non-Null Count  Dtype  \n",
            "---  ------  --------------  -----  \n",
            " 0   Q6      1600 non-null   float64\n",
            " 1   Q25g    1600 non-null   float64\n",
            "dtypes: float64(2)\n",
            "memory usage: 25.1 KB\n"
          ]
        }
      ]
    },
    {
      "cell_type": "markdown",
      "source": [
        "Emotion: Relieved"
      ],
      "metadata": {
        "id": "cyed7O4jTwso"
      }
    },
    {
      "cell_type": "code",
      "source": [
        "eighth = final_dts[[\"Q6\", \"Q25h\"]]\n",
        "dfh_social = pd.DataFrame(eighth)\n",
        "dfh_social.info()\n",
        "\n",
        "social_relieved = dfh_social.loc[(dfh_social['Q6'] == 2) & (dfh_social['Q25h'] == 1)]\n",
        "data_relieved = social_relieved.drop('Q6', axis = 1)\n",
        "Data_relieved = data_relieved.value_counts()\n",
        "social_data_relieved = Data_relieved.tolist()\n",
        "\n",
        "social1_relieved = dfh_social.loc[(dfh_social['Q6'] == 2) & (dfh_social['Q25h'] == 2)]\n",
        "data1_relieved = social1_relieved.drop('Q6', axis = 1)\n",
        "Data1_relieved = data1_relieved.value_counts()\n",
        "social_data1_relieved = Data1_relieved.tolist()\n",
        "\n",
        "social2_relieved = dfh_social.loc[(dfh_social['Q6'] == 2) & (dfh_social['Q25h'] == 3)]\n",
        "data2_relieved = social2_relieved.drop('Q6', axis = 1)\n",
        "Data2_relieved = data2_relieved.value_counts()\n",
        "social_data2_relieved = Data2_relieved.tolist()\n",
        "\n",
        "social3_relieved = dfh_social.loc[(dfh_social['Q6'] == 2) & (dfh_social['Q25h'] == 4)]\n",
        "data3_relieved = social3_relieved.drop('Q6', axis = 1)\n",
        "Data3_relieved = data3_relieved.value_counts()\n",
        "social_data3_relieved = Data3_relieved.tolist()\n",
        "\n",
        "social4_relieved = dfh_social.loc[(dfh_social['Q6'] == 2) & (dfh_social['Q25h'] == 5)]\n",
        "data4_relieved = social4_relieved.drop('Q6', axis = 1)\n",
        "Data4_relieved = data4_relieved.value_counts()\n",
        "social_data4_relieved = Data4_relieved.tolist()\n",
        "\n"
      ],
      "metadata": {
        "colab": {
          "base_uri": "https://localhost:8080/"
        },
        "id": "5U4zafk3s6T_",
        "outputId": "e9d14e23-0d99-42d4-bbf9-f8f475ca2888"
      },
      "execution_count": 33,
      "outputs": [
        {
          "output_type": "stream",
          "name": "stdout",
          "text": [
            "<class 'pandas.core.frame.DataFrame'>\n",
            "RangeIndex: 1600 entries, 0 to 1599\n",
            "Data columns (total 2 columns):\n",
            " #   Column  Non-Null Count  Dtype  \n",
            "---  ------  --------------  -----  \n",
            " 0   Q6      1600 non-null   float64\n",
            " 1   Q25h    1600 non-null   float64\n",
            "dtypes: float64(2)\n",
            "memory usage: 25.1 KB\n"
          ]
        }
      ]
    },
    {
      "cell_type": "markdown",
      "source": [
        "Emotion: Hopeless"
      ],
      "metadata": {
        "id": "j18jaMneT02g"
      }
    },
    {
      "cell_type": "code",
      "source": [
        "ninth = final_dts[[\"Q6\", \"Q25i\"]]\n",
        "dfi_social = pd.DataFrame(ninth)\n",
        "dfi_social.info()\n",
        "\n",
        "social_hopeless = dfi_social.loc[(dfi_social['Q6'] == 2) & (dfi_social['Q25i'] == 1)]\n",
        "data_hopeless = social_hopeless.drop('Q6', axis = 1)\n",
        "Data_hopeless = data_hopeless.value_counts()\n",
        "social_data_hopeless = Data_hopeless.tolist()\n",
        "\n",
        "social1_hopeless = dfi_social.loc[(dfi_social['Q6'] == 2) & (dfi_social['Q25i'] == 2)]\n",
        "data1_hopeless = social1_hopeless.drop('Q6', axis = 1)\n",
        "Data1_hopeless = data1_hopeless.value_counts()\n",
        "social_data1_hopeless = Data1_hopeless.tolist()\n",
        "\n",
        "social2_hopeless = dfi_social.loc[(dfi_social['Q6'] == 2) & (dfi_social['Q25i'] == 3)]\n",
        "data2_hopeless = social2_hopeless.drop('Q6', axis = 1)\n",
        "Data2_hopeless = data2_hopeless.value_counts()\n",
        "social_data2_hopeless = Data2_hopeless.tolist()\n",
        "\n",
        "social3_hopeless = dfi_social.loc[(dfi_social['Q6'] == 2) & (dfi_social['Q25i'] == 4)]\n",
        "data3_hopeless = social3_hopeless.drop('Q6', axis = 1)\n",
        "Data3_hopeless = data3_hopeless.value_counts()\n",
        "social_data3_hopeless = Data3_hopeless.tolist()\n",
        "\n",
        "social4_hopeless = dfi_social.loc[(dfi_social['Q6'] == 2) & (dfi_social['Q25i'] == 5)]\n",
        "data4_hopeless = social4_hopeless.drop('Q6', axis = 1)\n",
        "Data4_hopeless = data4_hopeless.value_counts()\n",
        "social_data4_hopeless = Data4_hopeless.tolist()\n"
      ],
      "metadata": {
        "colab": {
          "base_uri": "https://localhost:8080/"
        },
        "id": "icAWgEKYs8dG",
        "outputId": "ae2de16e-4871-4351-e066-ce70f2e73640"
      },
      "execution_count": 34,
      "outputs": [
        {
          "output_type": "stream",
          "name": "stdout",
          "text": [
            "<class 'pandas.core.frame.DataFrame'>\n",
            "RangeIndex: 1600 entries, 0 to 1599\n",
            "Data columns (total 2 columns):\n",
            " #   Column  Non-Null Count  Dtype  \n",
            "---  ------  --------------  -----  \n",
            " 0   Q6      1600 non-null   float64\n",
            " 1   Q25i    1600 non-null   float64\n",
            "dtypes: float64(2)\n",
            "memory usage: 25.1 KB\n"
          ]
        }
      ]
    },
    {
      "cell_type": "markdown",
      "source": [
        "Emotion: Bored"
      ],
      "metadata": {
        "id": "ybRR3VzWT4Ww"
      }
    },
    {
      "cell_type": "code",
      "source": [
        "tenth = final_dts[[\"Q6\", \"Q25j\"]]\n",
        "dfj_social = pd.DataFrame(tenth)\n",
        "dfj_social.info()\n",
        "\n",
        "social_bored = dfj_social.loc[(dfj_social['Q6'] == 2) & (dfj_social['Q25j'] == 1)]\n",
        "data_bored = social_bored.drop('Q6', axis = 1)\n",
        "Data_bored = data_bored.value_counts()\n",
        "social_data_bored = Data_bored.tolist()\n",
        "\n",
        "social1_bored = dfj_social.loc[(dfj_social['Q6'] == 2) & (dfj_social['Q25j'] == 2)]\n",
        "data1_bored = social1_bored.drop('Q6', axis = 1)\n",
        "Data1_bored = data1_bored.value_counts()\n",
        "social_data1_bored = Data1_bored.tolist()\n",
        "\n",
        "social2_bored = dfj_social.loc[(dfj_social['Q6'] == 2) & (dfj_social['Q25j'] == 3)]\n",
        "data2_bored = social2_bored.drop('Q6', axis = 1)\n",
        "Data2_bored = data2_bored.value_counts()\n",
        "social_data2_bored = Data2_bored.tolist()\n",
        "\n",
        "social3_bored = dfj_social.loc[(dfj_social['Q6'] == 2) & (dfj_social['Q25j'] == 4)]\n",
        "data3_bored = social3_bored.drop('Q6', axis = 1)\n",
        "Data3_bored = data3_bored.value_counts()\n",
        "social_data3_bored = Data3_bored.tolist()\n",
        "\n",
        "social4_bored = dfj_social.loc[(dfj_social['Q6'] == 2) & (dfj_social['Q25j'] == 5)]\n",
        "data4_bored = social4_bored.drop('Q6', axis = 1)\n",
        "Data4_bored = data4_bored.value_counts()\n",
        "social_data4_bored = Data4_bored.tolist()\n",
        "\n"
      ],
      "metadata": {
        "colab": {
          "base_uri": "https://localhost:8080/"
        },
        "id": "57M-yBS9s-m2",
        "outputId": "dfa95f90-bd3e-473c-f9f1-c9eb1653e2fe"
      },
      "execution_count": 35,
      "outputs": [
        {
          "output_type": "stream",
          "name": "stdout",
          "text": [
            "<class 'pandas.core.frame.DataFrame'>\n",
            "RangeIndex: 1600 entries, 0 to 1599\n",
            "Data columns (total 2 columns):\n",
            " #   Column  Non-Null Count  Dtype  \n",
            "---  ------  --------------  -----  \n",
            " 0   Q6      1600 non-null   float64\n",
            " 1   Q25j    1600 non-null   float64\n",
            "dtypes: float64(2)\n",
            "memory usage: 25.1 KB\n"
          ]
        }
      ]
    },
    {
      "cell_type": "markdown",
      "source": [
        "**Field Study: Natural and Life Sciences**"
      ],
      "metadata": {
        "id": "oj-DdJpL_ofB"
      }
    },
    {
      "cell_type": "markdown",
      "source": [
        "Emotion: Joyful"
      ],
      "metadata": {
        "id": "o9Cqbx8yUB3Y"
      }
    },
    {
      "cell_type": "code",
      "source": [
        "first = final_dts[[\"Q6\", \"Q25a\"]]\n",
        "dfa_natural = pd.DataFrame(first)\n",
        "dfa_natural.info()\n",
        "\n",
        "natural_joyful = dfa_natural.loc[(dfa_natural['Q6'] == 3) & (dfa_natural['Q25a'] == 1)]\n",
        "data_joyful_natural = natural_joyful.drop('Q6', axis = 1)\n",
        "Data_joyful = data_joyful_natural.value_counts()\n",
        "natural_data_joyful = Data_joyful.tolist()\n",
        "\n",
        "natural1_joyful = dfa_natural.loc[(dfa_natural['Q6'] == 3) & (dfa_natural['Q25a'] == 2)]\n",
        "data1_joyful_natural = natural1_joyful.drop('Q6', axis = 1)\n",
        "Data1_joyful = data1_joyful_natural.value_counts()\n",
        "natural_data1_joyful = Data1_joyful.tolist()\n",
        "\n",
        "natural2_joyful = dfa_natural.loc[(dfa_natural['Q6'] == 3) & (dfa_natural['Q25a'] == 3)]\n",
        "data2_joyful_natural = natural2_joyful.drop('Q6', axis = 1)\n",
        "Data2_joyful = data2_joyful_natural.value_counts()\n",
        "natural_data2_joyful = Data2_joyful.tolist()\n",
        "\n",
        "natural3_joyful = dfa_natural.loc[(dfa_natural['Q6'] == 3) & (dfa_natural['Q25a'] == 4)]\n",
        "data3_joyful_natural = natural3_joyful.drop('Q6', axis = 1)\n",
        "Data3_joyful = data3_joyful_natural.value_counts()\n",
        "natural_data3_joyful = Data3_joyful.tolist()\n",
        "\n",
        "natural4_joyful = dfa_natural.loc[(dfa_natural['Q6'] == 3) & (dfa_natural['Q25a'] == 5)]\n",
        "data4_joyful_natural = natural4_joyful.drop('Q6', axis = 1)\n",
        "Data4_joyful = data4_joyful_natural.value_counts()\n",
        "natural_data4_joyful = Data4_joyful.tolist()"
      ],
      "metadata": {
        "id": "63BEVlZ6_7oJ",
        "colab": {
          "base_uri": "https://localhost:8080/"
        },
        "outputId": "b6f659e8-3deb-4f58-8d7a-1b15222c068c"
      },
      "execution_count": 36,
      "outputs": [
        {
          "output_type": "stream",
          "name": "stdout",
          "text": [
            "<class 'pandas.core.frame.DataFrame'>\n",
            "RangeIndex: 1600 entries, 0 to 1599\n",
            "Data columns (total 2 columns):\n",
            " #   Column  Non-Null Count  Dtype  \n",
            "---  ------  --------------  -----  \n",
            " 0   Q6      1600 non-null   float64\n",
            " 1   Q25a    1600 non-null   float64\n",
            "dtypes: float64(2)\n",
            "memory usage: 25.1 KB\n"
          ]
        }
      ]
    },
    {
      "cell_type": "markdown",
      "source": [
        "Emotion: Hopeful"
      ],
      "metadata": {
        "id": "ZW_gwnLLUIcP"
      }
    },
    {
      "cell_type": "code",
      "source": [
        "second = final_dts[[\"Q6\", \"Q25b\"]]\n",
        "dfb_natural = pd.DataFrame(second)\n",
        "dfb_natural.info()\n",
        "\n",
        "natural_hopeful = dfb_natural.loc[(dfb_natural['Q6'] == 3) & (dfb_natural['Q25b'] == 1)]\n",
        "data_hopeful = natural_hopeful.drop('Q6', axis = 1)\n",
        "Data_hopeful = data_hopeful.value_counts()\n",
        "natural_data_hopeful = Data_hopeful.tolist()\n",
        "\n",
        "natural1_hopeful = dfb_natural.loc[(dfb_natural['Q6'] == 3) & (dfb_natural['Q25b'] == 2)]\n",
        "data1_hopeful = natural1_hopeful.drop('Q6', axis = 1)\n",
        "Data1_hopeful = data1_hopeful.value_counts()\n",
        "natural_data1_hopeful = Data1_hopeful.tolist()\n",
        "\n",
        "natural2_hopeful = dfb_natural.loc[(dfb_natural['Q6'] == 3) & (dfb_natural['Q25b'] == 3)]\n",
        "data2_hopeful = natural2_hopeful.drop('Q6', axis = 1)\n",
        "Data2_hopeful = data2_hopeful.value_counts()\n",
        "natural_data2_hopeful = Data2_hopeful.tolist()\n",
        "\n",
        "natural3_hopeful = dfb_natural.loc[(dfb_natural['Q6'] == 3) & (dfb_natural['Q25b'] == 4)]\n",
        "data3_hopeful = natural3_hopeful.drop('Q6', axis = 1)\n",
        "Data3_hopeful = data3_hopeful.value_counts()\n",
        "natural_data3_hopeful = Data3_hopeful.tolist()\n",
        "\n",
        "natural4_hopeful = dfb_natural.loc[(dfb_natural['Q6'] == 3) & (dfb_natural['Q25b'] == 5)]\n",
        "data4_hopeful = natural4_hopeful.drop('Q6', axis = 1)\n",
        "Data4_hopeful = data4_hopeful.value_counts()\n",
        "natural_data4_hopeful = Data4_hopeful.tolist()\n",
        "\n"
      ],
      "metadata": {
        "id": "BV1yyWplAFtx",
        "colab": {
          "base_uri": "https://localhost:8080/"
        },
        "outputId": "c91b43fb-f297-45a0-add3-0647a12a9ebb"
      },
      "execution_count": 37,
      "outputs": [
        {
          "output_type": "stream",
          "name": "stdout",
          "text": [
            "<class 'pandas.core.frame.DataFrame'>\n",
            "RangeIndex: 1600 entries, 0 to 1599\n",
            "Data columns (total 2 columns):\n",
            " #   Column  Non-Null Count  Dtype  \n",
            "---  ------  --------------  -----  \n",
            " 0   Q6      1600 non-null   float64\n",
            " 1   Q25b    1600 non-null   float64\n",
            "dtypes: float64(2)\n",
            "memory usage: 25.1 KB\n"
          ]
        }
      ]
    },
    {
      "cell_type": "markdown",
      "source": [
        "Emotion: Proud"
      ],
      "metadata": {
        "id": "zgyNLON-ULe_"
      }
    },
    {
      "cell_type": "code",
      "source": [
        "third = final_dts[[\"Q6\", \"Q25c\"]]\n",
        "dfc_natural = pd.DataFrame(third)\n",
        "dfc_natural.info()\n",
        "\n",
        "natural_proud = dfc_natural.loc[(dfc_natural['Q6'] == 3) & (dfc_natural['Q25c'] == 1)]\n",
        "data_proud = natural_proud.drop('Q6', axis = 1)\n",
        "Data_proud = data_proud.value_counts()\n",
        "natural_data_proud = Data_proud.tolist()\n",
        "\n",
        "natural1_proud = dfc_natural.loc[(dfc_natural['Q6'] == 3) & (dfc_natural['Q25c'] == 2)]\n",
        "data1_proud = natural1_proud.drop('Q6', axis = 1)\n",
        "Data1_proud = data1_proud.value_counts()\n",
        "natural_data1_proud = Data1_proud.tolist()\n",
        "\n",
        "natural2_proud = dfc_natural.loc[(dfc_natural['Q6'] == 3) & (dfc_natural['Q25c'] == 3)]\n",
        "data2_proud = natural2_proud.drop('Q6', axis = 1)\n",
        "Data2_proud = data2_proud.value_counts()\n",
        "natural_data2_proud = Data2_proud.tolist()\n",
        "\n",
        "natural3_proud = dfc_natural.loc[(dfc_natural['Q6'] == 3) & (dfc_natural['Q25c'] == 4)]\n",
        "data3_proud = natural3_proud.drop('Q6', axis = 1)\n",
        "Data3_proud = data3_proud.value_counts()\n",
        "natural_data3_proud = Data3_proud.tolist()\n",
        "\n",
        "natural4_proud = dfc_natural.loc[(dfc_natural['Q6'] == 3) & (dfc_natural['Q25c'] == 5)]\n",
        "data4_proud = natural4_proud.drop('Q6', axis = 1)\n",
        "Data4_proud = data4_proud.value_counts()\n",
        "natural_data4_proud = Data4_proud.tolist()\n",
        "\n"
      ],
      "metadata": {
        "id": "TEF-EHSyAHmA",
        "colab": {
          "base_uri": "https://localhost:8080/"
        },
        "outputId": "03b16a59-d3fa-48c4-aa0a-408c997a7c16"
      },
      "execution_count": 38,
      "outputs": [
        {
          "output_type": "stream",
          "name": "stdout",
          "text": [
            "<class 'pandas.core.frame.DataFrame'>\n",
            "RangeIndex: 1600 entries, 0 to 1599\n",
            "Data columns (total 2 columns):\n",
            " #   Column  Non-Null Count  Dtype  \n",
            "---  ------  --------------  -----  \n",
            " 0   Q6      1600 non-null   float64\n",
            " 1   Q25c    1600 non-null   float64\n",
            "dtypes: float64(2)\n",
            "memory usage: 25.1 KB\n"
          ]
        }
      ]
    },
    {
      "cell_type": "markdown",
      "source": [
        "Emotion: Frustrated"
      ],
      "metadata": {
        "id": "jhuQSjttUQNY"
      }
    },
    {
      "cell_type": "code",
      "source": [
        "fourth = final_dts[[\"Q6\", \"Q25d\"]]\n",
        "dfd_natural = pd.DataFrame(fourth)\n",
        "dfd_natural.info()\n",
        "\n",
        "natural_frustrated = dfd_natural.loc[(dfd_natural['Q6'] == 3) & (dfd_natural['Q25d'] == 1)]\n",
        "data_frustrated = natural_frustrated.drop('Q6', axis = 1)\n",
        "Data_frustrated = data_frustrated.value_counts()\n",
        "natural_data_frustrated = Data_frustrated.tolist()\n",
        "\n",
        "natural1_frustrated = dfd_natural.loc[(dfd_natural['Q6'] == 3) & (dfd_natural['Q25d'] == 2)]\n",
        "data1_frustrated = natural1_frustrated.drop('Q6', axis = 1)\n",
        "Data1_frustrated = data1_frustrated.value_counts()\n",
        "natural_data1_frustrated = Data1_frustrated.tolist()\n",
        "\n",
        "natural2_frustrated = dfd_natural.loc[(dfd_natural['Q6'] == 3) & (dfd_natural['Q25d'] == 3)]\n",
        "data2_frustrated = natural2_frustrated.drop('Q6', axis = 1)\n",
        "Data2_frustrated = data2_frustrated.value_counts()\n",
        "natural_data2_frustrated = Data2_frustrated.tolist()\n",
        "\n",
        "natural3_frustrated = dfd_natural.loc[(dfd_natural['Q6'] == 3) & (dfd_natural['Q25d'] == 4)]\n",
        "data3_frustrated = natural3_frustrated.drop('Q6', axis = 1)\n",
        "Data3_frustrated = data3_frustrated.value_counts()\n",
        "natural_data3_frustrated = Data3_frustrated.tolist()\n",
        "\n",
        "natural4_frustrated = dfd_natural.loc[(dfd_natural['Q6'] == 3) & (dfd_natural['Q25d'] == 5)]\n",
        "data4_frustrated = natural4_frustrated.drop('Q6', axis = 1)\n",
        "Data4_frustrated = data4_frustrated.value_counts()\n",
        "natural_data4_frustrated = Data4_frustrated.tolist()\n",
        "\n"
      ],
      "metadata": {
        "id": "S7-KuRv8AK3B",
        "colab": {
          "base_uri": "https://localhost:8080/"
        },
        "outputId": "3ff435d4-3e38-4693-fa9e-1a385a3569ad"
      },
      "execution_count": 39,
      "outputs": [
        {
          "output_type": "stream",
          "name": "stdout",
          "text": [
            "<class 'pandas.core.frame.DataFrame'>\n",
            "RangeIndex: 1600 entries, 0 to 1599\n",
            "Data columns (total 2 columns):\n",
            " #   Column  Non-Null Count  Dtype  \n",
            "---  ------  --------------  -----  \n",
            " 0   Q6      1600 non-null   float64\n",
            " 1   Q25d    1600 non-null   float64\n",
            "dtypes: float64(2)\n",
            "memory usage: 25.1 KB\n"
          ]
        }
      ]
    },
    {
      "cell_type": "markdown",
      "source": [
        "Emotion: Angry"
      ],
      "metadata": {
        "id": "nbUPsHnEUTef"
      }
    },
    {
      "cell_type": "code",
      "source": [
        "fifth = final_dts[[\"Q6\", \"Q25e\"]]\n",
        "dfe_natural = pd.DataFrame(fifth)\n",
        "dfe_natural.info()\n",
        "\n",
        "natural_angry = dfe_natural.loc[(dfe_natural['Q6'] == 3) & (dfe_natural['Q25e'] == 1)]\n",
        "data_angry = natural_angry.drop('Q6', axis = 1)\n",
        "Data_angry = data_angry.value_counts()\n",
        "natural_data_angry = Data_angry.tolist()\n",
        "\n",
        "natural1_angry = dfe_natural.loc[(dfe_natural['Q6'] == 3) & (dfe_natural['Q25e'] == 2)]\n",
        "data1_angry = natural1_angry.drop('Q6', axis = 1)\n",
        "Data1_angry = data1_angry.value_counts()\n",
        "natural_data1_angry = Data1_angry.tolist()\n",
        "\n",
        "natural2_angry = dfe_natural.loc[(dfe_natural['Q6'] == 3) & (dfe_natural['Q25e'] == 3)]\n",
        "data2_angry = natural2_angry.drop('Q6', axis = 1)\n",
        "Data2_angry = data2_angry.value_counts()\n",
        "natural_data2_angry = Data2_angry.tolist()\n",
        "\n",
        "natural3_angry = dfe_natural.loc[(dfe_natural['Q6'] == 3) & (dfe_natural['Q25e'] == 4)]\n",
        "data3_angry = natural3_angry.drop('Q6', axis = 1)\n",
        "Data3_angry = data3_angry.value_counts()\n",
        "natural_data3_angry = Data3_angry.tolist()\n",
        "\n",
        "natural4_angry = dfe_natural.loc[(dfe_natural['Q6'] == 3) & (dfe_natural['Q25e'] == 5)]\n",
        "data4_angry = natural4_angry.drop('Q6', axis = 1)\n",
        "Data4_angry = data4_angry.value_counts()\n",
        "natural_data4_angry = Data4_angry.tolist()\n",
        "\n"
      ],
      "metadata": {
        "id": "y8-sHNLlAMt4",
        "colab": {
          "base_uri": "https://localhost:8080/"
        },
        "outputId": "3d8ab4ae-7a23-4df2-ac44-a149085aa301"
      },
      "execution_count": 40,
      "outputs": [
        {
          "output_type": "stream",
          "name": "stdout",
          "text": [
            "<class 'pandas.core.frame.DataFrame'>\n",
            "RangeIndex: 1600 entries, 0 to 1599\n",
            "Data columns (total 2 columns):\n",
            " #   Column  Non-Null Count  Dtype  \n",
            "---  ------  --------------  -----  \n",
            " 0   Q6      1600 non-null   float64\n",
            " 1   Q25e    1600 non-null   float64\n",
            "dtypes: float64(2)\n",
            "memory usage: 25.1 KB\n"
          ]
        }
      ]
    },
    {
      "cell_type": "markdown",
      "source": [
        "Emotion: Anxious"
      ],
      "metadata": {
        "id": "UJUAiUM0UWbP"
      }
    },
    {
      "cell_type": "code",
      "source": [
        "sixth = final_dts[[\"Q6\", \"Q25f\"]]\n",
        "dff_natural = pd.DataFrame(sixth)\n",
        "dff_natural.info()\n",
        "\n",
        "natural_anxious = dff_natural.loc[(dff_natural['Q6'] == 3) & (dff_natural['Q25f'] == 1)]\n",
        "data_anxious = natural_anxious.drop('Q6', axis = 1)\n",
        "Data_anxious = data_anxious.value_counts()\n",
        "natural_data_anxious = Data_anxious.tolist()\n",
        "\n",
        "natural1_anxious = dff_natural.loc[(dff_natural['Q6'] == 3) & (dff_natural['Q25f'] == 2)]\n",
        "data1_anxious = natural1_anxious.drop('Q6', axis = 1)\n",
        "Data1_anxious = data1_anxious.value_counts()\n",
        "natural_data1_anxious = Data1_anxious.tolist()\n",
        "\n",
        "natural2_anxious = dff_natural.loc[(dff_natural['Q6'] == 3) & (dff_natural['Q25f'] == 3)]\n",
        "data2_anxious = natural2_anxious.drop('Q6', axis = 1)\n",
        "Data2_anxious = data2_anxious.value_counts()\n",
        "natural_data2_anxious = Data2_anxious.tolist()\n",
        "\n",
        "natural3_anxious = dff_natural.loc[(dff_natural['Q6'] == 3) & (dff_natural['Q25f'] == 4)]\n",
        "data3_anxious = natural3_anxious.drop('Q6', axis = 1)\n",
        "Data3_anxious = data3_anxious.value_counts()\n",
        "natural_data3_anxious = Data3_anxious.tolist()\n",
        "\n",
        "natural4_anxious = dff_natural.loc[(dff_natural['Q6'] == 3) & (dff_natural['Q25f'] == 5)]\n",
        "data4_anxious = natural4_anxious.drop('Q6', axis = 1)\n",
        "Data4_anxious = data4_anxious.value_counts()\n",
        "natural_data4_anxious = Data4_anxious.tolist()\n",
        "\n"
      ],
      "metadata": {
        "id": "KqRGASe6AOT4",
        "colab": {
          "base_uri": "https://localhost:8080/"
        },
        "outputId": "41d86e2f-fb14-4c65-f427-ed6301b11f93"
      },
      "execution_count": 41,
      "outputs": [
        {
          "output_type": "stream",
          "name": "stdout",
          "text": [
            "<class 'pandas.core.frame.DataFrame'>\n",
            "RangeIndex: 1600 entries, 0 to 1599\n",
            "Data columns (total 2 columns):\n",
            " #   Column  Non-Null Count  Dtype  \n",
            "---  ------  --------------  -----  \n",
            " 0   Q6      1600 non-null   float64\n",
            " 1   Q25f    1600 non-null   float64\n",
            "dtypes: float64(2)\n",
            "memory usage: 25.1 KB\n"
          ]
        }
      ]
    },
    {
      "cell_type": "markdown",
      "source": [
        "Emotion: Ashamed"
      ],
      "metadata": {
        "id": "035q5oF2UZW4"
      }
    },
    {
      "cell_type": "code",
      "source": [
        "seventh = final_dts[[\"Q6\", \"Q25g\"]]\n",
        "dfg_natural = pd.DataFrame(seventh)\n",
        "dfg_natural.info()\n",
        "\n",
        "natural_ashamed = dfg_natural.loc[(dfg_natural['Q6'] == 3) & (dfg_natural['Q25g'] == 1)]\n",
        "data_ashamed = natural_ashamed.drop('Q6', axis = 1)\n",
        "Data_ashamed = data_ashamed.value_counts()\n",
        "natural_data_ashamed = Data_ashamed.tolist()\n",
        "\n",
        "natural1_ashamed = dfg_natural.loc[(dfg_natural['Q6'] == 3) & (dfg_natural['Q25g'] == 2)]\n",
        "data1_ashamed = natural1_ashamed.drop('Q6', axis = 1)\n",
        "Data1_ashamed = data1_ashamed.value_counts()\n",
        "natural_data1_ashamed = Data1_ashamed.tolist()\n",
        "\n",
        "natural2_ashamed = dfg_natural.loc[(dfg_natural['Q6'] == 3) & (dfg_natural['Q25g'] == 3)]\n",
        "data2_ashamed = natural2_ashamed.drop('Q6', axis = 1)\n",
        "Data2_ashamed = data2_ashamed.value_counts()\n",
        "natural_data2_ashamed = Data2_ashamed.tolist()\n",
        "\n",
        "natural3_ashamed = dfg_natural.loc[(dfg_natural['Q6'] == 3) & (dfg_natural['Q25g'] == 4)]\n",
        "data3_ashamed = natural3_ashamed.drop('Q6', axis = 1)\n",
        "Data3_ashamed = data3_ashamed.value_counts()\n",
        "natural_data3_ashamed = Data3_ashamed.tolist()\n",
        "\n",
        "natural4_ashamed = dfg_natural.loc[(dfg_natural['Q6'] == 3) & (dfg_natural['Q25g'] == 5)]\n",
        "data4_ashamed = natural4_ashamed.drop('Q6', axis = 1)\n",
        "Data4_ashamed = data4_ashamed.value_counts()\n",
        "natural_data4_ashamed = Data4_ashamed.tolist()\n",
        "\n"
      ],
      "metadata": {
        "id": "E0jLMLtZAPx4",
        "colab": {
          "base_uri": "https://localhost:8080/"
        },
        "outputId": "654b2fb4-678f-4076-af14-b23ba73768d8"
      },
      "execution_count": 42,
      "outputs": [
        {
          "output_type": "stream",
          "name": "stdout",
          "text": [
            "<class 'pandas.core.frame.DataFrame'>\n",
            "RangeIndex: 1600 entries, 0 to 1599\n",
            "Data columns (total 2 columns):\n",
            " #   Column  Non-Null Count  Dtype  \n",
            "---  ------  --------------  -----  \n",
            " 0   Q6      1600 non-null   float64\n",
            " 1   Q25g    1600 non-null   float64\n",
            "dtypes: float64(2)\n",
            "memory usage: 25.1 KB\n"
          ]
        }
      ]
    },
    {
      "cell_type": "markdown",
      "source": [
        "Emotion: Relieved"
      ],
      "metadata": {
        "id": "F2AxC5vtUcJP"
      }
    },
    {
      "cell_type": "code",
      "source": [
        "eighth = final_dts[[\"Q6\", \"Q25h\"]]\n",
        "dfh_natural = pd.DataFrame(eighth)\n",
        "dfh_natural.info()\n",
        "\n",
        "natural_relieved = dfh_natural.loc[(dfh_natural['Q6'] == 3) & (dfh_natural['Q25h'] == 1)]\n",
        "data_relieved = natural_relieved.drop('Q6', axis = 1)\n",
        "Data_relieved = data_relieved.value_counts()\n",
        "natural_data_relieved = Data_relieved.tolist()\n",
        "\n",
        "natural1_relieved = dfh_natural.loc[(dfh_natural['Q6'] == 3) & (dfh_natural['Q25h'] == 2)]\n",
        "data1_relieved = natural1_relieved.drop('Q6', axis = 1)\n",
        "Data1_relieved = data1_relieved.value_counts()\n",
        "natural_data1_relieved = Data1_relieved.tolist()\n",
        "\n",
        "natural2_relieved = dfh_natural.loc[(dfh_natural['Q6'] == 3) & (dfh_natural['Q25h'] == 3)]\n",
        "data2_relieved = natural2_relieved.drop('Q6', axis = 1)\n",
        "Data2_relieved = data2_relieved.value_counts()\n",
        "natural_data2_relieved = Data2_relieved.tolist()\n",
        "\n",
        "natural3_relieved = dfh_natural.loc[(dfh_natural['Q6'] == 3) & (dfh_natural['Q25h'] == 4)]\n",
        "data3_relieved = natural3_relieved.drop('Q6', axis = 1)\n",
        "Data3_relieved = data3_relieved.value_counts()\n",
        "natural_data3_relieved = Data3_relieved.tolist()\n",
        "\n",
        "natural4_relieved = dfh_natural.loc[(dfh_natural['Q6'] == 3) & (dfh_natural['Q25h'] == 5)]\n",
        "data4_relieved = natural4_relieved.drop('Q6', axis = 1)\n",
        "Data4_relieved = data4_relieved.value_counts()\n",
        "natural_data4_relieved = Data4_relieved.tolist()\n",
        "\n"
      ],
      "metadata": {
        "id": "i8C_zmjFARiY",
        "colab": {
          "base_uri": "https://localhost:8080/"
        },
        "outputId": "c5503b0e-b920-4a40-b004-3c8e165677d4"
      },
      "execution_count": 43,
      "outputs": [
        {
          "output_type": "stream",
          "name": "stdout",
          "text": [
            "<class 'pandas.core.frame.DataFrame'>\n",
            "RangeIndex: 1600 entries, 0 to 1599\n",
            "Data columns (total 2 columns):\n",
            " #   Column  Non-Null Count  Dtype  \n",
            "---  ------  --------------  -----  \n",
            " 0   Q6      1600 non-null   float64\n",
            " 1   Q25h    1600 non-null   float64\n",
            "dtypes: float64(2)\n",
            "memory usage: 25.1 KB\n"
          ]
        }
      ]
    },
    {
      "cell_type": "markdown",
      "source": [
        "Emotion: Hopeless"
      ],
      "metadata": {
        "id": "l8T05g3YUic9"
      }
    },
    {
      "cell_type": "code",
      "source": [
        "ninth = final_dts[[\"Q6\", \"Q25i\"]]\n",
        "dfi_natural = pd.DataFrame(ninth)\n",
        "dfi_natural.info()\n",
        "\n",
        "natural_hopeless = dfi_natural.loc[(dfi_natural['Q6'] == 3) & (dfi_natural['Q25i'] == 1)]\n",
        "data_hopeless = natural_hopeless.drop('Q6', axis = 1)\n",
        "Data_hopeless = data_hopeless.value_counts()\n",
        "natural_data_hopeless = Data_hopeless.tolist()\n",
        "\n",
        "natural1_hopeless = dfi_natural.loc[(dfi_natural['Q6'] == 3) & (dfi_natural['Q25i'] == 2)]\n",
        "data1_hopeless = natural1_hopeless.drop('Q6', axis = 1)\n",
        "Data1_hopeless = data1_hopeless.value_counts()\n",
        "natural_data1_hopeless = Data1_hopeless.tolist()\n",
        "\n",
        "natural2_hopeless = dfi_natural.loc[(dfi_natural['Q6'] == 3) & (dfi_natural['Q25i'] == 3)]\n",
        "data2_hopeless = natural2_hopeless.drop('Q6', axis = 1)\n",
        "Data2_hopeless = data2_hopeless.value_counts()\n",
        "natural_data2_hopeless = Data2_hopeless.tolist()\n",
        "\n",
        "natural3_hopeless = dfi_natural.loc[(dfi_natural['Q6'] == 3) & (dfi_natural['Q25i'] == 4)]\n",
        "data3_hopeless = natural3_hopeless.drop('Q6', axis = 1)\n",
        "Data3_hopeless = data3_hopeless.value_counts()\n",
        "natural_data3_hopeless = Data3_hopeless.tolist()\n",
        "\n",
        "natural4_hopeless = dfi_natural.loc[(dfi_natural['Q6'] == 3) & (dfi_natural['Q25i'] == 5)]\n",
        "data4_hopeless = natural4_hopeless.drop('Q6', axis = 1)\n",
        "Data4_hopeless = data4_hopeless.value_counts()\n",
        "natural_data4_hopeless = Data4_hopeless.tolist()\n",
        "\n"
      ],
      "metadata": {
        "id": "Fi3vPKK6ATW6",
        "colab": {
          "base_uri": "https://localhost:8080/"
        },
        "outputId": "5e04b68b-3ff1-441e-d759-c18ffda63ea3"
      },
      "execution_count": 44,
      "outputs": [
        {
          "output_type": "stream",
          "name": "stdout",
          "text": [
            "<class 'pandas.core.frame.DataFrame'>\n",
            "RangeIndex: 1600 entries, 0 to 1599\n",
            "Data columns (total 2 columns):\n",
            " #   Column  Non-Null Count  Dtype  \n",
            "---  ------  --------------  -----  \n",
            " 0   Q6      1600 non-null   float64\n",
            " 1   Q25i    1600 non-null   float64\n",
            "dtypes: float64(2)\n",
            "memory usage: 25.1 KB\n"
          ]
        }
      ]
    },
    {
      "cell_type": "markdown",
      "source": [
        "Emotion: Bored"
      ],
      "metadata": {
        "id": "4Wj2uHnTUlx3"
      }
    },
    {
      "cell_type": "code",
      "source": [
        "tenth = final_dts[[\"Q6\", \"Q25j\"]]\n",
        "dfj_natural = pd.DataFrame(tenth)\n",
        "dfj_natural.info()\n",
        "\n",
        "natural_bored = dfj_natural.loc[(dfj_natural['Q6'] == 3) & (dfj_natural['Q25j'] == 1)]\n",
        "data_bored = natural_bored.drop('Q6', axis = 1)\n",
        "Data_bored = data_bored.value_counts()\n",
        "natural_data_bored = Data_bored.tolist()\n",
        "\n",
        "natural1_bored = dfj_natural.loc[(dfj_natural['Q6'] == 3) & (dfj_natural['Q25j'] == 2)]\n",
        "data1_bored = natural1_bored.drop('Q6', axis = 1)\n",
        "Data1_bored = data1_bored.value_counts()\n",
        "natural_data1_bored = Data1_bored.tolist()\n",
        "\n",
        "natural2_bored = dfj_natural.loc[(dfj_natural['Q6'] == 3) & (dfj_natural['Q25j'] == 3)]\n",
        "data2_bored = natural2_bored.drop('Q6', axis = 1)\n",
        "Data2_bored = data2_bored.value_counts()\n",
        "natural_data2_bored = Data2_bored.tolist()\n",
        "\n",
        "natural3_bored = dfj_natural.loc[(dfj_natural['Q6'] == 3) & (dfj_natural['Q25j'] == 4)]\n",
        "data3_bored = natural3_bored.drop('Q6', axis = 1)\n",
        "Data3_bored = data3_bored.value_counts()\n",
        "natural_data3_bored = Data3_bored.tolist()\n",
        "\n",
        "natural4_bored = dfj_natural.loc[(dfj_natural['Q6'] == 3) & (dfj_natural['Q25j'] == 5)]\n",
        "data4_bored = natural4_bored.drop('Q6', axis = 1)\n",
        "Data4_bored = data4_bored.value_counts()\n",
        "natural_data4_bored = Data4_bored.tolist()\n",
        "\n"
      ],
      "metadata": {
        "id": "kpObVKfBAVe5",
        "colab": {
          "base_uri": "https://localhost:8080/"
        },
        "outputId": "d9981dca-db71-4315-9832-4cff7fb87150"
      },
      "execution_count": 45,
      "outputs": [
        {
          "output_type": "stream",
          "name": "stdout",
          "text": [
            "<class 'pandas.core.frame.DataFrame'>\n",
            "RangeIndex: 1600 entries, 0 to 1599\n",
            "Data columns (total 2 columns):\n",
            " #   Column  Non-Null Count  Dtype  \n",
            "---  ------  --------------  -----  \n",
            " 0   Q6      1600 non-null   float64\n",
            " 1   Q25j    1600 non-null   float64\n",
            "dtypes: float64(2)\n",
            "memory usage: 25.1 KB\n"
          ]
        }
      ]
    },
    {
      "cell_type": "markdown",
      "source": [
        "**Field Study: Technical**"
      ],
      "metadata": {
        "id": "_aDk7FS1E5XB"
      }
    },
    {
      "cell_type": "markdown",
      "source": [
        "Emotion: Joyful"
      ],
      "metadata": {
        "id": "k-nAqJK_UpJW"
      }
    },
    {
      "cell_type": "code",
      "source": [
        "first = final_dts[[\"Q6\", \"Q25a\"]]\n",
        "dfa_technical = pd.DataFrame(first)\n",
        "dfa_technical.info()\n",
        "\n",
        "technical_joyful = dfa_technical.loc[(dfa_technical['Q6'] == 4) & (dfa_technical['Q25a'] == 1)]\n",
        "data_joyful_technical = technical_joyful.drop('Q6', axis = 1)\n",
        "Data_joyful = data_joyful_technical.value_counts()\n",
        "technical_data_joyful = Data_joyful.tolist()\n",
        "\n",
        "technical1_joyful = dfa_technical.loc[(dfa_technical['Q6'] == 4) & (dfa_technical['Q25a'] == 2)]\n",
        "data1_joyful_technical = technical1_joyful.drop('Q6', axis = 1)\n",
        "Data1_joyful = data1_joyful_technical.value_counts()\n",
        "technical_data1_joyful = Data1_joyful.tolist()\n",
        "\n",
        "technical2_joyful = dfa_technical.loc[(dfa_technical['Q6'] == 4) & (dfa_technical['Q25a'] == 3)]\n",
        "data2_joyful_technical = technical2_joyful.drop('Q6', axis = 1)\n",
        "Data2_joyful = data2_joyful_technical.value_counts()\n",
        "technical_data2_joyful = Data2_joyful.tolist()\n",
        "\n",
        "technical3_joyful = dfa_technical.loc[(dfa_technical['Q6'] == 4) & (dfa_technical['Q25a'] == 4)]\n",
        "data3_joyful_technical = technical3_joyful.drop('Q6', axis = 1)\n",
        "Data3_joyful = data3_joyful_technical.value_counts()\n",
        "technical_data3_joyful = Data3_joyful.tolist()\n",
        "\n",
        "technical4_joyful = dfa_technical.loc[(dfa_technical['Q6'] == 4) & (dfa_technical['Q25a'] == 5)]\n",
        "data4_joyful_technical = technical4_joyful.drop('Q6', axis = 1)\n",
        "Data4_joyful = data4_joyful_technical.value_counts()\n",
        "technical_data4_joyful = Data4_joyful.tolist()\n",
        "\n"
      ],
      "metadata": {
        "id": "fXx5SBMCE_i6",
        "colab": {
          "base_uri": "https://localhost:8080/"
        },
        "outputId": "fd3f13db-db73-4641-e3c6-464b3fa1b1c8"
      },
      "execution_count": 46,
      "outputs": [
        {
          "output_type": "stream",
          "name": "stdout",
          "text": [
            "<class 'pandas.core.frame.DataFrame'>\n",
            "RangeIndex: 1600 entries, 0 to 1599\n",
            "Data columns (total 2 columns):\n",
            " #   Column  Non-Null Count  Dtype  \n",
            "---  ------  --------------  -----  \n",
            " 0   Q6      1600 non-null   float64\n",
            " 1   Q25a    1600 non-null   float64\n",
            "dtypes: float64(2)\n",
            "memory usage: 25.1 KB\n"
          ]
        }
      ]
    },
    {
      "cell_type": "markdown",
      "source": [
        "Emotion: Hopeful"
      ],
      "metadata": {
        "id": "_Y875xYQUwT-"
      }
    },
    {
      "cell_type": "code",
      "source": [
        "second = final_dts[[\"Q6\", \"Q25b\"]]\n",
        "dfb_technical = pd.DataFrame(second)\n",
        "dfb_technical.info()\n",
        "\n",
        "technical_hopeful = dfb_technical.loc[(dfb_technical['Q6'] == 4) & (dfb_technical['Q25b'] == 1)]\n",
        "data_hopeful = technical_hopeful.drop('Q6', axis = 1)\n",
        "Data_hopeful = data_hopeful.value_counts()\n",
        "technical_data_hopeful = Data_hopeful.tolist()\n",
        "\n",
        "technical1_hopeful = dfb_technical.loc[(dfb_technical['Q6'] == 4) & (dfb_technical['Q25b'] == 2)]\n",
        "data1_hopeful = technical1_hopeful.drop('Q6', axis = 1)\n",
        "Data1_hopeful = data1_hopeful.value_counts()\n",
        "technical_data1_hopeful = Data1_hopeful.tolist()\n",
        "\n",
        "technical2_hopeful = dfb_technical.loc[(dfb_technical['Q6'] == 4) & (dfb_technical['Q25b'] == 3)]\n",
        "data2_hopeful = technical2_hopeful.drop('Q6', axis = 1)\n",
        "Data2_hopeful = data2_hopeful.value_counts()\n",
        "technical_data2_hopeful = Data2_hopeful.tolist()\n",
        "\n",
        "technical3_hopeful = dfb_technical.loc[(dfb_technical['Q6'] == 4) & (dfb_technical['Q25b'] == 4)]\n",
        "data3_hopeful = technical3_hopeful.drop('Q6', axis = 1)\n",
        "Data3_hopeful = data3_hopeful.value_counts()\n",
        "technical_data3_hopeful = Data3_hopeful.tolist()\n",
        "\n",
        "technical4_hopeful = dfb_technical.loc[(dfb_technical['Q6'] == 4) & (dfb_technical['Q25b'] == 5)]\n",
        "data4_hopeful = technical4_hopeful.drop('Q6', axis = 1)\n",
        "Data4_hopeful = data4_hopeful.value_counts()\n",
        "technical_data4_hopeful = Data4_hopeful.tolist()\n",
        "\n"
      ],
      "metadata": {
        "colab": {
          "base_uri": "https://localhost:8080/"
        },
        "id": "b9ZLpMAmFGUC",
        "outputId": "118bfbb2-4d67-4218-8b20-3c7860d9e6d1"
      },
      "execution_count": 47,
      "outputs": [
        {
          "output_type": "stream",
          "name": "stdout",
          "text": [
            "<class 'pandas.core.frame.DataFrame'>\n",
            "RangeIndex: 1600 entries, 0 to 1599\n",
            "Data columns (total 2 columns):\n",
            " #   Column  Non-Null Count  Dtype  \n",
            "---  ------  --------------  -----  \n",
            " 0   Q6      1600 non-null   float64\n",
            " 1   Q25b    1600 non-null   float64\n",
            "dtypes: float64(2)\n",
            "memory usage: 25.1 KB\n"
          ]
        }
      ]
    },
    {
      "cell_type": "markdown",
      "source": [
        "Emotion: Proud"
      ],
      "metadata": {
        "id": "uD6YTUaiVCsW"
      }
    },
    {
      "cell_type": "code",
      "source": [
        "third = final_dts[[\"Q6\", \"Q25c\"]]\n",
        "dfc_technical = pd.DataFrame(third)\n",
        "dfc_technical.info()\n",
        "\n",
        "technical_proud = dfc_technical.loc[(dfc_technical['Q6'] == 4) & (dfc_technical['Q25c'] == 1)]\n",
        "data_proud = technical_proud.drop('Q6', axis = 1)\n",
        "Data_proud = data_proud.value_counts()\n",
        "technical_data_proud = Data_proud.tolist()\n",
        "\n",
        "technical1_proud = dfc_technical.loc[(dfc_technical['Q6'] == 4) & (dfc_technical['Q25c'] == 2)]\n",
        "data1_proud = technical1_proud.drop('Q6', axis = 1)\n",
        "Data1_proud = data1_proud.value_counts()\n",
        "technical_data1_proud = Data1_proud.tolist()\n",
        "\n",
        "technical2_proud = dfc_technical.loc[(dfc_technical['Q6'] == 4) & (dfc_technical['Q25c'] == 3)]\n",
        "data2_proud = technical2_proud.drop('Q6', axis = 1)\n",
        "Data2_proud = data2_proud.value_counts()\n",
        "technical_data2_proud = Data2_proud.tolist()\n",
        "\n",
        "technical3_proud = dfc_technical.loc[(dfc_technical['Q6'] == 4) & (dfc_technical['Q25c'] == 4)]\n",
        "data3_proud = technical3_proud.drop('Q6', axis = 1)\n",
        "Data3_proud = data3_proud.value_counts()\n",
        "technical_data3_proud = Data3_proud.tolist()\n",
        "\n",
        "technical4_proud = dfc_technical.loc[(dfc_technical['Q6'] == 4) & (dfc_technical['Q25c'] == 5)]\n",
        "data4_proud = technical4_proud.drop('Q6', axis = 1)\n",
        "Data4_proud = data4_proud.value_counts()\n",
        "technical_data4_proud = Data4_proud.tolist()\n",
        "\n"
      ],
      "metadata": {
        "colab": {
          "base_uri": "https://localhost:8080/"
        },
        "id": "oIKOtFeBFKV5",
        "outputId": "575bea30-9f75-42b5-9dd2-1da82da1c013"
      },
      "execution_count": 48,
      "outputs": [
        {
          "output_type": "stream",
          "name": "stdout",
          "text": [
            "<class 'pandas.core.frame.DataFrame'>\n",
            "RangeIndex: 1600 entries, 0 to 1599\n",
            "Data columns (total 2 columns):\n",
            " #   Column  Non-Null Count  Dtype  \n",
            "---  ------  --------------  -----  \n",
            " 0   Q6      1600 non-null   float64\n",
            " 1   Q25c    1600 non-null   float64\n",
            "dtypes: float64(2)\n",
            "memory usage: 25.1 KB\n"
          ]
        }
      ]
    },
    {
      "cell_type": "markdown",
      "source": [
        "Emotion: Frustrated"
      ],
      "metadata": {
        "id": "xA7G386hVF9p"
      }
    },
    {
      "cell_type": "code",
      "source": [
        "fourth = final_dts[[\"Q6\", \"Q25d\"]]\n",
        "dfd_technical = pd.DataFrame(fourth)\n",
        "dfd_technical.info()\n",
        "\n",
        "technical_frustrated = dfd_technical.loc[(dfd_technical['Q6'] == 4) & (dfd_technical['Q25d'] == 1)]\n",
        "data_frustrated = technical_frustrated.drop('Q6', axis = 1)\n",
        "Data_frustrated = data_frustrated.value_counts()\n",
        "technical_data_frustrated = Data_frustrated.tolist()\n",
        "\n",
        "technical1_frustrated = dfd_technical.loc[(dfd_technical['Q6'] == 4) & (dfd_technical['Q25d'] == 2)]\n",
        "data1_frustrated = technical1_frustrated.drop('Q6', axis = 1)\n",
        "Data1_frustrated = data1_frustrated.value_counts()\n",
        "technical_data1_frustrated = Data1_frustrated.tolist()\n",
        "\n",
        "technical2_frustrated = dfd_technical.loc[(dfd_technical['Q6'] == 4) & (dfd_technical['Q25d'] == 3)]\n",
        "data2_frustrated = technical2_frustrated.drop('Q6', axis = 1)\n",
        "Data2_frustrated = data2_frustrated.value_counts()\n",
        "technical_data2_frustrated = Data2_frustrated.tolist()\n",
        "\n",
        "technical3_frustrated = dfd_technical.loc[(dfd_technical['Q6'] == 4) & (dfd_technical['Q25d'] == 4)]\n",
        "data3_frustrated = technical3_frustrated.drop('Q6', axis = 1)\n",
        "Data3_frustrated = data3_frustrated.value_counts()\n",
        "technical_data3_frustrated = Data3_frustrated.tolist()\n",
        "\n",
        "technical4_frustrated = dfd_technical.loc[(dfd_technical['Q6'] == 4) & (dfd_technical['Q25d'] == 5)]\n",
        "data4_frustrated = technical4_frustrated.drop('Q6', axis = 1)\n",
        "Data4_frustrated = data4_frustrated.value_counts()\n",
        "technical_data4_frustrated = Data4_frustrated.tolist()\n",
        "\n"
      ],
      "metadata": {
        "colab": {
          "base_uri": "https://localhost:8080/"
        },
        "id": "k1OdMH2uFM7h",
        "outputId": "705638a5-b820-446d-9de7-89b868df85a9"
      },
      "execution_count": 49,
      "outputs": [
        {
          "output_type": "stream",
          "name": "stdout",
          "text": [
            "<class 'pandas.core.frame.DataFrame'>\n",
            "RangeIndex: 1600 entries, 0 to 1599\n",
            "Data columns (total 2 columns):\n",
            " #   Column  Non-Null Count  Dtype  \n",
            "---  ------  --------------  -----  \n",
            " 0   Q6      1600 non-null   float64\n",
            " 1   Q25d    1600 non-null   float64\n",
            "dtypes: float64(2)\n",
            "memory usage: 25.1 KB\n"
          ]
        }
      ]
    },
    {
      "cell_type": "markdown",
      "source": [
        "Emotion: Angry"
      ],
      "metadata": {
        "id": "6_TokDTQVJXm"
      }
    },
    {
      "cell_type": "code",
      "source": [
        "fifth = final_dts[[\"Q6\", \"Q25e\"]]\n",
        "dfe_technical = pd.DataFrame(fifth)\n",
        "dfe_technical.info()\n",
        "\n",
        "technical_angry = dfe_technical.loc[(dfe_technical['Q6'] == 4) & (dfe_technical['Q25e'] == 1)]\n",
        "data_angry = technical_angry.drop('Q6', axis = 1)\n",
        "Data_angry = data_angry.value_counts()\n",
        "technical_data_angry = Data_angry.tolist()\n",
        "\n",
        "technical1_angry = dfe_technical.loc[(dfe_technical['Q6'] == 4) & (dfe_technical['Q25e'] == 2)]\n",
        "data1_angry = technical1_angry.drop('Q6', axis = 1)\n",
        "Data1_angry = data1_angry.value_counts()\n",
        "technical_data1_angry = Data1_angry.tolist()\n",
        "\n",
        "technical2_angry = dfe_technical.loc[(dfe_technical['Q6'] == 4) & (dfe_technical['Q25e'] == 3)]\n",
        "data2_angry = technical2_angry.drop('Q6', axis = 1)\n",
        "Data2_angry = data2_angry.value_counts()\n",
        "technical_data2_angry = Data2_angry.tolist()\n",
        "\n",
        "technical3_angry = dfe_technical.loc[(dfe_technical['Q6'] == 4) & (dfe_technical['Q25e'] == 4)]\n",
        "data3_angry = technical3_angry.drop('Q6', axis = 1)\n",
        "Data3_angry = data3_angry.value_counts()\n",
        "technical_data3_angry = Data3_angry.tolist()\n",
        "\n",
        "technical4_angry = dfe_technical.loc[(dfe_technical['Q6'] == 4) & (dfe_technical['Q25e'] == 5)]\n",
        "data4_angry = technical4_angry.drop('Q6', axis = 1)\n",
        "Data4_angry = data4_angry.value_counts()\n",
        "technical_data4_angry = Data4_angry.tolist()\n"
      ],
      "metadata": {
        "colab": {
          "base_uri": "https://localhost:8080/"
        },
        "id": "fmLflFF3FPOo",
        "outputId": "70c2e942-55b7-4b2a-c9a1-7ced2c6388e8"
      },
      "execution_count": 50,
      "outputs": [
        {
          "output_type": "stream",
          "name": "stdout",
          "text": [
            "<class 'pandas.core.frame.DataFrame'>\n",
            "RangeIndex: 1600 entries, 0 to 1599\n",
            "Data columns (total 2 columns):\n",
            " #   Column  Non-Null Count  Dtype  \n",
            "---  ------  --------------  -----  \n",
            " 0   Q6      1600 non-null   float64\n",
            " 1   Q25e    1600 non-null   float64\n",
            "dtypes: float64(2)\n",
            "memory usage: 25.1 KB\n"
          ]
        }
      ]
    },
    {
      "cell_type": "markdown",
      "source": [
        "Emotion: Anxious"
      ],
      "metadata": {
        "id": "f3YZA14IVNbG"
      }
    },
    {
      "cell_type": "code",
      "source": [
        "sixth = final_dts[[\"Q6\", \"Q25f\"]]\n",
        "dff_technical = pd.DataFrame(sixth)\n",
        "dff_technical.info()\n",
        "\n",
        "technical_anxious = dff_technical.loc[(dff_technical['Q6'] == 4) & (dff_technical['Q25f'] == 1)]\n",
        "data_anxious = technical_anxious.drop('Q6', axis = 1)\n",
        "Data_anxious = data_anxious.value_counts()\n",
        "technical_data_anxious = Data_anxious.tolist()\n",
        "\n",
        "technical1_anxious = dff_technical.loc[(dff_technical['Q6'] == 4) & (dff_technical['Q25f'] == 2)]\n",
        "data1_anxious = technical1_anxious.drop('Q6', axis = 1)\n",
        "Data1_anxious = data1_anxious.value_counts()\n",
        "technical_data1_anxious = Data1_anxious.tolist()\n",
        "\n",
        "technical2_anxious = dff_technical.loc[(dff_technical['Q6'] == 4) & (dff_technical['Q25f'] == 3)]\n",
        "data2_anxious = technical2_anxious.drop('Q6', axis = 1)\n",
        "Data2_anxious = data2_anxious.value_counts()\n",
        "technical_data2_anxious = Data2_anxious.tolist()\n",
        "\n",
        "technical3_anxious = dff_technical.loc[(dff_technical['Q6'] == 4) & (dff_technical['Q25f'] == 4)]\n",
        "data3_anxious = technical3_anxious.drop('Q6', axis = 1)\n",
        "Data3_anxious = data3_anxious.value_counts()\n",
        "technical_data3_anxious = Data3_anxious.tolist()\n",
        "\n",
        "technical4_anxious = dff_technical.loc[(dff_technical['Q6'] == 4) & (dff_technical['Q25f'] == 5)]\n",
        "data4_anxious = technical4_anxious.drop('Q6', axis = 1)\n",
        "Data4_anxious = data4_anxious.value_counts()\n",
        "technical_data4_anxious = Data4_anxious.tolist()\n",
        "\n"
      ],
      "metadata": {
        "colab": {
          "base_uri": "https://localhost:8080/"
        },
        "id": "cu_sn6w2FRNg",
        "outputId": "753e30ba-04d7-4924-d0b3-426a0c7fc5ff"
      },
      "execution_count": 51,
      "outputs": [
        {
          "output_type": "stream",
          "name": "stdout",
          "text": [
            "<class 'pandas.core.frame.DataFrame'>\n",
            "RangeIndex: 1600 entries, 0 to 1599\n",
            "Data columns (total 2 columns):\n",
            " #   Column  Non-Null Count  Dtype  \n",
            "---  ------  --------------  -----  \n",
            " 0   Q6      1600 non-null   float64\n",
            " 1   Q25f    1600 non-null   float64\n",
            "dtypes: float64(2)\n",
            "memory usage: 25.1 KB\n"
          ]
        }
      ]
    },
    {
      "cell_type": "markdown",
      "source": [
        "Emotion: Ashamed"
      ],
      "metadata": {
        "id": "uzMB6wbcVQ12"
      }
    },
    {
      "cell_type": "code",
      "source": [
        "seventh = final_dts[[\"Q6\", \"Q25g\"]]\n",
        "dfg_technical = pd.DataFrame(seventh)\n",
        "dfg_technical.info()\n",
        "\n",
        "technical_ashamed = dfg_technical.loc[(dfg_technical['Q6'] == 4) & (dfg_technical['Q25g'] == 1)]\n",
        "data_ashamed = technical_ashamed.drop('Q6', axis = 1)\n",
        "Data_ashamed = data_ashamed.value_counts()\n",
        "technical_data_ashamed = Data_ashamed.tolist()\n",
        "\n",
        "technical1_ashamed = dfg_technical.loc[(dfg_technical['Q6'] == 4) & (dfg_technical['Q25g'] == 2)]\n",
        "data1_ashamed = technical1_ashamed.drop('Q6', axis = 1)\n",
        "Data1_ashamed = data1_ashamed.value_counts()\n",
        "technical_data1_ashamed = Data1_ashamed.tolist()\n",
        "\n",
        "technical2_ashamed = dfg_technical.loc[(dfg_technical['Q6'] == 4) & (dfg_technical['Q25g'] == 3)]\n",
        "data2_ashamed = technical2_ashamed.drop('Q6', axis = 1)\n",
        "Data2_ashamed = data2_ashamed.value_counts()\n",
        "technical_data2_ashamed = Data2_ashamed.tolist()\n",
        "\n",
        "technical3_ashamed = dfg_technical.loc[(dfg_technical['Q6'] == 4) & (dfg_technical['Q25g'] == 4)]\n",
        "data3_ashamed = technical3_ashamed.drop('Q6', axis = 1)\n",
        "Data3_ashamed = data3_ashamed.value_counts()\n",
        "technical_data3_ashamed = Data3_ashamed.tolist()\n",
        "\n",
        "technical4_ashamed = dfg_technical.loc[(dfg_technical['Q6'] == 4) & (dfg_technical['Q25g'] == 5)]\n",
        "data4_ashamed = technical4_ashamed.drop('Q6', axis = 1)\n",
        "Data4_ashamed = data4_ashamed.value_counts()\n",
        "technical_data4_ashamed = Data4_ashamed.tolist()\n",
        "\n"
      ],
      "metadata": {
        "colab": {
          "base_uri": "https://localhost:8080/"
        },
        "id": "zTQn1a9-FTf4",
        "outputId": "ef32d4a4-a8c1-430c-93de-0958dc30a486"
      },
      "execution_count": 52,
      "outputs": [
        {
          "output_type": "stream",
          "name": "stdout",
          "text": [
            "<class 'pandas.core.frame.DataFrame'>\n",
            "RangeIndex: 1600 entries, 0 to 1599\n",
            "Data columns (total 2 columns):\n",
            " #   Column  Non-Null Count  Dtype  \n",
            "---  ------  --------------  -----  \n",
            " 0   Q6      1600 non-null   float64\n",
            " 1   Q25g    1600 non-null   float64\n",
            "dtypes: float64(2)\n",
            "memory usage: 25.1 KB\n"
          ]
        }
      ]
    },
    {
      "cell_type": "markdown",
      "source": [
        "Emotion: Relieved"
      ],
      "metadata": {
        "id": "oMXYbo6pVT2-"
      }
    },
    {
      "cell_type": "code",
      "source": [
        "eighth = final_dts[[\"Q6\", \"Q25h\"]]\n",
        "dfh_technical = pd.DataFrame(eighth)\n",
        "dfh_technical.info()\n",
        "\n",
        "technical_relieved = dfh_technical.loc[(dfh_technical['Q6'] == 4) & (dfh_technical['Q25h'] == 1)]\n",
        "data_relieved = technical_relieved.drop('Q6', axis = 1)\n",
        "Data_relieved = data_relieved.value_counts()\n",
        "technical_data_relieved = Data_relieved.tolist()\n",
        "\n",
        "technical1_relieved = dfh_technical.loc[(dfh_technical['Q6'] == 4) & (dfh_technical['Q25h'] == 2)]\n",
        "data1_relieved = technical1_relieved.drop('Q6', axis = 1)\n",
        "Data1_relieved = data1_relieved.value_counts()\n",
        "technical_data1_relieved = Data1_relieved.tolist()\n",
        "\n",
        "technical2_relieved = dfh_technical.loc[(dfh_technical['Q6'] == 4) & (dfh_technical['Q25h'] == 3)]\n",
        "data2_relieved = technical2_relieved.drop('Q6', axis = 1)\n",
        "Data2_relieved = data2_relieved.value_counts()\n",
        "technical_data2_relieved = Data2_relieved.tolist()\n",
        "\n",
        "technical3_relieved = dfh_technical.loc[(dfh_technical['Q6'] == 4) & (dfh_technical['Q25h'] == 4)]\n",
        "data3_relieved = technical3_relieved.drop('Q6', axis = 1)\n",
        "Data3_relieved = data3_relieved.value_counts()\n",
        "technical_data3_relieved = Data3_relieved.tolist()\n",
        "\n",
        "technical4_relieved = dfh_technical.loc[(dfh_technical['Q6'] == 4) & (dfh_technical['Q25h'] == 5)]\n",
        "data4_relieved = technical4_relieved.drop('Q6', axis = 1)\n",
        "Data4_relieved = data4_relieved.value_counts()\n",
        "technical_data4_relieved = Data4_relieved.tolist()\n",
        "\n"
      ],
      "metadata": {
        "colab": {
          "base_uri": "https://localhost:8080/"
        },
        "id": "KmlpwDN2FVJ5",
        "outputId": "4b68c530-26fb-411d-b3f5-29816c504136"
      },
      "execution_count": 53,
      "outputs": [
        {
          "output_type": "stream",
          "name": "stdout",
          "text": [
            "<class 'pandas.core.frame.DataFrame'>\n",
            "RangeIndex: 1600 entries, 0 to 1599\n",
            "Data columns (total 2 columns):\n",
            " #   Column  Non-Null Count  Dtype  \n",
            "---  ------  --------------  -----  \n",
            " 0   Q6      1600 non-null   float64\n",
            " 1   Q25h    1600 non-null   float64\n",
            "dtypes: float64(2)\n",
            "memory usage: 25.1 KB\n"
          ]
        }
      ]
    },
    {
      "cell_type": "markdown",
      "source": [
        "Emotion: Hopless"
      ],
      "metadata": {
        "id": "61mwOgqzVWv1"
      }
    },
    {
      "cell_type": "code",
      "source": [
        "ninth = final_dts[[\"Q6\", \"Q25i\"]]\n",
        "dfi_technical = pd.DataFrame(ninth)\n",
        "dfi_technical.info()\n",
        "\n",
        "technical_hopeless = dfi_technical.loc[(dfi_technical['Q6'] == 4) & (dfi_technical['Q25i'] == 1)]\n",
        "data_hopeless = technical_hopeless.drop('Q6', axis = 1)\n",
        "Data_hopeless = data_hopeless.value_counts()\n",
        "technical_data_hopeless = Data_hopeless.tolist()\n",
        "\n",
        "technical1_hopeless = dfi_technical.loc[(dfi_technical['Q6'] == 4) & (dfi_technical['Q25i'] == 2)]\n",
        "data1_hopeless = technical1_hopeless.drop('Q6', axis = 1)\n",
        "Data1_hopeless = data1_hopeless.value_counts()\n",
        "technical_data1_hopeless = Data1_hopeless.tolist()\n",
        "\n",
        "technical2_hopeless = dfi_technical.loc[(dfi_technical['Q6'] == 4) & (dfi_technical['Q25i'] == 3)]\n",
        "data2_hopeless = technical2_hopeless.drop('Q6', axis = 1)\n",
        "Data2_hopeless = data2_hopeless.value_counts()\n",
        "technical_data2_hopeless = Data2_hopeless.tolist()\n",
        "\n",
        "technical3_hopeless = dfi_technical.loc[(dfi_technical['Q6'] == 4) & (dfi_technical['Q25i'] == 4)]\n",
        "data3_hopeless = technical3_hopeless.drop('Q6', axis = 1)\n",
        "Data3_hopeless = data3_hopeless.value_counts()\n",
        "technical_data3_hopeless = Data3_hopeless.tolist()\n",
        "\n",
        "technical4_hopeless = dfi_technical.loc[(dfi_technical['Q6'] == 4) & (dfi_technical['Q25i'] == 5)]\n",
        "data4_hopeless = technical4_hopeless.drop('Q6', axis = 1)\n",
        "Data4_hopeless = data4_hopeless.value_counts()\n",
        "technical_data4_hopeless = Data4_hopeless.tolist()\n",
        "\n"
      ],
      "metadata": {
        "colab": {
          "base_uri": "https://localhost:8080/"
        },
        "id": "CmkGk5S7FW8R",
        "outputId": "b64011e0-75cd-408b-a995-b5fbe50b5d74"
      },
      "execution_count": 54,
      "outputs": [
        {
          "output_type": "stream",
          "name": "stdout",
          "text": [
            "<class 'pandas.core.frame.DataFrame'>\n",
            "RangeIndex: 1600 entries, 0 to 1599\n",
            "Data columns (total 2 columns):\n",
            " #   Column  Non-Null Count  Dtype  \n",
            "---  ------  --------------  -----  \n",
            " 0   Q6      1600 non-null   float64\n",
            " 1   Q25i    1600 non-null   float64\n",
            "dtypes: float64(2)\n",
            "memory usage: 25.1 KB\n"
          ]
        }
      ]
    },
    {
      "cell_type": "markdown",
      "source": [
        "Emotion: Bored"
      ],
      "metadata": {
        "id": "ZhnewCQDVZ9u"
      }
    },
    {
      "cell_type": "code",
      "source": [
        "tenth = final_dts[[\"Q6\", \"Q25j\"]]\n",
        "dfj_technical = pd.DataFrame(tenth)\n",
        "dfj_technical.info()\n",
        "\n",
        "technical_bored = dfj_technical.loc[(dfj_technical['Q6'] == 4) & (dfj_technical['Q25j'] == 1)]\n",
        "data_bored = technical_bored.drop('Q6', axis = 1)\n",
        "Data_bored = data_bored.value_counts()\n",
        "technical_data_bored = Data_bored.tolist()\n",
        "\n",
        "technical1_bored = dfj_technical.loc[(dfj_technical['Q6'] == 4) & (dfj_technical['Q25j'] == 2)]\n",
        "data1_bored = technical1_bored.drop('Q6', axis = 1)\n",
        "Data1_bored = data1_bored.value_counts()\n",
        "technical_data1_bored = Data1_bored.tolist()\n",
        "\n",
        "technical2_bored = dfj_technical.loc[(dfj_technical['Q6'] == 4) & (dfj_technical['Q25j'] == 3)]\n",
        "data2_bored = technical2_bored.drop('Q6', axis = 1)\n",
        "Data2_bored = data2_bored.value_counts()\n",
        "technical_data2_bored = Data2_bored.tolist()\n",
        "\n",
        "technical3_bored = dfj_technical.loc[(dfj_technical['Q6'] == 4) & (dfj_technical['Q25j'] == 4)]\n",
        "data3_bored = technical3_bored.drop('Q6', axis = 1)\n",
        "Data3_bored = data3_bored.value_counts()\n",
        "technical_data3_bored = Data3_bored.tolist()\n",
        "\n",
        "technical4_bored = dfj_technical.loc[(dfj_technical['Q6'] == 4) & (dfj_technical['Q25j'] == 5)]\n",
        "data4_bored = technical4_bored.drop('Q6', axis = 1)\n",
        "Data4_bored = data4_bored.value_counts()\n",
        "technical_data4_bored = Data4_bored.tolist()\n",
        "\n"
      ],
      "metadata": {
        "colab": {
          "base_uri": "https://localhost:8080/"
        },
        "id": "ctuE5FE5FbpJ",
        "outputId": "477e826b-f50e-4f1f-9d5b-56a0d145682e"
      },
      "execution_count": 55,
      "outputs": [
        {
          "output_type": "stream",
          "name": "stdout",
          "text": [
            "<class 'pandas.core.frame.DataFrame'>\n",
            "RangeIndex: 1600 entries, 0 to 1599\n",
            "Data columns (total 2 columns):\n",
            " #   Column  Non-Null Count  Dtype  \n",
            "---  ------  --------------  -----  \n",
            " 0   Q6      1600 non-null   float64\n",
            " 1   Q25j    1600 non-null   float64\n",
            "dtypes: float64(2)\n",
            "memory usage: 25.1 KB\n"
          ]
        }
      ]
    },
    {
      "cell_type": "markdown",
      "source": [
        "Emotions Rate Felt by Arts and Humanities Students"
      ],
      "metadata": {
        "id": "CTqZ7YqSVhc9"
      }
    },
    {
      "cell_type": "code",
      "source": [
        "fig, ax = plt.subplots(figsize=(19, 9))\n",
        "labels = [\"Never\", \"Rarely\", \"Sometimes\", \"Often\", \"Always\"]\n",
        "category_labels = [\"Joyful\", \"Hopeful\", \"Proud\", \"Frustrated\", \"Angry\", \"Anxious\", \"Ashamed\", \"Relieved\", \"Hopeless\", \"Bored\"]\n",
        "\n",
        "art_field_never = art_data_joyful + art_data_hopeful + art_data_proud + art_data_frustrated + art_data_angry + art_data_anxious + art_data_ashamed + art_data_relieved + art_data_hopeless + art_data_bored\n",
        "art_field_rarely = art_data1_joyful + art_data1_hopeful + art_data1_proud + art_data1_frustrated + art_data1_angry + art_data1_anxious + art_data1_ashamed + art_data1_relieved + art_data1_hopeless + art_data1_bored\n",
        "art_field_sometimes = art_data2_joyful + art_data2_hopeful + art_data2_proud + art_data2_frustrated + art_data2_angry + art_data2_anxious + art_data2_ashamed + art_data2_relieved + art_data2_hopeless + art_data2_bored\n",
        "art_field_often = art_data3_joyful + art_data3_hopeful + art_data3_proud + art_data3_frustrated + art_data3_angry + art_data3_anxious + art_data3_ashamed + art_data3_relieved + art_data3_hopeless + art_data3_bored\n",
        "art_field_always = art_data4_joyful + art_data4_hopeful + art_data4_proud + art_data4_frustrated + art_data4_angry + art_data4_anxious + art_data4_ashamed + art_data4_relieved + art_data4_hopeless + art_data4_bored\n",
        "\n",
        "art_bottom1 = art_field_never\n",
        "art_bottom2 = [a+b for a,b in zip(art_field_never, art_field_rarely)]\n",
        "art_bottom3 = [a+b+c for a,b,c in zip(art_field_never, art_field_rarely, art_field_sometimes)]\n",
        "art_bottom4 = [a+b+c+d for a,b,c,d in zip(art_field_never, art_field_rarely, art_field_sometimes, art_field_often)]\n",
        "\n",
        "p1 = ax.barh(category_labels, art_field_never, color = '#F28B50')\n",
        "p2 = ax.barh(category_labels, art_field_rarely, left = art_bottom1, color = '#F2C0A2')\n",
        "p3 = ax.barh(category_labels, art_field_sometimes, left = art_bottom2, color = '#ABABAB')\n",
        "p4 = ax.barh(category_labels, art_field_often, left = art_bottom3, color = '#A2D4F2')\n",
        "p5 = ax.barh(category_labels, art_field_always, left = art_bottom4, color = '#3D9DD9')\n",
        "\n",
        "ax.spines['right'].set_visible(False)\n",
        "ax.spines['top'].set_visible(False)\n",
        "ax.spines['left'].set_visible(True)\n",
        "ax.spines['bottom'].set_visible(False)\n",
        "\n",
        "ax.yaxis.grid(False)\n",
        "ax.xaxis.grid(True, which='major', color='#BFBFBF')\n",
        "ax.set_axisbelow(True)\n",
        "\n",
        "plt.ylabel(\"Emotions\", fontsize=12)\n",
        "plt.xlabel(\"Responses\", fontsize=12)\n",
        "plt.title(\"Emotions Rate felt by Arts and Humanities Students\", fontsize = 20, fontweight='bold')\n",
        "ax.legend(labels, bbox_to_anchor=(0.5,-0.14), loc='lower center', ncol=5, fontsize = 13)\n",
        "plt.show()"
      ],
      "metadata": {
        "colab": {
          "base_uri": "https://localhost:8080/",
          "height": 603
        },
        "id": "aM_QtS2zLmpV",
        "outputId": "4646b150-3b68-4b78-c166-dc5aa93c8194"
      },
      "execution_count": 142,
      "outputs": [
        {
          "output_type": "display_data",
          "data": {
            "text/plain": [
              "<Figure size 1368x648 with 1 Axes>"
            ],
            "image/png": "[encoded data removed]"
          },
          "metadata": {
            "needs_background": "light"
          }
        }
      ]
    },
    {
      "cell_type": "markdown",
      "source": [
        "Emotions Rate Felt by Social Science Students"
      ],
      "metadata": {
        "id": "yvUFFhKCXqqz"
      }
    },
    {
      "cell_type": "code",
      "source": [
        "fig, ax = plt.subplots(figsize=(19, 9))\n",
        "labels = [\"Never\", \"Rarely\", \"Sometimes\", \"Often\", \"Always\"]\n",
        "category_labels = [\"Joyful\", \"Hopeful\", \"Proud\", \"Frustrated\", \"Angry\", \"Anxious\", \"Ashamed\", \"Relieved\", \"Hopeless\", \"Bored\"]\n",
        "\n",
        "social_field_never = social_data_joyful + social_data_hopeful + social_data_proud + social_data_frustrated + social_data_angry + social_data_anxious + social_data_ashamed + social_data_relieved + social_data_hopeless + social_data_bored\n",
        "social_field_rarely = social_data1_joyful + social_data1_hopeful + social_data1_proud + social_data1_frustrated + social_data1_angry + social_data1_anxious + social_data1_ashamed + social_data1_relieved + social_data1_hopeless + social_data1_bored\n",
        "social_field_sometimes = social_data2_joyful + social_data2_hopeful + social_data2_proud + social_data2_frustrated + social_data2_angry + social_data2_anxious + social_data2_ashamed + social_data2_relieved + social_data2_hopeless + social_data2_bored\n",
        "social_field_often = social_data3_joyful + social_data3_hopeful + social_data3_proud + social_data3_frustrated + social_data3_angry + social_data3_anxious + social_data3_ashamed + social_data3_relieved + social_data3_hopeless + social_data3_bored\n",
        "social_field_always = social_data4_joyful + social_data4_hopeful + social_data4_proud + social_data4_frustrated + social_data4_angry + social_data4_anxious + social_data4_ashamed + social_data4_relieved + social_data4_hopeless + social_data4_bored\n",
        "\n",
        "social_bottom1 = social_field_never\n",
        "social_bottom2 = [a+b for a,b in zip(social_field_never, social_field_rarely)]\n",
        "social_bottom3 = [a+b+c for a,b,c in zip(social_field_never, social_field_rarely, social_field_sometimes)]\n",
        "social_bottom4 = [a+b+c+d for a,b,c,d in zip(social_field_never, social_field_rarely, social_field_sometimes, social_field_often)]\n",
        "\n",
        "p1 = ax.barh(category_labels, social_field_never, color = '#F28B50')\n",
        "p2 = ax.barh(category_labels, social_field_rarely, left = social_bottom1, color = '#F2C0A2')\n",
        "p3 = ax.barh(category_labels, social_field_sometimes, left = social_bottom2, color = '#ABABAB')\n",
        "p4 = ax.barh(category_labels, social_field_often, left = social_bottom3, color = '#A2D4F2')\n",
        "p5 = ax.barh(category_labels, social_field_always, left = social_bottom4, color = '#3D9DD9')\n",
        "\n",
        "ax.spines['right'].set_visible(False)\n",
        "ax.spines['top'].set_visible(False)\n",
        "ax.spines['left'].set_visible(True)\n",
        "ax.spines['bottom'].set_visible(False)\n",
        "\n",
        "ax.yaxis.grid(False)\n",
        "ax.xaxis.grid(True, which='major', color='#BFBFBF')\n",
        "ax.set_axisbelow(True)\n",
        "\n",
        "plt.ylabel(\"Emotions\", fontsize=12)\n",
        "plt.xlabel(\"Responses\", fontsize=12)\n",
        "plt.title(\"Emotions Rate felt by Social Science Students\", fontsize = 20, fontweight='bold')\n",
        "ax.legend(labels, bbox_to_anchor=(0.5,-0.14), loc='lower center', ncol=5, fontsize = 13)\n",
        "plt.show()"
      ],
      "metadata": {
        "colab": {
          "base_uri": "https://localhost:8080/",
          "height": 603
        },
        "id": "CFVKlAG1tBGn",
        "outputId": "ae6da021-0340-49fc-b34a-11844b63df76"
      },
      "execution_count": 143,
      "outputs": [
        {
          "output_type": "display_data",
          "data": {
            "text/plain": [
              "<Figure size 1368x648 with 1 Axes>"
            ],
            "image/png": "[encoded data removed]"
          },
          "metadata": {
            "needs_background": "light"
          }
        }
      ]
    },
    {
      "cell_type": "markdown",
      "source": [
        "Emotions Rate Felt by Natural and Life Science Students"
      ],
      "metadata": {
        "id": "YjFJ28mMdTIE"
      }
    },
    {
      "cell_type": "code",
      "source": [
        "fig, ax = plt.subplots(figsize=(19, 9))\n",
        "labels = [\"Never\", \"Rarely\", \"Sometimes\", \"Often\", \"Always\"]\n",
        "category_labels = [\"Joyful\", \"Hopeful\", \"Proud\", \"Frustrated\", \"Angry\", \"Anxious\", \"Ashamed\", \"Relieved\", \"Hopeless\", \"Bored\"]\n",
        "\n",
        "natural_field_never = natural_data_joyful + natural_data_hopeful + natural_data_proud + natural_data_frustrated + natural_data_angry + natural_data_anxious + natural_data_ashamed + natural_data_relieved + natural_data_hopeless + natural_data_bored\n",
        "natural_field_rarely = natural_data1_joyful + natural_data1_hopeful + natural_data1_proud + natural_data1_frustrated + natural_data1_angry + natural_data1_anxious + natural_data1_ashamed + natural_data1_relieved + natural_data1_hopeless + natural_data1_bored\n",
        "natural_field_sometimes = natural_data2_joyful + natural_data2_hopeful + natural_data2_proud + natural_data2_frustrated + natural_data2_angry + natural_data2_anxious + natural_data2_ashamed + natural_data2_relieved + natural_data2_hopeless + natural_data2_bored\n",
        "natural_field_often = natural_data3_joyful + natural_data3_hopeful + natural_data3_proud + natural_data3_frustrated + natural_data3_angry + natural_data3_anxious + natural_data3_ashamed + natural_data3_relieved + natural_data3_hopeless + natural_data3_bored\n",
        "natural_field_always = natural_data4_joyful + natural_data4_hopeful + natural_data4_proud + natural_data4_frustrated + natural_data4_angry + natural_data4_anxious + natural_data4_ashamed + natural_data4_relieved + natural_data4_hopeless + natural_data4_bored\n",
        "\n",
        "natural_bottom1 = natural_field_never\n",
        "natural_bottom2 = [a+b for a,b in zip(natural_field_never, natural_field_rarely)]\n",
        "natural_bottom3 = [a+b+c for a,b,c in zip(natural_field_never, natural_field_rarely, natural_field_sometimes)]\n",
        "natural_bottom4 = [a+b+c+d for a,b,c,d in zip(natural_field_never, natural_field_rarely, natural_field_sometimes, natural_field_often)]\n",
        "\n",
        "p1 = ax.barh(category_labels, natural_field_never, color = '#F28B50')\n",
        "p2 = ax.barh(category_labels, natural_field_rarely, left = natural_bottom1, color = '#F2C0A2')\n",
        "p3 = ax.barh(category_labels, natural_field_sometimes, left = natural_bottom2, color = '#ABABAB')\n",
        "p4 = ax.barh(category_labels, natural_field_often, left = natural_bottom3, color = '#A2D4F2')\n",
        "p5 = ax.barh(category_labels, natural_field_always, left = natural_bottom4, color = '#3D9DD9')\n",
        "\n",
        "ax.spines['right'].set_visible(False)\n",
        "ax.spines['top'].set_visible(False)\n",
        "ax.spines['left'].set_visible(True)\n",
        "ax.spines['bottom'].set_visible(False)\n",
        "\n",
        "ax.yaxis.grid(False)\n",
        "ax.xaxis.grid(True, which='major', color='#BFBFBF')\n",
        "ax.set_axisbelow(True)\n",
        "\n",
        "plt.ylabel(\"Emotions\", fontsize=12)\n",
        "plt.xlabel(\"Responses\", fontsize=12)\n",
        "plt.title(\"Emotions Rate felt by Natural and Life Science Students\", fontsize = 20, fontweight='bold')\n",
        "ax.legend(labels, bbox_to_anchor=(0.5,-0.14), loc='lower center', ncol=5, fontsize = 13)\n",
        "plt.show()"
      ],
      "metadata": {
        "colab": {
          "base_uri": "https://localhost:8080/",
          "height": 603
        },
        "id": "2XhfABJ5AXhn",
        "outputId": "0b98a6a6-0f13-4351-8d72-f51d11266966"
      },
      "execution_count": 183,
      "outputs": [
        {
          "output_type": "display_data",
          "data": {
            "text/plain": [
              "<Figure size 1368x648 with 1 Axes>"
            ],
            "image/png": "[encoded data removed]"
          },
          "metadata": {
            "needs_background": "light"
          }
        }
      ]
    },
    {
      "cell_type": "markdown",
      "source": [
        "Emotions Rate Felt by Technical Students"
      ],
      "metadata": {
        "id": "-ZKA13j-duKC"
      }
    },
    {
      "cell_type": "code",
      "source": [
        "fig, ax = plt.subplots(figsize=(19, 9))\n",
        "labels = [\"Never\", \"Rarely\", \"Sometimes\", \"Often\", \"Always\"]\n",
        "category_labels = [\"Joyful\", \"Hopeful\", \"Proud\", \"Frustrated\", \"Angry\", \"Anxious\", \"Ashamed\", \"Relieved\", \"Hopeless\", \"Bored\"]\n",
        "\n",
        "technical_field_never = technical_data_joyful + technical_data_hopeful + technical_data_proud + technical_data_frustrated + technical_data_angry + technical_data_anxious + technical_data_ashamed + technical_data_relieved + technical_data_hopeless + technical_data_bored\n",
        "technical_field_rarely = technical_data1_joyful + technical_data1_hopeful + technical_data1_proud + technical_data1_frustrated + technical_data1_angry + technical_data1_anxious + technical_data1_ashamed + technical_data1_relieved + technical_data1_hopeless + technical_data1_bored\n",
        "technical_field_sometimes = technical_data2_joyful + technical_data2_hopeful + technical_data2_proud + technical_data2_frustrated + technical_data2_angry + technical_data2_anxious + technical_data2_ashamed + technical_data2_relieved + technical_data2_hopeless + technical_data2_bored\n",
        "technical_field_often = technical_data3_joyful + technical_data3_hopeful + technical_data3_proud + technical_data3_frustrated + technical_data3_angry + technical_data3_anxious + technical_data3_ashamed + technical_data3_relieved + technical_data3_hopeless + technical_data3_bored\n",
        "technical_field_always = technical_data4_joyful + technical_data4_hopeful + technical_data4_proud + technical_data4_frustrated + technical_data4_angry + technical_data4_anxious + technical_data4_ashamed + technical_data4_relieved + technical_data4_hopeless + technical_data4_bored\n",
        "\n",
        "technical_bottom1 = technical_field_never\n",
        "technical_bottom2 = [a+b for a,b in zip(technical_field_never, technical_field_rarely)]\n",
        "technical_bottom3 = [a+b+c for a,b,c in zip(technical_field_never, technical_field_rarely, technical_field_sometimes)]\n",
        "technical_bottom4 = [a+b+c+d for a,b,c,d in zip(technical_field_never, technical_field_rarely, technical_field_sometimes, technical_field_often)]\n",
        "\n",
        "p1 = ax.barh(category_labels, technical_field_never, color = '#F28B50')\n",
        "p2 = ax.barh(category_labels, technical_field_rarely, left = technical_bottom1, color = '#F2C0A2')\n",
        "p3 = ax.barh(category_labels, technical_field_sometimes, left = technical_bottom2, color = '#ABABAB')\n",
        "p4 = ax.barh(category_labels, technical_field_often, left = technical_bottom3, color = '#A2D4F2')\n",
        "p5 = ax.barh(category_labels, technical_field_always, left = technical_bottom4, color = '#3D9DD9')\n",
        "\n",
        "ax.spines['right'].set_visible(False)\n",
        "ax.spines['top'].set_visible(False)\n",
        "ax.spines['left'].set_visible(True)\n",
        "ax.spines['bottom'].set_visible(False)\n",
        "\n",
        "ax.yaxis.grid(False)\n",
        "ax.xaxis.grid(True, which='major', color='#BFBFBF')\n",
        "ax.set_axisbelow(True)\n",
        "\n",
        "plt.ylabel(\"Emotions\", fontsize=12)\n",
        "plt.xlabel(\"Responses\", fontsize=12)\n",
        "plt.title(\"Emotions Rate felt by Technical Students\", fontsize = 20, fontweight='bold')\n",
        "ax.legend(labels, bbox_to_anchor=(0.5,-0.14), loc='lower center', ncol=5, fontsize = 13)\n",
        "plt.show()"
      ],
      "metadata": {
        "colab": {
          "base_uri": "https://localhost:8080/",
          "height": 603
        },
        "id": "fiZeArg7Fc4B",
        "outputId": "5cec7681-f72b-429f-adcf-49e7ed8024a3"
      },
      "execution_count": 184,
      "outputs": [
        {
          "output_type": "display_data",
          "data": {
            "text/plain": [
              "<Figure size 1368x648 with 1 Axes>"
            ],
            "image/png": "[encoded data removed]"
          },
          "metadata": {
            "needs_background": "light"
          }
        }
      ]
    },
    {
      "cell_type": "markdown",
      "source": [
        "**Q7 and Q25(a, b, c, d, e, f, g, h, i, and j)**"
      ],
      "metadata": {
        "id": "orgqUYloGUzj"
      }
    },
    {
      "cell_type": "markdown",
      "source": [
        "# Q17- workload rate of students during online setup compared to on-site classes"
      ],
      "metadata": {
        "id": "d0hdzoiUGr2i"
      }
    },
    {
      "cell_type": "code",
      "source": [
        "Q17_workload = final_dts\n",
        "\n",
        "Q17_workload_rate = Q17_workload ['Q17']\n",
        "Q17_data = pd.DataFrame(Q17_workload_rate)\n",
        "Q17_result = Q17_data.value_counts(sort=False)\n",
        "print(Q17_result)"
      ],
      "metadata": {
        "colab": {
          "base_uri": "https://localhost:8080/"
        },
        "id": "lxlF0dcfGymS",
        "outputId": "14bb720e-a869-46b0-a06d-b14650741abc"
      },
      "execution_count": 193,
      "outputs": [
        {
          "output_type": "stream",
          "name": "stdout",
          "text": [
            "Q17\n",
            "1.0      91\n",
            "2.0     156\n",
            "3.0     197\n",
            "4.0    1017\n",
            "5.0     139\n",
            "dtype: int64\n"
          ]
        }
      ]
    },
    {
      "cell_type": "code",
      "source": [
        "# setting the workload rate at x axis\n",
        "workload_rate=['Significantly smaller', 'Smaller', 'The same', 'Larger', 'Significantly larger']\n",
        "\n",
        "# giving the values against each value at y axis\n",
        "workload_result=[91,156,197,1017,139]\n",
        "\n",
        "fig, ax = plt.subplots(figsize=(13,8))\n",
        "plt.bar(workload_rate, workload_result, color=['#77C2FE', '#249CFF', '#1578CF', '#0A579E', '#003870'], width=0.9)\n",
        "\n",
        "plt.ylim(0, 1200)\n",
        "plt.yticks(np.arange(0, 1201, 200))\n",
        "\n",
        "ax.spines['right'].set_visible(False)\n",
        "ax.spines['top'].set_visible(False)\n",
        "ax.spines['left'].set_visible(False)\n",
        "ax.spines['bottom'].set_visible(True)\n",
        "\n",
        "ax.yaxis.grid(True, which='major', color='grey', linestyle='dotted')\n",
        "ax.xaxis.grid(False)\n",
        "ax.set_axisbelow(True)\n",
        "\n",
        "# setting labels\n",
        "plt.xlabel(\"Rate\", fontsize=12)\n",
        "plt.ylabel(\"Responses\", fontsize=12)  \n",
        "plt.title(\"Students' Workload Rate in Online Learning Setup\", loc='center', fontsize=18, fontweight='bold')\n",
        "plt.show()"
      ],
      "metadata": {
        "colab": {
          "base_uri": "https://localhost:8080/",
          "height": 520
        },
        "id": "iJDzBS6JG3P6",
        "outputId": "e5dd5fb6-f47f-411d-8e5c-293a8a071cd5"
      },
      "execution_count": 194,
      "outputs": [
        {
          "output_type": "display_data",
          "data": {
            "text/plain": [
              "<Figure size 936x576 with 1 Axes>"
            ],
            "image/png": "[encoded data removed]"
          },
          "metadata": {
            "needs_background": "light"
          }
        }
      ]
    },
    {
      "cell_type": "markdown",
      "source": [
        "# Q20(a, b, c, d, e, and f)- performance rate of students"
      ],
      "metadata": {
        "id": "AOQfX5zeHBgS"
      }
    },
    {
      "cell_type": "code",
      "source": [
        "#identifying rate values of the perfomance of the students\n",
        "Q20_performance = final_dts\n",
        "\n",
        "Q20a = Q20_performance ['Q20a']\n",
        "Q20a_data = pd.DataFrame(Q20a)\n",
        "Q20a_result = Q20a_data.value_counts(sort=False)\n",
        "print(Q20a_result)\n",
        "\n",
        "Q20b = Q20_performance ['Q20b']\n",
        "Q20b_data = pd.DataFrame(Q20b)\n",
        "Q20b_result = Q20b_data.value_counts(sort=False)\n",
        "print(Q20b_result)\n",
        "\n",
        "Q20c = Q20_performance ['Q20c']\n",
        "Q20c_data = pd.DataFrame(Q20c)\n",
        "Q20c_result = Q20c_data.value_counts(sort=False)\n",
        "print(Q20c_result)\n",
        "\n",
        "Q20d = Q20_performance ['Q20d']\n",
        "Q20d_data = pd.DataFrame(Q20d)\n",
        "Q20d_result = Q20d_data.value_counts(sort=False)\n",
        "print(Q20d_result)\n",
        "\n",
        "Q20e = Q20_performance ['Q20e']\n",
        "Q20e_data = pd.DataFrame(Q20e)\n",
        "Q20e_result = Q20e_data.value_counts(sort=False)\n",
        "print(Q20e_result)\n",
        "\n",
        "Q20f = Q20_performance ['Q20f']\n",
        "Q20f_data = pd.DataFrame(Q20f)\n",
        "Q20f_result = Q20f_data.value_counts(sort=False)\n",
        "print(Q20f_result)"
      ],
      "metadata": {
        "colab": {
          "base_uri": "https://localhost:8080/"
        },
        "id": "VgFV9rhjHEN6",
        "outputId": "a5051637-38c3-49c3-ede6-503931c180ac"
      },
      "execution_count": 195,
      "outputs": [
        {
          "output_type": "stream",
          "name": "stdout",
          "text": [
            "Q20a\n",
            "1.0       55\n",
            "2.0       65\n",
            "3.0      135\n",
            "4.0     1135\n",
            "5.0      210\n",
            "dtype: int64\n",
            "Q20b\n",
            "1.0      111\n",
            "2.0      212\n",
            "3.0     1134\n",
            "4.0      114\n",
            "5.0       29\n",
            "dtype: int64\n",
            "Q20c\n",
            "1.0       46\n",
            "2.0      128\n",
            "3.0     1131\n",
            "4.0      194\n",
            "5.0      101\n",
            "dtype: int64\n",
            "Q20d\n",
            "1.0       59\n",
            "2.0      102\n",
            "3.0     1155\n",
            "4.0      216\n",
            "5.0       68\n",
            "dtype: int64\n",
            "Q20e\n",
            "1.0       57\n",
            "2.0      162\n",
            "3.0     1183\n",
            "4.0      166\n",
            "5.0       32\n",
            "dtype: int64\n",
            "Q20f\n",
            "1.0       54\n",
            "2.0      129\n",
            "3.0     1201\n",
            "4.0      180\n",
            "5.0       36\n",
            "dtype: int64\n"
          ]
        }
      ]
    },
    {
      "cell_type": "code",
      "source": [
        "performance_rate = ['Strongly Disagree', 'Disagree', 'Natural', 'Agree', 'Strongly Agree']\n",
        "perf_statement_results = {\n",
        "    'It is more difficult for me to focus during online teaching in comparison to on-site teaching.': [55,65,135,1135,210],\n",
        "    'My performance as a student has improved since on-site classes were canceled.': [111,212,1134,114,29],\n",
        "    'My performance as a student has worsened since on-site classes were canceled.': [46,128,1131,194,101],\n",
        "    'I have adapted well to the new teaching and learning experience.': [59,102,1155,216,68],\n",
        "    'I can master the skills taught in class this year even if on-site classes were canceled.': [57,162,1183,166,32],\n",
        "    'I can figure out how to do the most difficult classwork since on-site classes were canceled.': [54,129,1201,180,36],\n",
        "}\n",
        "\n",
        "def questionnaire_prs(perf_statement_results, performance_rate):\n",
        "    labels = list(perf_statement_results.keys())\n",
        "    data = np.array(list(perf_statement_results.values()))\n",
        "    data_cum = data.cumsum(axis=1)\n",
        "    middle_index = data.shape[1]//2\n",
        "    offsets = data[:, range(middle_index)].sum(axis=1) + data[:, middle_index]/2\n",
        "\n",
        "    # Color Mapping\n",
        "    category_colors = plt.get_cmap('coolwarm_r')(np.linspace(0.19, 0.9, data.shape[1]))\n",
        "    \n",
        "    fig, ax = plt.subplots(figsize=(11.5,5))\n",
        "    \n",
        "    # Plot Bars\n",
        "    for i, (colname, color) in enumerate(zip(performance_rate, category_colors)):\n",
        "        widths = data[:, i]\n",
        "        starts = data_cum[:, i] - widths - offsets\n",
        "        rects = ax.barh(labels, widths, left=starts, height=0.8,\n",
        "                        label=colname, color=color)\n",
        "    \n",
        "    # Add Zero Reference Line\n",
        "    ax.axvline(0, linestyle='--', color='black', alpha=0.5)\n",
        "    \n",
        "    # X Axis\n",
        "    ax.set_xlim(-1500, 1500)\n",
        "    ax.set_xticks(np.arange(-1500, 1501, 300))\n",
        "    \n",
        "    # Y Axis\n",
        "    ax.invert_yaxis()\n",
        "    \n",
        "    # Remove spines\n",
        "    ax.spines['right'].set_visible(False)\n",
        "    ax.spines['top'].set_visible(False)\n",
        "    ax.spines['left'].set_visible(False)\n",
        "    ax.spines['bottom'].set_visible(True)\n",
        "\n",
        "    ax.yaxis.grid(False)\n",
        "    ax.xaxis.grid(True, which='major', color='grey', linestyle='dotted')\n",
        "    ax.set_axisbelow(True)\n",
        "    \n",
        "    # Legend\n",
        "    ax.legend(ncol=len(performance_rate), bbox_to_anchor=(0.5,-0.28), loc='lower center', fontsize=12)\n",
        "    \n",
        "    #Title and xy-labels\n",
        "    ax.set_title('Performance Rate of Students', loc='center', fontsize=18, fontweight='bold')\n",
        "    ax.set_ylabel('Statements', fontsize=14)\n",
        "    ax.set_xlabel('Responses', fontsize=14)\n",
        "\n",
        "    # Set Background Color\n",
        "    fig.set_facecolor('#FFFFFF')\n",
        "\n",
        "    return fig, ax\n",
        "\n",
        "fig, ax = questionnaire_prs(perf_statement_results, performance_rate)\n",
        "plt.show()"
      ],
      "metadata": {
        "colab": {
          "base_uri": "https://localhost:8080/",
          "height": 393
        },
        "id": "e1onnv7aHJM_",
        "outputId": "acec3b0c-5b6e-40d4-e560-26b76f12a5fd"
      },
      "execution_count": 196,
      "outputs": [
        {
          "output_type": "display_data",
          "data": {
            "text/plain": [
              "<Figure size 828x360 with 1 Axes>"
            ],
            "image/png": "[encoded data removed]"
          },
          "metadata": {}
        }
      ]
    },
    {
      "cell_type": "markdown",
      "source": [
        "# Q21(c and i)- access rate on computer and good internet connection\n"
      ],
      "metadata": {
        "id": "DphqW7AwXXzT"
      }
    },
    {
      "cell_type": "code",
      "source": [
        "Q21c_df = final_dts[\"Q21c\"]\n",
        "df_Q21c = pd.DataFrame(Q21c_df)\n",
        "df_Q21c.info()\n",
        "\n",
        "Q21c_data1 = df_Q21c.loc[lambda df_Q21c: df_Q21c['Q21c'] == 1]\n",
        "Q21c_count1 = Q21c_data1.value_counts()\n",
        "Q21c_never = Q21c_count1.tolist()\n",
        "\n",
        "Q21c_data2 = df_Q21c.loc[lambda df_Q21c: df_Q21c['Q21c'] == 2]\n",
        "Q21c_count2 = Q21c_data2.value_counts()\n",
        "Q21c_rarely = Q21c_count2.tolist()\n",
        "\n",
        "Q21c_data3 = df_Q21c.loc[lambda df_Q21c: df_Q21c['Q21c'] == 3]\n",
        "Q21c_count3 = Q21c_data3.value_counts()\n",
        "Q21c_sometimes = Q21c_count3.tolist()\n",
        "\n",
        "Q21c_data4 = df_Q21c.loc[lambda df_Q21c: df_Q21c['Q21c'] == 4]\n",
        "Q21c_count4 = Q21c_data4.value_counts()\n",
        "Q21c_often = Q21c_count4.tolist()\n",
        "\n",
        "Q21c_data5 = df_Q21c.loc[lambda df_Q21c: df_Q21c['Q21c'] == 5]\n",
        "Q21c_count5 = Q21c_data5.value_counts()\n",
        "Q21c_always = Q21c_count5.tolist()\n",
        "\n",
        "Q21c_final = Q21c_never + Q21c_rarely + Q21c_sometimes + Q21c_often + Q21c_always\n",
        "print(Q21c_final)\n",
        "\n",
        "fig, ax = plt.subplots(figsize=(13,8))\n",
        "plt.ylim(0, 1400)\n",
        "plt.yticks(np.arange(0, 1401, 200))\n",
        "\n",
        "labels = [\"Never\", \"Rarely\", \"Sometimes\", \"Often\", \"Always\"]\n",
        "\n",
        "ax.spines['right'].set_visible(False)\n",
        "ax.spines['top'].set_visible(False)\n",
        "ax.spines['left'].set_visible(False)\n",
        "ax.spines['bottom'].set_visible(True)\n",
        "\n",
        "ax.yaxis.grid(True, which='major', color='grey', linestyle='dotted')\n",
        "ax.xaxis.grid(False)\n",
        "ax.set_axisbelow(True)\n",
        "\n",
        "Q21c = ax.bar(labels, Q21c_final, color = ['#FFB380', '#FFA466', '#FF954D', '#FF8533', '#FF7619'], width=0.9)\n",
        "\n",
        "plt.xlabel(\"Rate\", fontsize=12)\n",
        "plt.ylabel(\"Responses\", fontsize=12)  \n",
        "plt.title(\"Students' Access Rate on Computer\", fontsize=18, fontweight='bold')\n",
        "plt.show()"
      ],
      "metadata": {
        "colab": {
          "base_uri": "https://localhost:8080/",
          "height": 676
        },
        "id": "k9NtSI5lXgrU",
        "outputId": "1f790c0f-4f1e-416b-b14a-283f539732e0"
      },
      "execution_count": 191,
      "outputs": [
        {
          "output_type": "stream",
          "name": "stdout",
          "text": [
            "<class 'pandas.core.frame.DataFrame'>\n",
            "RangeIndex: 1600 entries, 0 to 1599\n",
            "Data columns (total 1 columns):\n",
            " #   Column  Non-Null Count  Dtype  \n",
            "---  ------  --------------  -----  \n",
            " 0   Q21c    1600 non-null   float64\n",
            "dtypes: float64(1)\n",
            "memory usage: 12.6 KB\n",
            "[113, 40, 71, 99, 1277]\n"
          ]
        },
        {
          "output_type": "display_data",
          "data": {
            "text/plain": [
              "<Figure size 936x576 with 1 Axes>"
            ],
            "image/png": "[encoded data removed]"
          },
          "metadata": {
            "needs_background": "light"
          }
        }
      ]
    },
    {
      "cell_type": "code",
      "source": [
        "Q21i_df = final_dts[\"Q21i\"]\n",
        "df_Q21i = pd.DataFrame(Q21i_df)\n",
        "df_Q21i.info()\n",
        "\n",
        "Q21i_data1 = df_Q21i.loc[lambda df_Q21i: df_Q21i['Q21i'] == 1]\n",
        "Q21i_count1 = Q21i_data1.value_counts()\n",
        "Q21i_never = Q21i_count1.tolist()\n",
        "\n",
        "Q21i_data2 = df_Q21i.loc[lambda df_Q21i: df_Q21i['Q21i'] == 2]\n",
        "Q21i_count2 = Q21i_data2.value_counts()\n",
        "Q21i_rarely = Q21i_count2.tolist()\n",
        "\n",
        "Q21i_data3 = df_Q21i.loc[lambda df_Q21i: df_Q21i['Q21i'] == 3]\n",
        "Q21i_count3 = Q21i_data3.value_counts()\n",
        "Q21i_sometimes = Q21i_count3.tolist()\n",
        "\n",
        "Q21i_data4 = df_Q21i.loc[lambda df_Q21i: df_Q21i['Q21i'] == 4]\n",
        "Q21i_count4 = Q21i_data4.value_counts()\n",
        "Q21i_often = Q21i_count4.tolist()\n",
        "\n",
        "Q21i_data5 = df_Q21i.loc[lambda df_Q21i: df_Q21i['Q21i'] == 5]\n",
        "Q21i_count5 = Q21i_data5.value_counts()\n",
        "Q21i_always = Q21i_count5.tolist()\n",
        "\n",
        "Q21i_final = Q21i_never + Q21i_rarely + Q21i_sometimes + Q21i_often + Q21i_always\n",
        "print(Q21i_final)\n",
        "\n",
        "fig, ax = plt.subplots(figsize=(13,8))\n",
        "plt.ylim(0, 1200)\n",
        "plt.yticks(np.arange(0, 1201, 200))\n",
        "\n",
        "labels = [\"Never\", \"Rarely\", \"Sometimes\", \"Often\", \"Always\"]\n",
        "\n",
        "ax.spines['right'].set_visible(False)\n",
        "ax.spines['top'].set_visible(False)\n",
        "ax.spines['left'].set_visible(False)\n",
        "ax.spines['bottom'].set_visible(True)\n",
        "\n",
        "ax.yaxis.grid(True, which='major', color='grey', linestyle='dotted')\n",
        "ax.xaxis.grid(False)\n",
        "ax.set_axisbelow(True)\n",
        "\n",
        "Q21i = ax.bar(labels, Q21i_final, color = ['#FF998B', '#FF7E72', '#E36359', '#C44841', '#A62C2B'], width=0.9)\n",
        "\n",
        "plt.xlabel(\"Rate\", fontsize=12)\n",
        "plt.ylabel(\"Responses\", fontsize=12)  \n",
        "plt.title(\"Students' Access Rate on Good Internet Connection\", fontsize=18, fontweight='bold')\n",
        "plt.show()"
      ],
      "metadata": {
        "colab": {
          "base_uri": "https://localhost:8080/",
          "height": 676
        },
        "id": "loacMw2zhbBM",
        "outputId": "92b866f4-8d01-44fc-d700-bbd6d67fc77c"
      },
      "execution_count": 192,
      "outputs": [
        {
          "output_type": "stream",
          "name": "stdout",
          "text": [
            "<class 'pandas.core.frame.DataFrame'>\n",
            "RangeIndex: 1600 entries, 0 to 1599\n",
            "Data columns (total 1 columns):\n",
            " #   Column  Non-Null Count  Dtype  \n",
            "---  ------  --------------  -----  \n",
            " 0   Q21i    1600 non-null   float64\n",
            "dtypes: float64(1)\n",
            "memory usage: 12.6 KB\n",
            "[68, 113, 1077, 184, 158]\n"
          ]
        },
        {
          "output_type": "display_data",
          "data": {
            "text/plain": [
              "<Figure size 936x576 with 1 Axes>"
            ],
            "image/png": "[encoded data removed]"
          },
          "metadata": {
            "needs_background": "light"
          }
        }
      ]
    },
    {
      "cell_type": "markdown",
      "source": [
        "# Q22(a and b)- rate about browsing online information and sharing digital content"
      ],
      "metadata": {
        "id": "R7U1ErcCHqBB"
      }
    },
    {
      "cell_type": "code",
      "source": [
        "Q22_online_performance = final_dts\n",
        "\n",
        "Q22a = Q22_online_performance ['Q22a']\n",
        "Q22a_data = pd.DataFrame(Q22a)\n",
        "Q22a_result = Q22a_data.value_counts(sort=False)\n",
        "print(Q22a_result)\n",
        "\n",
        "Q22b = Q22_online_performance ['Q22b']\n",
        "Q22b_data = pd.DataFrame(Q22b)\n",
        "Q22b_result = Q22b_data.value_counts(sort=False)\n",
        "print(Q22b_result)"
      ],
      "metadata": {
        "colab": {
          "base_uri": "https://localhost:8080/"
        },
        "id": "Nq8WH3SnHtva",
        "outputId": "de13eac5-1918-4ce6-902d-a153e894838b"
      },
      "execution_count": 197,
      "outputs": [
        {
          "output_type": "stream",
          "name": "stdout",
          "text": [
            "Q22a\n",
            "1.0       31\n",
            "2.0       53\n",
            "3.0      173\n",
            "4.0     1179\n",
            "5.0      164\n",
            "dtype: int64\n",
            "Q22b\n",
            "1.0       27\n",
            "2.0       56\n",
            "3.0      203\n",
            "4.0     1170\n",
            "5.0      144\n",
            "dtype: int64\n"
          ]
        }
      ]
    },
    {
      "cell_type": "code",
      "source": [
        "browse_share_performance_rate = ['Strongly Disagree', 'Disagree', 'Natural', 'Agree', 'Strongly Agree']\n",
        "br_sh_statement_results = {\n",
        "    'Browsing online information.': [31,53,173,1179,164],\n",
        "    'Sharing digital content.': [27,56,203,1170,144],\n",
        "}\n",
        "\n",
        "def questionnaire_br_sh(br_sh_statement_results, browse_share_performance_rate):\n",
        "    labels = list(br_sh_statement_results.keys())\n",
        "    data = np.array(list(br_sh_statement_results.values()))\n",
        "    data_cum = data.cumsum(axis=1)\n",
        "    middle_index = data.shape[1]//2\n",
        "    offsets = data[:, range(middle_index)].sum(axis=1) + data[:, middle_index]/2\n",
        "\n",
        "    # Color Mapping\n",
        "    category_colors = plt.get_cmap('coolwarm_r')(np.linspace(0.19, 0.9, data.shape[1]))\n",
        "    \n",
        "    fig, ax = plt.subplots(figsize=(13,1.5))\n",
        "    \n",
        "    # Plot Bars\n",
        "    for i, (colname, color) in enumerate(zip(browse_share_performance_rate, category_colors)):\n",
        "        widths = data[:, i]\n",
        "        starts = data_cum[:, i] - widths - offsets\n",
        "        rects = ax.barh(labels, widths, left=starts, height=0.7,\n",
        "                        label=colname, color=color)\n",
        "    \n",
        "    # Add Zero Reference Line\n",
        "    ax.axvline(0, linestyle='--', color='black', alpha=0.5)\n",
        "    \n",
        "    # X Axis\n",
        "    ax.set_xlim(-1500, 1500)\n",
        "    ax.set_xticks(np.arange(-1500, 1501, 300))\n",
        "    \n",
        "    # Y Axis\n",
        "    ax.invert_yaxis()\n",
        "    \n",
        "    # Remove spines\n",
        "    ax.spines['right'].set_visible(False)\n",
        "    ax.spines['top'].set_visible(False)\n",
        "    ax.spines['left'].set_visible(False)\n",
        "    ax.spines['bottom'].set_visible(True)\n",
        "\n",
        "    ax.yaxis.grid(False)\n",
        "    ax.xaxis.grid(True, which='major', color='grey', linestyle='dotted')\n",
        "    ax.set_axisbelow(True)\n",
        "    \n",
        "    # Legend\n",
        "    ax.legend(ncol=len(performance_rate), bbox_to_anchor=(0.5,-0.9), loc='lower center', fontsize=11)\n",
        "    \n",
        "    #Title and xy-labels\n",
        "    ax.set_title('Performance Rate of Students', loc='center', fontsize=18, fontweight='bold')\n",
        "    ax.set_ylabel('Statements', fontsize=11)\n",
        "    ax.set_xlabel('Responses', fontsize=11)\n",
        "\n",
        "    # Set Background Color\n",
        "    fig.set_facecolor('#FFFFFF')\n",
        "\n",
        "    return fig, ax\n",
        "\n",
        "fig, ax = questionnaire_br_sh(br_sh_statement_results, browse_share_performance_rate)\n",
        "plt.show()"
      ],
      "metadata": {
        "colab": {
          "base_uri": "https://localhost:8080/",
          "height": 200
        },
        "id": "UZ3ZQhhFHw4L",
        "outputId": "174d7e92-cc96-47ab-f99e-c64101a1b7ea"
      },
      "execution_count": 198,
      "outputs": [
        {
          "output_type": "display_data",
          "data": {
            "text/plain": [
              "<Figure size 936x108 with 1 Axes>"
            ],
            "image/png": "[encoded data removed]"
          },
          "metadata": {}
        }
      ]
    },
    {
      "cell_type": "markdown",
      "source": [
        "**Q23(a, b, c, d, e, f, g, h, i, and j)**"
      ],
      "metadata": {
        "id": "iL4LlJwEHoN8"
      }
    },
    {
      "cell_type": "markdown",
      "source": [
        "# Q24b- the person that will be there for you if you felt down or depressed and wanted to talk about it"
      ],
      "metadata": {
        "id": "YmENWDniH-bh"
      }
    },
    {
      "cell_type": "code",
      "source": [
        "Q24b_persons = final_dts\n",
        "\n",
        "Q24b = Q24b_persons ['Q24b']\n",
        "Q24b_data = pd.DataFrame(Q24b)\n",
        "Q24b_result = Q24b_data.value_counts(sort=True)\n",
        "print(Q24b_result)"
      ],
      "metadata": {
        "colab": {
          "base_uri": "https://localhost:8080/"
        },
        "id": "udVUKCTnJK0-",
        "outputId": "5f5adb01-bb22-4646-9774-c283acba1b2a"
      },
      "execution_count": 199,
      "outputs": [
        {
          "output_type": "stream",
          "name": "stdout",
          "text": [
            "Q24b\n",
            "1.0     1034\n",
            "3.0      388\n",
            "12.0      81\n",
            "4.0       23\n",
            "2.0       21\n",
            "10.0      19\n",
            "6.0       13\n",
            "5.0        8\n",
            "7.0        7\n",
            "8.0        3\n",
            "9.0        3\n",
            "dtype: int64\n"
          ]
        }
      ]
    },
    {
      "cell_type": "code",
      "source": [
        "#responses that have low values (<23) are all grouped to 'Others'. it is consists of voluntary organizations, administrative staff, \n",
        "#lecturer, neighbors, colleague from my course, social networks, and more distant family member.\n",
        "\n",
        "person = ['Others','Someone I live with','No one','Close friend','Close family member']\n",
        "\n",
        "bar_width=0.9\n",
        "# getting values against each value of y\n",
        "result = [74,23,81,388,1034]\n",
        "\n",
        "fig, ax = plt.subplots(figsize=(13,8))\n",
        "plt.barh(person, result, color='#00A88F', height=bar_width)\n",
        "\n",
        "plt.xlim(0, 1100)\n",
        "plt.xticks(np.arange(0, 1101, 100))\n",
        "\n",
        "ax.spines['right'].set_visible(False)\n",
        "ax.spines['top'].set_visible(False)\n",
        "ax.spines['left'].set_visible(True)\n",
        "ax.spines['bottom'].set_visible(False)\n",
        "\n",
        "ax.yaxis.grid(False)\n",
        "ax.xaxis.grid(True, which='major', color='grey', linestyle='dotted')\n",
        "ax.set_axisbelow(True)\n",
        "\n",
        "# setting labels\n",
        "plt.ylabel(\"Persons\", fontsize=12)\n",
        "plt.xlabel(\"Responses\", fontsize=12)\n",
        "plt.title(\"Rate of Person there for you if you felt Down or Depressed\", loc='center', fontsize=18, fontweight='bold')\n",
        "plt.show()"
      ],
      "metadata": {
        "colab": {
          "base_uri": "https://localhost:8080/",
          "height": 520
        },
        "id": "p-O6jlEeJNXC",
        "outputId": "8c3795f4-1563-4222-845d-db1f21526466"
      },
      "execution_count": 200,
      "outputs": [
        {
          "output_type": "display_data",
          "data": {
            "text/plain": [
              "<Figure size 936x576 with 1 Axes>"
            ],
            "image/png": "[encoded data removed]"
          },
          "metadata": {
            "needs_background": "light"
          }
        }
      ]
    },
    {
      "cell_type": "markdown",
      "source": [
        "# Q25(a, b, c, d, e, f, g, h, i, and j)- rate of emotions felt"
      ],
      "metadata": {
        "id": "2lpZtDZtJSri"
      }
    },
    {
      "cell_type": "code",
      "source": [
        "Q25_emotions = final_dts\n",
        "\n",
        "Q25a_joyful = Q25_emotions ['Q25a']\n",
        "Q25a_data = pd.DataFrame(Q25a_joyful)\n",
        "Q25a_result = Q25a_data.value_counts(sort=False)\n",
        "print(Q25a_result)\n",
        "\n",
        "Q25b_hopeful = Q25_emotions ['Q25b']\n",
        "Q25b_data = pd.DataFrame(Q25b_hopeful)\n",
        "Q25b_result = Q25b_data.value_counts(sort=False)\n",
        "print(Q25b_result)\n",
        "\n",
        "Q25c_proud = Q25_emotions ['Q25c']\n",
        "Q25c_data = pd.DataFrame(Q25c_proud)\n",
        "Q25c_result = Q25c_data.value_counts(sort=False)\n",
        "print(Q25c_result)\n",
        "\n",
        "Q25d_frustrated = Q25_emotions ['Q25d']\n",
        "Q25d_data = pd.DataFrame(Q25d_frustrated)\n",
        "Q25d_result = Q25d_data.value_counts(sort=False)\n",
        "print(Q25d_result)\n",
        "\n",
        "Q25e_angry = Q25_emotions ['Q25e']\n",
        "Q25e_data = pd.DataFrame(Q25e_angry)\n",
        "Q25e_result = Q25e_data.value_counts(sort=False)\n",
        "print(Q25e_result)\n",
        "\n",
        "Q25f_anxious = Q25_emotions ['Q25f']\n",
        "Q25f_data = pd.DataFrame(Q25f_anxious)\n",
        "Q25f_result = Q25f_data.value_counts(sort=False)\n",
        "print(Q25f_result)\n",
        "\n",
        "Q25g_ashamed = Q25_emotions ['Q25g']\n",
        "Q25g_data = pd.DataFrame(Q25g_ashamed)\n",
        "Q25g_result = Q25g_data.value_counts(sort=False)\n",
        "print(Q25g_result)\n",
        "\n",
        "Q25h_relieved = Q25_emotions ['Q25h']\n",
        "Q25h_data = pd.DataFrame(Q25h_relieved)\n",
        "Q25h_result = Q25h_data.value_counts(sort=False)\n",
        "print(Q25h_result)\n",
        "\n",
        "Q25i_hopeless = Q25_emotions ['Q25i']\n",
        "Q25i_data = pd.DataFrame(Q25i_hopeless)\n",
        "Q25i_result = Q25i_data.value_counts(sort=False)\n",
        "print(Q25i_result)\n",
        "\n",
        "Q25j_bored = Q25_emotions ['Q25j']\n",
        "Q25j_data = pd.DataFrame(Q25j_bored)\n",
        "Q25j_result = Q25j_data.value_counts(sort=False)\n",
        "print(Q25j_result)"
      ],
      "metadata": {
        "colab": {
          "base_uri": "https://localhost:8080/"
        },
        "id": "22OkI_j2JVdX",
        "outputId": "e000b75c-7065-4108-d372-b3f12809993f"
      },
      "execution_count": 201,
      "outputs": [
        {
          "output_type": "stream",
          "name": "stdout",
          "text": [
            "Q25a\n",
            "1.0     168\n",
            "2.0     193\n",
            "3.0     986\n",
            "4.0     181\n",
            "5.0      72\n",
            "dtype: int64\n",
            "Q25b\n",
            "1.0      79\n",
            "2.0     152\n",
            "3.0     951\n",
            "4.0     222\n",
            "5.0     196\n",
            "dtype: int64\n",
            "Q25c\n",
            "1.0     182\n",
            "2.0     185\n",
            "3.0     937\n",
            "4.0     156\n",
            "5.0     140\n",
            "dtype: int64\n",
            "Q25d\n",
            "1.0     113\n",
            "2.0     187\n",
            "3.0     995\n",
            "4.0     207\n",
            "5.0      98\n",
            "dtype: int64\n",
            "Q25e\n",
            "1.0     130\n",
            "2.0     224\n",
            "3.0     986\n",
            "4.0     184\n",
            "5.0      76\n",
            "dtype: int64\n",
            "Q25f\n",
            "1.0     122\n",
            "2.0     174\n",
            "3.0     972\n",
            "4.0     208\n",
            "5.0     124\n",
            "dtype: int64\n",
            "Q25g\n",
            "1.0     1034\n",
            "2.0      238\n",
            "3.0      225\n",
            "4.0       76\n",
            "5.0       27\n",
            "dtype: int64\n",
            "Q25h\n",
            "1.0      142\n",
            "2.0      211\n",
            "3.0     1052\n",
            "4.0      138\n",
            "5.0       57\n",
            "dtype: int64\n",
            "Q25i\n",
            "1.0     257\n",
            "2.0     210\n",
            "3.0     940\n",
            "4.0     134\n",
            "5.0      59\n",
            "dtype: int64\n",
            "Q25j\n",
            "1.0      81\n",
            "2.0     113\n",
            "3.0     931\n",
            "4.0     250\n",
            "5.0     225\n",
            "dtype: int64\n"
          ]
        }
      ]
    },
    {
      "cell_type": "code",
      "source": [
        "emotion_rate = ['Never', 'Rarely', 'Sometimes', 'Often', 'Always']\n",
        "emotion_results = {\n",
        "    'Joyful': [168,193,986,181,72],\n",
        "    'Hopeful': [79,152,951,222,196],\n",
        "    'Proud': [182,185,937,156,140],\n",
        "    'Frustrated': [113,187,995,207,98],\n",
        "    'Angry': [130,224,986,184,76],\n",
        "    'Anxious': [122,174,972,208,124],\n",
        "    'Ashamed': [1034,238,225,76,27],\n",
        "    'Relieved': [142,211,1052,138,57],\n",
        "    'Hopeless': [257,210,940,134,59],\n",
        "    'Bored': [81,113,931,250,225],\n",
        "}\n",
        "\n",
        "def questionnaire_emotion(emotion_results, emotion_rate):\n",
        "    labels = list(emotion_results.keys())\n",
        "    data = np.array(list(emotion_results.values()))\n",
        "    data_cum = data.cumsum(axis=1)\n",
        "    middle_index = data.shape[1]//2\n",
        "    offsets = data[:, range(middle_index)].sum(axis=1) + data[:, middle_index]/2\n",
        "\n",
        "    # Color Mapping\n",
        "    category_colors = plt.get_cmap('coolwarm_r')(np.linspace(0.19, 0.9, data.shape[1]))\n",
        "    \n",
        "    fig, ax = plt.subplots(figsize=(18,5))\n",
        "    \n",
        "    # Plot Bars\n",
        "    for i, (colname, color) in enumerate(zip(emotion_rate, category_colors)):\n",
        "        widths = data[:, i]\n",
        "        starts = data_cum[:, i] - widths - offsets\n",
        "        rects = ax.barh(labels, widths, left=starts, height=0.8,\n",
        "                        label=colname, color=color)\n",
        "    \n",
        "    # Add Zero Reference Line\n",
        "    ax.axvline(0, linestyle='--', color='black', alpha=0.5)\n",
        "    \n",
        "    # X Axis\n",
        "    ax.set_xlim(-1500, 1500)\n",
        "    ax.set_xticks(np.arange(-1500, 1501, 300))\n",
        "    \n",
        "    # Y Axis\n",
        "    ax.invert_yaxis()\n",
        "    \n",
        "    # Remove spines\n",
        "    ax.spines['right'].set_visible(False)\n",
        "    ax.spines['top'].set_visible(False)\n",
        "    ax.spines['left'].set_visible(False)\n",
        "    ax.spines['bottom'].set_visible(True)\n",
        "\n",
        "    ax.yaxis.grid(False)\n",
        "    ax.xaxis.grid(True, which='major', color='grey', linestyle='dotted')\n",
        "    ax.set_axisbelow(True)\n",
        "\n",
        "    # Legend\n",
        "    ax.legend(ncol=len(emotion_rate), bbox_to_anchor=(0.5,-0.29), loc='lower center', fontsize=12)\n",
        "    \n",
        "    #Title and xy-labels\n",
        "    ax.set_title('Emotion Rate Felt by Students', loc='center', fontsize=18, fontweight='bold')\n",
        "    ax.set_ylabel('Emotions', fontsize=13)\n",
        "    ax.set_xlabel('Responses', fontsize=13)\n",
        "\n",
        "    # Set Background Color\n",
        "    fig.set_facecolor('#FFFFFF')\n",
        "\n",
        "    return fig, ax\n",
        "\n",
        "fig, ax = questionnaire_emotion(emotion_results, emotion_rate)\n",
        "plt.show()"
      ],
      "metadata": {
        "colab": {
          "base_uri": "https://localhost:8080/",
          "height": 396
        },
        "id": "-OyKiCnYJZDX",
        "outputId": "03bdad32-aa21-4b1c-8717-75567858a122"
      },
      "execution_count": 202,
      "outputs": [
        {
          "output_type": "display_data",
          "data": {
            "text/plain": [
              "<Figure size 1296x360 with 1 Axes>"
            ],
            "image/png": "[encoded data removed]"
          },
          "metadata": {}
        }
      ]
    },
    {
      "cell_type": "markdown",
      "source": [
        "# Q26b- personal mental health rate"
      ],
      "metadata": {
        "id": "OoLE8Q9AJqzC"
      }
    },
    {
      "cell_type": "code",
      "source": [
        "Q26_personal_mental_health = final_dts\n",
        "\n",
        "Q26b_mental_health_rate = Q26_personal_mental_health ['Q26b']\n",
        "Q26b_data = pd.DataFrame(Q26b_mental_health_rate)\n",
        "Q26b_result = Q26b_data.value_counts(sort=False)\n",
        "print(Q26b_result)"
      ],
      "metadata": {
        "colab": {
          "base_uri": "https://localhost:8080/"
        },
        "id": "1DDakBLNJri_",
        "outputId": "168c701a-0d2b-4463-a2dd-4a9f77496161"
      },
      "execution_count": 203,
      "outputs": [
        {
          "output_type": "stream",
          "name": "stdout",
          "text": [
            "Q26b\n",
            "1.0     201\n",
            "2.0     914\n",
            "3.0     198\n",
            "4.0     176\n",
            "5.0     111\n",
            "dtype: int64\n"
          ]
        }
      ]
    },
    {
      "cell_type": "code",
      "source": [
        "# setting concern rate values at x axis\n",
        "mental_health_rate=['A little of the time', 'Some of the time', 'A good part of the time', 'Most of the time', 'All of the time']\n",
        "\n",
        "# giving the values against each value at y axis\n",
        "mental_health_result=[201,914,198,176,111]\n",
        "\n",
        "fig, ax = plt.subplots(figsize=(13,8))\n",
        "plt.bar(mental_health_rate, mental_health_result, color=['#62BEB6', '#0B9A8D', '#077368', '#034D44', '#002B24'], width=0.9)\n",
        "\n",
        "plt.ylim(0, 1000)\n",
        "plt.yticks(np.arange(0, 1001, 200))\n",
        "\n",
        "ax.spines['right'].set_visible(False)\n",
        "ax.spines['top'].set_visible(False)\n",
        "ax.spines['left'].set_visible(False)\n",
        "ax.spines['bottom'].set_visible(True)\n",
        "\n",
        "ax.yaxis.grid(True, which='major', color='grey', linestyle='dotted')\n",
        "ax.xaxis.grid(False)\n",
        "ax.set_axisbelow(True)\n",
        " \n",
        "# setting labels\n",
        "plt.xlabel(\"Rate\", fontsize=12)\n",
        "plt.ylabel(\"Responses\", fontsize=12)  \n",
        "plt.title(\"Personal Mental Health Concern Rate\", loc='center', fontsize=18, fontweight='bold')\n",
        "plt.show()"
      ],
      "metadata": {
        "colab": {
          "base_uri": "https://localhost:8080/",
          "height": 520
        },
        "id": "zOqbgh-JJuDP",
        "outputId": "6ba22f5e-bce4-4980-e369-eb2d21d45805"
      },
      "execution_count": 204,
      "outputs": [
        {
          "output_type": "display_data",
          "data": {
            "text/plain": [
              "<Figure size 936x576 with 1 Axes>"
            ],
            "image/png": "[encoded data removed]"
          },
          "metadata": {
            "needs_background": "light"
          }
        }
      ]
    },
    {
      "cell_type": "markdown",
      "source": [
        "# Q26(a, c, d, e, f, g, h, and i)- rate of other contributors to mental health namely physical health, studying issues, future education, personal finances, family relationship, professional career in future, pandemic crisis in future, and leisure activities"
      ],
      "metadata": {
        "id": "NhRK-8jsJ0xu"
      }
    },
    {
      "cell_type": "code",
      "source": [
        "Q26_contributors = final_dts\n",
        "\n",
        "Q26a_physical_health = Q26_contributors ['Q26a']\n",
        "Q26a_data = pd.DataFrame(Q26a_physical_health)\n",
        "Q26a_result = Q26a_data.value_counts(sort=False)\n",
        "print(Q26a_result)\n",
        "\n",
        "Q26c_studying_issues = Q26_contributors ['Q26c']\n",
        "Q26c_data = pd.DataFrame(Q26c_studying_issues)\n",
        "Q26c_result = Q26c_data.value_counts(sort=False)\n",
        "print(Q26c_result)\n",
        "\n",
        "Q26d_future_education = Q26_contributors ['Q26d']\n",
        "Q26d_data = pd.DataFrame(Q26d_future_education)\n",
        "Q26d_result = Q26d_data.value_counts(sort=False)\n",
        "print(Q26d_result)\n",
        "\n",
        "Q26e_personal_finances = Q26_contributors ['Q26e']\n",
        "Q26e_data = pd.DataFrame(Q26e_personal_finances)\n",
        "Q26e_result = Q26e_data.value_counts(sort=False)\n",
        "print(Q26e_result)\n",
        "\n",
        "Q26f_family_relationship = Q26_contributors ['Q26f']\n",
        "Q26f_data = pd.DataFrame(Q26f_family_relationship)\n",
        "Q26f_result = Q26f_data.value_counts(sort=False)\n",
        "print(Q26f_result)\n",
        "\n",
        "Q26g_future_professional_career = Q26_contributors ['Q26g']\n",
        "Q26g_data = pd.DataFrame(Q26g_future_professional_career)\n",
        "Q26g_result = Q26g_data.value_counts(sort=False)\n",
        "print(Q26g_result)\n",
        "\n",
        "Q26h_future_pandemic_crisis = Q26_contributors ['Q26h']\n",
        "Q26h_data = pd.DataFrame(Q26h_future_pandemic_crisis)\n",
        "Q26h_result = Q26h_data.value_counts(sort=False)\n",
        "print(Q26h_result)\n",
        "\n",
        "Q26i_leisure_activities = Q26_contributors ['Q26i']\n",
        "Q26i_data = pd.DataFrame(Q26i_leisure_activities)\n",
        "Q26i_result = Q26i_data.value_counts(sort=False)\n",
        "print(Q26i_result)"
      ],
      "metadata": {
        "colab": {
          "base_uri": "https://localhost:8080/"
        },
        "id": "AjMTQvNUJ3jf",
        "outputId": "3273089c-e8e9-4a0e-a8f1-7b327170e779"
      },
      "execution_count": 205,
      "outputs": [
        {
          "output_type": "stream",
          "name": "stdout",
          "text": [
            "Q26a\n",
            "1.0     204\n",
            "2.0     947\n",
            "3.0     212\n",
            "4.0     158\n",
            "5.0      79\n",
            "dtype: int64\n",
            "Q26c\n",
            "1.0      93\n",
            "2.0     218\n",
            "3.0     209\n",
            "4.0     934\n",
            "5.0     146\n",
            "dtype: int64\n",
            "Q26d\n",
            "1.0      92\n",
            "2.0     182\n",
            "3.0     219\n",
            "4.0     928\n",
            "5.0     179\n",
            "dtype: int64\n",
            "Q26e\n",
            "1.0     195\n",
            "2.0     891\n",
            "3.0     182\n",
            "4.0     185\n",
            "5.0     147\n",
            "dtype: int64\n",
            "Q26f\n",
            "1.0     180\n",
            "2.0     867\n",
            "3.0     199\n",
            "4.0     183\n",
            "5.0     171\n",
            "dtype: int64\n",
            "Q26g\n",
            "1.0     100\n",
            "2.0     180\n",
            "3.0     217\n",
            "4.0     915\n",
            "5.0     188\n",
            "dtype: int64\n",
            "Q26h\n",
            "1.0     183\n",
            "2.0     930\n",
            "3.0     179\n",
            "4.0     195\n",
            "5.0     113\n",
            "dtype: int64\n",
            "Q26i\n",
            "1.0     171\n",
            "2.0     237\n",
            "3.0     908\n",
            "4.0     186\n",
            "5.0      98\n",
            "dtype: int64\n"
          ]
        }
      ]
    },
    {
      "cell_type": "code",
      "source": [
        "contributors_rate = ['A little of the time', 'Some of the time', 'A good part of the time', 'Most of the time', 'All of the time']\n",
        "contrib_statement_results = {\n",
        "    'Personal physical health': [204,947,212,158,79],\n",
        "    'Studying issues': [93,218,209,934,146],\n",
        "    'Future education': [92,182,219,928,179],\n",
        "    'Personal finances': [195,867,182,185,147],\n",
        "    'Family relationships': [180,867,199,183,171],\n",
        "    'Professional career in the future': [100,180,217,915,188],\n",
        "    'COVID-19 or similar pandemic crisis in the future': [183,930,179,195,113],\n",
        "    'Leisure activities': [171,237,908,186,98],\n",
        "}\n",
        "\n",
        "def contributors_mh(contrib_statement_results, contributors_rate):\n",
        "    labels = list(contrib_statement_results.keys())\n",
        "    data = np.array(list(contrib_statement_results.values()))\n",
        "    data_cum = data.cumsum(axis=1)\n",
        "    middle_index = data.shape[1]//2\n",
        "    offsets = data[:, range(middle_index)].sum(axis=1) + data[:, middle_index]/2\n",
        "\n",
        "    # Color Mapping\n",
        "    category_colors = plt.get_cmap('coolwarm_r')(np.linspace(0.19, 0.9, data.shape[1]))\n",
        "    \n",
        "    fig, ax = plt.subplots(figsize=(15,5.5))\n",
        "    \n",
        "    # Plot Bars\n",
        "    for i, (colname, color) in enumerate(zip(contributors_rate, category_colors)):\n",
        "        widths = data[:, i]\n",
        "        starts = data_cum[:, i] - widths - offsets\n",
        "        rects = ax.barh(labels, widths, left=starts, height=0.8,\n",
        "                        label=colname, color=color)\n",
        "    \n",
        "    # Add Zero Reference Line\n",
        "    ax.axvline(0, linestyle='--', color='black', alpha=0.5)\n",
        "    \n",
        "    # X Axis\n",
        "    ax.set_xlim(-1500, 1500)\n",
        "    ax.set_xticks(np.arange(-1500, 1501, 300))\n",
        "    \n",
        "    # Y Axis\n",
        "    ax.invert_yaxis()\n",
        "    \n",
        "    # Remove spines\n",
        "    ax.spines['right'].set_visible(False)\n",
        "    ax.spines['top'].set_visible(False)\n",
        "    ax.spines['left'].set_visible(False)\n",
        "    ax.spines['bottom'].set_visible(True)\n",
        "\n",
        "    ax.yaxis.grid(False)\n",
        "    ax.xaxis.grid(True, which='major', color='grey', linestyle='dotted')\n",
        "    ax.set_axisbelow(True)\n",
        "    \n",
        "    # Legend\n",
        "    ax.legend(ncol=len(contributors_rate), bbox_to_anchor=(0.5,-0.28), loc='lower center', fontsize=12)\n",
        "    \n",
        "    #Title and xy-labels\n",
        "    ax.set_title('Rate of Concern on the Various Contributors to Mental Health', loc='center', fontsize=18, fontweight='bold')\n",
        "    ax.set_ylabel('Statements', fontsize=13)\n",
        "    ax.set_xlabel('Responses', fontsize=13)\n",
        "\n",
        "    # Set Background Color\n",
        "    fig.set_facecolor('#FFFFFF')\n",
        "\n",
        "    return fig, ax\n",
        "\n",
        "fig, ax = contributors_mh(contrib_statement_results, contributors_rate)\n",
        "plt.show()"
      ],
      "metadata": {
        "colab": {
          "base_uri": "https://localhost:8080/",
          "height": 428
        },
        "id": "pcVHfXPLJ62G",
        "outputId": "ca0056d8-e088-4b7f-f6ee-9863a6b0d894"
      },
      "execution_count": 206,
      "outputs": [
        {
          "output_type": "display_data",
          "data": {
            "text/plain": [
              "<Figure size 1080x396 with 1 Axes>"
            ],
            "image/png": "[encoded data removed]"
          },
          "metadata": {}
        }
      ]
    }
  ]
}