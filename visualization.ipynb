{
  "nbformat": 4,
  "nbformat_minor": 0,
  "metadata": {
    "colab": {
      "name": "visualization.ipynb",
      "provenance": [],
      "collapsed_sections": [],
      "include_colab_link": true
    },
    "kernelspec": {
      "name": "python3",
      "display_name": "Python 3"
    },
    "language_info": {
      "name": "python"
    }
  },
  "cells": [
    {
      "cell_type": "markdown",
      "metadata": {
        "id": "view-in-github",
        "colab_type": "text"
      },
      "source": [
        "<a href=\"https://colab.research.google.com/github/allymaranan/BAT404-Project/blob/main/visualization.ipynb\" target=\"_parent\"><img src=\"https://colab.research.google.com/assets/colab-badge.svg\" alt=\"Open In Colab\"/></a>"
      ]
    },
    {
      "cell_type": "markdown",
      "source": [
        "# Import numpy, pandas, and matplotlib.pyplot"
      ],
      "metadata": {
        "id": "YWdvR3pOGdJ2"
      }
    },
    {
      "cell_type": "code",
      "execution_count": null,
      "metadata": {
        "id": "t9et0O6tFT78"
      },
      "outputs": [],
      "source": [
        "import numpy as np"
      ]
    },
    {
      "cell_type": "code",
      "source": [
        "import pandas as pd"
      ],
      "metadata": {
        "id": "OJi25GJ0GQnW"
      },
      "execution_count": null,
      "outputs": []
    },
    {
      "cell_type": "code",
      "source": [
        "import matplotlib.pyplot as plt"
      ],
      "metadata": {
        "id": "BNOPDW6fGTWN"
      },
      "execution_count": null,
      "outputs": []
    },
    {
      "cell_type": "markdown",
      "source": [
        "# Read the final_dataset csv file"
      ],
      "metadata": {
        "id": "gOuPvhBaHuG6"
      }
    },
    {
      "cell_type": "code",
      "source": [
        "from google.colab import drive\n",
        "drive.mount('/content/drive')"
      ],
      "metadata": {
        "id": "ytTSn-Z7xLzk",
        "colab": {
          "base_uri": "https://localhost:8080/"
        },
        "outputId": "239485b5-d9a1-4714-980a-dcdd38809f61"
      },
      "execution_count": null,
      "outputs": [
        {
          "output_type": "stream",
          "name": "stdout",
          "text": [
            "Mounted at /content/drive\n"
          ]
        }
      ]
    },
    {
      "cell_type": "code",
      "source": [
        "final_dts = pd.read_csv ('/content/drive/MyDrive/Colab Notebooks/final-project-dataset/final_dataset.csv')\n",
        "final_dts"
      ],
      "metadata": {
        "id": "yGetTEyDGlVs"
      },
      "execution_count": null,
      "outputs": []
    },
    {
      "cell_type": "code",
      "source": [
        "final_dts.info()"
      ],
      "metadata": {
        "id": "_VZmhjTDIyV6",
        "colab": {
          "base_uri": "https://localhost:8080/"
        },
        "outputId": "14ba5825-5c85-4764-f545-0ac3821f30a8"
      },
      "execution_count": null,
      "outputs": [
        {
          "output_type": "stream",
          "name": "stdout",
          "text": [
            "<class 'pandas.core.frame.DataFrame'>\n",
            "RangeIndex: 1600 entries, 0 to 1599\n",
            "Data columns (total 46 columns):\n",
            " #   Column  Non-Null Count  Dtype  \n",
            "---  ------  --------------  -----  \n",
            " 0   Q1      1600 non-null   object \n",
            " 1   Q5      1600 non-null   float64\n",
            " 2   Q6      1600 non-null   float64\n",
            " 3   Q7      1600 non-null   float64\n",
            " 4   Q8      1600 non-null   float64\n",
            " 5   Q17     1600 non-null   float64\n",
            " 6   Q20a    1600 non-null   float64\n",
            " 7   Q20b    1600 non-null   float64\n",
            " 8   Q20c    1600 non-null   float64\n",
            " 9   Q20d    1600 non-null   float64\n",
            " 10  Q20e    1600 non-null   float64\n",
            " 11  Q20f    1600 non-null   float64\n",
            " 12  Q21c    1600 non-null   float64\n",
            " 13  Q21i    1600 non-null   float64\n",
            " 14  Q22a    1600 non-null   float64\n",
            " 15  Q22b    1600 non-null   float64\n",
            " 16  Q23a    1600 non-null   float64\n",
            " 17  Q23b    1600 non-null   float64\n",
            " 18  Q23c    1600 non-null   float64\n",
            " 19  Q23d    1600 non-null   float64\n",
            " 20  Q23e    1600 non-null   float64\n",
            " 21  Q23f    1600 non-null   float64\n",
            " 22  Q23g    1600 non-null   float64\n",
            " 23  Q23h    1600 non-null   float64\n",
            " 24  Q23i    1600 non-null   float64\n",
            " 25  Q23j    1600 non-null   float64\n",
            " 26  Q24b    1600 non-null   float64\n",
            " 27  Q25a    1600 non-null   float64\n",
            " 28  Q25b    1600 non-null   float64\n",
            " 29  Q25c    1600 non-null   float64\n",
            " 30  Q25d    1600 non-null   float64\n",
            " 31  Q25e    1600 non-null   float64\n",
            " 32  Q25f    1600 non-null   float64\n",
            " 33  Q25g    1600 non-null   float64\n",
            " 34  Q25h    1600 non-null   float64\n",
            " 35  Q25i    1600 non-null   float64\n",
            " 36  Q25j    1600 non-null   float64\n",
            " 37  Q26a    1600 non-null   float64\n",
            " 38  Q26b    1600 non-null   float64\n",
            " 39  Q26c    1600 non-null   float64\n",
            " 40  Q26d    1600 non-null   float64\n",
            " 41  Q26e    1600 non-null   float64\n",
            " 42  Q26f    1600 non-null   float64\n",
            " 43  Q26g    1600 non-null   float64\n",
            " 44  Q26h    1600 non-null   float64\n",
            " 45  Q26i    1600 non-null   float64\n",
            "dtypes: float64(45), object(1)\n",
            "memory usage: 575.1+ KB\n"
          ]
        }
      ]
    },
    {
      "cell_type": "markdown",
      "source": [
        "# Visualization"
      ],
      "metadata": {
        "id": "2BcRa4M8H-KL"
      }
    },
    {
      "cell_type": "markdown",
      "source": [
        "# Lansang, Joseph Daniel G."
      ],
      "metadata": {
        "id": "xHRz_tPC1KAO"
      }
    },
    {
      "cell_type": "markdown",
      "source": [
        "# Field Study: Arts"
      ],
      "metadata": {
        "id": "Keo4b0AKrJNl"
      }
    },
    {
      "cell_type": "code",
      "source": [
        "#Emotion: Joyful\n",
        "\n",
        "first = final_dts[[\"Q6\", \"Q25a\"]]\n",
        "dfa_art = pd.DataFrame(first)\n",
        "dfa_art.info()\n",
        "\n",
        "art_joyful = dfa_art.loc[(dfa_art['Q6'] == 1) & (dfa_art['Q25a'] == 1)]\n",
        "data_joyful_art = art_joyful.drop('Q6', axis = 1)\n",
        "Data_joyful = data_joyful_art.value_counts()\n",
        "art_data_joyful = Data_joyful.tolist()\n",
        "\n",
        "art1_joyful = dfa_art.loc[(dfa_art['Q6'] == 1) & (dfa_art['Q25a'] == 2)]\n",
        "data1_joyful_art = art1_joyful.drop('Q6', axis = 1)\n",
        "Data1_joyful = data1_joyful_art.value_counts()\n",
        "art_data1_joyful = Data1_joyful.tolist()\n",
        "\n",
        "art2_joyful = dfa_art.loc[(dfa_art['Q6'] == 1) & (dfa_art['Q25a'] == 3)]\n",
        "data2_joyful_art = art2_joyful.drop('Q6', axis = 1)\n",
        "Data2_joyful = data2_joyful_art.value_counts()\n",
        "art_data2_joyful = Data2_joyful.tolist()\n",
        "\n",
        "art3_joyful = dfa_art.loc[(dfa_art['Q6'] == 1) & (dfa_art['Q25a'] == 4)]\n",
        "data3_joyful_art = art3_joyful.drop('Q6', axis = 1)\n",
        "Data3_joyful = data3_joyful_art.value_counts()\n",
        "art_data3_joyful = Data3_joyful.tolist()\n",
        "\n",
        "art4_joyful = dfa_art.loc[(dfa_art['Q6'] == 1) & (dfa_art['Q25a'] == 5)]\n",
        "data4_joyful_art = art4_joyful.drop('Q6', axis = 1)\n",
        "Data4_joyful = data4_joyful_art.value_counts()\n",
        "art_data4_joyful = Data4_joyful.tolist()\n",
        "\n",
        "art_field_joyful = art_data_joyful + art_data1_joyful + art_data2_joyful + art_data3_joyful + art_data4_joyful"
      ],
      "metadata": {
        "id": "JsexS73wfaZg",
        "colab": {
          "base_uri": "https://localhost:8080/"
        },
        "outputId": "744f12e8-c795-4749-e857-6ff859469ba1"
      },
      "execution_count": 10,
      "outputs": [
        {
          "output_type": "stream",
          "name": "stdout",
          "text": [
            "<class 'pandas.core.frame.DataFrame'>\n",
            "RangeIndex: 1600 entries, 0 to 1599\n",
            "Data columns (total 2 columns):\n",
            " #   Column  Non-Null Count  Dtype  \n",
            "---  ------  --------------  -----  \n",
            " 0   Q6      1600 non-null   float64\n",
            " 1   Q25a    1600 non-null   float64\n",
            "dtypes: float64(2)\n",
            "memory usage: 25.1 KB\n"
          ]
        }
      ]
    },
    {
      "cell_type": "code",
      "source": [
        "#Emotion: Hopeful\n",
        "\n",
        "second = final_dts[[\"Q6\", \"Q25b\"]]\n",
        "dfb_art = pd.DataFrame(second)\n",
        "dfb_art.info()\n",
        "\n",
        "art_hopeful = dfb_art.loc[(dfb_art['Q6'] == 1) & (dfb_art['Q25b'] == 1)]\n",
        "data_hopeful = art_hopeful.drop('Q6', axis = 1)\n",
        "Data_hopeful = data_hopeful.value_counts()\n",
        "art_data_hopeful = Data_hopeful.tolist()\n",
        "\n",
        "art1_hopeful = dfb_art.loc[(dfb_art['Q6'] == 1) & (dfb_art['Q25b'] == 2)]\n",
        "data1_hopeful = art1_hopeful.drop('Q6', axis = 1)\n",
        "Data1_hopeful = data1_hopeful.value_counts()\n",
        "art_data1_hopeful = Data1_hopeful.tolist()\n",
        "\n",
        "art2_hopeful = dfb_art.loc[(dfb_art['Q6'] == 1) & (dfb_art['Q25b'] == 3)]\n",
        "data2_hopeful = art2_hopeful.drop('Q6', axis = 1)\n",
        "Data2_hopeful = data2_hopeful.value_counts()\n",
        "art_data2_hopeful = Data2_hopeful.tolist()\n",
        "\n",
        "art3_hopeful = dfb_art.loc[(dfb_art['Q6'] == 1) & (dfb_art['Q25b'] == 4)]\n",
        "data3_hopeful = art3_hopeful.drop('Q6', axis = 1)\n",
        "Data3_hopeful = data3_hopeful.value_counts()\n",
        "art_data3_hopeful = Data3_hopeful.tolist()\n",
        "\n",
        "art4_hopeful = dfb_art.loc[(dfb_art['Q6'] == 1) & (dfb_art['Q25b'] == 5)]\n",
        "data4_hopeful = art4_hopeful.drop('Q6', axis = 1)\n",
        "Data4_hopeful = data4_hopeful.value_counts()\n",
        "art_data4_hopeful = Data4_hopeful.tolist()\n",
        "\n",
        "art_field_hopeful = art_data_hopeful + art_data1_hopeful + art_data2_hopeful + art_data3_hopeful + art_data4_hopeful"
      ],
      "metadata": {
        "colab": {
          "base_uri": "https://localhost:8080/"
        },
        "id": "EVNlGYsagmpk",
        "outputId": "b49cdfb8-5b02-42c7-ab99-32e58e0c97c9"
      },
      "execution_count": 23,
      "outputs": [
        {
          "output_type": "stream",
          "name": "stdout",
          "text": [
            "<class 'pandas.core.frame.DataFrame'>\n",
            "RangeIndex: 1600 entries, 0 to 1599\n",
            "Data columns (total 2 columns):\n",
            " #   Column  Non-Null Count  Dtype  \n",
            "---  ------  --------------  -----  \n",
            " 0   Q6      1600 non-null   float64\n",
            " 1   Q25b    1600 non-null   float64\n",
            "dtypes: float64(2)\n",
            "memory usage: 25.1 KB\n"
          ]
        }
      ]
    },
    {
      "cell_type": "code",
      "source": [
        "#Emotion: Proud\n",
        "\n",
        "third = final_dts[[\"Q6\", \"Q25c\"]]\n",
        "dfc_art = pd.DataFrame(third)\n",
        "dfc_art.info()\n",
        "\n",
        "art_proud = dfc_art.loc[(dfc_art['Q6'] == 1) & (dfc_art['Q25c'] == 1)]\n",
        "data_proud = art_proud.drop('Q6', axis = 1)\n",
        "Data_proud = data_proud.value_counts()\n",
        "art_data_proud = Data_proud.tolist()\n",
        "\n",
        "art1_proud = dfc_art.loc[(dfc_art['Q6'] == 1) & (dfc_art['Q25c'] == 2)]\n",
        "data1_proud = art1_proud.drop('Q6', axis = 1)\n",
        "Data1_proud = data1_proud.value_counts()\n",
        "art_data1_proud = Data1_proud.tolist()\n",
        "\n",
        "art2_proud = dfc_art.loc[(dfc_art['Q6'] == 1) & (dfc_art['Q25c'] == 3)]\n",
        "data2_proud = art2_proud.drop('Q6', axis = 1)\n",
        "Data2_proud = data2_proud.value_counts()\n",
        "art_data2_proud = Data2_proud.tolist()\n",
        "\n",
        "art3_proud = dfc_art.loc[(dfc_art['Q6'] == 1) & (dfc_art['Q25c'] == 4)]\n",
        "data3_proud = art3_proud.drop('Q6', axis = 1)\n",
        "Data3_proud = data3_proud.value_counts()\n",
        "art_data3_proud = Data3_proud.tolist()\n",
        "\n",
        "art4_proud = dfc_art.loc[(dfc_art['Q6'] == 1) & (dfc_art['Q25c'] == 5)]\n",
        "data4_proud = art4_proud.drop('Q6', axis = 1)\n",
        "Data4_proud = data4_proud.value_counts()\n",
        "art_data4_proud = Data4_proud.tolist()\n",
        "\n",
        "art_field_proud = art_data_proud + art_data1_proud + art_data2_proud + art_data3_proud + art_data4_proud"
      ],
      "metadata": {
        "colab": {
          "base_uri": "https://localhost:8080/"
        },
        "id": "L2JdF9qYOoIj",
        "outputId": "9d9e2261-3ffb-4764-c0d2-ab912c343ffa"
      },
      "execution_count": 24,
      "outputs": [
        {
          "output_type": "stream",
          "name": "stdout",
          "text": [
            "<class 'pandas.core.frame.DataFrame'>\n",
            "RangeIndex: 1600 entries, 0 to 1599\n",
            "Data columns (total 2 columns):\n",
            " #   Column  Non-Null Count  Dtype  \n",
            "---  ------  --------------  -----  \n",
            " 0   Q6      1600 non-null   float64\n",
            " 1   Q25c    1600 non-null   float64\n",
            "dtypes: float64(2)\n",
            "memory usage: 25.1 KB\n"
          ]
        }
      ]
    },
    {
      "cell_type": "code",
      "source": [
        "#Emotion: Frustrated\n",
        "\n",
        "fourth = final_dts[[\"Q6\", \"Q25d\"]]\n",
        "dfd_art = pd.DataFrame(fourth)\n",
        "dfd_art.info()\n",
        "\n",
        "art_frustrated = dfd_art.loc[(dfd_art['Q6'] == 1) & (dfd_art['Q25d'] == 1)]\n",
        "data_frustrated = art_frustrated.drop('Q6', axis = 1)\n",
        "Data_frustrated = data_frustrated.value_counts()\n",
        "art_data_frustrated = Data_frustrated.tolist()\n",
        "\n",
        "art1_frustrated = dfd_art.loc[(dfd_art['Q6'] == 1) & (dfd_art['Q25d'] == 2)]\n",
        "data1_frustrated = art1_frustrated.drop('Q6', axis = 1)\n",
        "Data1_frustrated = data1_frustrated.value_counts()\n",
        "art_data1_frustrated = Data1_frustrated.tolist()\n",
        "\n",
        "art2_frustrated = dfd_art.loc[(dfd_art['Q6'] == 1) & (dfd_art['Q25d'] == 3)]\n",
        "data2_frustrated = art2_frustrated.drop('Q6', axis = 1)\n",
        "Data2_frustrated = data2_frustrated.value_counts()\n",
        "art_data2_frustrated = Data2_frustrated.tolist()\n",
        "\n",
        "art3_frustrated = dfd_art.loc[(dfd_art['Q6'] == 1) & (dfd_art['Q25d'] == 4)]\n",
        "data3_frustrated = art3_frustrated.drop('Q6', axis = 1)\n",
        "Data3_frustrated = data3_frustrated.value_counts()\n",
        "art_data3_frustrated = Data3_frustrated.tolist()\n",
        "\n",
        "art4_frustrated = dfd_art.loc[(dfd_art['Q6'] == 1) & (dfd_art['Q25d'] == 5)]\n",
        "data4_frustrated = art4_frustrated.drop('Q6', axis = 1)\n",
        "Data4_frustrated = data4_frustrated.value_counts()\n",
        "art_data4_frustrated = Data4_frustrated.tolist()\n",
        "\n",
        "art_field_frustrated = art_data_frustrated + art_data1_frustrated + art_data2_frustrated + art_data3_frustrated + art_data4_frustrated"
      ],
      "metadata": {
        "colab": {
          "base_uri": "https://localhost:8080/"
        },
        "id": "TOlLhg9CP9Qq",
        "outputId": "46769a39-5f00-4131-8b0a-4bff23a26871"
      },
      "execution_count": 25,
      "outputs": [
        {
          "output_type": "stream",
          "name": "stdout",
          "text": [
            "<class 'pandas.core.frame.DataFrame'>\n",
            "RangeIndex: 1600 entries, 0 to 1599\n",
            "Data columns (total 2 columns):\n",
            " #   Column  Non-Null Count  Dtype  \n",
            "---  ------  --------------  -----  \n",
            " 0   Q6      1600 non-null   float64\n",
            " 1   Q25d    1600 non-null   float64\n",
            "dtypes: float64(2)\n",
            "memory usage: 25.1 KB\n"
          ]
        }
      ]
    },
    {
      "cell_type": "code",
      "source": [
        "#Emotion: Angry\n",
        "\n",
        "fifth = final_dts[[\"Q6\", \"Q25e\"]]\n",
        "dfe_art = pd.DataFrame(fifth)\n",
        "dfe_art.info()\n",
        "\n",
        "art_angry = dfe_art.loc[(dfe_art['Q6'] == 1) & (dfe_art['Q25e'] == 1)]\n",
        "data_angry = art_angry.drop('Q6', axis = 1)\n",
        "Data_angry = data_angry.value_counts()\n",
        "art_data_angry = Data_angry.tolist()\n",
        "\n",
        "art1_angry = dfe_art.loc[(dfe_art['Q6'] == 1) & (dfe_art['Q25e'] == 2)]\n",
        "data1_angry = art1_angry.drop('Q6', axis = 1)\n",
        "Data1_angry = data1_angry.value_counts()\n",
        "art_data1_angry = Data1_angry.tolist()\n",
        "\n",
        "art2_angry = dfe_art.loc[(dfe_art['Q6'] == 1) & (dfe_art['Q25e'] == 3)]\n",
        "data2_angry = art2_angry.drop('Q6', axis = 1)\n",
        "Data2_angry = data2_angry.value_counts()\n",
        "art_data2_angry = Data2_angry.tolist()\n",
        "\n",
        "art3_angry = dfe_art.loc[(dfe_art['Q6'] == 1) & (dfe_art['Q25e'] == 4)]\n",
        "data3_angry = art3_angry.drop('Q6', axis = 1)\n",
        "Data3_angry = data3_angry.value_counts()\n",
        "art_data3_angry = Data3_angry.tolist()\n",
        "\n",
        "art4_angry = dfe_art.loc[(dfe_art['Q6'] == 1) & (dfe_art['Q25e'] == 5)]\n",
        "data4_angry = art4_angry.drop('Q6', axis = 1)\n",
        "Data4_angry = data4_angry.value_counts()\n",
        "art_data4_angry = Data4_angry.tolist()\n",
        "\n",
        "art_field_angry = art_data_angry + art_data1_angry + art_data2_angry + art_data3_angry + art_data4_angry"
      ],
      "metadata": {
        "colab": {
          "base_uri": "https://localhost:8080/"
        },
        "id": "h50a1D7KQxFC",
        "outputId": "1ed6a326-cb89-4a9e-debb-cd46afde7801"
      },
      "execution_count": 26,
      "outputs": [
        {
          "output_type": "stream",
          "name": "stdout",
          "text": [
            "<class 'pandas.core.frame.DataFrame'>\n",
            "RangeIndex: 1600 entries, 0 to 1599\n",
            "Data columns (total 2 columns):\n",
            " #   Column  Non-Null Count  Dtype  \n",
            "---  ------  --------------  -----  \n",
            " 0   Q6      1600 non-null   float64\n",
            " 1   Q25e    1600 non-null   float64\n",
            "dtypes: float64(2)\n",
            "memory usage: 25.1 KB\n"
          ]
        }
      ]
    },
    {
      "cell_type": "code",
      "source": [
        "#Emotion: Anxious\n",
        "\n",
        "sixth = final_dts[[\"Q6\", \"Q25f\"]]\n",
        "dff_art = pd.DataFrame(sixth)\n",
        "dff_art.info()\n",
        "\n",
        "art_anxious = dff_art.loc[(dff_art['Q6'] == 1) & (dff_art['Q25f'] == 1)]\n",
        "data_anxious = art_anxious.drop('Q6', axis = 1)\n",
        "Data_anxious = data_anxious.value_counts()\n",
        "art_data_anxious = Data_anxious.tolist()\n",
        "\n",
        "art1_anxious = dff_art.loc[(dff_art['Q6'] == 1) & (dff_art['Q25f'] == 2)]\n",
        "data1_anxious = art1_anxious.drop('Q6', axis = 1)\n",
        "Data1_anxious = data1_anxious.value_counts()\n",
        "art_data1_anxious = Data1_anxious.tolist()\n",
        "\n",
        "art2_anxious = dff_art.loc[(dff_art['Q6'] == 1) & (dff_art['Q25f'] == 3)]\n",
        "data2_anxious = art2_anxious.drop('Q6', axis = 1)\n",
        "Data2_anxious = data2_anxious.value_counts()\n",
        "art_data2_anxious = Data2_anxious.tolist()\n",
        "\n",
        "art3_anxious = dff_art.loc[(dff_art['Q6'] == 1) & (dff_art['Q25f'] == 4)]\n",
        "data3_anxious = art3_anxious.drop('Q6', axis = 1)\n",
        "Data3_anxious = data3_anxious.value_counts()\n",
        "art_data3_anxious = Data3_anxious.tolist()\n",
        "\n",
        "art4_anxious = dff_art.loc[(dff_art['Q6'] == 1) & (dff_art['Q25f'] == 5)]\n",
        "data4_anxious = art4_anxious.drop('Q6', axis = 1)\n",
        "Data4_anxious = data4_anxious.value_counts()\n",
        "art_data4_anxious = Data4_anxious.tolist()\n",
        "\n",
        "art_field_anxious = art_data_anxious + art_data1_anxious + art_data2_anxious + art_data3_anxious + art_data4_anxious"
      ],
      "metadata": {
        "id": "ECqHRXSgGfve",
        "colab": {
          "base_uri": "https://localhost:8080/"
        },
        "outputId": "2d290589-cad8-4087-976b-4fbc85dd87d0"
      },
      "execution_count": 27,
      "outputs": [
        {
          "output_type": "stream",
          "name": "stdout",
          "text": [
            "<class 'pandas.core.frame.DataFrame'>\n",
            "RangeIndex: 1600 entries, 0 to 1599\n",
            "Data columns (total 2 columns):\n",
            " #   Column  Non-Null Count  Dtype  \n",
            "---  ------  --------------  -----  \n",
            " 0   Q6      1600 non-null   float64\n",
            " 1   Q25f    1600 non-null   float64\n",
            "dtypes: float64(2)\n",
            "memory usage: 25.1 KB\n"
          ]
        }
      ]
    },
    {
      "cell_type": "code",
      "source": [
        "#Emotion: Ashamed\n",
        "\n",
        "seventh = final_dts[[\"Q6\", \"Q25g\"]]\n",
        "dfg_art = pd.DataFrame(seventh)\n",
        "dfg_art.info()\n",
        "\n",
        "art_ashamed = dfg_art.loc[(dfg_art['Q6'] == 1) & (dfg_art['Q25g'] == 1)]\n",
        "data_ashamed = art_ashamed.drop('Q6', axis = 1)\n",
        "Data_ashamed = data_ashamed.value_counts()\n",
        "art_data_ashamed = Data_ashamed.tolist()\n",
        "\n",
        "art1_ashamed = dfg_art.loc[(dfg_art['Q6'] == 1) & (dfg_art['Q25g'] == 2)]\n",
        "data1_ashamed = art1_ashamed.drop('Q6', axis = 1)\n",
        "Data1_ashamed = data1_ashamed.value_counts()\n",
        "art_data1_ashamed = Data1_ashamed.tolist()\n",
        "\n",
        "art2_ashamed = dfg_art.loc[(dfg_art['Q6'] == 1) & (dfg_art['Q25g'] == 3)]\n",
        "data2_ashamed = art2_ashamed.drop('Q6', axis = 1)\n",
        "Data2_ashamed = data2_ashamed.value_counts()\n",
        "art_data2_ashamed = Data2_ashamed.tolist()\n",
        "\n",
        "art3_ashamed = dfg_art.loc[(dfg_art['Q6'] == 1) & (dfg_art['Q25g'] == 4)]\n",
        "data3_ashamed = art3_ashamed.drop('Q6', axis = 1)\n",
        "Data3_ashamed = data3_ashamed.value_counts()\n",
        "art_data3_ashamed = Data3_ashamed.tolist()\n",
        "\n",
        "art4_ashamed = dfg_art.loc[(dfg_art['Q6'] == 1) & (dfg_art['Q25g'] == 5)]\n",
        "data4_ashamed = art4_ashamed.drop('Q6', axis = 1)\n",
        "Data4_ashamed = data4_ashamed.value_counts()\n",
        "art_data4_ashamed = Data4_ashamed.tolist()\n",
        "\n",
        "art_field_ashamed = art_data_ashamed + art_data1_ashamed + art_data2_ashamed + art_data3_ashamed + art_data4_ashamed"
      ],
      "metadata": {
        "colab": {
          "base_uri": "https://localhost:8080/"
        },
        "id": "e3SMapcFIFHF",
        "outputId": "537f7f97-b170-4f82-f3bd-45e815123100"
      },
      "execution_count": 28,
      "outputs": [
        {
          "output_type": "stream",
          "name": "stdout",
          "text": [
            "<class 'pandas.core.frame.DataFrame'>\n",
            "RangeIndex: 1600 entries, 0 to 1599\n",
            "Data columns (total 2 columns):\n",
            " #   Column  Non-Null Count  Dtype  \n",
            "---  ------  --------------  -----  \n",
            " 0   Q6      1600 non-null   float64\n",
            " 1   Q25g    1600 non-null   float64\n",
            "dtypes: float64(2)\n",
            "memory usage: 25.1 KB\n"
          ]
        }
      ]
    },
    {
      "cell_type": "code",
      "source": [
        "#Emotion: Relieved\n",
        "\n",
        "eighth = final_dts[[\"Q6\", \"Q25h\"]]\n",
        "dfh_art = pd.DataFrame(eighth)\n",
        "dfh_art.info()\n",
        "\n",
        "art_relieved = dfh_art.loc[(dfh_art['Q6'] == 1) & (dfh_art['Q25h'] == 1)]\n",
        "data_relieved = art_relieved.drop('Q6', axis = 1)\n",
        "Data_relieved = data_relieved.value_counts()\n",
        "art_data_relieved = Data_relieved.tolist()\n",
        "\n",
        "art1_relieved = dfh_art.loc[(dfh_art['Q6'] == 1) & (dfh_art['Q25h'] == 2)]\n",
        "data1_relieved = art1_relieved.drop('Q6', axis = 1)\n",
        "Data1_relieved = data1_relieved.value_counts()\n",
        "art_data1_relieved = Data1_relieved.tolist()\n",
        "\n",
        "art2_relieved = dfh_art.loc[(dfh_art['Q6'] == 1) & (dfh_art['Q25h'] == 3)]\n",
        "data2_relieved = art2_relieved.drop('Q6', axis = 1)\n",
        "Data2_relieved = data2_relieved.value_counts()\n",
        "art_data2_relieved = Data2_relieved.tolist()\n",
        "\n",
        "art3_relieved = dfh_art.loc[(dfh_art['Q6'] == 1) & (dfh_art['Q25h'] == 4)]\n",
        "data3_relieved = art3_relieved.drop('Q6', axis = 1)\n",
        "Data3_relieved = data3_relieved.value_counts()\n",
        "art_data3_relieved = Data3_relieved.tolist()\n",
        "\n",
        "art4_relieved = dfh_art.loc[(dfh_art['Q6'] == 1) & (dfh_art['Q25h'] == 5)]\n",
        "data4_relieved = art4_relieved.drop('Q6', axis = 1)\n",
        "Data4_relieved = data4_relieved.value_counts()\n",
        "art_data4_relieved = Data4_relieved.tolist()\n",
        "\n",
        "art_field_relieved = art_data_relieved + art_data1_relieved + art_data2_relieved + art_data3_relieved + art_data4_relieved"
      ],
      "metadata": {
        "colab": {
          "base_uri": "https://localhost:8080/"
        },
        "id": "ZtS5zIDMJBR-",
        "outputId": "c5a13170-dac1-4ed9-9c7b-1463cb162d12"
      },
      "execution_count": 29,
      "outputs": [
        {
          "output_type": "stream",
          "name": "stdout",
          "text": [
            "<class 'pandas.core.frame.DataFrame'>\n",
            "RangeIndex: 1600 entries, 0 to 1599\n",
            "Data columns (total 2 columns):\n",
            " #   Column  Non-Null Count  Dtype  \n",
            "---  ------  --------------  -----  \n",
            " 0   Q6      1600 non-null   float64\n",
            " 1   Q25h    1600 non-null   float64\n",
            "dtypes: float64(2)\n",
            "memory usage: 25.1 KB\n"
          ]
        }
      ]
    },
    {
      "cell_type": "code",
      "source": [
        "#Emotion: Hopeless\n",
        "\n",
        "ninth = final_dts[[\"Q6\", \"Q25i\"]]\n",
        "dfi_art = pd.DataFrame(ninth)\n",
        "dfi_art.info()\n",
        "\n",
        "art_hopeless = dfi_art.loc[(dfi_art['Q6'] == 1) & (dfi_art['Q25i'] == 1)]\n",
        "data_hopeless = art_hopeless.drop('Q6', axis = 1)\n",
        "Data_hopeless = data_hopeless.value_counts()\n",
        "art_data_hopeless = Data_hopeless.tolist()\n",
        "\n",
        "art1_hopeless = dfi_art.loc[(dfi_art['Q6'] == 1) & (dfi_art['Q25i'] == 2)]\n",
        "data1_hopeless = art1_hopeless.drop('Q6', axis = 1)\n",
        "Data1_hopeless = data1_hopeless.value_counts()\n",
        "art_data1_hopeless = Data1_hopeless.tolist()\n",
        "\n",
        "art2_hopeless = dfi_art.loc[(dfi_art['Q6'] == 1) & (dfi_art['Q25i'] == 3)]\n",
        "data2_hopeless = art2_hopeless.drop('Q6', axis = 1)\n",
        "Data2_hopeless = data2_hopeless.value_counts()\n",
        "art_data2_hopeless = Data2_hopeless.tolist()\n",
        "\n",
        "art3_hopeless = dfi_art.loc[(dfi_art['Q6'] == 1) & (dfi_art['Q25i'] == 4)]\n",
        "data3_hopeless = art3_hopeless.drop('Q6', axis = 1)\n",
        "Data3_hopeless = data3_hopeless.value_counts()\n",
        "art_data3_hopeless = Data3_hopeless.tolist()\n",
        "\n",
        "art4_hopeless = dfi_art.loc[(dfi_art['Q6'] == 1) & (dfi_art['Q25i'] == 5)]\n",
        "data4_hopeless = art4_hopeless.drop('Q6', axis = 1)\n",
        "Data4_hopeless = data4_hopeless.value_counts()\n",
        "art_data4_hopeless = Data4_hopeless.tolist()\n",
        "\n",
        "art_field_hopeless = art_data_hopeless + art_data1_hopeless + art_data2_hopeless + art_data3_hopeless + art_data4_hopeless"
      ],
      "metadata": {
        "colab": {
          "base_uri": "https://localhost:8080/"
        },
        "id": "m6bNoYP0KWPP",
        "outputId": "17f71d3d-f123-4e51-cca2-fac020d14dc8"
      },
      "execution_count": 30,
      "outputs": [
        {
          "output_type": "stream",
          "name": "stdout",
          "text": [
            "<class 'pandas.core.frame.DataFrame'>\n",
            "RangeIndex: 1600 entries, 0 to 1599\n",
            "Data columns (total 2 columns):\n",
            " #   Column  Non-Null Count  Dtype  \n",
            "---  ------  --------------  -----  \n",
            " 0   Q6      1600 non-null   float64\n",
            " 1   Q25i    1600 non-null   float64\n",
            "dtypes: float64(2)\n",
            "memory usage: 25.1 KB\n"
          ]
        }
      ]
    },
    {
      "cell_type": "code",
      "source": [
        "#Emotion: Bored\n",
        "\n",
        "tenth = final_dts[[\"Q6\", \"Q25j\"]]\n",
        "dfj_art = pd.DataFrame(tenth)\n",
        "dfj_art.info()\n",
        "\n",
        "art_bored = dfj_art.loc[(dfj_art['Q6'] == 1) & (dfj_art['Q25j'] == 1)]\n",
        "data_bored = art_bored.drop('Q6', axis = 1)\n",
        "Data_bored = data_bored.value_counts()\n",
        "art_data_bored = Data_bored.tolist()\n",
        "\n",
        "art1_bored = dfj_art.loc[(dfj_art['Q6'] == 1) & (dfj_art['Q25j'] == 2)]\n",
        "data1_bored = art1_bored.drop('Q6', axis = 1)\n",
        "Data1_bored = data1_bored.value_counts()\n",
        "art_data1_bored = Data1_bored.tolist()\n",
        "\n",
        "art2_bored = dfj_art.loc[(dfj_art['Q6'] == 1) & (dfj_art['Q25j'] == 3)]\n",
        "data2_bored = art2_bored.drop('Q6', axis = 1)\n",
        "Data2_bored = data2_bored.value_counts()\n",
        "art_data2_bored = Data2_bored.tolist()\n",
        "\n",
        "art3_bored = dfj_art.loc[(dfj_art['Q6'] == 1) & (dfj_art['Q25j'] == 4)]\n",
        "data3_bored = art3_bored.drop('Q6', axis = 1)\n",
        "Data3_bored = data3_bored.value_counts()\n",
        "art_data3_bored = Data3_bored.tolist()\n",
        "\n",
        "art4_bored = dfj_art.loc[(dfj_art['Q6'] == 1) & (dfj_art['Q25j'] == 5)]\n",
        "data4_bored = art4_bored.drop('Q6', axis = 1)\n",
        "Data4_bored = data4_bored.value_counts()\n",
        "art_data4_bored = Data4_bored.tolist()\n",
        "\n",
        "art_field_bored = art_data_bored + art_data1_bored + art_data2_bored + art_data3_bored + art_data4_bored"
      ],
      "metadata": {
        "id": "FHbQZW3rLEhd",
        "colab": {
          "base_uri": "https://localhost:8080/"
        },
        "outputId": "b704fd62-c86a-48dc-a3da-e523de8de8da"
      },
      "execution_count": 31,
      "outputs": [
        {
          "output_type": "stream",
          "name": "stdout",
          "text": [
            "<class 'pandas.core.frame.DataFrame'>\n",
            "RangeIndex: 1600 entries, 0 to 1599\n",
            "Data columns (total 2 columns):\n",
            " #   Column  Non-Null Count  Dtype  \n",
            "---  ------  --------------  -----  \n",
            " 0   Q6      1600 non-null   float64\n",
            " 1   Q25j    1600 non-null   float64\n",
            "dtypes: float64(2)\n",
            "memory usage: 25.1 KB\n"
          ]
        }
      ]
    },
    {
      "cell_type": "code",
      "source": [
        "fig, ax = plt.subplots(figsize=(20, 10))\n",
        "labels = [\"Never\", \"Rarely\", \"Sometimes\", \"Often\", \"Always\"]\n",
        "category_labels = [\"Joyful\", \"Hopeful\", \"Proud\", \"Frustrated\", \"Angry\", \"Anxious\", \"Ashamed\", \"Relieved\", \"Hopeless\", \"Bored\"]\n",
        "\n",
        "art_bottom1 = art_field_joyful\n",
        "art_bottom2 = [a+b for a,b in zip(art_field_joyful, art_field_hopeful)]\n",
        "art_bottom3 = [a+b+c for a,b,c in zip(art_field_joyful, art_field_hopeful, art_field_proud)]\n",
        "art_bottom4 = [a+b+c+d for a,b,c,d in zip(art_field_joyful, art_field_hopeful, art_field_proud, art_field_frustrated)]\n",
        "art_bottom5 = [a+b+c+d+e for a,b,c,d,e in zip(art_field_joyful, art_field_hopeful, art_field_proud, art_field_frustrated, art_field_angry)]\n",
        "art_bottom6 = [a+b+c+d+e+f for a,b,c,d,e,f in zip(art_field_joyful, art_field_hopeful, art_field_proud, art_field_frustrated, art_field_angry, art_field_anxious)]\n",
        "art_bottom7 = [a+b+c+d+e+f+g for a,b,c,d,e,f,g in zip(art_field_joyful, art_field_hopeful, art_field_proud, art_field_frustrated, art_field_angry, art_field_anxious, art_field_ashamed)]\n",
        "art_bottom8 = [a+b+c+d+e+f+g+h for a,b,c,d,e,f,g,h in zip(art_field_joyful, art_field_hopeful, art_field_proud, art_field_frustrated, art_field_angry, art_field_anxious, art_field_ashamed, art_field_relieved)]\n",
        "art_bottom9 = [a+b+c+d+e+f+g+h+i for a,b,c,d,e,f,g,h,i in zip(art_field_joyful, art_field_hopeful, art_field_proud, art_field_frustrated, art_field_angry, art_field_anxious, art_field_ashamed, art_field_relieved, art_field_hopeless)]\n",
        "\n",
        "p1 = ax.barh(labels, art_field_joyful)\n",
        "p2 = ax.barh(labels, art_field_hopeful, left = art_bottom1)\n",
        "p3 = ax.barh(labels, art_field_proud, left = art_bottom2)\n",
        "p4 = ax.barh(labels, art_field_frustrated, left = art_bottom3)\n",
        "p5 = ax.barh(labels, art_field_angry, left = art_bottom4)\n",
        "p6 = ax.barh(labels, art_field_anxious, left = art_bottom5)\n",
        "p7 = ax.barh(labels, art_field_ashamed, left = art_bottom6)\n",
        "p8 = ax.barh(labels, art_field_relieved, left = art_bottom7)\n",
        "p9 = ax.barh(labels, art_field_hopeless, left = art_bottom8)\n",
        "p10 = ax.barh(labels, art_field_bored, left = art_bottom9)\n",
        "\n",
        "plt.title(\"Emotions by Art and Humanities Students\", fontsize = 20)\n",
        "ax.legend(category_labels, fontsize = 13)\n",
        "plt.show()"
      ],
      "metadata": {
        "colab": {
          "base_uri": "https://localhost:8080/",
          "height": 531
        },
        "id": "aM_QtS2zLmpV",
        "outputId": "fdaf8caa-ac6d-4a92-ad24-580ebde6a26b"
      },
      "execution_count": 32,
      "outputs": [
        {
          "output_type": "display_data",
          "data": {
            "text/plain": [
              "<Figure size 1440x720 with 1 Axes>"
            ],
            "image/png": "[encoded data removed]"
          },
          "metadata": {
            "needs_background": "light"
          }
        }
      ]
    },
    {
      "cell_type": "markdown",
      "source": [
        "# Field Study: Social"
      ],
      "metadata": {
        "id": "R4WzTY2GsSl3"
      }
    },
    {
      "cell_type": "code",
      "source": [
        "#Emotion: Joyful\n",
        "\n",
        "first = final_dts[[\"Q6\", \"Q25a\"]]\n",
        "dfa_social = pd.DataFrame(first)\n",
        "dfa_social.info()\n",
        "\n",
        "\n",
        "social_joyful = dfa_social.loc[(dfa_social['Q6'] == 2) & (dfa_social['Q25a'] == 1)]\n",
        "data_joyful_social = social_joyful.drop('Q6', axis = 1)\n",
        "Data_joyful = data_joyful_social.value_counts()\n",
        "social_data_joyful = Data_joyful.tolist()\n",
        "\n",
        "social1_joyful = dfa_social.loc[(dfa_social['Q6'] == 2) & (dfa_social['Q25a'] == 2)]\n",
        "data1_joyful_social = social1_joyful.drop('Q6', axis = 1)\n",
        "Data1_joyful = data1_joyful_social.value_counts()\n",
        "social_data1_joyful = Data1_joyful.tolist()\n",
        "\n",
        "social2_joyful = dfa_social.loc[(dfa_social['Q6'] == 2) & (dfa_social['Q25a'] == 3)]\n",
        "data2_joyful_social = social2_joyful.drop('Q6', axis = 1)\n",
        "Data2_joyful = data2_joyful_social.value_counts()\n",
        "social_data2_joyful = Data2_joyful.tolist()\n",
        "\n",
        "social3_joyful = dfa_social.loc[(dfa_social['Q6'] == 2) & (dfa_social['Q25a'] == 4)]\n",
        "data3_joyful_social = social3_joyful.drop('Q6', axis = 1)\n",
        "Data3_joyful = data3_joyful_social.value_counts()\n",
        "social_data3_joyful = Data3_joyful.tolist()\n",
        "\n",
        "social4_joyful = dfa_social.loc[(dfa_social['Q6'] == 2) & (dfa_social['Q25a'] == 5)]\n",
        "data4_joyful_social = social4_joyful.drop('Q6', axis = 1)\n",
        "Data4_joyful = data4_joyful_social.value_counts()\n",
        "social_data4_joyful = Data4_joyful.tolist()\n",
        "\n",
        "social_field_joyful = social_data_joyful + social_data1_joyful + social_data2_joyful + social_data3_joyful + social_data4_joyful"
      ],
      "metadata": {
        "colab": {
          "base_uri": "https://localhost:8080/"
        },
        "id": "1-bPLSXNshkp",
        "outputId": "c2b88ad1-1f64-4e64-e894-d4bbd8423295"
      },
      "execution_count": 11,
      "outputs": [
        {
          "output_type": "stream",
          "name": "stdout",
          "text": [
            "<class 'pandas.core.frame.DataFrame'>\n",
            "RangeIndex: 1600 entries, 0 to 1599\n",
            "Data columns (total 2 columns):\n",
            " #   Column  Non-Null Count  Dtype  \n",
            "---  ------  --------------  -----  \n",
            " 0   Q6      1600 non-null   float64\n",
            " 1   Q25a    1600 non-null   float64\n",
            "dtypes: float64(2)\n",
            "memory usage: 25.1 KB\n"
          ]
        }
      ]
    },
    {
      "cell_type": "code",
      "source": [
        "#Emotion: Hopeful\n",
        "\n",
        "second = final_dts[[\"Q6\", \"Q25b\"]]\n",
        "dfb_social = pd.DataFrame(second)\n",
        "dfb_social.info()\n",
        "\n",
        "social_hopeful = dfb_social.loc[(dfb_social['Q6'] == 2) & (dfb_social['Q25b'] == 1)]\n",
        "data_hopeful = social_hopeful.drop('Q6', axis = 1)\n",
        "Data_hopeful = data_hopeful.value_counts()\n",
        "social_data_hopeful = Data_hopeful.tolist()\n",
        "\n",
        "social1_hopeful = dfb_social.loc[(dfb_social['Q6'] == 2) & (dfb_social['Q25b'] == 2)]\n",
        "data1_hopeful = social1_hopeful.drop('Q6', axis = 1)\n",
        "Data1_hopeful = data1_hopeful.value_counts()\n",
        "social_data1_hopeful = Data1_hopeful.tolist()\n",
        "\n",
        "social2_hopeful = dfb_social.loc[(dfb_social['Q6'] == 2) & (dfb_social['Q25b'] == 3)]\n",
        "data2_hopeful = social2_hopeful.drop('Q6', axis = 1)\n",
        "Data2_hopeful = data2_hopeful.value_counts()\n",
        "social_data2_hopeful = Data2_hopeful.tolist()\n",
        "\n",
        "social3_hopeful = dfb_social.loc[(dfb_social['Q6'] == 2) & (dfb_social['Q25b'] == 4)]\n",
        "data3_hopeful = social3_hopeful.drop('Q6', axis = 1)\n",
        "Data3_hopeful = data3_hopeful.value_counts()\n",
        "social_data3_hopeful = Data3_hopeful.tolist()\n",
        "\n",
        "social4_hopeful = dfb_social.loc[(dfb_social['Q6'] == 2) & (dfb_social['Q25b'] == 5)]\n",
        "data4_hopeful = social4_hopeful.drop('Q6', axis = 1)\n",
        "Data4_hopeful = data4_hopeful.value_counts()\n",
        "social_data4_hopeful = Data4_hopeful.tolist()\n",
        "\n",
        "social_field_hopeful = social_data_hopeful + social_data1_hopeful + social_data2_hopeful + social_data3_hopeful + social_data4_hopeful"
      ],
      "metadata": {
        "colab": {
          "base_uri": "https://localhost:8080/"
        },
        "id": "lqfKyiM2snfH",
        "outputId": "5d1be86f-eed5-435f-e2fd-791cc25d4384"
      },
      "execution_count": 12,
      "outputs": [
        {
          "output_type": "stream",
          "name": "stdout",
          "text": [
            "<class 'pandas.core.frame.DataFrame'>\n",
            "RangeIndex: 1600 entries, 0 to 1599\n",
            "Data columns (total 2 columns):\n",
            " #   Column  Non-Null Count  Dtype  \n",
            "---  ------  --------------  -----  \n",
            " 0   Q6      1600 non-null   float64\n",
            " 1   Q25b    1600 non-null   float64\n",
            "dtypes: float64(2)\n",
            "memory usage: 25.1 KB\n"
          ]
        }
      ]
    },
    {
      "cell_type": "code",
      "source": [
        "#Emotion: Proud\n",
        "\n",
        "third = final_dts[[\"Q6\", \"Q25c\"]]\n",
        "dfc_social = pd.DataFrame(third)\n",
        "dfc_social.info()\n",
        "\n",
        "social_proud = dfc_social.loc[(dfc_social['Q6'] == 2) & (dfc_social['Q25c'] == 1)]\n",
        "data_proud = social_proud.drop('Q6', axis = 1)\n",
        "Data_proud = data_proud.value_counts()\n",
        "social_data_proud = Data_proud.tolist()\n",
        "\n",
        "social1_proud = dfc_social.loc[(dfc_social['Q6'] == 2) & (dfc_social['Q25c'] == 2)]\n",
        "data1_proud = social1_proud.drop('Q6', axis = 1)\n",
        "Data1_proud = data1_proud.value_counts()\n",
        "social_data1_proud = Data1_proud.tolist()\n",
        "\n",
        "social2_proud = dfc_social.loc[(dfc_social['Q6'] == 2) & (dfc_social['Q25c'] == 3)]\n",
        "data2_proud = social2_proud.drop('Q6', axis = 1)\n",
        "Data2_proud = data2_proud.value_counts()\n",
        "social_data2_proud = Data2_proud.tolist()\n",
        "\n",
        "social3_proud = dfc_social.loc[(dfc_social['Q6'] == 2) & (dfc_social['Q25c'] == 4)]\n",
        "data3_proud = social3_proud.drop('Q6', axis = 1)\n",
        "Data3_proud = data3_proud.value_counts()\n",
        "social_data3_proud = Data3_proud.tolist()\n",
        "\n",
        "social4_proud = dfc_social.loc[(dfc_social['Q6'] == 2) & (dfc_social['Q25c'] == 5)]\n",
        "data4_proud = social4_proud.drop('Q6', axis = 1)\n",
        "Data4_proud = data4_proud.value_counts()\n",
        "social_data4_proud = Data4_proud.tolist()\n",
        "\n",
        "social_field_proud = social_data_proud + social_data1_proud + social_data2_proud + social_data3_proud + social_data4_proud"
      ],
      "metadata": {
        "colab": {
          "base_uri": "https://localhost:8080/"
        },
        "id": "7M1W95LAsqp3",
        "outputId": "be1beb71-9970-49ed-ffc5-7e089a7fef84"
      },
      "execution_count": 13,
      "outputs": [
        {
          "output_type": "stream",
          "name": "stdout",
          "text": [
            "<class 'pandas.core.frame.DataFrame'>\n",
            "RangeIndex: 1600 entries, 0 to 1599\n",
            "Data columns (total 2 columns):\n",
            " #   Column  Non-Null Count  Dtype  \n",
            "---  ------  --------------  -----  \n",
            " 0   Q6      1600 non-null   float64\n",
            " 1   Q25c    1600 non-null   float64\n",
            "dtypes: float64(2)\n",
            "memory usage: 25.1 KB\n"
          ]
        }
      ]
    },
    {
      "cell_type": "code",
      "source": [
        "#Emotion: Frustrated\n",
        "\n",
        "fourth = final_dts[[\"Q6\", \"Q25d\"]]\n",
        "dfd_social = pd.DataFrame(fourth)\n",
        "dfd_social.info()\n",
        "\n",
        "social_frustrated = dfd_social.loc[(dfd_social['Q6'] == 2) & (dfd_social['Q25d'] == 1)]\n",
        "data_frustrated = social_frustrated.drop('Q6', axis = 1)\n",
        "Data_frustrated = data_frustrated.value_counts()\n",
        "social_data_frustrated = Data_frustrated.tolist()\n",
        "\n",
        "social1_frustrated = dfd_social.loc[(dfd_social['Q6'] == 2) & (dfd_social['Q25d'] == 2)]\n",
        "data1_frustrated = social1_frustrated.drop('Q6', axis = 1)\n",
        "Data1_frustrated = data1_frustrated.value_counts()\n",
        "social_data1_frustrated = Data1_frustrated.tolist()\n",
        "\n",
        "social2_frustrated = dfd_social.loc[(dfd_social['Q6'] == 2) & (dfd_social['Q25d'] == 3)]\n",
        "data2_frustrated = social2_frustrated.drop('Q6', axis = 1)\n",
        "Data2_frustrated = data2_frustrated.value_counts()\n",
        "social_data2_frustrated = Data2_frustrated.tolist()\n",
        "\n",
        "social3_frustrated = dfd_social.loc[(dfd_social['Q6'] == 2) & (dfd_social['Q25d'] == 4)]\n",
        "data3_frustrated = social3_frustrated.drop('Q6', axis = 1)\n",
        "Data3_frustrated = data3_frustrated.value_counts()\n",
        "social_data3_frustrated = Data3_frustrated.tolist()\n",
        "\n",
        "social4_frustrated = dfd_social.loc[(dfd_social['Q6'] == 2) & (dfd_social['Q25d'] == 5)]\n",
        "data4_frustrated = social4_frustrated.drop('Q6', axis = 1)\n",
        "Data4_frustrated = data4_frustrated.value_counts()\n",
        "social_data4_frustrated = Data4_frustrated.tolist()\n",
        "\n",
        "social_field_frustrated = social_data_frustrated + social_data1_frustrated + social_data2_frustrated + social_data3_frustrated + social_data4_frustrated"
      ],
      "metadata": {
        "colab": {
          "base_uri": "https://localhost:8080/"
        },
        "id": "eInDHqvmsuGF",
        "outputId": "92ffc84c-1249-426f-ee01-feedb9b2fd84"
      },
      "execution_count": 14,
      "outputs": [
        {
          "output_type": "stream",
          "name": "stdout",
          "text": [
            "<class 'pandas.core.frame.DataFrame'>\n",
            "RangeIndex: 1600 entries, 0 to 1599\n",
            "Data columns (total 2 columns):\n",
            " #   Column  Non-Null Count  Dtype  \n",
            "---  ------  --------------  -----  \n",
            " 0   Q6      1600 non-null   float64\n",
            " 1   Q25d    1600 non-null   float64\n",
            "dtypes: float64(2)\n",
            "memory usage: 25.1 KB\n"
          ]
        }
      ]
    },
    {
      "cell_type": "code",
      "source": [
        "#Emotion: Angry\n",
        "\n",
        "fifth = final_dts[[\"Q6\", \"Q25e\"]]\n",
        "dfe_social = pd.DataFrame(fifth)\n",
        "dfe_social.info()\n",
        "\n",
        "social_angry = dfe_social.loc[(dfe_social['Q6'] == 2) & (dfe_social['Q25e'] == 1)]\n",
        "data_angry = social_angry.drop('Q6', axis = 1)\n",
        "Data_angry = data_angry.value_counts()\n",
        "social_data_angry = Data_angry.tolist()\n",
        "\n",
        "social1_angry = dfe_social.loc[(dfe_social['Q6'] == 2) & (dfe_social['Q25e'] == 2)]\n",
        "data1_angry = social1_angry.drop('Q6', axis = 1)\n",
        "Data1_angry = data1_angry.value_counts()\n",
        "social_data1_angry = Data1_angry.tolist()\n",
        "\n",
        "social2_angry = dfe_social.loc[(dfe_social['Q6'] == 2) & (dfe_social['Q25e'] == 3)]\n",
        "data2_angry = social2_angry.drop('Q6', axis = 1)\n",
        "Data2_angry = data2_angry.value_counts()\n",
        "social_data2_angry = Data2_angry.tolist()\n",
        "\n",
        "social3_angry = dfe_social.loc[(dfe_social['Q6'] == 2) & (dfe_social['Q25e'] == 4)]\n",
        "data3_angry = social3_angry.drop('Q6', axis = 1)\n",
        "Data3_angry = data3_angry.value_counts()\n",
        "social_data3_angry = Data3_angry.tolist()\n",
        "\n",
        "social4_angry = dfe_social.loc[(dfe_social['Q6'] == 2) & (dfe_social['Q25e'] == 5)]\n",
        "data4_angry = social4_angry.drop('Q6', axis = 1)\n",
        "Data4_angry = data4_angry.value_counts()\n",
        "social_data4_angry = Data4_angry.tolist()\n",
        "\n",
        "social_field_angry = social_data_angry + social_data1_angry + social_data2_angry + social_data3_angry + social_data4_angry"
      ],
      "metadata": {
        "colab": {
          "base_uri": "https://localhost:8080/"
        },
        "id": "IFUDsAIjsx1W",
        "outputId": "eab00eed-1081-41a3-fa2c-7fc724f7ddf0"
      },
      "execution_count": 15,
      "outputs": [
        {
          "output_type": "stream",
          "name": "stdout",
          "text": [
            "<class 'pandas.core.frame.DataFrame'>\n",
            "RangeIndex: 1600 entries, 0 to 1599\n",
            "Data columns (total 2 columns):\n",
            " #   Column  Non-Null Count  Dtype  \n",
            "---  ------  --------------  -----  \n",
            " 0   Q6      1600 non-null   float64\n",
            " 1   Q25e    1600 non-null   float64\n",
            "dtypes: float64(2)\n",
            "memory usage: 25.1 KB\n"
          ]
        }
      ]
    },
    {
      "cell_type": "code",
      "source": [
        "#Emotion: Anxious\n",
        "\n",
        "sixth = final_dts[[\"Q6\", \"Q25f\"]]\n",
        "dff_social = pd.DataFrame(sixth)\n",
        "dff_social.info()\n",
        "\n",
        "social_anxious = dff_social.loc[(dff_social['Q6'] == 2) & (dff_social['Q25f'] == 1)]\n",
        "data_anxious = social_anxious.drop('Q6', axis = 1)\n",
        "Data_anxious = data_anxious.value_counts()\n",
        "social_data_anxious = Data_anxious.tolist()\n",
        "\n",
        "social1_anxious = dff_social.loc[(dff_social['Q6'] == 2) & (dff_social['Q25f'] == 2)]\n",
        "data1_anxious = social1_anxious.drop('Q6', axis = 1)\n",
        "Data1_anxious = data1_anxious.value_counts()\n",
        "social_data1_anxious = Data1_anxious.tolist()\n",
        "\n",
        "social2_anxious = dff_social.loc[(dff_social['Q6'] == 2) & (dff_social['Q25f'] == 3)]\n",
        "data2_anxious = social2_anxious.drop('Q6', axis = 1)\n",
        "Data2_anxious = data2_anxious.value_counts()\n",
        "social_data2_anxious = Data2_anxious.tolist()\n",
        "\n",
        "social3_anxious = dff_social.loc[(dff_social['Q6'] == 2) & (dff_social['Q25f'] == 4)]\n",
        "data3_anxious = social3_anxious.drop('Q6', axis = 1)\n",
        "Data3_anxious = data3_anxious.value_counts()\n",
        "social_data3_anxious = Data3_anxious.tolist()\n",
        "\n",
        "social4_anxious = dff_social.loc[(dff_social['Q6'] == 2) & (dff_social['Q25f'] == 5)]\n",
        "data4_anxious = social4_anxious.drop('Q6', axis = 1)\n",
        "Data4_anxious = data4_anxious.value_counts()\n",
        "social_data4_anxious = Data4_anxious.tolist()\n",
        "\n",
        "social_field_anxious = social_data_anxious + social_data1_anxious + social_data2_anxious + social_data3_anxious + social_data4_anxious"
      ],
      "metadata": {
        "colab": {
          "base_uri": "https://localhost:8080/"
        },
        "id": "QemGpfAds1RG",
        "outputId": "56d00203-20bb-498c-b445-612e6fed4607"
      },
      "execution_count": 16,
      "outputs": [
        {
          "output_type": "stream",
          "name": "stdout",
          "text": [
            "<class 'pandas.core.frame.DataFrame'>\n",
            "RangeIndex: 1600 entries, 0 to 1599\n",
            "Data columns (total 2 columns):\n",
            " #   Column  Non-Null Count  Dtype  \n",
            "---  ------  --------------  -----  \n",
            " 0   Q6      1600 non-null   float64\n",
            " 1   Q25f    1600 non-null   float64\n",
            "dtypes: float64(2)\n",
            "memory usage: 25.1 KB\n"
          ]
        }
      ]
    },
    {
      "cell_type": "code",
      "source": [
        "#Emotion: Ashamed\n",
        "\n",
        "seventh = final_dts[[\"Q6\", \"Q25g\"]]\n",
        "dfg_social = pd.DataFrame(seventh)\n",
        "dfg_social.info()\n",
        "\n",
        "social_ashamed = dfg_social.loc[(dfg_social['Q6'] == 2) & (dfg_social['Q25g'] == 1)]\n",
        "data_ashamed = social_ashamed.drop('Q6', axis = 1)\n",
        "Data_ashamed = data_ashamed.value_counts()\n",
        "social_data_ashamed = Data_ashamed.tolist()\n",
        "\n",
        "social1_ashamed = dfg_social.loc[(dfg_social['Q6'] == 2) & (dfg_social['Q25g'] == 2)]\n",
        "data1_ashamed = social1_ashamed.drop('Q6', axis = 1)\n",
        "Data1_ashamed = data1_ashamed.value_counts()\n",
        "social_data1_ashamed = Data1_ashamed.tolist()\n",
        "\n",
        "social2_ashamed = dfg_social.loc[(dfg_social['Q6'] == 2) & (dfg_social['Q25g'] == 3)]\n",
        "data2_ashamed = social2_ashamed.drop('Q6', axis = 1)\n",
        "Data2_ashamed = data2_ashamed.value_counts()\n",
        "social_data2_ashamed = Data2_ashamed.tolist()\n",
        "\n",
        "social3_ashamed = dfg_social.loc[(dfg_social['Q6'] == 2) & (dfg_social['Q25g'] == 4)]\n",
        "data3_ashamed = social3_ashamed.drop('Q6', axis = 1)\n",
        "Data3_ashamed = data3_ashamed.value_counts()\n",
        "social_data3_ashamed = Data3_ashamed.tolist()\n",
        "\n",
        "social4_ashamed = dfg_social.loc[(dfg_social['Q6'] == 2) & (dfg_social['Q25g'] == 5)]\n",
        "data4_ashamed = social4_ashamed.drop('Q6', axis = 1)\n",
        "Data4_ashamed = data4_ashamed.value_counts()\n",
        "social_data4_ashamed = Data4_ashamed.tolist()\n",
        "\n",
        "social_field_ashamed = social_data_ashamed + social_data1_ashamed + social_data2_ashamed + social_data3_ashamed + social_data4_ashamed"
      ],
      "metadata": {
        "colab": {
          "base_uri": "https://localhost:8080/"
        },
        "id": "hh3I5pfas4W_",
        "outputId": "1d07311e-073a-4b33-bf3d-6610c06f1f99"
      },
      "execution_count": 17,
      "outputs": [
        {
          "output_type": "stream",
          "name": "stdout",
          "text": [
            "<class 'pandas.core.frame.DataFrame'>\n",
            "RangeIndex: 1600 entries, 0 to 1599\n",
            "Data columns (total 2 columns):\n",
            " #   Column  Non-Null Count  Dtype  \n",
            "---  ------  --------------  -----  \n",
            " 0   Q6      1600 non-null   float64\n",
            " 1   Q25g    1600 non-null   float64\n",
            "dtypes: float64(2)\n",
            "memory usage: 25.1 KB\n"
          ]
        }
      ]
    },
    {
      "cell_type": "code",
      "source": [
        "#Emotion: Relieved\n",
        "\n",
        "eighth = final_dts[[\"Q6\", \"Q25h\"]]\n",
        "dfh_social = pd.DataFrame(eighth)\n",
        "dfh_social.info()\n",
        "\n",
        "social_relieved = dfh_social.loc[(dfh_social['Q6'] == 2) & (dfh_social['Q25h'] == 1)]\n",
        "data_relieved = social_relieved.drop('Q6', axis = 1)\n",
        "Data_relieved = data_relieved.value_counts()\n",
        "social_data_relieved = Data_relieved.tolist()\n",
        "\n",
        "social1_relieved = dfh_social.loc[(dfh_social['Q6'] == 2) & (dfh_social['Q25h'] == 2)]\n",
        "data1_relieved = social1_relieved.drop('Q6', axis = 1)\n",
        "Data1_relieved = data1_relieved.value_counts()\n",
        "social_data1_relieved = Data1_relieved.tolist()\n",
        "\n",
        "social2_relieved = dfh_social.loc[(dfh_social['Q6'] == 2) & (dfh_social['Q25h'] == 3)]\n",
        "data2_relieved = social2_relieved.drop('Q6', axis = 1)\n",
        "Data2_relieved = data2_relieved.value_counts()\n",
        "social_data2_relieved = Data2_relieved.tolist()\n",
        "\n",
        "social3_relieved = dfh_social.loc[(dfh_social['Q6'] == 2) & (dfh_social['Q25h'] == 4)]\n",
        "data3_relieved = social3_relieved.drop('Q6', axis = 1)\n",
        "Data3_relieved = data3_relieved.value_counts()\n",
        "social_data3_relieved = Data3_relieved.tolist()\n",
        "\n",
        "social4_relieved = dfh_social.loc[(dfh_social['Q6'] == 2) & (dfh_social['Q25h'] == 5)]\n",
        "data4_relieved = social4_relieved.drop('Q6', axis = 1)\n",
        "Data4_relieved = data4_relieved.value_counts()\n",
        "social_data4_relieved = Data4_relieved.tolist()\n",
        "\n",
        "social_field_relieved = social_data_relieved + social_data1_relieved + social_data2_relieved + social_data3_relieved + social_data4_relieved"
      ],
      "metadata": {
        "colab": {
          "base_uri": "https://localhost:8080/"
        },
        "id": "5U4zafk3s6T_",
        "outputId": "ebb46a91-18d4-45d3-b8ac-f6b61e3afe95"
      },
      "execution_count": 18,
      "outputs": [
        {
          "output_type": "stream",
          "name": "stdout",
          "text": [
            "<class 'pandas.core.frame.DataFrame'>\n",
            "RangeIndex: 1600 entries, 0 to 1599\n",
            "Data columns (total 2 columns):\n",
            " #   Column  Non-Null Count  Dtype  \n",
            "---  ------  --------------  -----  \n",
            " 0   Q6      1600 non-null   float64\n",
            " 1   Q25h    1600 non-null   float64\n",
            "dtypes: float64(2)\n",
            "memory usage: 25.1 KB\n"
          ]
        }
      ]
    },
    {
      "cell_type": "code",
      "source": [
        "#Emotion: Hopeless\n",
        "\n",
        "ninth = final_dts[[\"Q6\", \"Q25i\"]]\n",
        "dfi_social = pd.DataFrame(ninth)\n",
        "dfi_social.info()\n",
        "\n",
        "social_hopeless = dfi_social.loc[(dfi_social['Q6'] == 2) & (dfi_social['Q25i'] == 1)]\n",
        "data_hopeless = social_hopeless.drop('Q6', axis = 1)\n",
        "Data_hopeless = data_hopeless.value_counts()\n",
        "social_data_hopeless = Data_hopeless.tolist()\n",
        "\n",
        "social1_hopeless = dfi_social.loc[(dfi_social['Q6'] == 2) & (dfi_social['Q25i'] == 2)]\n",
        "data1_hopeless = social1_hopeless.drop('Q6', axis = 1)\n",
        "Data1_hopeless = data1_hopeless.value_counts()\n",
        "social_data1_hopeless = Data1_hopeless.tolist()\n",
        "\n",
        "social2_hopeless = dfi_social.loc[(dfi_social['Q6'] == 2) & (dfi_social['Q25i'] == 3)]\n",
        "data2_hopeless = social2_hopeless.drop('Q6', axis = 1)\n",
        "Data2_hopeless = data2_hopeless.value_counts()\n",
        "social_data2_hopeless = Data2_hopeless.tolist()\n",
        "\n",
        "social3_hopeless = dfi_social.loc[(dfi_social['Q6'] == 2) & (dfi_social['Q25i'] == 4)]\n",
        "data3_hopeless = social3_hopeless.drop('Q6', axis = 1)\n",
        "Data3_hopeless = data3_hopeless.value_counts()\n",
        "social_data3_hopeless = Data3_hopeless.tolist()\n",
        "\n",
        "social4_hopeless = dfi_social.loc[(dfi_social['Q6'] == 2) & (dfi_social['Q25i'] == 5)]\n",
        "data4_hopeless = social4_hopeless.drop('Q6', axis = 1)\n",
        "Data4_hopeless = data4_hopeless.value_counts()\n",
        "social_data4_hopeless = Data4_hopeless.tolist()\n",
        "\n",
        "social_field_hopeless = social_data_hopeless + social_data1_hopeless + social_data2_hopeless + social_data3_hopeless + social_data4_hopeless"
      ],
      "metadata": {
        "colab": {
          "base_uri": "https://localhost:8080/"
        },
        "id": "icAWgEKYs8dG",
        "outputId": "27f5b621-d442-4931-aa4e-c5f8226acef3"
      },
      "execution_count": 19,
      "outputs": [
        {
          "output_type": "stream",
          "name": "stdout",
          "text": [
            "<class 'pandas.core.frame.DataFrame'>\n",
            "RangeIndex: 1600 entries, 0 to 1599\n",
            "Data columns (total 2 columns):\n",
            " #   Column  Non-Null Count  Dtype  \n",
            "---  ------  --------------  -----  \n",
            " 0   Q6      1600 non-null   float64\n",
            " 1   Q25i    1600 non-null   float64\n",
            "dtypes: float64(2)\n",
            "memory usage: 25.1 KB\n"
          ]
        }
      ]
    },
    {
      "cell_type": "code",
      "source": [
        "#Emotion: Bored\n",
        "\n",
        "tenth = final_dts[[\"Q6\", \"Q25j\"]]\n",
        "dfj_social = pd.DataFrame(tenth)\n",
        "dfj_social.info()\n",
        "\n",
        "social_bored = dfj_social.loc[(dfj_social['Q6'] == 2) & (dfj_social['Q25j'] == 1)]\n",
        "data_bored = social_bored.drop('Q6', axis = 1)\n",
        "Data_bored = data_bored.value_counts()\n",
        "social_data_bored = Data_bored.tolist()\n",
        "\n",
        "social1_bored = dfj_social.loc[(dfj_social['Q6'] == 2) & (dfj_social['Q25j'] == 2)]\n",
        "data1_bored = social1_bored.drop('Q6', axis = 1)\n",
        "Data1_bored = data1_bored.value_counts()\n",
        "social_data1_bored = Data1_bored.tolist()\n",
        "\n",
        "social2_bored = dfj_social.loc[(dfj_social['Q6'] == 2) & (dfj_social['Q25j'] == 3)]\n",
        "data2_bored = social2_bored.drop('Q6', axis = 1)\n",
        "Data2_bored = data2_bored.value_counts()\n",
        "social_data2_bored = Data2_bored.tolist()\n",
        "\n",
        "social3_bored = dfj_social.loc[(dfj_social['Q6'] == 2) & (dfj_social['Q25j'] == 4)]\n",
        "data3_bored = social3_bored.drop('Q6', axis = 1)\n",
        "Data3_bored = data3_bored.value_counts()\n",
        "social_data3_bored = Data3_bored.tolist()\n",
        "\n",
        "social4_bored = dfj_social.loc[(dfj_social['Q6'] == 2) & (dfj_social['Q25j'] == 5)]\n",
        "data4_bored = social4_bored.drop('Q6', axis = 1)\n",
        "Data4_bored = data4_bored.value_counts()\n",
        "social_data4_bored = Data4_bored.tolist()\n",
        "\n",
        "social_field_bored = social_data_bored + social_data1_bored + social_data2_bored + social_data3_bored + social_data4_bored"
      ],
      "metadata": {
        "colab": {
          "base_uri": "https://localhost:8080/"
        },
        "id": "57M-yBS9s-m2",
        "outputId": "436a3955-ec65-4959-cea9-567a8b9b72a1"
      },
      "execution_count": 20,
      "outputs": [
        {
          "output_type": "stream",
          "name": "stdout",
          "text": [
            "<class 'pandas.core.frame.DataFrame'>\n",
            "RangeIndex: 1600 entries, 0 to 1599\n",
            "Data columns (total 2 columns):\n",
            " #   Column  Non-Null Count  Dtype  \n",
            "---  ------  --------------  -----  \n",
            " 0   Q6      1600 non-null   float64\n",
            " 1   Q25j    1600 non-null   float64\n",
            "dtypes: float64(2)\n",
            "memory usage: 25.1 KB\n"
          ]
        }
      ]
    },
    {
      "cell_type": "code",
      "source": [
        "fig, ax = plt.subplots(figsize=(20, 10))\n",
        "labels = [\"Never\", \"Rarely\", \"Sometimes\", \"Often\", \"Always\"]\n",
        "category_labels = [\"Joyful\", \"Hopeful\", \"Proud\", \"Frustrated\", \"Angry\", \"Anxious\", \"Ashamed\", \"Relieved\", \"Hopeless\", \"Bored\"]\n",
        "\n",
        "social_bottom1 = social_field_joyful\n",
        "social_bottom2 = [a+b for a,b in zip(social_field_joyful, social_field_hopeful)]\n",
        "social_bottom3 = [a+b+c for a,b,c in zip(social_field_joyful, social_field_hopeful, social_field_proud)]\n",
        "social_bottom4 = [a+b+c+d for a,b,c,d in zip(social_field_joyful, social_field_hopeful, social_field_proud, social_field_frustrated)]\n",
        "social_bottom5 = [a+b+c+d+e for a,b,c,d,e in zip(social_field_joyful, social_field_hopeful, social_field_proud, social_field_frustrated, social_field_angry)]\n",
        "social_bottom6 = [a+b+c+d+e+f for a,b,c,d,e,f in zip(social_field_joyful, social_field_hopeful, social_field_proud, social_field_frustrated, social_field_angry, social_field_anxious)]\n",
        "social_bottom7 = [a+b+c+d+e+f+g for a,b,c,d,e,f,g in zip(social_field_joyful, social_field_hopeful, social_field_proud, social_field_frustrated, social_field_angry, social_field_anxious, social_field_ashamed)]\n",
        "social_bottom8 = [a+b+c+d+e+f+g+h for a,b,c,d,e,f,g,h in zip(social_field_joyful, social_field_hopeful, social_field_proud, social_field_frustrated, social_field_angry, social_field_anxious, social_field_ashamed, social_field_relieved)]\n",
        "social_bottom9 = [a+b+c+d+e+f+g+h+i for a,b,c,d,e,f,g,h,i in zip(social_field_joyful, social_field_hopeful, social_field_proud, social_field_frustrated, social_field_angry, social_field_anxious, social_field_ashamed, social_field_relieved, social_field_hopeless)]\n",
        "\n",
        "p1 = ax.barh(labels, social_field_joyful)\n",
        "p2 = ax.barh(labels, social_field_hopeful, left = social_bottom1)\n",
        "p3 = ax.barh(labels, social_field_proud, left = social_bottom2)\n",
        "p4 = ax.barh(labels, social_field_frustrated, left = social_bottom3)\n",
        "p5 = ax.barh(labels, social_field_angry, left = social_bottom4)\n",
        "p6 = ax.barh(labels, social_field_anxious, left = social_bottom5)\n",
        "p7 = ax.barh(labels, social_field_ashamed, left = social_bottom6)\n",
        "p8 = ax.barh(labels, social_field_relieved, left = social_bottom7)\n",
        "p9 = ax.barh(labels, social_field_hopeless, left = social_bottom8)\n",
        "p10 = ax.barh(labels, social_field_bored, left = social_bottom9)\n",
        "\n",
        "plt.title(\"Emotions by Social Sciences Students\", fontsize = 20)\n",
        "ax.legend(category_labels, fontsize = 13)\n",
        "plt.show()"
      ],
      "metadata": {
        "colab": {
          "base_uri": "https://localhost:8080/",
          "height": 531
        },
        "id": "CFVKlAG1tBGn",
        "outputId": "728bd32a-74b5-4a42-9427-dfed113a074e"
      },
      "execution_count": 33,
      "outputs": [
        {
          "output_type": "display_data",
          "data": {
            "text/plain": [
              "<Figure size 1440x720 with 1 Axes>"
            ],
            "image/png": "[encoded data removed]"
          },
          "metadata": {
            "needs_background": "light"
          }
        }
      ]
    },
    {
      "cell_type": "markdown",
      "source": [
        "# Field Study: Natural and Life Sciences"
      ],
      "metadata": {
        "id": "oj-DdJpL_ofB"
      }
    },
    {
      "cell_type": "code",
      "source": [
        "#Emotion: Joyful\n",
        "\n",
        "first = final_dts[[\"Q6\", \"Q25a\"]]\n",
        "dfa_natural = pd.DataFrame(first)\n",
        "dfa_natural.info()\n",
        "\n",
        "natural_joyful = dfa_natural.loc[(dfa_natural['Q6'] == 3) & (dfa_natural['Q25a'] == 1)]\n",
        "data_joyful_natural = natural_joyful.drop('Q6', axis = 1)\n",
        "Data_joyful = data_joyful_natural.value_counts()\n",
        "natural_data_joyful = Data_joyful.tolist()\n",
        "\n",
        "natural1_joyful = dfa_natural.loc[(dfa_natural['Q6'] == 3) & (dfa_natural['Q25a'] == 2)]\n",
        "data1_joyful_natural = natural1_joyful.drop('Q6', axis = 1)\n",
        "Data1_joyful = data1_joyful_natural.value_counts()\n",
        "natural_data1_joyful = Data1_joyful.tolist()\n",
        "\n",
        "natural2_joyful = dfa_natural.loc[(dfa_natural['Q6'] == 3) & (dfa_natural['Q25a'] == 3)]\n",
        "data2_joyful_natural = natural2_joyful.drop('Q6', axis = 1)\n",
        "Data2_joyful = data2_joyful_natural.value_counts()\n",
        "natural_data2_joyful = Data2_joyful.tolist()\n",
        "\n",
        "natural3_joyful = dfa_natural.loc[(dfa_natural['Q6'] == 3) & (dfa_natural['Q25a'] == 4)]\n",
        "data3_joyful_natural = natural3_joyful.drop('Q6', axis = 1)\n",
        "Data3_joyful = data3_joyful_natural.value_counts()\n",
        "natural_data3_joyful = Data3_joyful.tolist()\n",
        "\n",
        "natural4_joyful = dfa_natural.loc[(dfa_natural['Q6'] == 3) & (dfa_natural['Q25a'] == 5)]\n",
        "data4_joyful_natural = natural4_joyful.drop('Q6', axis = 1)\n",
        "Data4_joyful = data4_joyful_natural.value_counts()\n",
        "natural_data4_joyful = Data4_joyful.tolist()\n",
        "\n",
        "natural_field_joyful = natural_data_joyful + natural_data1_joyful + natural_data2_joyful + natural_data3_joyful + natural_data4_joyful"
      ],
      "metadata": {
        "id": "63BEVlZ6_7oJ"
      },
      "execution_count": null,
      "outputs": []
    },
    {
      "cell_type": "code",
      "source": [
        "#Emotion: Hopeful\n",
        "\n",
        "second = final_dts[[\"Q6\", \"Q25b\"]]\n",
        "dfb_natural = pd.DataFrame(second)\n",
        "dfb_natural.info()\n",
        "\n",
        "natural_hopeful = dfb_natural.loc[(dfb_natural['Q6'] == 3) & (dfb_natural['Q25b'] == 1)]\n",
        "data_hopeful = natural_hopeful.drop('Q6', axis = 1)\n",
        "Data_hopeful = data_hopeful.value_counts()\n",
        "natural_data_hopeful = Data_hopeful.tolist()\n",
        "\n",
        "natural1_hopeful = dfb_natural.loc[(dfb_natural['Q6'] == 3) & (dfb_natural['Q25b'] == 2)]\n",
        "data1_hopeful = natural1_hopeful.drop('Q6', axis = 1)\n",
        "Data1_hopeful = data1_hopeful.value_counts()\n",
        "natural_data1_hopeful = Data1_hopeful.tolist()\n",
        "\n",
        "natural2_hopeful = dfb_natural.loc[(dfb_natural['Q6'] == 3) & (dfb_natural['Q25b'] == 3)]\n",
        "data2_hopeful = natural2_hopeful.drop('Q6', axis = 1)\n",
        "Data2_hopeful = data2_hopeful.value_counts()\n",
        "natural_data2_hopeful = Data2_hopeful.tolist()\n",
        "\n",
        "natural3_hopeful = dfb_natural.loc[(dfb_natural['Q6'] == 3) & (dfb_natural['Q25b'] == 4)]\n",
        "data3_hopeful = natural3_hopeful.drop('Q6', axis = 1)\n",
        "Data3_hopeful = data3_hopeful.value_counts()\n",
        "natural_data3_hopeful = Data3_hopeful.tolist()\n",
        "\n",
        "natural4_hopeful = dfb_natural.loc[(dfb_natural['Q6'] == 3) & (dfb_natural['Q25b'] == 5)]\n",
        "data4_hopeful = natural4_hopeful.drop('Q6', axis = 1)\n",
        "Data4_hopeful = data4_hopeful.value_counts()\n",
        "natural_data4_hopeful = Data4_hopeful.tolist()\n",
        "\n",
        "natural_field_hopeful = natural_data_hopeful + natural_data1_hopeful + natural_data2_hopeful + natural_data3_hopeful + natural_data4_hopeful"
      ],
      "metadata": {
        "id": "BV1yyWplAFtx"
      },
      "execution_count": null,
      "outputs": []
    },
    {
      "cell_type": "code",
      "source": [
        "#Emotion: Proud\n",
        "\n",
        "third = final_dts[[\"Q6\", \"Q25c\"]]\n",
        "dfc_natural = pd.DataFrame(third)\n",
        "dfc_natural.info()\n",
        "\n",
        "natural_proud = dfc_natural.loc[(dfc_natural['Q6'] == 3) & (dfc_natural['Q25c'] == 1)]\n",
        "data_proud = natural_proud.drop('Q6', axis = 1)\n",
        "Data_proud = data_proud.value_counts()\n",
        "natural_data_proud = Data_proud.tolist()\n",
        "\n",
        "natural1_proud = dfc_natural.loc[(dfc_natural['Q6'] == 3) & (dfc_natural['Q25c'] == 2)]\n",
        "data1_proud = natural1_proud.drop('Q6', axis = 1)\n",
        "Data1_proud = data1_proud.value_counts()\n",
        "natural_data1_proud = Data1_proud.tolist()\n",
        "\n",
        "natural2_proud = dfc_natural.loc[(dfc_natural['Q6'] == 3) & (dfc_natural['Q25c'] == 3)]\n",
        "data2_proud = natural2_proud.drop('Q6', axis = 1)\n",
        "Data2_proud = data2_proud.value_counts()\n",
        "natural_data2_proud = Data2_proud.tolist()\n",
        "\n",
        "natural3_proud = dfc_natural.loc[(dfc_natural['Q6'] == 3) & (dfc_natural['Q25c'] == 4)]\n",
        "data3_proud = natural3_proud.drop('Q6', axis = 1)\n",
        "Data3_proud = data3_proud.value_counts()\n",
        "natural_data3_proud = Data3_proud.tolist()\n",
        "\n",
        "natural4_proud = dfc_natural.loc[(dfc_natural['Q6'] == 3) & (dfc_natural['Q25c'] == 5)]\n",
        "data4_proud = natural4_proud.drop('Q6', axis = 1)\n",
        "Data4_proud = data4_proud.value_counts()\n",
        "natural_data4_proud = Data4_proud.tolist()\n",
        "\n",
        "natural_field_proud = natural_data_proud + natural_data1_proud + natural_data2_proud + natural_data3_proud + natural_data4_proud"
      ],
      "metadata": {
        "id": "TEF-EHSyAHmA"
      },
      "execution_count": null,
      "outputs": []
    },
    {
      "cell_type": "code",
      "source": [
        "#Emotion: Frustrated\n",
        "\n",
        "fourth = final_dts[[\"Q6\", \"Q25d\"]]\n",
        "dfd_natural = pd.DataFrame(fourth)\n",
        "dfd_natural.info()\n",
        "\n",
        "natural_frustrated = dfd_natural.loc[(dfd_natural['Q6'] == 3) & (dfd_natural['Q25d'] == 1)]\n",
        "data_frustrated = natural_frustrated.drop('Q6', axis = 1)\n",
        "Data_frustrated = data_frustrated.value_counts()\n",
        "natural_data_frustrated = Data_frustrated.tolist()\n",
        "\n",
        "natural1_frustrated = dfd_natural.loc[(dfd_natural['Q6'] == 3) & (dfd_natural['Q25d'] == 2)]\n",
        "data1_frustrated = natural1_frustrated.drop('Q6', axis = 1)\n",
        "Data1_frustrated = data1_frustrated.value_counts()\n",
        "natural_data1_frustrated = Data1_frustrated.tolist()\n",
        "\n",
        "natural2_frustrated = dfd_natural.loc[(dfd_natural['Q6'] == 3) & (dfd_natural['Q25d'] == 3)]\n",
        "data2_frustrated = natural2_frustrated.drop('Q6', axis = 1)\n",
        "Data2_frustrated = data2_frustrated.value_counts()\n",
        "natural_data2_frustrated = Data2_frustrated.tolist()\n",
        "\n",
        "natural3_frustrated = dfd_natural.loc[(dfd_natural['Q6'] == 3) & (dfd_natural['Q25d'] == 4)]\n",
        "data3_frustrated = natural3_frustrated.drop('Q6', axis = 1)\n",
        "Data3_frustrated = data3_frustrated.value_counts()\n",
        "natural_data3_frustrated = Data3_frustrated.tolist()\n",
        "\n",
        "natural4_frustrated = dfd_natural.loc[(dfd_natural['Q6'] == 3) & (dfd_natural['Q25d'] == 5)]\n",
        "data4_frustrated = natural4_frustrated.drop('Q6', axis = 1)\n",
        "Data4_frustrated = data4_frustrated.value_counts()\n",
        "natural_data4_frustrated = Data4_frustrated.tolist()\n",
        "\n",
        "natural_field_frustrated = natural_data_frustrated + natural_data1_frustrated + natural_data2_frustrated + natural_data3_frustrated + natural_data4_frustrated"
      ],
      "metadata": {
        "id": "S7-KuRv8AK3B"
      },
      "execution_count": null,
      "outputs": []
    },
    {
      "cell_type": "code",
      "source": [
        "#Emotion: Angry\n",
        "\n",
        "fifth = final_dts[[\"Q6\", \"Q25e\"]]\n",
        "dfe_natural = pd.DataFrame(fifth)\n",
        "dfe_natural.info()\n",
        "\n",
        "natural_angry = dfe_natural.loc[(dfe_natural['Q6'] == 3) & (dfe_natural['Q25e'] == 1)]\n",
        "data_angry = natural_angry.drop('Q6', axis = 1)\n",
        "Data_angry = data_angry.value_counts()\n",
        "natural_data_angry = Data_angry.tolist()\n",
        "\n",
        "natural1_angry = dfe_natural.loc[(dfe_natural['Q6'] == 3) & (dfe_natural['Q25e'] == 2)]\n",
        "data1_angry = natural1_angry.drop('Q6', axis = 1)\n",
        "Data1_angry = data1_angry.value_counts()\n",
        "natural_data1_angry = Data1_angry.tolist()\n",
        "\n",
        "natural2_angry = dfe_natural.loc[(dfe_natural['Q6'] == 3) & (dfe_natural['Q25e'] == 3)]\n",
        "data2_angry = natural2_angry.drop('Q6', axis = 1)\n",
        "Data2_angry = data2_angry.value_counts()\n",
        "natural_data2_angry = Data2_angry.tolist()\n",
        "\n",
        "natural3_angry = dfe_natural.loc[(dfe_natural['Q6'] == 3) & (dfe_natural['Q25e'] == 4)]\n",
        "data3_angry = natural3_angry.drop('Q6', axis = 1)\n",
        "Data3_angry = data3_angry.value_counts()\n",
        "natural_data3_angry = Data3_angry.tolist()\n",
        "\n",
        "natural4_angry = dfe_natural.loc[(dfe_natural['Q6'] == 3) & (dfe_natural['Q25e'] == 5)]\n",
        "data4_angry = natural4_angry.drop('Q6', axis = 1)\n",
        "Data4_angry = data4_angry.value_counts()\n",
        "natural_data4_angry = Data4_angry.tolist()\n",
        "\n",
        "natural_field_angry = natural_data_angry + natural_data1_angry + natural_data2_angry + natural_data3_angry + natural_data4_angry"
      ],
      "metadata": {
        "id": "y8-sHNLlAMt4"
      },
      "execution_count": null,
      "outputs": []
    },
    {
      "cell_type": "code",
      "source": [
        "#Emotion: Anxious\n",
        "\n",
        "sixth = final_dts[[\"Q6\", \"Q25f\"]]\n",
        "dff_natural = pd.DataFrame(sixth)\n",
        "dff_natural.info()\n",
        "\n",
        "natural_anxious = dff_natural.loc[(dff_natural['Q6'] == 3) & (dff_natural['Q25f'] == 1)]\n",
        "data_anxious = natural_anxious.drop('Q6', axis = 1)\n",
        "Data_anxious = data_anxious.value_counts()\n",
        "natural_data_anxious = Data_anxious.tolist()\n",
        "\n",
        "natural1_anxious = dff_natural.loc[(dff_natural['Q6'] == 3) & (dff_natural['Q25f'] == 2)]\n",
        "data1_anxious = natural1_anxious.drop('Q6', axis = 1)\n",
        "Data1_anxious = data1_anxious.value_counts()\n",
        "natural_data1_anxious = Data1_anxious.tolist()\n",
        "\n",
        "natural2_anxious = dff_natural.loc[(dff_natural['Q6'] == 3) & (dff_natural['Q25f'] == 3)]\n",
        "data2_anxious = natural2_anxious.drop('Q6', axis = 1)\n",
        "Data2_anxious = data2_anxious.value_counts()\n",
        "natural_data2_anxious = Data2_anxious.tolist()\n",
        "\n",
        "natural3_anxious = dff_natural.loc[(dff_natural['Q6'] == 3) & (dff_natural['Q25f'] == 4)]\n",
        "data3_anxious = natural3_anxious.drop('Q6', axis = 1)\n",
        "Data3_anxious = data3_anxious.value_counts()\n",
        "natural_data3_anxious = Data3_anxious.tolist()\n",
        "\n",
        "natural4_anxious = dff_natural.loc[(dff_natural['Q6'] == 3) & (dff_natural['Q25f'] == 5)]\n",
        "data4_anxious = natural4_anxious.drop('Q6', axis = 1)\n",
        "Data4_anxious = data4_anxious.value_counts()\n",
        "natural_data4_anxious = Data4_anxious.tolist()\n",
        "\n",
        "natural_field_anxious = natural_data_anxious + natural_data1_anxious + natural_data2_anxious + natural_data3_anxious + natural_data4_anxious"
      ],
      "metadata": {
        "id": "KqRGASe6AOT4"
      },
      "execution_count": null,
      "outputs": []
    },
    {
      "cell_type": "code",
      "source": [
        "#Emotion: Ashamed\n",
        "\n",
        "seventh = final_dts[[\"Q6\", \"Q25g\"]]\n",
        "dfg_natural = pd.DataFrame(seventh)\n",
        "dfg_natural.info()\n",
        "\n",
        "natural_ashamed = dfg_natural.loc[(dfg_natural['Q6'] == 3) & (dfg_natural['Q25g'] == 1)]\n",
        "data_ashamed = natural_ashamed.drop('Q6', axis = 1)\n",
        "Data_ashamed = data_ashamed.value_counts()\n",
        "natural_data_ashamed = Data_ashamed.tolist()\n",
        "\n",
        "natural1_ashamed = dfg_natural.loc[(dfg_natural['Q6'] == 3) & (dfg_natural['Q25g'] == 2)]\n",
        "data1_ashamed = natural1_ashamed.drop('Q6', axis = 1)\n",
        "Data1_ashamed = data1_ashamed.value_counts()\n",
        "natural_data1_ashamed = Data1_ashamed.tolist()\n",
        "\n",
        "natural2_ashamed = dfg_natural.loc[(dfg_natural['Q6'] == 3) & (dfg_natural['Q25g'] == 3)]\n",
        "data2_ashamed = natural2_ashamed.drop('Q6', axis = 1)\n",
        "Data2_ashamed = data2_ashamed.value_counts()\n",
        "natural_data2_ashamed = Data2_ashamed.tolist()\n",
        "\n",
        "natural3_ashamed = dfg_natural.loc[(dfg_natural['Q6'] == 3) & (dfg_natural['Q25g'] == 4)]\n",
        "data3_ashamed = natural3_ashamed.drop('Q6', axis = 1)\n",
        "Data3_ashamed = data3_ashamed.value_counts()\n",
        "natural_data3_ashamed = Data3_ashamed.tolist()\n",
        "\n",
        "natural4_ashamed = dfg_natural.loc[(dfg_natural['Q6'] == 3) & (dfg_natural['Q25g'] == 5)]\n",
        "data4_ashamed = natural4_ashamed.drop('Q6', axis = 1)\n",
        "Data4_ashamed = data4_ashamed.value_counts()\n",
        "natural_data4_ashamed = Data4_ashamed.tolist()\n",
        "\n",
        "natural_field_ashamed = natural_data_ashamed + natural_data1_ashamed + natural_data2_ashamed + natural_data3_ashamed + natural_data4_ashamed"
      ],
      "metadata": {
        "id": "E0jLMLtZAPx4"
      },
      "execution_count": null,
      "outputs": []
    },
    {
      "cell_type": "code",
      "source": [
        "#Emotion: Relieved\n",
        "\n",
        "eighth = final_dts[[\"Q6\", \"Q25h\"]]\n",
        "dfh_natural = pd.DataFrame(eighth)\n",
        "dfh_natural.info()\n",
        "\n",
        "natural_relieved = dfh_natural.loc[(dfh_natural['Q6'] == 3) & (dfh_natural['Q25h'] == 1)]\n",
        "data_relieved = natural_relieved.drop('Q6', axis = 1)\n",
        "Data_relieved = data_relieved.value_counts()\n",
        "natural_data_relieved = Data_relieved.tolist()\n",
        "\n",
        "natural1_relieved = dfh_natural.loc[(dfh_natural['Q6'] == 3) & (dfh_natural['Q25h'] == 2)]\n",
        "data1_relieved = natural1_relieved.drop('Q6', axis = 1)\n",
        "Data1_relieved = data1_relieved.value_counts()\n",
        "natural_data1_relieved = Data1_relieved.tolist()\n",
        "\n",
        "natural2_relieved = dfh_natural.loc[(dfh_natural['Q6'] == 3) & (dfh_natural['Q25h'] == 3)]\n",
        "data2_relieved = natural2_relieved.drop('Q6', axis = 1)\n",
        "Data2_relieved = data2_relieved.value_counts()\n",
        "natural_data2_relieved = Data2_relieved.tolist()\n",
        "\n",
        "natural3_relieved = dfh_natural.loc[(dfh_natural['Q6'] == 3) & (dfh_natural['Q25h'] == 4)]\n",
        "data3_relieved = natural3_relieved.drop('Q6', axis = 1)\n",
        "Data3_relieved = data3_relieved.value_counts()\n",
        "natural_data3_relieved = Data3_relieved.tolist()\n",
        "\n",
        "natural4_relieved = dfh_natural.loc[(dfh_natural['Q6'] == 3) & (dfh_natural['Q25h'] == 5)]\n",
        "data4_relieved = natural4_relieved.drop('Q6', axis = 1)\n",
        "Data4_relieved = data4_relieved.value_counts()\n",
        "natural_data4_relieved = Data4_relieved.tolist()\n",
        "\n",
        "natural_field_relieved = natural_data_relieved + natural_data1_relieved + natural_data2_relieved + natural_data3_relieved + natural_data4_relieved"
      ],
      "metadata": {
        "id": "i8C_zmjFARiY"
      },
      "execution_count": null,
      "outputs": []
    },
    {
      "cell_type": "code",
      "source": [
        "#Emotion: Hopeless\n",
        "\n",
        "ninth = final_dts[[\"Q6\", \"Q25i\"]]\n",
        "dfi_natural = pd.DataFrame(ninth)\n",
        "dfi_natural.info()\n",
        "\n",
        "natural_hopeless = dfi_natural.loc[(dfi_natural['Q6'] == 3) & (dfi_natural['Q25i'] == 1)]\n",
        "data_hopeless = natural_hopeless.drop('Q6', axis = 1)\n",
        "Data_hopeless = data_hopeless.value_counts()\n",
        "natural_data_hopeless = Data_hopeless.tolist()\n",
        "\n",
        "natural1_hopeless = dfi_natural.loc[(dfi_natural['Q6'] == 3) & (dfi_natural['Q25i'] == 2)]\n",
        "data1_hopeless = natural1_hopeless.drop('Q6', axis = 1)\n",
        "Data1_hopeless = data1_hopeless.value_counts()\n",
        "natural_data1_hopeless = Data1_hopeless.tolist()\n",
        "\n",
        "natural2_hopeless = dfi_natural.loc[(dfi_natural['Q6'] == 3) & (dfi_natural['Q25i'] == 3)]\n",
        "data2_hopeless = natural2_hopeless.drop('Q6', axis = 1)\n",
        "Data2_hopeless = data2_hopeless.value_counts()\n",
        "natural_data2_hopeless = Data2_hopeless.tolist()\n",
        "\n",
        "natural3_hopeless = dfi_natural.loc[(dfi_natural['Q6'] == 3) & (dfi_natural['Q25i'] == 4)]\n",
        "data3_hopeless = natural3_hopeless.drop('Q6', axis = 1)\n",
        "Data3_hopeless = data3_hopeless.value_counts()\n",
        "natural_data3_hopeless = Data3_hopeless.tolist()\n",
        "\n",
        "natural4_hopeless = dfi_natural.loc[(dfi_natural['Q6'] == 3) & (dfi_natural['Q25i'] == 5)]\n",
        "data4_hopeless = natural4_hopeless.drop('Q6', axis = 1)\n",
        "Data4_hopeless = data4_hopeless.value_counts()\n",
        "natural_data4_hopeless = Data4_hopeless.tolist()\n",
        "\n",
        "natural_field_hopeless = natural_data_hopeless + natural_data1_hopeless + natural_data2_hopeless + natural_data3_hopeless + natural_data4_hopeless"
      ],
      "metadata": {
        "id": "Fi3vPKK6ATW6"
      },
      "execution_count": null,
      "outputs": []
    },
    {
      "cell_type": "code",
      "source": [
        "#Emotion: Bored\n",
        "\n",
        "tenth = final_dts[[\"Q6\", \"Q25j\"]]\n",
        "dfj_natural = pd.DataFrame(tenth)\n",
        "dfj_natural.info()\n",
        "\n",
        "natural_bored = dfj_natural.loc[(dfj_natural['Q6'] == 3) & (dfj_natural['Q25j'] == 1)]\n",
        "data_bored = natural_bored.drop('Q6', axis = 1)\n",
        "Data_bored = data_bored.value_counts()\n",
        "natural_data_bored = Data_bored.tolist()\n",
        "\n",
        "natural1_bored = dfj_natural.loc[(dfj_natural['Q6'] == 3) & (dfj_natural['Q25j'] == 2)]\n",
        "data1_bored = natural1_bored.drop('Q6', axis = 1)\n",
        "Data1_bored = data1_bored.value_counts()\n",
        "natural_data1_bored = Data1_bored.tolist()\n",
        "\n",
        "natural2_bored = dfj_natural.loc[(dfj_natural['Q6'] == 3) & (dfj_natural['Q25j'] == 3)]\n",
        "data2_bored = natural2_bored.drop('Q6', axis = 1)\n",
        "Data2_bored = data2_bored.value_counts()\n",
        "natural_data2_bored = Data2_bored.tolist()\n",
        "\n",
        "natural3_bored = dfj_natural.loc[(dfj_natural['Q6'] == 3) & (dfj_natural['Q25j'] == 4)]\n",
        "data3_bored = natural3_bored.drop('Q6', axis = 1)\n",
        "Data3_bored = data3_bored.value_counts()\n",
        "natural_data3_bored = Data3_bored.tolist()\n",
        "\n",
        "natural4_bored = dfj_natural.loc[(dfj_natural['Q6'] == 3) & (dfj_natural['Q25j'] == 5)]\n",
        "data4_bored = natural4_bored.drop('Q6', axis = 1)\n",
        "Data4_bored = data4_bored.value_counts()\n",
        "natural_data4_bored = Data4_bored.tolist()\n",
        "\n",
        "natural_field_bored = natural_data_bored + natural_data1_bored + natural_data2_bored + natural_data3_bored + natural_data4_bored"
      ],
      "metadata": {
        "id": "kpObVKfBAVe5"
      },
      "execution_count": null,
      "outputs": []
    },
    {
      "cell_type": "code",
      "source": [
        "fig, ax = plt.subplots(figsize=(20, 10))\n",
        "labels = [\"Never\", \"Rarely\", \"Sometimes\", \"Often\", \"Always\"]\n",
        "category_labels = [\"Joyful\", \"Hopeful\", \"Proud\", \"Frustrated\", \"Angry\", \"Anxious\", \"Ashamed\", \"Relieved\", \"Hopeless\", \"Bored\"]\n",
        "\n",
        "natural_bottom1 = natural_field_joyful\n",
        "natural_bottom2 = [a+b for a,b in zip(natural_field_joyful, natural_field_hopeful)]\n",
        "natural_bottom3 = [a+b+c for a,b,c in zip(natural_field_joyful, natural_field_hopeful, natural_field_proud)]\n",
        "natural_bottom4 = [a+b+c+d for a,b,c,d in zip(natural_field_joyful, natural_field_hopeful, natural_field_proud, natural_field_frustrated)]\n",
        "natural_bottom5 = [a+b+c+d+e for a,b,c,d,e in zip(natural_field_joyful, natural_field_hopeful, natural_field_proud, natural_field_frustrated, natural_field_angry)]\n",
        "natural_bottom6 = [a+b+c+d+e+f for a,b,c,d,e,f in zip(natural_field_joyful, natural_field_hopeful, natural_field_proud, natural_field_frustrated, natural_field_angry, natural_field_anxious)]\n",
        "natural_bottom7 = [a+b+c+d+e+f+g for a,b,c,d,e,f,g in zip(natural_field_joyful, natural_field_hopeful, natural_field_proud, natural_field_frustrated, natural_field_angry, natural_field_anxious, natural_field_ashamed)]\n",
        "natural_bottom8 = [a+b+c+d+e+f+g+h for a,b,c,d,e,f,g,h in zip(natural_field_joyful, natural_field_hopeful, natural_field_proud, natural_field_frustrated, natural_field_angry, natural_field_anxious, natural_field_ashamed, natural_field_relieved)]\n",
        "natural_bottom9 = [a+b+c+d+e+f+g+h+i for a,b,c,d,e,f,g,h,i in zip(natural_field_joyful, natural_field_hopeful, natural_field_proud, natural_field_frustrated, natural_field_angry, natural_field_anxious, natural_field_ashamed, natural_field_relieved, natural_field_hopeless)]\n",
        "\n",
        "p1 = ax.barh(labels, natural_field_joyful)\n",
        "p2 = ax.barh(labels, natural_field_hopeful, left = natural_bottom1)\n",
        "p3 = ax.barh(labels, natural_field_proud, left = natural_bottom2)\n",
        "p4 = ax.barh(labels, natural_field_frustrated, left = natural_bottom3)\n",
        "p5 = ax.barh(labels, natural_field_angry, left = natural_bottom4)\n",
        "p6 = ax.barh(labels, natural_field_anxious, left = natural_bottom5)\n",
        "p7 = ax.barh(labels, natural_field_ashamed, left = natural_bottom6)\n",
        "p8 = ax.barh(labels, natural_field_relieved, left = natural_bottom7)\n",
        "p9 = ax.barh(labels, natural_field_hopeless, left = natural_bottom8)\n",
        "p10 = ax.barh(labels, natural_field_bored, left = natural_bottom9)\n",
        "\n",
        "plt.title(\"Emotions by Natural Students\", fontsize = 20)\n",
        "ax.legend(category_labels, fontsize = 13)\n",
        "plt.show()"
      ],
      "metadata": {
        "colab": {
          "base_uri": "https://localhost:8080/",
          "height": 531
        },
        "id": "2XhfABJ5AXhn",
        "outputId": "2e71fe96-d1bc-4c6e-d8f3-4d7ff7f12782"
      },
      "execution_count": 44,
      "outputs": [
        {
          "output_type": "display_data",
          "data": {
            "text/plain": [
              "<Figure size 1440x720 with 1 Axes>"
            ],
            "image/png": "[encoded data removed]"
          },
          "metadata": {
            "needs_background": "light"
          }
        }
      ]
    },
    {
      "cell_type": "markdown",
      "source": [
        "# Field Study: Technical"
      ],
      "metadata": {
        "id": "_aDk7FS1E5XB"
      }
    },
    {
      "cell_type": "code",
      "source": [
        "#Emotion: Joyful\n",
        "\n",
        "first = final_dts[[\"Q6\", \"Q25a\"]]\n",
        "dfa_technical = pd.DataFrame(first)\n",
        "dfa_technical.info()\n",
        "\n",
        "technical_joyful = dfa_technical.loc[(dfa_technical['Q6'] == 4) & (dfa_technical['Q25a'] == 1)]\n",
        "data_joyful_technical = technical_joyful.drop('Q6', axis = 1)\n",
        "Data_joyful = data_joyful_technical.value_counts()\n",
        "technical_data_joyful = Data_joyful.tolist()\n",
        "\n",
        "technical1_joyful = dfa_technical.loc[(dfa_technical['Q6'] == 4) & (dfa_technical['Q25a'] == 2)]\n",
        "data1_joyful_technical = technical1_joyful.drop('Q6', axis = 1)\n",
        "Data1_joyful = data1_joyful_technical.value_counts()\n",
        "technical_data1_joyful = Data1_joyful.tolist()\n",
        "\n",
        "technical2_joyful = dfa_technical.loc[(dfa_technical['Q6'] == 4) & (dfa_technical['Q25a'] == 3)]\n",
        "data2_joyful_technical = technical2_joyful.drop('Q6', axis = 1)\n",
        "Data2_joyful = data2_joyful_technical.value_counts()\n",
        "technical_data2_joyful = Data2_joyful.tolist()\n",
        "\n",
        "technical3_joyful = dfa_technical.loc[(dfa_technical['Q6'] == 4) & (dfa_technical['Q25a'] == 4)]\n",
        "data3_joyful_technical = technical3_joyful.drop('Q6', axis = 1)\n",
        "Data3_joyful = data3_joyful_technical.value_counts()\n",
        "technical_data3_joyful = Data3_joyful.tolist()\n",
        "\n",
        "technical4_joyful = dfa_technical.loc[(dfa_technical['Q6'] == 4) & (dfa_technical['Q25a'] == 5)]\n",
        "data4_joyful_technical = technical4_joyful.drop('Q6', axis = 1)\n",
        "Data4_joyful = data4_joyful_technical.value_counts()\n",
        "technical_data4_joyful = Data4_joyful.tolist()\n",
        "\n",
        "technical_field_joyful = technical_data_joyful + technical_data1_joyful + technical_data2_joyful + technical_data3_joyful + technical_data4_joyful"
      ],
      "metadata": {
        "id": "fXx5SBMCE_i6"
      },
      "execution_count": null,
      "outputs": []
    },
    {
      "cell_type": "code",
      "source": [
        "#Emotion: Hopeful\n",
        "\n",
        "second = final_dts[[\"Q6\", \"Q25b\"]]\n",
        "dfb_technical = pd.DataFrame(second)\n",
        "dfb_technical.info()\n",
        "\n",
        "technical_hopeful = dfb_technical.loc[(dfb_technical['Q6'] == 4) & (dfb_technical['Q25b'] == 1)]\n",
        "data_hopeful = technical_hopeful.drop('Q6', axis = 1)\n",
        "Data_hopeful = data_hopeful.value_counts()\n",
        "technical_data_hopeful = Data_hopeful.tolist()\n",
        "\n",
        "technical1_hopeful = dfb_technical.loc[(dfb_technical['Q6'] == 4) & (dfb_technical['Q25b'] == 2)]\n",
        "data1_hopeful = technical1_hopeful.drop('Q6', axis = 1)\n",
        "Data1_hopeful = data1_hopeful.value_counts()\n",
        "technical_data1_hopeful = Data1_hopeful.tolist()\n",
        "\n",
        "technical2_hopeful = dfb_technical.loc[(dfb_technical['Q6'] == 4) & (dfb_technical['Q25b'] == 3)]\n",
        "data2_hopeful = technical2_hopeful.drop('Q6', axis = 1)\n",
        "Data2_hopeful = data2_hopeful.value_counts()\n",
        "technical_data2_hopeful = Data2_hopeful.tolist()\n",
        "\n",
        "technical3_hopeful = dfb_technical.loc[(dfb_technical['Q6'] == 4) & (dfb_technical['Q25b'] == 4)]\n",
        "data3_hopeful = technical3_hopeful.drop('Q6', axis = 1)\n",
        "Data3_hopeful = data3_hopeful.value_counts()\n",
        "technical_data3_hopeful = Data3_hopeful.tolist()\n",
        "\n",
        "technical4_hopeful = dfb_technical.loc[(dfb_technical['Q6'] == 4) & (dfb_technical['Q25b'] == 5)]\n",
        "data4_hopeful = technical4_hopeful.drop('Q6', axis = 1)\n",
        "Data4_hopeful = data4_hopeful.value_counts()\n",
        "technical_data4_hopeful = Data4_hopeful.tolist()\n",
        "\n",
        "technical_field_hopeful = technical_data_hopeful + technical_data1_hopeful + technical_data2_hopeful + technical_data3_hopeful + technical_data4_hopeful"
      ],
      "metadata": {
        "colab": {
          "base_uri": "https://localhost:8080/"
        },
        "id": "b9ZLpMAmFGUC",
        "outputId": "d8774cae-31f8-4ff9-d5cd-249a8634b118"
      },
      "execution_count": 46,
      "outputs": [
        {
          "output_type": "stream",
          "name": "stdout",
          "text": [
            "<class 'pandas.core.frame.DataFrame'>\n",
            "RangeIndex: 1600 entries, 0 to 1599\n",
            "Data columns (total 2 columns):\n",
            " #   Column  Non-Null Count  Dtype  \n",
            "---  ------  --------------  -----  \n",
            " 0   Q6      1600 non-null   float64\n",
            " 1   Q25b    1600 non-null   float64\n",
            "dtypes: float64(2)\n",
            "memory usage: 25.1 KB\n"
          ]
        }
      ]
    },
    {
      "cell_type": "code",
      "source": [
        "#Emotion: Proud\n",
        "\n",
        "third = final_dts[[\"Q6\", \"Q25c\"]]\n",
        "dfc_technical = pd.DataFrame(third)\n",
        "dfc_technical.info()\n",
        "\n",
        "technical_proud = dfc_technical.loc[(dfc_technical['Q6'] == 4) & (dfc_technical['Q25c'] == 1)]\n",
        "data_proud = technical_proud.drop('Q6', axis = 1)\n",
        "Data_proud = data_proud.value_counts()\n",
        "technical_data_proud = Data_proud.tolist()\n",
        "\n",
        "technical1_proud = dfc_technical.loc[(dfc_technical['Q6'] == 4) & (dfc_technical['Q25c'] == 2)]\n",
        "data1_proud = technical1_proud.drop('Q6', axis = 1)\n",
        "Data1_proud = data1_proud.value_counts()\n",
        "technical_data1_proud = Data1_proud.tolist()\n",
        "\n",
        "technical2_proud = dfc_technical.loc[(dfc_technical['Q6'] == 4) & (dfc_technical['Q25c'] == 3)]\n",
        "data2_proud = technical2_proud.drop('Q6', axis = 1)\n",
        "Data2_proud = data2_proud.value_counts()\n",
        "technical_data2_proud = Data2_proud.tolist()\n",
        "\n",
        "technical3_proud = dfc_technical.loc[(dfc_technical['Q6'] == 4) & (dfc_technical['Q25c'] == 4)]\n",
        "data3_proud = technical3_proud.drop('Q6', axis = 1)\n",
        "Data3_proud = data3_proud.value_counts()\n",
        "technical_data3_proud = Data3_proud.tolist()\n",
        "\n",
        "technical4_proud = dfc_technical.loc[(dfc_technical['Q6'] == 4) & (dfc_technical['Q25c'] == 5)]\n",
        "data4_proud = technical4_proud.drop('Q6', axis = 1)\n",
        "Data4_proud = data4_proud.value_counts()\n",
        "technical_data4_proud = Data4_proud.tolist()\n",
        "\n",
        "technical_field_proud = technical_data_proud + technical_data1_proud + technical_data2_proud + technical_data3_proud + technical_data4_proud"
      ],
      "metadata": {
        "colab": {
          "base_uri": "https://localhost:8080/"
        },
        "id": "oIKOtFeBFKV5",
        "outputId": "89a02440-9202-47f6-8e1d-174eeb859761"
      },
      "execution_count": 47,
      "outputs": [
        {
          "output_type": "stream",
          "name": "stdout",
          "text": [
            "<class 'pandas.core.frame.DataFrame'>\n",
            "RangeIndex: 1600 entries, 0 to 1599\n",
            "Data columns (total 2 columns):\n",
            " #   Column  Non-Null Count  Dtype  \n",
            "---  ------  --------------  -----  \n",
            " 0   Q6      1600 non-null   float64\n",
            " 1   Q25c    1600 non-null   float64\n",
            "dtypes: float64(2)\n",
            "memory usage: 25.1 KB\n"
          ]
        }
      ]
    },
    {
      "cell_type": "code",
      "source": [
        "#Emotion: Frustrated\n",
        "\n",
        "fourth = final_dts[[\"Q6\", \"Q25d\"]]\n",
        "dfd_technical = pd.DataFrame(fourth)\n",
        "dfd_technical.info()\n",
        "\n",
        "technical_frustrated = dfd_technical.loc[(dfd_technical['Q6'] == 4) & (dfd_technical['Q25d'] == 1)]\n",
        "data_frustrated = technical_frustrated.drop('Q6', axis = 1)\n",
        "Data_frustrated = data_frustrated.value_counts()\n",
        "technical_data_frustrated = Data_frustrated.tolist()\n",
        "\n",
        "technical1_frustrated = dfd_technical.loc[(dfd_technical['Q6'] == 4) & (dfd_technical['Q25d'] == 2)]\n",
        "data1_frustrated = technical1_frustrated.drop('Q6', axis = 1)\n",
        "Data1_frustrated = data1_frustrated.value_counts()\n",
        "technical_data1_frustrated = Data1_frustrated.tolist()\n",
        "\n",
        "technical2_frustrated = dfd_technical.loc[(dfd_technical['Q6'] == 4) & (dfd_technical['Q25d'] == 3)]\n",
        "data2_frustrated = technical2_frustrated.drop('Q6', axis = 1)\n",
        "Data2_frustrated = data2_frustrated.value_counts()\n",
        "technical_data2_frustrated = Data2_frustrated.tolist()\n",
        "\n",
        "technical3_frustrated = dfd_technical.loc[(dfd_technical['Q6'] == 4) & (dfd_technical['Q25d'] == 4)]\n",
        "data3_frustrated = technical3_frustrated.drop('Q6', axis = 1)\n",
        "Data3_frustrated = data3_frustrated.value_counts()\n",
        "technical_data3_frustrated = Data3_frustrated.tolist()\n",
        "\n",
        "technical4_frustrated = dfd_technical.loc[(dfd_technical['Q6'] == 4) & (dfd_technical['Q25d'] == 5)]\n",
        "data4_frustrated = technical4_frustrated.drop('Q6', axis = 1)\n",
        "Data4_frustrated = data4_frustrated.value_counts()\n",
        "technical_data4_frustrated = Data4_frustrated.tolist()\n",
        "\n",
        "technical_field_frustrated = technical_data_frustrated + technical_data1_frustrated + technical_data2_frustrated + technical_data3_frustrated + technical_data4_frustrated"
      ],
      "metadata": {
        "colab": {
          "base_uri": "https://localhost:8080/"
        },
        "id": "k1OdMH2uFM7h",
        "outputId": "f23ef9d7-42e4-4fde-91b5-039455c40808"
      },
      "execution_count": 48,
      "outputs": [
        {
          "output_type": "stream",
          "name": "stdout",
          "text": [
            "<class 'pandas.core.frame.DataFrame'>\n",
            "RangeIndex: 1600 entries, 0 to 1599\n",
            "Data columns (total 2 columns):\n",
            " #   Column  Non-Null Count  Dtype  \n",
            "---  ------  --------------  -----  \n",
            " 0   Q6      1600 non-null   float64\n",
            " 1   Q25d    1600 non-null   float64\n",
            "dtypes: float64(2)\n",
            "memory usage: 25.1 KB\n"
          ]
        }
      ]
    },
    {
      "cell_type": "code",
      "source": [
        "#Emotion: Angry\n",
        "\n",
        "fifth = final_dts[[\"Q6\", \"Q25e\"]]\n",
        "dfe_technical = pd.DataFrame(fifth)\n",
        "dfe_technical.info()\n",
        "\n",
        "technical_angry = dfe_technical.loc[(dfe_technical['Q6'] == 4) & (dfe_technical['Q25e'] == 1)]\n",
        "data_angry = technical_angry.drop('Q6', axis = 1)\n",
        "Data_angry = data_angry.value_counts()\n",
        "technical_data_angry = Data_angry.tolist()\n",
        "\n",
        "technical1_angry = dfe_technical.loc[(dfe_technical['Q6'] == 4) & (dfe_technical['Q25e'] == 2)]\n",
        "data1_angry = technical1_angry.drop('Q6', axis = 1)\n",
        "Data1_angry = data1_angry.value_counts()\n",
        "technical_data1_angry = Data1_angry.tolist()\n",
        "\n",
        "technical2_angry = dfe_technical.loc[(dfe_technical['Q6'] == 4) & (dfe_technical['Q25e'] == 3)]\n",
        "data2_angry = technical2_angry.drop('Q6', axis = 1)\n",
        "Data2_angry = data2_angry.value_counts()\n",
        "technical_data2_angry = Data2_angry.tolist()\n",
        "\n",
        "technical3_angry = dfe_technical.loc[(dfe_technical['Q6'] == 4) & (dfe_technical['Q25e'] == 4)]\n",
        "data3_angry = technical3_angry.drop('Q6', axis = 1)\n",
        "Data3_angry = data3_angry.value_counts()\n",
        "technical_data3_angry = Data3_angry.tolist()\n",
        "\n",
        "technical4_angry = dfe_technical.loc[(dfe_technical['Q6'] == 4) & (dfe_technical['Q25e'] == 5)]\n",
        "data4_angry = technical4_angry.drop('Q6', axis = 1)\n",
        "Data4_angry = data4_angry.value_counts()\n",
        "technical_data4_angry = Data4_angry.tolist()\n",
        "\n",
        "technical_field_angry = technical_data_angry + technical_data1_angry + technical_data2_angry + technical_data3_angry + technical_data4_angry"
      ],
      "metadata": {
        "colab": {
          "base_uri": "https://localhost:8080/"
        },
        "id": "fmLflFF3FPOo",
        "outputId": "c5b712db-c302-4215-a3cf-ec4854283fe3"
      },
      "execution_count": 49,
      "outputs": [
        {
          "output_type": "stream",
          "name": "stdout",
          "text": [
            "<class 'pandas.core.frame.DataFrame'>\n",
            "RangeIndex: 1600 entries, 0 to 1599\n",
            "Data columns (total 2 columns):\n",
            " #   Column  Non-Null Count  Dtype  \n",
            "---  ------  --------------  -----  \n",
            " 0   Q6      1600 non-null   float64\n",
            " 1   Q25e    1600 non-null   float64\n",
            "dtypes: float64(2)\n",
            "memory usage: 25.1 KB\n"
          ]
        }
      ]
    },
    {
      "cell_type": "code",
      "source": [
        "#Emotion: Anxious\n",
        "\n",
        "sixth = final_dts[[\"Q6\", \"Q25f\"]]\n",
        "dff_technical = pd.DataFrame(sixth)\n",
        "dff_technical.info()\n",
        "\n",
        "technical_anxious = dff_technical.loc[(dff_technical['Q6'] == 4) & (dff_technical['Q25f'] == 1)]\n",
        "data_anxious = technical_anxious.drop('Q6', axis = 1)\n",
        "Data_anxious = data_anxious.value_counts()\n",
        "technical_data_anxious = Data_anxious.tolist()\n",
        "\n",
        "technical1_anxious = dff_technical.loc[(dff_technical['Q6'] == 4) & (dff_technical['Q25f'] == 2)]\n",
        "data1_anxious = technical1_anxious.drop('Q6', axis = 1)\n",
        "Data1_anxious = data1_anxious.value_counts()\n",
        "technical_data1_anxious = Data1_anxious.tolist()\n",
        "\n",
        "technical2_anxious = dff_technical.loc[(dff_technical['Q6'] == 4) & (dff_technical['Q25f'] == 3)]\n",
        "data2_anxious = technical2_anxious.drop('Q6', axis = 1)\n",
        "Data2_anxious = data2_anxious.value_counts()\n",
        "technical_data2_anxious = Data2_anxious.tolist()\n",
        "\n",
        "technical3_anxious = dff_technical.loc[(dff_technical['Q6'] == 4) & (dff_technical['Q25f'] == 4)]\n",
        "data3_anxious = technical3_anxious.drop('Q6', axis = 1)\n",
        "Data3_anxious = data3_anxious.value_counts()\n",
        "technical_data3_anxious = Data3_anxious.tolist()\n",
        "\n",
        "technical4_anxious = dff_technical.loc[(dff_technical['Q6'] == 4) & (dff_technical['Q25f'] == 5)]\n",
        "data4_anxious = technical4_anxious.drop('Q6', axis = 1)\n",
        "Data4_anxious = data4_anxious.value_counts()\n",
        "technical_data4_anxious = Data4_anxious.tolist()\n",
        "\n",
        "technical_field_anxious = technical_data_anxious + technical_data1_anxious + technical_data2_anxious + technical_data3_anxious + technical_data4_anxious"
      ],
      "metadata": {
        "colab": {
          "base_uri": "https://localhost:8080/"
        },
        "id": "cu_sn6w2FRNg",
        "outputId": "72ccc935-1c12-4615-f52d-05f77e47af40"
      },
      "execution_count": 50,
      "outputs": [
        {
          "output_type": "stream",
          "name": "stdout",
          "text": [
            "<class 'pandas.core.frame.DataFrame'>\n",
            "RangeIndex: 1600 entries, 0 to 1599\n",
            "Data columns (total 2 columns):\n",
            " #   Column  Non-Null Count  Dtype  \n",
            "---  ------  --------------  -----  \n",
            " 0   Q6      1600 non-null   float64\n",
            " 1   Q25f    1600 non-null   float64\n",
            "dtypes: float64(2)\n",
            "memory usage: 25.1 KB\n"
          ]
        }
      ]
    },
    {
      "cell_type": "code",
      "source": [
        "#Emotion: Ashamed\n",
        "\n",
        "seventh = final_dts[[\"Q6\", \"Q25g\"]]\n",
        "dfg_technical = pd.DataFrame(seventh)\n",
        "dfg_technical.info()\n",
        "\n",
        "technical_ashamed = dfg_technical.loc[(dfg_technical['Q6'] == 4) & (dfg_technical['Q25g'] == 1)]\n",
        "data_ashamed = technical_ashamed.drop('Q6', axis = 1)\n",
        "Data_ashamed = data_ashamed.value_counts()\n",
        "technical_data_ashamed = Data_ashamed.tolist()\n",
        "\n",
        "technical1_ashamed = dfg_technical.loc[(dfg_technical['Q6'] == 4) & (dfg_technical['Q25g'] == 2)]\n",
        "data1_ashamed = technical1_ashamed.drop('Q6', axis = 1)\n",
        "Data1_ashamed = data1_ashamed.value_counts()\n",
        "technical_data1_ashamed = Data1_ashamed.tolist()\n",
        "\n",
        "technical2_ashamed = dfg_technical.loc[(dfg_technical['Q6'] == 4) & (dfg_technical['Q25g'] == 3)]\n",
        "data2_ashamed = technical2_ashamed.drop('Q6', axis = 1)\n",
        "Data2_ashamed = data2_ashamed.value_counts()\n",
        "technical_data2_ashamed = Data2_ashamed.tolist()\n",
        "\n",
        "technical3_ashamed = dfg_technical.loc[(dfg_technical['Q6'] == 4) & (dfg_technical['Q25g'] == 4)]\n",
        "data3_ashamed = technical3_ashamed.drop('Q6', axis = 1)\n",
        "Data3_ashamed = data3_ashamed.value_counts()\n",
        "technical_data3_ashamed = Data3_ashamed.tolist()\n",
        "\n",
        "technical4_ashamed = dfg_technical.loc[(dfg_technical['Q6'] == 4) & (dfg_technical['Q25g'] == 5)]\n",
        "data4_ashamed = technical4_ashamed.drop('Q6', axis = 1)\n",
        "Data4_ashamed = data4_ashamed.value_counts()\n",
        "technical_data4_ashamed = Data4_ashamed.tolist()\n",
        "\n",
        "technical_field_ashamed = technical_data_ashamed + technical_data1_ashamed + technical_data2_ashamed + technical_data3_ashamed + technical_data4_ashamed"
      ],
      "metadata": {
        "colab": {
          "base_uri": "https://localhost:8080/"
        },
        "id": "zTQn1a9-FTf4",
        "outputId": "cc5f9505-be91-472e-88a6-bfff288029b1"
      },
      "execution_count": 51,
      "outputs": [
        {
          "output_type": "stream",
          "name": "stdout",
          "text": [
            "<class 'pandas.core.frame.DataFrame'>\n",
            "RangeIndex: 1600 entries, 0 to 1599\n",
            "Data columns (total 2 columns):\n",
            " #   Column  Non-Null Count  Dtype  \n",
            "---  ------  --------------  -----  \n",
            " 0   Q6      1600 non-null   float64\n",
            " 1   Q25g    1600 non-null   float64\n",
            "dtypes: float64(2)\n",
            "memory usage: 25.1 KB\n"
          ]
        }
      ]
    },
    {
      "cell_type": "code",
      "source": [
        "#Emotion: Relieved\n",
        "\n",
        "eighth = final_dts[[\"Q6\", \"Q25h\"]]\n",
        "dfh_technical = pd.DataFrame(eighth)\n",
        "dfh_technical.info()\n",
        "\n",
        "technical_relieved = dfh_technical.loc[(dfh_technical['Q6'] == 4) & (dfh_technical['Q25h'] == 1)]\n",
        "data_relieved = technical_relieved.drop('Q6', axis = 1)\n",
        "Data_relieved = data_relieved.value_counts()\n",
        "technical_data_relieved = Data_relieved.tolist()\n",
        "\n",
        "technical1_relieved = dfh_technical.loc[(dfh_technical['Q6'] == 4) & (dfh_technical['Q25h'] == 2)]\n",
        "data1_relieved = technical1_relieved.drop('Q6', axis = 1)\n",
        "Data1_relieved = data1_relieved.value_counts()\n",
        "technical_data1_relieved = Data1_relieved.tolist()\n",
        "\n",
        "technical2_relieved = dfh_technical.loc[(dfh_technical['Q6'] == 4) & (dfh_technical['Q25h'] == 3)]\n",
        "data2_relieved = technical2_relieved.drop('Q6', axis = 1)\n",
        "Data2_relieved = data2_relieved.value_counts()\n",
        "technical_data2_relieved = Data2_relieved.tolist()\n",
        "\n",
        "technical3_relieved = dfh_technical.loc[(dfh_technical['Q6'] == 4) & (dfh_technical['Q25h'] == 4)]\n",
        "data3_relieved = technical3_relieved.drop('Q6', axis = 1)\n",
        "Data3_relieved = data3_relieved.value_counts()\n",
        "technical_data3_relieved = Data3_relieved.tolist()\n",
        "\n",
        "technical4_relieved = dfh_technical.loc[(dfh_technical['Q6'] == 4) & (dfh_technical['Q25h'] == 5)]\n",
        "data4_relieved = technical4_relieved.drop('Q6', axis = 1)\n",
        "Data4_relieved = data4_relieved.value_counts()\n",
        "technical_data4_relieved = Data4_relieved.tolist()\n",
        "\n",
        "technical_field_relieved = technical_data_relieved + technical_data1_relieved + technical_data2_relieved + technical_data3_relieved + technical_data4_relieved"
      ],
      "metadata": {
        "colab": {
          "base_uri": "https://localhost:8080/"
        },
        "id": "KmlpwDN2FVJ5",
        "outputId": "8e6c3642-7430-448f-c3ae-25dc0822d3c4"
      },
      "execution_count": 52,
      "outputs": [
        {
          "output_type": "stream",
          "name": "stdout",
          "text": [
            "<class 'pandas.core.frame.DataFrame'>\n",
            "RangeIndex: 1600 entries, 0 to 1599\n",
            "Data columns (total 2 columns):\n",
            " #   Column  Non-Null Count  Dtype  \n",
            "---  ------  --------------  -----  \n",
            " 0   Q6      1600 non-null   float64\n",
            " 1   Q25h    1600 non-null   float64\n",
            "dtypes: float64(2)\n",
            "memory usage: 25.1 KB\n"
          ]
        }
      ]
    },
    {
      "cell_type": "code",
      "source": [
        "#Emotion: Hopeless\n",
        "\n",
        "ninth = final_dts[[\"Q6\", \"Q25i\"]]\n",
        "dfi_technical = pd.DataFrame(ninth)\n",
        "dfi_technical.info()\n",
        "\n",
        "technical_hopeless = dfi_technical.loc[(dfi_technical['Q6'] == 4) & (dfi_technical['Q25i'] == 1)]\n",
        "data_hopeless = technical_hopeless.drop('Q6', axis = 1)\n",
        "Data_hopeless = data_hopeless.value_counts()\n",
        "technical_data_hopeless = Data_hopeless.tolist()\n",
        "\n",
        "technical1_hopeless = dfi_technical.loc[(dfi_technical['Q6'] == 4) & (dfi_technical['Q25i'] == 2)]\n",
        "data1_hopeless = technical1_hopeless.drop('Q6', axis = 1)\n",
        "Data1_hopeless = data1_hopeless.value_counts()\n",
        "technical_data1_hopeless = Data1_hopeless.tolist()\n",
        "\n",
        "technical2_hopeless = dfi_technical.loc[(dfi_technical['Q6'] == 4) & (dfi_technical['Q25i'] == 3)]\n",
        "data2_hopeless = technical2_hopeless.drop('Q6', axis = 1)\n",
        "Data2_hopeless = data2_hopeless.value_counts()\n",
        "technical_data2_hopeless = Data2_hopeless.tolist()\n",
        "\n",
        "technical3_hopeless = dfi_technical.loc[(dfi_technical['Q6'] == 4) & (dfi_technical['Q25i'] == 4)]\n",
        "data3_hopeless = technical3_hopeless.drop('Q6', axis = 1)\n",
        "Data3_hopeless = data3_hopeless.value_counts()\n",
        "technical_data3_hopeless = Data3_hopeless.tolist()\n",
        "\n",
        "technical4_hopeless = dfi_technical.loc[(dfi_technical['Q6'] == 4) & (dfi_technical['Q25i'] == 5)]\n",
        "data4_hopeless = technical4_hopeless.drop('Q6', axis = 1)\n",
        "Data4_hopeless = data4_hopeless.value_counts()\n",
        "technical_data4_hopeless = Data4_hopeless.tolist()\n",
        "\n",
        "technical_field_hopeless = technical_data_hopeless + technical_data1_hopeless + technical_data2_hopeless + technical_data3_hopeless + technical_data4_hopeless"
      ],
      "metadata": {
        "colab": {
          "base_uri": "https://localhost:8080/"
        },
        "id": "CmkGk5S7FW8R",
        "outputId": "f8004eb5-aee8-4d83-8831-0961f6b85540"
      },
      "execution_count": 53,
      "outputs": [
        {
          "output_type": "stream",
          "name": "stdout",
          "text": [
            "<class 'pandas.core.frame.DataFrame'>\n",
            "RangeIndex: 1600 entries, 0 to 1599\n",
            "Data columns (total 2 columns):\n",
            " #   Column  Non-Null Count  Dtype  \n",
            "---  ------  --------------  -----  \n",
            " 0   Q6      1600 non-null   float64\n",
            " 1   Q25i    1600 non-null   float64\n",
            "dtypes: float64(2)\n",
            "memory usage: 25.1 KB\n"
          ]
        }
      ]
    },
    {
      "cell_type": "code",
      "source": [
        "#Emotion: Bored\n",
        "\n",
        "tenth = final_dts[[\"Q6\", \"Q25j\"]]\n",
        "dfj_technical = pd.DataFrame(tenth)\n",
        "dfj_technical.info()\n",
        "\n",
        "technical_bored = dfj_technical.loc[(dfj_technical['Q6'] == 4) & (dfj_technical['Q25j'] == 1)]\n",
        "data_bored = technical_bored.drop('Q6', axis = 1)\n",
        "Data_bored = data_bored.value_counts()\n",
        "technical_data_bored = Data_bored.tolist()\n",
        "\n",
        "technical1_bored = dfj_technical.loc[(dfj_technical['Q6'] == 4) & (dfj_technical['Q25j'] == 2)]\n",
        "data1_bored = technical1_bored.drop('Q6', axis = 1)\n",
        "Data1_bored = data1_bored.value_counts()\n",
        "technical_data1_bored = Data1_bored.tolist()\n",
        "\n",
        "technical2_bored = dfj_technical.loc[(dfj_technical['Q6'] == 4) & (dfj_technical['Q25j'] == 3)]\n",
        "data2_bored = technical2_bored.drop('Q6', axis = 1)\n",
        "Data2_bored = data2_bored.value_counts()\n",
        "technical_data2_bored = Data2_bored.tolist()\n",
        "\n",
        "technical3_bored = dfj_technical.loc[(dfj_technical['Q6'] == 4) & (dfj_technical['Q25j'] == 4)]\n",
        "data3_bored = technical3_bored.drop('Q6', axis = 1)\n",
        "Data3_bored = data3_bored.value_counts()\n",
        "technical_data3_bored = Data3_bored.tolist()\n",
        "\n",
        "technical4_bored = dfj_technical.loc[(dfj_technical['Q6'] == 4) & (dfj_technical['Q25j'] == 5)]\n",
        "data4_bored = technical4_bored.drop('Q6', axis = 1)\n",
        "Data4_bored = data4_bored.value_counts()\n",
        "technical_data4_bored = Data4_bored.tolist()\n",
        "\n",
        "technical_field_bored = technical_data_bored + technical_data1_bored + technical_data2_bored + technical_data3_bored + technical_data4_bored"
      ],
      "metadata": {
        "colab": {
          "base_uri": "https://localhost:8080/"
        },
        "id": "ctuE5FE5FbpJ",
        "outputId": "068ab37a-d9c9-428d-fe01-f46199523f24"
      },
      "execution_count": 54,
      "outputs": [
        {
          "output_type": "stream",
          "name": "stdout",
          "text": [
            "<class 'pandas.core.frame.DataFrame'>\n",
            "RangeIndex: 1600 entries, 0 to 1599\n",
            "Data columns (total 2 columns):\n",
            " #   Column  Non-Null Count  Dtype  \n",
            "---  ------  --------------  -----  \n",
            " 0   Q6      1600 non-null   float64\n",
            " 1   Q25j    1600 non-null   float64\n",
            "dtypes: float64(2)\n",
            "memory usage: 25.1 KB\n"
          ]
        }
      ]
    },
    {
      "cell_type": "code",
      "source": [
        "fig, ax = plt.subplots(figsize=(20, 10))\n",
        "labels = [\"Never\", \"Rarely\", \"Sometimes\", \"Often\", \"Always\"]\n",
        "category_labels = [\"Joyful\", \"Hopeful\", \"Proud\", \"Frustrated\", \"Angry\", \"Anxious\", \"Ashamed\", \"Relieved\", \"Hopeless\", \"Bored\"]\n",
        "\n",
        "technical_bottom1 = technical_field_joyful\n",
        "technical_bottom2 = [a+b for a,b in zip(technical_field_joyful, technical_field_hopeful)]\n",
        "technical_bottom3 = [a+b+c for a,b,c in zip(technical_field_joyful, technical_field_hopeful, technical_field_proud)]\n",
        "technical_bottom4 = [a+b+c+d for a,b,c,d in zip(technical_field_joyful, technical_field_hopeful, technical_field_proud, technical_field_frustrated)]\n",
        "technical_bottom5 = [a+b+c+d+e for a,b,c,d,e in zip(technical_field_joyful, technical_field_hopeful, technical_field_proud, technical_field_frustrated, technical_field_angry)]\n",
        "technical_bottom6 = [a+b+c+d+e+f for a,b,c,d,e,f in zip(technical_field_joyful, technical_field_hopeful, technical_field_proud, technical_field_frustrated, technical_field_angry, technical_field_anxious)]\n",
        "technical_bottom7 = [a+b+c+d+e+f+g for a,b,c,d,e,f,g in zip(technical_field_joyful, technical_field_hopeful, technical_field_proud, technical_field_frustrated, technical_field_angry, technical_field_anxious, technical_field_ashamed)]\n",
        "technical_bottom8 = [a+b+c+d+e+f+g+h for a,b,c,d,e,f,g,h in zip(technical_field_joyful, technical_field_hopeful, technical_field_proud, technical_field_frustrated, technical_field_angry, technical_field_anxious, technical_field_ashamed, technical_field_relieved)]\n",
        "technical_bottom9 = [a+b+c+d+e+f+g+h+i for a,b,c,d,e,f,g,h,i in zip(technical_field_joyful, technical_field_hopeful, technical_field_proud, technical_field_frustrated, technical_field_angry, technical_field_anxious, technical_field_ashamed, technical_field_relieved, technical_field_hopeless)]\n",
        "\n",
        "p1 = ax.barh(labels, technical_field_joyful)\n",
        "p2 = ax.barh(labels, technical_field_hopeful, left = technical_bottom1)\n",
        "p3 = ax.barh(labels, technical_field_proud, left = technical_bottom2)\n",
        "p4 = ax.barh(labels, technical_field_frustrated, left = technical_bottom3)\n",
        "p5 = ax.barh(labels, technical_field_angry, left = technical_bottom4)\n",
        "p6 = ax.barh(labels, technical_field_anxious, left = technical_bottom5)\n",
        "p7 = ax.barh(labels, technical_field_ashamed, left = technical_bottom6)\n",
        "p8 = ax.barh(labels, technical_field_relieved, left = technical_bottom7)\n",
        "p9 = ax.barh(labels, technical_field_hopeless, left = technical_bottom8)\n",
        "p10 = ax.barh(labels, technical_field_bored, left = technical_bottom9)\n",
        "\n",
        "plt.title(\"Emotions by Technical Students\", fontsize = 20)\n",
        "ax.legend(category_labels, fontsize = 13)\n",
        "plt.show()"
      ],
      "metadata": {
        "colab": {
          "base_uri": "https://localhost:8080/",
          "height": 531
        },
        "id": "fiZeArg7Fc4B",
        "outputId": "94c093dc-63c9-49eb-8dcd-70a2434e34bb"
      },
      "execution_count": 55,
      "outputs": [
        {
          "output_type": "display_data",
          "data": {
            "text/plain": [
              "<Figure size 1440x720 with 1 Axes>"
            ],
            "image/png": "[encoded data removed]"
          },
          "metadata": {
            "needs_background": "light"
          }
        }
      ]
    }
  ]
}